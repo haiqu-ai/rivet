{
 "cells": [
  {
   "cell_type": "markdown",
   "id": "9cd25890-d55b-4330-a918-11ee0366e70f",
   "metadata": {
    "tags": []
   },
   "source": [
    "#  Tutorials"
   ]
  },
  {
   "cell_type": "markdown",
   "id": "de92720b",
   "metadata": {},
   "source": [
    "An overview of transpilation, as well as other features Rivet offers like Hashing are outlined in the links below. Shadow State Tomography and Fourier Adders are examples of complex processes that could benefit from Rivet’s Subcircuit Transpilation and Stitching. \n",
    "\n",
    "Notebooks with different examples and tutorials: \n",
    "\n",
    "- [Shadow State Tomography](https://github.com/haiqu-ai/rivet/blob/main/examples/shadows/shadow_state_tomography.ipynb)\n",
    "\n",
    "- [Fourier Adder](https://github.com/haiqu-ai/rivet/blob/main/examples/fourier_adder/fourier_adder.ipynb)\n",
    "\n",
    "- [Qubit-Constrained Transpilation](https://github.com/haiqu-ai/rivet/blob/main/examples/qubit_constrained_transpilation/qubit_constrained_transpilation.ipynb)\n",
    "\n",
    "- [Hashing](https://github.com/haiqu-ai/rivet/blob/main/examples/hashing/hashing.ipynb)\n",
    "\n",
    "- [Circuit Stitching](https://github.com/haiqu-ai/rivet/blob/main/examples/circuit_stitching/circuit_stitching.ipynb) \n",
    "\n",
    "- [Quantum Circuit Synthesis](https://github.com/haiqu-ai/rivet/blob/main/examples/circuit_synthesis/circuit_synthesis.ipynb)"
   ]
  }
 ],
 "metadata": {
  "kernelspec": {
   "display_name": "Python 3 (ipykernel)",
   "language": "python",
   "name": "python3"
  },
  "language_info": {
   "codemirror_mode": {
    "name": "ipython",
    "version": 3
   },
   "file_extension": ".py",
   "mimetype": "text/x-python",
   "name": "python",
   "nbconvert_exporter": "python",
   "pygments_lexer": "ipython3",
   "version": "3.8.10"
  }
 },
 "nbformat": 4,
 "nbformat_minor": 5
}
