{
 "cells": [
  {
   "cell_type": "markdown",
   "id": "9cd25890-d55b-4330-a918-11ee0366e70f",
   "metadata": {
    "tags": []
   },
   "source": [
    "# 🎲 Transpilation Overview"
   ]
  },
  {
   "cell_type": "markdown",
   "id": "9c333e89-0fec-4e70-81f3-f04b3a2c96ae",
   "metadata": {},
   "source": [
    "**Quantum Transpilation** is the transformation of a given virtual quantum circuit:\n",
    "\n",
    "- to match the topology of a specific device\n",
    "- to optimize the circuit for execution\n",
    "\n",
    "Rivet Transpiler package provides a family of functions for efficient transpilation of quantum circuits."
   ]
  },
  {
   "cell_type": "markdown",
   "id": "eb03ad22-c3cf-48da-bc2c-20d22261a756",
   "metadata": {
    "tags": []
   },
   "source": [
    "### Transpilation Stages"
   ]
  },
  {
   "cell_type": "markdown",
   "id": "90876d10-ae82-4e04-9d52-238f0730356a",
   "metadata": {},
   "source": [
    "1) **Init** - Unrolling custom instructions and converting the circuit to all 1 and 2 qubit gates.\n",
    "\n",
    "2) **Layout** - Mapping circuit virtual qubits to backend physical qubits.\n",
    "\n",
    "3) **Routing** - Inject SWAP gates to comply with the backend’s coupling map.\n",
    "\n",
    "4) **Translation** - Translate to the target backend’s basis gate set.\n",
    "\n",
    "5) **Optimization** - Main optimization loop to increase circuit quality.\n",
    "\n",
    "6) **Scheduling** - Conversion to hardware-specific pulses."
   ]
  },
  {
   "cell_type": "code",
   "execution_count": 1,
   "id": "a231a056-d14f-4dac-a941-a6588fa6c202",
   "metadata": {},
   "outputs": [],
   "source": [
    "# https://qiskit.org/documentation/apidoc/transpiler.html"
   ]
  },
  {
   "cell_type": "markdown",
   "id": "8d00645d-e4dc-41fd-942f-374d58e10695",
   "metadata": {},
   "source": [
    "### Transpile Functions"
   ]
  },
  {
   "cell_type": "markdown",
   "id": "4a6f7054-f498-4626-843e-7378817b2c9d",
   "metadata": {},
   "source": [
    "`transpile` - custom transpilation with possibility of using:\n",
    "\n",
    "- different transpilation stacks\n",
    "- custom PassManager\n",
    "- dynamical decoupling\n",
    "- transpiler options\n",
    "\n",
    "`transpile_chain` - consistently transpile and \"stitch\" a chain of quantum circuits.\n",
    "\n",
    "`transpile_right` - transpile an additional circuit to the right part of the existing circuit.\n",
    "\n",
    "`transpile_left` - transpile an additional circuit to the left part of the existing circuit.\n",
    "\n",
    "`transpile_and_compress` - transpile and \"topologically compress\" a circuit considering a coupling map of the selected backend."
   ]
  },
  {
   "cell_type": "markdown",
   "id": "056e932f-46d5-45de-901f-7a82445fd80e",
   "metadata": {
    "tags": []
   },
   "source": [
    "# 🎱 Transpilation Examples"
   ]
  },
  {
   "cell_type": "code",
   "execution_count": 2,
   "id": "d8d7f8a8-29a5-4612-bf13-f26328bb9dde",
   "metadata": {},
   "outputs": [],
   "source": [
    "import qiskit\n",
    "\n",
    "from qiskit_ibm_runtime.fake_provider import FakeLimaV2\n",
    "from qiskit_ibm_runtime.fake_provider import FakeMontrealV2"
   ]
  },
  {
   "cell_type": "code",
   "execution_count": 3,
   "id": "6f0552ee-699a-4b89-8221-f3be444958a0",
   "metadata": {},
   "outputs": [
    {
     "name": "stdout",
     "output_type": "stream",
     "text": [
      "/mnt/c/Users/mohor/Jupyter/Haiqu/transpiler/docs\n"
     ]
    }
   ],
   "source": [
    "# Rivet Transpiler Imports\n",
    "\n",
    "%cd ..\n",
    "\n",
    "# Transpile Functions\n",
    "\n",
    "from rivet_transpiler import transpile\n",
    "from rivet_transpiler import transpile_chain\n",
    "from rivet_transpiler import transpile_right\n",
    "from rivet_transpiler import transpile_left\n",
    "from rivet_transpiler import transpile_and_compress\n",
    "from rivet_transpiler import transpile_and_return_metrics\n",
    "\n",
    "# Service Functions\n",
    "\n",
    "from rivet_transpiler import get_full_map\n",
    "from rivet_transpiler import get_ibm_cost\n",
    "from rivet_transpiler import get_circuit_hash\n",
    "\n",
    "from rivet_transpiler import get_cnot_circuit\n",
    "from rivet_transpiler import get_litmus_circuit"
   ]
  },
  {
   "cell_type": "markdown",
   "id": "7d63ad48-4545-460d-92f5-aacdfa6f099a",
   "metadata": {},
   "source": [
    "### Litmus Circuit"
   ]
  },
  {
   "cell_type": "markdown",
   "id": "c7857089-1c70-4b51-ba09-bd16649c1e49",
   "metadata": {},
   "source": [
    "**Litmus circuit** is a minimal quantum circuit which consists of:\n",
    "\n",
    "- Parametrized RZ gate on each qubit (each parameter name matches the  index of the virtual qubit - to trace consequent permutations of qubits during layout and routing phases of transpilation).\n",
    "\n",
    "- Circular CNOT gates (necessary to introduce SWAPs during transpilation to not fully connected topology)."
   ]
  },
  {
   "cell_type": "code",
   "execution_count": 4,
   "id": "e55ca0d1-537f-4fe2-8859-a76febb94b2d",
   "metadata": {},
   "outputs": [
    {
     "data": {
      "text/html": [
       "<pre style=\"word-wrap: normal;white-space: pre;background: #fff0;line-height: 1.1;font-family: &quot;Courier New&quot;,Courier,monospace\">            ┌──────────────┐          ┌───┐ Litmus \n",
       "Litmus_0_0: ┤ Rz(Litmus_0) ├──■───────┤ X ├───░────\n",
       "            ├──────────────┤┌─┴─┐     └─┬─┘   ░    \n",
       "Litmus_0_1: ┤ Rz(Litmus_1) ├┤ X ├──■────┼─────░────\n",
       "            ├──────────────┤└───┘┌─┴─┐  │     ░    \n",
       "Litmus_0_2: ┤ Rz(Litmus_2) ├─────┤ X ├──■─────░────\n",
       "            └──────────────┘     └───┘        ░    </pre>"
      ],
      "text/plain": [
       "            ┌──────────────┐          ┌───┐ Litmus \n",
       "Litmus_0_0: ┤ Rz(Litmus_0) ├──■───────┤ X ├───░────\n",
       "            ├──────────────┤┌─┴─┐     └─┬─┘   ░    \n",
       "Litmus_0_1: ┤ Rz(Litmus_1) ├┤ X ├──■────┼─────░────\n",
       "            ├──────────────┤└───┘┌─┴─┐  │     ░    \n",
       "Litmus_0_2: ┤ Rz(Litmus_2) ├─────┤ X ├──■─────░────\n",
       "            └──────────────┘     └───┘        ░    "
      ]
     },
     "execution_count": 4,
     "metadata": {},
     "output_type": "execute_result"
    }
   ],
   "source": [
    "QUBITS_COUNT = 3\n",
    "\n",
    "litmus_circuit = get_litmus_circuit(QUBITS_COUNT, \"Litmus\")\n",
    "\n",
    "litmus_circuit.draw()"
   ]
  },
  {
   "cell_type": "markdown",
   "id": "053c59ab-b7a0-4a49-b4a6-d7bca5a4397c",
   "metadata": {},
   "source": [
    "### Backend"
   ]
  },
  {
   "cell_type": "markdown",
   "id": "cd10db36-4087-4f9d-a262-6a9f88d0c077",
   "metadata": {},
   "source": [
    "**Fake backend** is an Aer simulator with properties of a real backend:\n",
    "\n",
    "- coupling map\n",
    "- basis gates\n",
    "- noise model\n",
    "\n",
    "Fake backends are useful for testing the transpiler and performing noisy simulations of the system.\n",
    "\n",
    "For minimal example we select 5-qubit fake backend with linear topology."
   ]
  },
  {
   "cell_type": "code",
   "execution_count": 5,
   "id": "a358f35f-7a27-48fb-8e25-4e2d1c2b36a8",
   "metadata": {},
   "outputs": [
    {
     "data": {
      "image/png": "[encoded data removed]",
      "text/plain": [
       "<Figure size 271.4x271.4 with 1 Axes>"
      ]
     },
     "execution_count": 5,
     "metadata": {},
     "output_type": "execute_result"
    }
   ],
   "source": [
    "backend = FakeLimaV2()\n",
    "# backend = FakeMontrealV2()\n",
    "\n",
    "qiskit.visualization.plot_gate_map(backend)"
   ]
  },
  {
   "cell_type": "markdown",
   "id": "75bd5bd5-cf0a-4ce0-9a4d-9d968eee9f72",
   "metadata": {},
   "source": [
    "### Qiskit Transpile"
   ]
  },
  {
   "cell_type": "code",
   "execution_count": 6,
   "id": "7dcd2454-71e0-42ed-8538-2e10bca76d6a",
   "metadata": {},
   "outputs": [
    {
     "data": {
      "text/html": [
       "<pre style=\"word-wrap: normal;white-space: pre;background: #fff0;line-height: 1.1;font-family: &quot;Courier New&quot;,Courier,monospace\">                ┌──────────────┐               ┌───┐             ░    \n",
       "Litmus_0_0 -> 0 ┤ Rz(Litmus_0) ├──■─────────■──┤ X ├──■──────────░────\n",
       "                └──────────────┘  │         │  └─┬─┘  │          ░    \n",
       "                ┌──────────────┐┌─┴─┐     ┌─┴─┐  │  ┌─┴─┐┌───┐ Litmus \n",
       "Litmus_0_1 -> 1 ┤ Rz(Litmus_1) ├┤ X ├──■──┤ X ├──■──┤ X ├┤ X ├───░────\n",
       "                ├──────────────┤└───┘┌─┴─┐└───┘     └───┘└─┬─┘   ░    \n",
       "Litmus_0_2 -> 2 ┤ Rz(Litmus_2) ├─────┤ X ├─────────────────■─────░────\n",
       "                └──────────────┘     └───┘                       ░    \n",
       " ancilla_0 -> 3 ──────────────────────────────────────────────────────\n",
       "                                                                      \n",
       " ancilla_1 -> 4 ──────────────────────────────────────────────────────\n",
       "                                                                      </pre>"
      ],
      "text/plain": [
       "                ┌──────────────┐               ┌───┐             ░    \n",
       "Litmus_0_0 -> 0 ┤ Rz(Litmus_0) ├──■─────────■──┤ X ├──■──────────░────\n",
       "                └──────────────┘  │         │  └─┬─┘  │          ░    \n",
       "                ┌──────────────┐┌─┴─┐     ┌─┴─┐  │  ┌─┴─┐┌───┐ Litmus \n",
       "Litmus_0_1 -> 1 ┤ Rz(Litmus_1) ├┤ X ├──■──┤ X ├──■──┤ X ├┤ X ├───░────\n",
       "                ├──────────────┤└───┘┌─┴─┐└───┘     └───┘└─┬─┘   ░    \n",
       "Litmus_0_2 -> 2 ┤ Rz(Litmus_2) ├─────┤ X ├─────────────────■─────░────\n",
       "                └──────────────┘     └───┘                       ░    \n",
       " ancilla_0 -> 3 ──────────────────────────────────────────────────────\n",
       "                                                                      \n",
       " ancilla_1 -> 4 ──────────────────────────────────────────────────────\n",
       "                                                                      "
      ]
     },
     "execution_count": 6,
     "metadata": {},
     "output_type": "execute_result"
    }
   ],
   "source": [
    "transpiled_circuit = qiskit.transpile(\n",
    "    litmus_circuit, \n",
    "    backend,\n",
    "    seed_transpiler=1234,\n",
    "    initial_layout=[0, 1, 2]\n",
    "    # initial_layout=[0, 2, 4]\n",
    ")\n",
    "\n",
    "transpiled_circuit.draw()"
   ]
  },
  {
   "cell_type": "markdown",
   "id": "c8e21995-344a-48c3-bf63-6cf66201cb5a",
   "metadata": {},
   "source": [
    "### Pass Manager"
   ]
  },
  {
   "cell_type": "markdown",
   "id": "57683221-4483-4a18-a748-0a8d197d03c1",
   "metadata": {},
   "source": [
    "**Pass Manager** is an internal Qiskit object constructed by the `transpile` function \"under the hood\" during transpilation.\n",
    "\n",
    "Pass Manager consists of Passes which analyse or change the transpiled circuit.\n",
    "\n",
    "Calling `pass_manager.run` is equivalent to calling `transpile` and passing a circuit, backend and corresponding transpilation parameters."
   ]
  },
  {
   "cell_type": "code",
   "execution_count": 7,
   "id": "ce8bc6e7-c160-4ceb-a276-2db893d19b3a",
   "metadata": {},
   "outputs": [],
   "source": [
    "# https://docs.quantum.ibm.com/api/qiskit/passmanager"
   ]
  },
  {
   "cell_type": "code",
   "execution_count": 8,
   "id": "4b3c93c5-74d0-47bc-9ac1-6000131d6672",
   "metadata": {},
   "outputs": [],
   "source": [
    "pass_manager = qiskit.transpiler.preset_passmanagers.generate_preset_pass_manager(\n",
    "    \n",
    "    optimization_level=3,\n",
    "    backend=backend,\n",
    "    # initial_layout=[1, 0, 2],\n",
    "    seed_transpiler=1234\n",
    ")"
   ]
  },
  {
   "cell_type": "code",
   "execution_count": 9,
   "id": "08234a1c-b276-4cce-aecd-d894c65390b8",
   "metadata": {},
   "outputs": [
    {
     "data": {
      "text/plain": [
       "('init', 'layout', 'routing', 'translation', 'optimization', 'scheduling')"
      ]
     },
     "execution_count": 9,
     "metadata": {},
     "output_type": "execute_result"
    }
   ],
   "source": [
    "pass_manager.stages"
   ]
  },
  {
   "cell_type": "code",
   "execution_count": 10,
   "id": "f4e72817-e489-4d70-aa2a-ccdbbe9a08d0",
   "metadata": {},
   "outputs": [],
   "source": [
    "# pass_manager.draw()"
   ]
  },
  {
   "cell_type": "code",
   "execution_count": 11,
   "id": "3a2bfe14-d188-48ee-8cf1-961d9c791212",
   "metadata": {},
   "outputs": [],
   "source": [
    "# pass_manager.init.draw()"
   ]
  },
  {
   "cell_type": "code",
   "execution_count": 12,
   "id": "79859580-78bc-4d52-8f46-79d8f75c03b7",
   "metadata": {},
   "outputs": [],
   "source": [
    "# pass_manager.routing.draw()"
   ]
  },
  {
   "cell_type": "code",
   "execution_count": 13,
   "id": "de8569ae-c7d1-4080-b616-c5bf14be074a",
   "metadata": {},
   "outputs": [],
   "source": [
    "# pass_manager.optimization.draw()"
   ]
  },
  {
   "cell_type": "code",
   "execution_count": 14,
   "id": "24062901-a991-4726-a84a-194dd5703304",
   "metadata": {},
   "outputs": [],
   "source": [
    "# pass_manager.layout.passes()"
   ]
  },
  {
   "cell_type": "code",
   "execution_count": 15,
   "id": "d11d3c39-0fe4-4ec0-8c33-9e5ac195c20a",
   "metadata": {},
   "outputs": [
    {
     "data": {
      "text/html": [
       "<pre style=\"word-wrap: normal;white-space: pre;background: #fff0;line-height: 1.1;font-family: &quot;Courier New&quot;,Courier,monospace\">                ┌──────────────┐          ┌───┐          ┌───┐ Litmus \n",
       "Litmus_0_2 -> 0 ┤ Rz(Litmus_2) ├───────■──┤ X ├──■───────┤ X ├───░────\n",
       "                ├──────────────┤     ┌─┴─┐└─┬─┘┌─┴─┐┌───┐└─┬─┘   ░    \n",
       "Litmus_0_0 -> 1 ┤ Rz(Litmus_0) ├──■──┤ X ├──■──┤ X ├┤ X ├──■─────░────\n",
       "                ├──────────────┤┌─┴─┐└───┘     └───┘└─┬─┘        ░    \n",
       "Litmus_0_1 -> 2 ┤ Rz(Litmus_1) ├┤ X ├─────────────────■──────────░────\n",
       "                └──────────────┘└───┘                            ░    \n",
       " ancilla_0 -> 3 ──────────────────────────────────────────────────────\n",
       "                                                                      \n",
       " ancilla_1 -> 4 ──────────────────────────────────────────────────────\n",
       "                                                                      </pre>"
      ],
      "text/plain": [
       "                ┌──────────────┐          ┌───┐          ┌───┐ Litmus \n",
       "Litmus_0_2 -> 0 ┤ Rz(Litmus_2) ├───────■──┤ X ├──■───────┤ X ├───░────\n",
       "                ├──────────────┤     ┌─┴─┐└─┬─┘┌─┴─┐┌───┐└─┬─┘   ░    \n",
       "Litmus_0_0 -> 1 ┤ Rz(Litmus_0) ├──■──┤ X ├──■──┤ X ├┤ X ├──■─────░────\n",
       "                ├──────────────┤┌─┴─┐└───┘     └───┘└─┬─┘        ░    \n",
       "Litmus_0_1 -> 2 ┤ Rz(Litmus_1) ├┤ X ├─────────────────■──────────░────\n",
       "                └──────────────┘└───┘                            ░    \n",
       " ancilla_0 -> 3 ──────────────────────────────────────────────────────\n",
       "                                                                      \n",
       " ancilla_1 -> 4 ──────────────────────────────────────────────────────\n",
       "                                                                      "
      ]
     },
     "execution_count": 15,
     "metadata": {},
     "output_type": "execute_result"
    }
   ],
   "source": [
    "transpiled_litmus_circuit = pass_manager.run(litmus_circuit)\n",
    "\n",
    "transpiled_litmus_circuit.draw(fold=-1)"
   ]
  },
  {
   "cell_type": "markdown",
   "id": "86aa29ff-fe30-4cfa-94a0-2f8f2590822d",
   "metadata": {},
   "source": [
    "## Circuit Stitching"
   ]
  },
  {
   "cell_type": "markdown",
   "id": "703e7084-3db7-4802-8c1a-bbd7cb14603a",
   "metadata": {},
   "source": [
    "**Task:** to \"stitch\" together transpiled circuits into a chain."
   ]
  },
  {
   "cell_type": "markdown",
   "id": "f5583184-684e-4391-aff5-96be47f855c6",
   "metadata": {},
   "source": [
    "Disconnected qubits are routed closer using SWAPs gates – **but not routed back** to avoid additional SWAPs – therefore allocation of virtual qubit changes.\n",
    "\n",
    "We need to know the final allocation of qubits after transpilation.\n",
    "\n",
    "Unfortunately, Qiskit does not provide such allocation."
   ]
  },
  {
   "cell_type": "markdown",
   "id": "36c51554-5172-45d6-a417-1a6d9dedcf53",
   "metadata": {},
   "source": [
    "Instead - Qiskit transpiled circuit contains ‘layout’ property with data on applied qubit permutations:\n",
    "\n",
    "- ‘initial_layout’ – initial placement of incoming virtual qubits during Layout stage.\n",
    "\n",
    "- ‘final_layout’ – placement of outgoing virtual qubits during Routing stage.\n",
    "\n",
    "Function `get_full_map` follows above permutations to return final allocation of qubits after transpilation."
   ]
  },
  {
   "cell_type": "code",
   "execution_count": 16,
   "id": "bc173308-854c-4839-868f-b5d6f523fec4",
   "metadata": {},
   "outputs": [
    {
     "data": {
      "text/plain": [
       "[0, 2, 1, 3, 4]"
      ]
     },
     "execution_count": 16,
     "metadata": {},
     "output_type": "execute_result"
    }
   ],
   "source": [
    "get_full_map(transpiled_litmus_circuit)"
   ]
  },
  {
   "cell_type": "markdown",
   "id": "9ab879ca-c1fc-4691-9eb7-745e9b5bd2b9",
   "metadata": {},
   "source": [
    "To find final allocation of qubits after transpilation we work with 3 sets of qubits:\n",
    "\n",
    "- Incoming virtual qubits of the initial circuit\n",
    "- Outgoing virtual qubits of the transpiled circuit\n",
    "- Physical qubits of the selected backend"
   ]
  },
  {
   "cell_type": "markdown",
   "id": "4de06215-e28e-468e-9179-3e7f79fc5eea",
   "metadata": {},
   "source": [
    "Example of qubit allocation during transpilation:\n",
    "\n",
    "- `Zero Map` - Ancillas added\n",
    "- `After Layout` - Initial layout applied \n",
    "- `After Routing` - SWAPs applied \n",
    "- `Full Map` - Final qubit allocation "
   ]
  },
  {
   "cell_type": "markdown",
   "id": "3661cbbd-a5a7-4616-962c-c4cefe6ca2e2",
   "metadata": {},
   "source": [
    "![image.png](../images/Fig1_circuit_stitching.jpg)"
   ]
  },
  {
   "cell_type": "code",
   "execution_count": 17,
   "id": "74042fdf-101b-47cd-869f-26d49a519e31",
   "metadata": {},
   "outputs": [
    {
     "data": {
      "text/html": [
       "<pre style=\"word-wrap: normal;white-space: pre;background: #fff0;line-height: 1.1;font-family: &quot;Courier New&quot;,Courier,monospace\">                ┌──────────────┐          ┌───┐          ┌───┐ Litmus \n",
       "Litmus_0_2 -> 0 ┤ Rz(Litmus_2) ├───────■──┤ X ├──■───────┤ X ├───░────\n",
       "                ├──────────────┤     ┌─┴─┐└─┬─┘┌─┴─┐┌───┐└─┬─┘   ░    \n",
       "Litmus_0_0 -> 1 ┤ Rz(Litmus_0) ├──■──┤ X ├──■──┤ X ├┤ X ├──■─────░────\n",
       "                ├──────────────┤┌─┴─┐└───┘     └───┘└─┬─┘        ░    \n",
       "Litmus_0_1 -> 2 ┤ Rz(Litmus_1) ├┤ X ├─────────────────■──────────░────\n",
       "                └──────────────┘└───┘                            ░    \n",
       " ancilla_0 -> 3 ──────────────────────────────────────────────────────\n",
       "                                                                      \n",
       " ancilla_1 -> 4 ──────────────────────────────────────────────────────\n",
       "                                                                      </pre>"
      ],
      "text/plain": [
       "                ┌──────────────┐          ┌───┐          ┌───┐ Litmus \n",
       "Litmus_0_2 -> 0 ┤ Rz(Litmus_2) ├───────■──┤ X ├──■───────┤ X ├───░────\n",
       "                ├──────────────┤     ┌─┴─┐└─┬─┘┌─┴─┐┌───┐└─┬─┘   ░    \n",
       "Litmus_0_0 -> 1 ┤ Rz(Litmus_0) ├──■──┤ X ├──■──┤ X ├┤ X ├──■─────░────\n",
       "                ├──────────────┤┌─┴─┐└───┘     └───┘└─┬─┘        ░    \n",
       "Litmus_0_1 -> 2 ┤ Rz(Litmus_1) ├┤ X ├─────────────────■──────────░────\n",
       "                └──────────────┘└───┘                            ░    \n",
       " ancilla_0 -> 3 ──────────────────────────────────────────────────────\n",
       "                                                                      \n",
       " ancilla_1 -> 4 ──────────────────────────────────────────────────────\n",
       "                                                                      "
      ]
     },
     "execution_count": 17,
     "metadata": {},
     "output_type": "execute_result"
    }
   ],
   "source": [
    "transpiled_litmus_circuit.draw()"
   ]
  },
  {
   "cell_type": "markdown",
   "id": "26381390-3a90-4e43-8f8c-8013394030c3",
   "metadata": {
    "tags": []
   },
   "source": [
    "### Our Transpile"
   ]
  },
  {
   "cell_type": "markdown",
   "id": "326a0d48-e7d4-4fa8-bd49-468a35aba5fe",
   "metadata": {},
   "source": [
    "Interface of `transpile` function matches `qiskit.transpile` - but allows additional parameters like:\n",
    "\n",
    "- pre-defined transpilation stacks\n",
    "- custom PassManager\n",
    "- dynamical decoupling\n",
    "- transpiler options"
   ]
  },
  {
   "cell_type": "code",
   "execution_count": 18,
   "id": "a79d4a0c-9044-4a85-9163-b38a89955527",
   "metadata": {},
   "outputs": [
    {
     "data": {
      "text/html": [
       "<pre style=\"word-wrap: normal;white-space: pre;background: #fff0;line-height: 1.1;font-family: &quot;Courier New&quot;,Courier,monospace\">                ┌──────────────┐          ┌───┐          ┌───┐ Litmus \n",
       "Litmus_0_2 -> 0 ┤ Rz(Litmus_2) ├───────■──┤ X ├──■───────┤ X ├───░────\n",
       "                ├──────────────┤     ┌─┴─┐└─┬─┘┌─┴─┐┌───┐└─┬─┘   ░    \n",
       "Litmus_0_0 -> 1 ┤ Rz(Litmus_0) ├──■──┤ X ├──■──┤ X ├┤ X ├──■─────░────\n",
       "                ├──────────────┤┌─┴─┐└───┘     └───┘└─┬─┘        ░    \n",
       "Litmus_0_1 -> 2 ┤ Rz(Litmus_1) ├┤ X ├─────────────────■──────────░────\n",
       "                └──────────────┘└───┘                            ░    \n",
       " ancilla_0 -> 3 ──────────────────────────────────────────────────────\n",
       "                                                                      \n",
       " ancilla_1 -> 4 ──────────────────────────────────────────────────────\n",
       "                                                                      </pre>"
      ],
      "text/plain": [
       "                ┌──────────────┐          ┌───┐          ┌───┐ Litmus \n",
       "Litmus_0_2 -> 0 ┤ Rz(Litmus_2) ├───────■──┤ X ├──■───────┤ X ├───░────\n",
       "                ├──────────────┤     ┌─┴─┐└─┬─┘┌─┴─┐┌───┐└─┬─┘   ░    \n",
       "Litmus_0_0 -> 1 ┤ Rz(Litmus_0) ├──■──┤ X ├──■──┤ X ├┤ X ├──■─────░────\n",
       "                ├──────────────┤┌─┴─┐└───┘     └───┘└─┬─┘        ░    \n",
       "Litmus_0_1 -> 2 ┤ Rz(Litmus_1) ├┤ X ├─────────────────■──────────░────\n",
       "                └──────────────┘└───┘                            ░    \n",
       " ancilla_0 -> 3 ──────────────────────────────────────────────────────\n",
       "                                                                      \n",
       " ancilla_1 -> 4 ──────────────────────────────────────────────────────\n",
       "                                                                      "
      ]
     },
     "execution_count": 18,
     "metadata": {},
     "output_type": "execute_result"
    }
   ],
   "source": [
    "transpiled_circuit = transpile(\n",
    "    litmus_circuit, \n",
    "    backend,\n",
    "    seed_transpiler=1234,\n",
    "    # initial_layout=[0, 1, 2]\n",
    "    # initial_layout=[0, 2, 4]\n",
    ")\n",
    "\n",
    "transpiled_circuit.draw()"
   ]
  },
  {
   "cell_type": "markdown",
   "id": "aa7ee7a5-3ec1-46fe-af07-d6c9c7ca0ef0",
   "metadata": {},
   "source": [
    "Final qubit allocation after transpilation:"
   ]
  },
  {
   "cell_type": "code",
   "execution_count": 19,
   "id": "27b166b7-6b5e-4e2f-98b4-c00a4f529e78",
   "metadata": {},
   "outputs": [
    {
     "data": {
      "text/plain": [
       "[0, 2, 1, 3, 4]"
      ]
     },
     "execution_count": 19,
     "metadata": {},
     "output_type": "execute_result"
    }
   ],
   "source": [
    "get_full_map(transpiled_circuit)"
   ]
  },
  {
   "cell_type": "markdown",
   "id": "7be38e74-b017-4f0d-b223-08e7c41770da",
   "metadata": {},
   "source": [
    "### Transpile Chain"
   ]
  },
  {
   "cell_type": "markdown",
   "id": "f2ad9aae-3113-4c98-8be0-78392e455948",
   "metadata": {},
   "source": [
    "Consistently transpile and \"stitch\" a chain of quantum circuits."
   ]
  },
  {
   "cell_type": "code",
   "execution_count": 20,
   "id": "55ed26b7-04c7-41da-b61a-aae341135495",
   "metadata": {},
   "outputs": [
    {
     "data": {
      "text/html": [
       "<pre style=\"word-wrap: normal;white-space: pre;background: #fff0;line-height: 1.1;font-family: &quot;Courier New&quot;,Courier,monospace\">                ┌──────────────┐               ┌───┐             ░    ┌──────────────┐┌───┐                            ░    ┌──────────────┐     ┌───┐          ┌───┐     ┌───┐             ░    ┌──────────────┐     ┌───┐          ┌───┐     ┌───┐             ░    ┌──────────────┐     ┌───┐          ┌───┐     ┌───┐             ░    \n",
       "Litmus_0_1 -> 0 ┤ Rz(Litmus_0) ├──■─────────■──┤ X ├──■──────────░────┤ Rz(Litmus_1) ├┤ X ├─────────────────■──────────░────┤ Rz(Litmus_1) ├──■──┤ X ├──■───────┤ X ├──■──┤ X ├──■──────────░────┤ Rz(Litmus_1) ├──■──┤ X ├──■───────┤ X ├──■──┤ X ├──■──────────░────┤ Rz(Litmus_1) ├──■──┤ X ├──■───────┤ X ├──■──┤ X ├──■──────────░────\n",
       "                └──────────────┘  │         │  └─┬─┘  │          ░    └──────────────┘└─┬─┘                 │          ░    └──────────────┘  │  └─┬─┘  │       └─┬─┘  │  └─┬─┘  │          ░    └──────────────┘  │  └─┬─┘  │       └─┬─┘  │  └─┬─┘  │          ░    └──────────────┘  │  └─┬─┘  │       └─┬─┘  │  └─┬─┘  │          ░    \n",
       "                ┌──────────────┐┌─┴─┐     ┌─┴─┐  │  ┌─┴─┐┌───┐ Litmus ┌──────────────┐  │  ┌───┐     ┌───┐┌─┴─┐        ░    ┌──────────────┐┌─┴─┐  │  ┌─┴─┐┌───┐  │  ┌─┴─┐  │  ┌─┴─┐        ░    ┌──────────────┐┌─┴─┐  │  ┌─┴─┐┌───┐  │  ┌─┴─┐  │  ┌─┴─┐        ░    ┌──────────────┐┌─┴─┐  │  ┌─┴─┐┌───┐  │  ┌─┴─┐  │  ┌─┴─┐        ░    \n",
       "Litmus_0_2 -> 1 ┤ Rz(Litmus_1) ├┤ X ├──■──┤ X ├──■──┤ X ├┤ X ├───░────┤ Rz(Litmus_0) ├──■──┤ X ├──■──┤ X ├┤ X ├──■─────░────┤ Rz(Litmus_2) ├┤ X ├──■──┤ X ├┤ X ├──■──┤ X ├──■──┤ X ├──■─────░────┤ Rz(Litmus_2) ├┤ X ├──■──┤ X ├┤ X ├──■──┤ X ├──■──┤ X ├──■─────░────┤ Rz(Litmus_2) ├┤ X ├──■──┤ X ├┤ X ├──■──┤ X ├──■──┤ X ├──■─────░────\n",
       "                └──────────────┘└───┘  │  └───┘     └───┘└─┬─┘   ░    └──────────────┘     └─┬─┘  │  └─┬─┘└───┘  │     ░    └──────────────┘└───┘     └───┘└─┬─┘     └───┘     └───┘  │     ░    └──────────────┘└───┘     └───┘└─┬─┘     └───┘     └───┘  │     ░    └──────────────┘└───┘     └───┘└─┬─┘     └───┘     └───┘  │     ░    \n",
       "                ┌──────────────┐     ┌─┴─┐                 │     ░    ┌──────────────┐       │  ┌─┴─┐  │       ┌─┴─┐ Litmus ┌──────────────┐                 │                      ┌─┴─┐ Litmus ┌──────────────┐                 │                      ┌─┴─┐ Litmus ┌──────────────┐                 │                      ┌─┴─┐ Litmus \n",
       "Litmus_0_0 -> 2 ┤ Rz(Litmus_2) ├─────┤ X ├─────────────────■─────░────┤ Rz(Litmus_2) ├───────■──┤ X ├──■───────┤ X ├───░────┤ Rz(Litmus_0) ├─────────────────■──────────────────────┤ X ├───░────┤ Rz(Litmus_0) ├─────────────────■──────────────────────┤ X ├───░────┤ Rz(Litmus_0) ├─────────────────■──────────────────────┤ X ├───░────\n",
       "                └──────────────┘     └───┘                       ░    └──────────────┘          └───┘          └───┘   ░    └──────────────┘                                        └───┘   ░    └──────────────┘                                        └───┘   ░    └──────────────┘                                        └───┘   ░    \n",
       " ancilla_0 -> 3 ───────────────────────────────────────────────────────────────────────────────────────────────────────────────────────────────────────────────────────────────────────────────────────────────────────────────────────────────────────────────────────────────────────────────────────────────────────────────────────────\n",
       "                                                                                                                                                                                                                                                                                                                                           \n",
       " ancilla_1 -> 4 ───────────────────────────────────────────────────────────────────────────────────────────────────────────────────────────────────────────────────────────────────────────────────────────────────────────────────────────────────────────────────────────────────────────────────────────────────────────────────────────\n",
       "                                                                                                                                                                                                                                                                                                                                           </pre>"
      ],
      "text/plain": [
       "                ┌──────────────┐               ┌───┐             ░    ┌──────────────┐┌───┐                            ░    ┌──────────────┐     ┌───┐          ┌───┐     ┌───┐             ░    ┌──────────────┐     ┌───┐          ┌───┐     ┌───┐             ░    ┌──────────────┐     ┌───┐          ┌───┐     ┌───┐             ░    \n",
       "Litmus_0_1 -> 0 ┤ Rz(Litmus_0) ├──■─────────■──┤ X ├──■──────────░────┤ Rz(Litmus_1) ├┤ X ├─────────────────■──────────░────┤ Rz(Litmus_1) ├──■──┤ X ├──■───────┤ X ├──■──┤ X ├──■──────────░────┤ Rz(Litmus_1) ├──■──┤ X ├──■───────┤ X ├──■──┤ X ├──■──────────░────┤ Rz(Litmus_1) ├──■──┤ X ├──■───────┤ X ├──■──┤ X ├──■──────────░────\n",
       "                └──────────────┘  │         │  └─┬─┘  │          ░    └──────────────┘└─┬─┘                 │          ░    └──────────────┘  │  └─┬─┘  │       └─┬─┘  │  └─┬─┘  │          ░    └──────────────┘  │  └─┬─┘  │       └─┬─┘  │  └─┬─┘  │          ░    └──────────────┘  │  └─┬─┘  │       └─┬─┘  │  └─┬─┘  │          ░    \n",
       "                ┌──────────────┐┌─┴─┐     ┌─┴─┐  │  ┌─┴─┐┌───┐ Litmus ┌──────────────┐  │  ┌───┐     ┌───┐┌─┴─┐        ░    ┌──────────────┐┌─┴─┐  │  ┌─┴─┐┌───┐  │  ┌─┴─┐  │  ┌─┴─┐        ░    ┌──────────────┐┌─┴─┐  │  ┌─┴─┐┌───┐  │  ┌─┴─┐  │  ┌─┴─┐        ░    ┌──────────────┐┌─┴─┐  │  ┌─┴─┐┌───┐  │  ┌─┴─┐  │  ┌─┴─┐        ░    \n",
       "Litmus_0_2 -> 1 ┤ Rz(Litmus_1) ├┤ X ├──■──┤ X ├──■──┤ X ├┤ X ├───░────┤ Rz(Litmus_0) ├──■──┤ X ├──■──┤ X ├┤ X ├──■─────░────┤ Rz(Litmus_2) ├┤ X ├──■──┤ X ├┤ X ├──■──┤ X ├──■──┤ X ├──■─────░────┤ Rz(Litmus_2) ├┤ X ├──■──┤ X ├┤ X ├──■──┤ X ├──■──┤ X ├──■─────░────┤ Rz(Litmus_2) ├┤ X ├──■──┤ X ├┤ X ├──■──┤ X ├──■──┤ X ├──■─────░────\n",
       "                └──────────────┘└───┘  │  └───┘     └───┘└─┬─┘   ░    └──────────────┘     └─┬─┘  │  └─┬─┘└───┘  │     ░    └──────────────┘└───┘     └───┘└─┬─┘     └───┘     └───┘  │     ░    └──────────────┘└───┘     └───┘└─┬─┘     └───┘     └───┘  │     ░    └──────────────┘└───┘     └───┘└─┬─┘     └───┘     └───┘  │     ░    \n",
       "                ┌──────────────┐     ┌─┴─┐                 │     ░    ┌──────────────┐       │  ┌─┴─┐  │       ┌─┴─┐ Litmus ┌──────────────┐                 │                      ┌─┴─┐ Litmus ┌──────────────┐                 │                      ┌─┴─┐ Litmus ┌──────────────┐                 │                      ┌─┴─┐ Litmus \n",
       "Litmus_0_0 -> 2 ┤ Rz(Litmus_2) ├─────┤ X ├─────────────────■─────░────┤ Rz(Litmus_2) ├───────■──┤ X ├──■───────┤ X ├───░────┤ Rz(Litmus_0) ├─────────────────■──────────────────────┤ X ├───░────┤ Rz(Litmus_0) ├─────────────────■──────────────────────┤ X ├───░────┤ Rz(Litmus_0) ├─────────────────■──────────────────────┤ X ├───░────\n",
       "                └──────────────┘     └───┘                       ░    └──────────────┘          └───┘          └───┘   ░    └──────────────┘                                        └───┘   ░    └──────────────┘                                        └───┘   ░    └──────────────┘                                        └───┘   ░    \n",
       " ancilla_0 -> 3 ───────────────────────────────────────────────────────────────────────────────────────────────────────────────────────────────────────────────────────────────────────────────────────────────────────────────────────────────────────────────────────────────────────────────────────────────────────────────────────────\n",
       "                                                                                                                                                                                                                                                                                                                                           \n",
       " ancilla_1 -> 4 ───────────────────────────────────────────────────────────────────────────────────────────────────────────────────────────────────────────────────────────────────────────────────────────────────────────────────────────────────────────────────────────────────────────────────────────────────────────────────────────\n",
       "                                                                                                                                                                                                                                                                                                                                           "
      ]
     },
     "execution_count": 20,
     "metadata": {},
     "output_type": "execute_result"
    }
   ],
   "source": [
    "CHAIN = [litmus_circuit] * 5\n",
    "\n",
    "transpiled_chain_circuit = transpile_chain(\n",
    "    CHAIN, \n",
    "    backend,\n",
    "    seed_transpiler=1234,\n",
    "    initial_layout=[0, 1, 2]\n",
    "    # initial_layout=[0, 2, 4]\n",
    ")\n",
    "\n",
    "transpiled_chain_circuit.draw(fold=-1)"
   ]
  },
  {
   "cell_type": "code",
   "execution_count": 21,
   "id": "0fc46563-46c5-4a7f-b441-6f67d34e0a33",
   "metadata": {},
   "outputs": [
    {
     "data": {
      "text/plain": [
       "[2, 0, 1, 3, 4]"
      ]
     },
     "execution_count": 21,
     "metadata": {},
     "output_type": "execute_result"
    }
   ],
   "source": [
    "get_full_map(transpiled_chain_circuit)"
   ]
  },
  {
   "cell_type": "markdown",
   "id": "db9c593d-1a81-48fc-87a8-b950538fb23d",
   "metadata": {},
   "source": [
    "### Transpile Right"
   ]
  },
  {
   "cell_type": "markdown",
   "id": "544351af-7927-4cef-9961-2641beacf3b0",
   "metadata": {},
   "source": [
    "Transpile additional circuit to the right part of existing circuit."
   ]
  },
  {
   "cell_type": "code",
   "execution_count": 22,
   "id": "0ad94823-0e97-4fd3-ac60-431b422ce467",
   "metadata": {},
   "outputs": [
    {
     "data": {
      "text/html": [
       "<pre style=\"word-wrap: normal;white-space: pre;background: #fff0;line-height: 1.1;font-family: &quot;Courier New&quot;,Courier,monospace\">                ┌──────────────┐          ┌───┐          ┌───┐ Litmus \n",
       "Litmus_0_2 -> 0 ┤ Rz(Litmus_2) ├───────■──┤ X ├──■───────┤ X ├───░────\n",
       "                ├──────────────┤     ┌─┴─┐└─┬─┘┌─┴─┐┌───┐└─┬─┘   ░    \n",
       "Litmus_0_0 -> 1 ┤ Rz(Litmus_0) ├──■──┤ X ├──■──┤ X ├┤ X ├──■─────░────\n",
       "                ├──────────────┤┌─┴─┐└───┘     └───┘└─┬─┘        ░    \n",
       "Litmus_0_1 -> 2 ┤ Rz(Litmus_1) ├┤ X ├─────────────────■──────────░────\n",
       "                └──────────────┘└───┘                            ░    \n",
       " ancilla_0 -> 3 ──────────────────────────────────────────────────────\n",
       "                                                                      \n",
       " ancilla_1 -> 4 ──────────────────────────────────────────────────────\n",
       "                                                                      </pre>"
      ],
      "text/plain": [
       "                ┌──────────────┐          ┌───┐          ┌───┐ Litmus \n",
       "Litmus_0_2 -> 0 ┤ Rz(Litmus_2) ├───────■──┤ X ├──■───────┤ X ├───░────\n",
       "                ├──────────────┤     ┌─┴─┐└─┬─┘┌─┴─┐┌───┐└─┬─┘   ░    \n",
       "Litmus_0_0 -> 1 ┤ Rz(Litmus_0) ├──■──┤ X ├──■──┤ X ├┤ X ├──■─────░────\n",
       "                ├──────────────┤┌─┴─┐└───┘     └───┘└─┬─┘        ░    \n",
       "Litmus_0_1 -> 2 ┤ Rz(Litmus_1) ├┤ X ├─────────────────■──────────░────\n",
       "                └──────────────┘└───┘                            ░    \n",
       " ancilla_0 -> 3 ──────────────────────────────────────────────────────\n",
       "                                                                      \n",
       " ancilla_1 -> 4 ──────────────────────────────────────────────────────\n",
       "                                                                      "
      ]
     },
     "execution_count": 22,
     "metadata": {},
     "output_type": "execute_result"
    }
   ],
   "source": [
    "transpiled_circuit.draw()"
   ]
  },
  {
   "cell_type": "code",
   "execution_count": 23,
   "id": "e6b50f9f-6611-4d6f-b825-04ffa36d8806",
   "metadata": {},
   "outputs": [
    {
     "data": {
      "text/html": [
       "<pre style=\"word-wrap: normal;white-space: pre;background: #fff0;line-height: 1.1;font-family: &quot;Courier New&quot;,Courier,monospace\">          ┌────────────┐      CNOT \n",
       "CNOT_0_0: ┤ Rz(CNOT_0) ├──■────░───\n",
       "          ├────────────┤┌─┴─┐  ░   \n",
       "CNOT_0_1: ┤ Rz(CNOT_1) ├┤ X ├──░───\n",
       "          ├────────────┤└───┘  ░   \n",
       "CNOT_0_2: ┤ Rz(CNOT_2) ├───────░───\n",
       "          └────────────┘       ░   </pre>"
      ],
      "text/plain": [
       "          ┌────────────┐      CNOT \n",
       "CNOT_0_0: ┤ Rz(CNOT_0) ├──■────░───\n",
       "          ├────────────┤┌─┴─┐  ░   \n",
       "CNOT_0_1: ┤ Rz(CNOT_1) ├┤ X ├──░───\n",
       "          ├────────────┤└───┘  ░   \n",
       "CNOT_0_2: ┤ Rz(CNOT_2) ├───────░───\n",
       "          └────────────┘       ░   "
      ]
     },
     "execution_count": 23,
     "metadata": {},
     "output_type": "execute_result"
    }
   ],
   "source": [
    "cnot_circuit = get_cnot_circuit(QUBITS_COUNT, \"CNOT\", [0, 1])\n",
    "\n",
    "cnot_circuit.draw()"
   ]
  },
  {
   "cell_type": "code",
   "execution_count": 24,
   "id": "085b1655-c2fc-4900-af8e-b5bc9791181a",
   "metadata": {},
   "outputs": [
    {
     "data": {
      "text/html": [
       "<pre style=\"word-wrap: normal;white-space: pre;background: #fff0;line-height: 1.1;font-family: &quot;Courier New&quot;,Courier,monospace\">                ┌──────────────┐          ┌───┐          ┌───┐ Litmus ┌────────────┐                     CNOT \n",
       "Litmus_0_2 -> 0 ┤ Rz(Litmus_2) ├───────■──┤ X ├──■───────┤ X ├───░────┤ Rz(CNOT_0) ├─────────────────■────░───\n",
       "                ├──────────────┤     ┌─┴─┐└─┬─┘┌─┴─┐┌───┐└─┬─┘   ░    ├────────────┤┌───┐     ┌───┐┌─┴─┐  ░   \n",
       "Litmus_0_0 -> 1 ┤ Rz(Litmus_0) ├──■──┤ X ├──■──┤ X ├┤ X ├──■─────░────┤ Rz(CNOT_2) ├┤ X ├──■──┤ X ├┤ X ├──░───\n",
       "                ├──────────────┤┌─┴─┐└───┘     └───┘└─┬─┘        ░    ├────────────┤└─┬─┘┌─┴─┐└─┬─┘└───┘  ░   \n",
       "Litmus_0_1 -> 2 ┤ Rz(Litmus_1) ├┤ X ├─────────────────■──────────░────┤ Rz(CNOT_1) ├──■──┤ X ├──■─────────░───\n",
       "                └──────────────┘└───┘                            ░    └────────────┘     └───┘            ░   \n",
       " ancilla_0 -> 3 ──────────────────────────────────────────────────────────────────────────────────────────────\n",
       "                                                                                                              \n",
       " ancilla_1 -> 4 ──────────────────────────────────────────────────────────────────────────────────────────────\n",
       "                                                                                                              </pre>"
      ],
      "text/plain": [
       "                ┌──────────────┐          ┌───┐          ┌───┐ Litmus ┌────────────┐                     CNOT \n",
       "Litmus_0_2 -> 0 ┤ Rz(Litmus_2) ├───────■──┤ X ├──■───────┤ X ├───░────┤ Rz(CNOT_0) ├─────────────────■────░───\n",
       "                ├──────────────┤     ┌─┴─┐└─┬─┘┌─┴─┐┌───┐└─┬─┘   ░    ├────────────┤┌───┐     ┌───┐┌─┴─┐  ░   \n",
       "Litmus_0_0 -> 1 ┤ Rz(Litmus_0) ├──■──┤ X ├──■──┤ X ├┤ X ├──■─────░────┤ Rz(CNOT_2) ├┤ X ├──■──┤ X ├┤ X ├──░───\n",
       "                ├──────────────┤┌─┴─┐└───┘     └───┘└─┬─┘        ░    ├────────────┤└─┬─┘┌─┴─┐└─┬─┘└───┘  ░   \n",
       "Litmus_0_1 -> 2 ┤ Rz(Litmus_1) ├┤ X ├─────────────────■──────────░────┤ Rz(CNOT_1) ├──■──┤ X ├──■─────────░───\n",
       "                └──────────────┘└───┘                            ░    └────────────┘     └───┘            ░   \n",
       " ancilla_0 -> 3 ──────────────────────────────────────────────────────────────────────────────────────────────\n",
       "                                                                                                              \n",
       " ancilla_1 -> 4 ──────────────────────────────────────────────────────────────────────────────────────────────\n",
       "                                                                                                              "
      ]
     },
     "execution_count": 24,
     "metadata": {},
     "output_type": "execute_result"
    }
   ],
   "source": [
    "transpiled_right_circuit = transpile_right(\n",
    "    central_circuit=transpiled_circuit,\n",
    "    right_circuit=cnot_circuit,\n",
    "    backend=backend,\n",
    "    seed_transpiler=1234\n",
    ")\n",
    "\n",
    "transpiled_right_circuit.draw(fold=-1)"
   ]
  },
  {
   "cell_type": "code",
   "execution_count": 25,
   "id": "db973c68-26b6-4d21-9ed0-f497e29000bd",
   "metadata": {},
   "outputs": [
    {
     "data": {
      "text/html": [
       "<pre style=\"word-wrap: normal;white-space: pre;background: #fff0;line-height: 1.1;font-family: &quot;Courier New&quot;,Courier,monospace\">                ┌──────────────┐          ┌───┐          ┌───┐ Litmus ┌────────────┐                     CNOT ┌────────────┐      CNOT \n",
       "Litmus_0_2 -> 0 ┤ Rz(Litmus_2) ├───────■──┤ X ├──■───────┤ X ├───░────┤ Rz(CNOT_0) ├─────────────────■────░───┤ Rz(CNOT_0) ├──■────░───\n",
       "                ├──────────────┤     ┌─┴─┐└─┬─┘┌─┴─┐┌───┐└─┬─┘   ░    ├────────────┤┌───┐     ┌───┐┌─┴─┐  ░   ├────────────┤┌─┴─┐  ░   \n",
       "Litmus_0_0 -> 1 ┤ Rz(Litmus_0) ├──■──┤ X ├──■──┤ X ├┤ X ├──■─────░────┤ Rz(CNOT_2) ├┤ X ├──■──┤ X ├┤ X ├──░───┤ Rz(CNOT_1) ├┤ X ├──░───\n",
       "                ├──────────────┤┌─┴─┐└───┘     └───┘└─┬─┘        ░    ├────────────┤└─┬─┘┌─┴─┐└─┬─┘└───┘  ░   ├────────────┤└───┘  ░   \n",
       "Litmus_0_1 -> 2 ┤ Rz(Litmus_1) ├┤ X ├─────────────────■──────────░────┤ Rz(CNOT_1) ├──■──┤ X ├──■─────────░───┤ Rz(CNOT_2) ├───────░───\n",
       "                └──────────────┘└───┘                            ░    └────────────┘     └───┘            ░   └────────────┘       ░   \n",
       " ancilla_0 -> 3 ───────────────────────────────────────────────────────────────────────────────────────────────────────────────────────\n",
       "                                                                                                                                       \n",
       " ancilla_1 -> 4 ───────────────────────────────────────────────────────────────────────────────────────────────────────────────────────\n",
       "                                                                                                                                       </pre>"
      ],
      "text/plain": [
       "                ┌──────────────┐          ┌───┐          ┌───┐ Litmus ┌────────────┐                     CNOT ┌────────────┐      CNOT \n",
       "Litmus_0_2 -> 0 ┤ Rz(Litmus_2) ├───────■──┤ X ├──■───────┤ X ├───░────┤ Rz(CNOT_0) ├─────────────────■────░───┤ Rz(CNOT_0) ├──■────░───\n",
       "                ├──────────────┤     ┌─┴─┐└─┬─┘┌─┴─┐┌───┐└─┬─┘   ░    ├────────────┤┌───┐     ┌───┐┌─┴─┐  ░   ├────────────┤┌─┴─┐  ░   \n",
       "Litmus_0_0 -> 1 ┤ Rz(Litmus_0) ├──■──┤ X ├──■──┤ X ├┤ X ├──■─────░────┤ Rz(CNOT_2) ├┤ X ├──■──┤ X ├┤ X ├──░───┤ Rz(CNOT_1) ├┤ X ├──░───\n",
       "                ├──────────────┤┌─┴─┐└───┘     └───┘└─┬─┘        ░    ├────────────┤└─┬─┘┌─┴─┐└─┬─┘└───┘  ░   ├────────────┤└───┘  ░   \n",
       "Litmus_0_1 -> 2 ┤ Rz(Litmus_1) ├┤ X ├─────────────────■──────────░────┤ Rz(CNOT_1) ├──■──┤ X ├──■─────────░───┤ Rz(CNOT_2) ├───────░───\n",
       "                └──────────────┘└───┘                            ░    └────────────┘     └───┘            ░   └────────────┘       ░   \n",
       " ancilla_0 -> 3 ───────────────────────────────────────────────────────────────────────────────────────────────────────────────────────\n",
       "                                                                                                                                       \n",
       " ancilla_1 -> 4 ───────────────────────────────────────────────────────────────────────────────────────────────────────────────────────\n",
       "                                                                                                                                       "
      ]
     },
     "execution_count": 25,
     "metadata": {},
     "output_type": "execute_result"
    }
   ],
   "source": [
    "transpiled_right_circuit = transpile_right(\n",
    "    central_circuit=transpiled_right_circuit,\n",
    "    right_circuit=cnot_circuit,\n",
    "    backend=backend,\n",
    "    seed_transpiler=1234,\n",
    ")\n",
    "\n",
    "transpiled_right_circuit.draw(fold=-1)"
   ]
  },
  {
   "cell_type": "markdown",
   "id": "3e7fc703-64bb-4612-bb73-d5e5425adbc5",
   "metadata": {},
   "source": [
    "### Transpile Left"
   ]
  },
  {
   "cell_type": "markdown",
   "id": "8c4c4431-0b4a-4779-b0c1-7d41e5306d95",
   "metadata": {},
   "source": [
    "Transpile additional circuit to the left part of existing circuit."
   ]
  },
  {
   "cell_type": "code",
   "execution_count": 26,
   "id": "b9fc8ba5-bcae-4de1-9e98-1db8ecde9fc1",
   "metadata": {},
   "outputs": [
    {
     "data": {
      "text/html": [
       "<pre style=\"word-wrap: normal;white-space: pre;background: #fff0;line-height: 1.1;font-family: &quot;Courier New&quot;,Courier,monospace\">               ┌────────────────┐      ░ ┌──────────────┐          ┌───┐          ┌───┐ Litmus \n",
       " CNOT_0_2 -> 0 ┤ Rz(1.0*CNOT_2) ├──────░─┤ Rz(Litmus_2) ├───────■──┤ X ├──■───────┤ X ├───░────\n",
       "               ├────────────────┤      ░ ├──────────────┤     ┌─┴─┐└─┬─┘┌─┴─┐┌───┐└─┬─┘   ░    \n",
       " CNOT_0_0 -> 1 ┤ Rz(1.0*CNOT_0) ├──■───░─┤ Rz(Litmus_0) ├──■──┤ X ├──■──┤ X ├┤ X ├──■─────░────\n",
       "               ├────────────────┤┌─┴─┐ ░ ├──────────────┤┌─┴─┐└───┘     └───┘└─┬─┘        ░    \n",
       " CNOT_0_1 -> 2 ┤ Rz(1.0*CNOT_1) ├┤ X ├─░─┤ Rz(Litmus_1) ├┤ X ├─────────────────■──────────░────\n",
       "               └────────────────┘└───┘ ░ └──────────────┘└───┘                            ░    \n",
       "ancilla_0 -> 3 ────────────────────────────────────────────────────────────────────────────────\n",
       "                                                                                               \n",
       "ancilla_1 -> 4 ────────────────────────────────────────────────────────────────────────────────\n",
       "                                                                                               </pre>"
      ],
      "text/plain": [
       "               ┌────────────────┐      ░ ┌──────────────┐          ┌───┐          ┌───┐ Litmus \n",
       " CNOT_0_2 -> 0 ┤ Rz(1.0*CNOT_2) ├──────░─┤ Rz(Litmus_2) ├───────■──┤ X ├──■───────┤ X ├───░────\n",
       "               ├────────────────┤      ░ ├──────────────┤     ┌─┴─┐└─┬─┘┌─┴─┐┌───┐└─┬─┘   ░    \n",
       " CNOT_0_0 -> 1 ┤ Rz(1.0*CNOT_0) ├──■───░─┤ Rz(Litmus_0) ├──■──┤ X ├──■──┤ X ├┤ X ├──■─────░────\n",
       "               ├────────────────┤┌─┴─┐ ░ ├──────────────┤┌─┴─┐└───┘     └───┘└─┬─┘        ░    \n",
       " CNOT_0_1 -> 2 ┤ Rz(1.0*CNOT_1) ├┤ X ├─░─┤ Rz(Litmus_1) ├┤ X ├─────────────────■──────────░────\n",
       "               └────────────────┘└───┘ ░ └──────────────┘└───┘                            ░    \n",
       "ancilla_0 -> 3 ────────────────────────────────────────────────────────────────────────────────\n",
       "                                                                                               \n",
       "ancilla_1 -> 4 ────────────────────────────────────────────────────────────────────────────────\n",
       "                                                                                               "
      ]
     },
     "execution_count": 26,
     "metadata": {},
     "output_type": "execute_result"
    }
   ],
   "source": [
    "transpiled_left_circuit = transpile_left(\n",
    "    central_circuit=transpiled_circuit,\n",
    "    left_circuit=cnot_circuit,\n",
    "    backend=backend,\n",
    "    seed_transpiler=1234\n",
    ")\n",
    "\n",
    "transpiled_left_circuit.draw(fold=-1)"
   ]
  },
  {
   "cell_type": "code",
   "execution_count": 27,
   "id": "a0b561da-c0ac-48f2-b0bf-ec111040506a",
   "metadata": {},
   "outputs": [
    {
     "data": {
      "text/html": [
       "<pre style=\"word-wrap: normal;white-space: pre;background: #fff0;line-height: 1.1;font-family: &quot;Courier New&quot;,Courier,monospace\">                ┌──────────────────┐     ┌───┐                     ░ ┌────────────────┐      ░ ┌──────────────┐          ┌───┐          ┌───┐ Litmus \n",
       "Litmus_0_2 -> 0 ┤ Rz(1.0*Litmus_2) ├─────┤ X ├─────────────────■───░─┤ Rz(1.0*CNOT_2) ├──────░─┤ Rz(Litmus_2) ├───────■──┤ X ├──■───────┤ X ├───░────\n",
       "                ├──────────────────┤┌───┐└─┬─┘┌───┐     ┌───┐┌─┴─┐ ░ ├────────────────┤      ░ ├──────────────┤     ┌─┴─┐└─┬─┘┌─┴─┐┌───┐└─┬─┘   ░    \n",
       "Litmus_0_1 -> 1 ┤ Rz(1.0*Litmus_1) ├┤ X ├──■──┤ X ├──■──┤ X ├┤ X ├─░─┤ Rz(1.0*CNOT_0) ├──■───░─┤ Rz(Litmus_0) ├──■──┤ X ├──■──┤ X ├┤ X ├──■─────░────\n",
       "                ├──────────────────┤└─┬─┘     └─┬─┘┌─┴─┐└─┬─┘└───┘ ░ ├────────────────┤┌─┴─┐ ░ ├──────────────┤┌─┴─┐└───┘     └───┘└─┬─┘        ░    \n",
       "Litmus_0_0 -> 2 ┤ Rz(1.0*Litmus_0) ├──■─────────■──┤ X ├──■────────░─┤ Rz(1.0*CNOT_1) ├┤ X ├─░─┤ Rz(Litmus_1) ├┤ X ├─────────────────■──────────░────\n",
       "                └──────────────────┘               └───┘           ░ └────────────────┘└───┘ ░ └──────────────┘└───┘                            ░    \n",
       " ancilla_0 -> 3 ─────────────────────────────────────────────────────────────────────────────────────────────────────────────────────────────────────\n",
       "                                                                                                                                                     \n",
       " ancilla_1 -> 4 ─────────────────────────────────────────────────────────────────────────────────────────────────────────────────────────────────────\n",
       "                                                                                                                                                     </pre>"
      ],
      "text/plain": [
       "                ┌──────────────────┐     ┌───┐                     ░ ┌────────────────┐      ░ ┌──────────────┐          ┌───┐          ┌───┐ Litmus \n",
       "Litmus_0_2 -> 0 ┤ Rz(1.0*Litmus_2) ├─────┤ X ├─────────────────■───░─┤ Rz(1.0*CNOT_2) ├──────░─┤ Rz(Litmus_2) ├───────■──┤ X ├──■───────┤ X ├───░────\n",
       "                ├──────────────────┤┌───┐└─┬─┘┌───┐     ┌───┐┌─┴─┐ ░ ├────────────────┤      ░ ├──────────────┤     ┌─┴─┐└─┬─┘┌─┴─┐┌───┐└─┬─┘   ░    \n",
       "Litmus_0_1 -> 1 ┤ Rz(1.0*Litmus_1) ├┤ X ├──■──┤ X ├──■──┤ X ├┤ X ├─░─┤ Rz(1.0*CNOT_0) ├──■───░─┤ Rz(Litmus_0) ├──■──┤ X ├──■──┤ X ├┤ X ├──■─────░────\n",
       "                ├──────────────────┤└─┬─┘     └─┬─┘┌─┴─┐└─┬─┘└───┘ ░ ├────────────────┤┌─┴─┐ ░ ├──────────────┤┌─┴─┐└───┘     └───┘└─┬─┘        ░    \n",
       "Litmus_0_0 -> 2 ┤ Rz(1.0*Litmus_0) ├──■─────────■──┤ X ├──■────────░─┤ Rz(1.0*CNOT_1) ├┤ X ├─░─┤ Rz(Litmus_1) ├┤ X ├─────────────────■──────────░────\n",
       "                └──────────────────┘               └───┘           ░ └────────────────┘└───┘ ░ └──────────────┘└───┘                            ░    \n",
       " ancilla_0 -> 3 ─────────────────────────────────────────────────────────────────────────────────────────────────────────────────────────────────────\n",
       "                                                                                                                                                     \n",
       " ancilla_1 -> 4 ─────────────────────────────────────────────────────────────────────────────────────────────────────────────────────────────────────\n",
       "                                                                                                                                                     "
      ]
     },
     "execution_count": 27,
     "metadata": {},
     "output_type": "execute_result"
    }
   ],
   "source": [
    "transpiled_left_circuit = transpile_left(\n",
    "    central_circuit=transpiled_left_circuit,\n",
    "    left_circuit=litmus_circuit,\n",
    "    backend=backend,\n",
    "    seed_transpiler=1234\n",
    ")\n",
    "\n",
    "transpiled_left_circuit.draw(fold=-1)"
   ]
  },
  {
   "cell_type": "markdown",
   "id": "4067bc34-9f43-432f-a6c8-6ec069e68b3d",
   "metadata": {},
   "source": [
    "### Transpile and Compress"
   ]
  },
  {
   "cell_type": "markdown",
   "id": "a03c62f2-097c-48ca-aac0-9087b95a7405",
   "metadata": {},
   "source": [
    "`transpile_and_compress` allows to \"topologically compress\" a circuit - considering a coupling map of selected backend - to avoid using unnecessary ancilla qubits.\n",
    "\n",
    "For demonstration - we take fake backend with more complicated topology:"
   ]
  },
  {
   "cell_type": "code",
   "execution_count": 28,
   "id": "5905c38c-bd77-4e4a-a773-a0fdca014bd2",
   "metadata": {},
   "outputs": [
    {
     "data": {
      "image/png": "[encoded data removed]",
      "text/plain": [
       "<Figure size 1154.6x492.2 with 1 Axes>"
      ]
     },
     "execution_count": 28,
     "metadata": {},
     "output_type": "execute_result"
    }
   ],
   "source": [
    "fake_montreal_backend = FakeMontrealV2()\n",
    "\n",
    "qiskit.visualization.plot_gate_map(fake_montreal_backend)"
   ]
  },
  {
   "cell_type": "code",
   "execution_count": 29,
   "id": "f3b8c318-123b-4b96-b9c9-8a157d9fe158",
   "metadata": {},
   "outputs": [
    {
     "data": {
      "text/html": [
       "<pre style=\"word-wrap: normal;white-space: pre;background: #fff0;line-height: 1.1;font-family: &quot;Courier New&quot;,Courier,monospace\">                                 ┌───┐                                 \n",
       " ancilla_13 -> 5 ───────■────────┤ X ├──■──────────────────────────────\n",
       "                      ┌─┴─┐      └─┬─┘┌─┴─┐                            \n",
       " ancilla_14 -> 8 ─────┤ X ├────────■──┤ X ├────────────────────────────\n",
       "                 ┌────┴───┴─────┐┌───┐└───┘                       ░    \n",
       "Litmus_0_1 -> 11 ┤ Rz(Litmus_1) ├┤ X ├─────────────────■──────────░────\n",
       "                 └──────────────┘└─┬─┘                 │          ░    \n",
       "                 ┌──────────────┐  │  ┌───┐     ┌───┐  │  ┌───┐ Litmus \n",
       "Litmus_0_2 -> 13 ┤ Rz(Litmus_2) ├──┼──┤ X ├──■──┤ X ├──┼──┤ X ├───░────\n",
       "                 ├──────────────┤  │  └─┬─┘┌─┴─┐└─┬─┘┌─┴─┐└─┬─┘   ░    \n",
       "Litmus_0_0 -> 14 ┤ Rz(Litmus_0) ├──■────■──┤ X ├──■──┤ X ├──■─────░────\n",
       "                 └──────────────┘          └───┘     └───┘        ░    </pre>"
      ],
      "text/plain": [
       "                                 ┌───┐                                 \n",
       " ancilla_13 -> 5 ───────■────────┤ X ├──■──────────────────────────────\n",
       "                      ┌─┴─┐      └─┬─┘┌─┴─┐                            \n",
       " ancilla_14 -> 8 ─────┤ X ├────────■──┤ X ├────────────────────────────\n",
       "                 ┌────┴───┴─────┐┌───┐└───┘                       ░    \n",
       "Litmus_0_1 -> 11 ┤ Rz(Litmus_1) ├┤ X ├─────────────────■──────────░────\n",
       "                 └──────────────┘└─┬─┘                 │          ░    \n",
       "                 ┌──────────────┐  │  ┌───┐     ┌───┐  │  ┌───┐ Litmus \n",
       "Litmus_0_2 -> 13 ┤ Rz(Litmus_2) ├──┼──┤ X ├──■──┤ X ├──┼──┤ X ├───░────\n",
       "                 ├──────────────┤  │  └─┬─┘┌─┴─┐└─┬─┘┌─┴─┐└─┬─┘   ░    \n",
       "Litmus_0_0 -> 14 ┤ Rz(Litmus_0) ├──■────■──┤ X ├──■──┤ X ├──■─────░────\n",
       "                 └──────────────┘          └───┘     └───┘        ░    "
      ]
     },
     "execution_count": 29,
     "metadata": {},
     "output_type": "execute_result"
    }
   ],
   "source": [
    "transpiled_litmus_circuit = transpile(\n",
    "    litmus_circuit, \n",
    "    fake_montreal_backend,\n",
    "    optimization_level=3,\n",
    "    routing_method='lookahead',\n",
    "    seed_transpiler=1234\n",
    ")\n",
    "\n",
    "transpiled_litmus_circuit.draw(idle_wires=False)"
   ]
  },
  {
   "cell_type": "code",
   "execution_count": 30,
   "id": "7162c86a-7574-4c13-8115-fea8585d3635",
   "metadata": {},
   "outputs": [
    {
     "data": {
      "text/html": [
       "<pre style=\"word-wrap: normal;white-space: pre;background: #fff0;line-height: 1.1;font-family: &quot;Courier New&quot;,Courier,monospace\">                 ┌──────────────┐┌───┐                            ░    \n",
       "Litmus_0_1 -> 11 ┤ Rz(Litmus_1) ├┤ X ├─────────────────■──────────░────\n",
       "                 └──────────────┘└─┬─┘                 │          ░    \n",
       "                 ┌──────────────┐  │       ┌───┐       │  ┌───┐ Litmus \n",
       "Litmus_0_2 -> 13 ┤ Rz(Litmus_2) ├──┼────■──┤ X ├──■────┼──┤ X ├───░────\n",
       "                 ├──────────────┤  │  ┌─┴─┐└─┬─┘┌─┴─┐┌─┴─┐└─┬─┘   ░    \n",
       "Litmus_0_0 -> 14 ┤ Rz(Litmus_0) ├──■──┤ X ├──■──┤ X ├┤ X ├──■─────░────\n",
       "                 └──────────────┘     └───┘     └───┘└───┘        ░    </pre>"
      ],
      "text/plain": [
       "                 ┌──────────────┐┌───┐                            ░    \n",
       "Litmus_0_1 -> 11 ┤ Rz(Litmus_1) ├┤ X ├─────────────────■──────────░────\n",
       "                 └──────────────┘└─┬─┘                 │          ░    \n",
       "                 ┌──────────────┐  │       ┌───┐       │  ┌───┐ Litmus \n",
       "Litmus_0_2 -> 13 ┤ Rz(Litmus_2) ├──┼────■──┤ X ├──■────┼──┤ X ├───░────\n",
       "                 ├──────────────┤  │  ┌─┴─┐└─┬─┘┌─┴─┐┌─┴─┐└─┬─┘   ░    \n",
       "Litmus_0_0 -> 14 ┤ Rz(Litmus_0) ├──■──┤ X ├──■──┤ X ├┤ X ├──■─────░────\n",
       "                 └──────────────┘     └───┘     └───┘└───┘        ░    "
      ]
     },
     "execution_count": 30,
     "metadata": {},
     "output_type": "execute_result"
    }
   ],
   "source": [
    "compressed_circuit = transpile_and_compress(\n",
    "    litmus_circuit, \n",
    "    backend=fake_montreal_backend,\n",
    "    optimization_level=3,\n",
    "    seed_transpiler=1234,\n",
    ")\n",
    "\n",
    "compressed_circuit.draw(idle_wires=False)"
   ]
  },
  {
   "cell_type": "code",
   "execution_count": 31,
   "id": "b0aa6d00-7099-4264-a348-dbceeb4e3dd1",
   "metadata": {},
   "outputs": [
    {
     "data": {
      "image/png": "[encoded data removed]",
      "text/plain": [
       "<Figure size 1154.6x492.2 with 1 Axes>"
      ]
     },
     "execution_count": 31,
     "metadata": {},
     "output_type": "execute_result"
    }
   ],
   "source": [
    "qiskit.visualization.plot_circuit_layout(compressed_circuit, fake_montreal_backend)"
   ]
  },
  {
   "attachments": {
    "d5a64100-05a2-456e-8263-79d821fbffda.png": {
     "image/png": "[encoded data removed]"
    }
   },
   "cell_type": "markdown",
   "id": "20cb8510-2765-478d-86d6-735ed440fa43",
   "metadata": {},
   "source": [
    "`transpile_and_compress` selects topologically most important qubits of a backend\n",
    "to produce limited coupling map - to decrease transpilation and simulation time:\n",
    "\n",
    "![topological_compression.jpg](attachment:d5a64100-05a2-456e-8263-79d821fbffda.png)"
   ]
  },
  {
   "cell_type": "markdown",
   "id": "a3f66586-e6bd-44b7-ac93-05e3dbdc7f12",
   "metadata": {},
   "source": [
    "We use flexible measure of a node importance - node “closeness centrality” in the backend topology graph.\n",
    "\n",
    "Closeness centrality is efficiently calculated using the “rustworkx” graph library function: https://qiskit.org/ecosystem/rustworkx/dev/apiref/rustworkx.closeness_centrality.html"
   ]
  },
  {
   "cell_type": "markdown",
   "id": "a2664bb8-2618-4f27-9618-c604cda7c4da",
   "metadata": {},
   "source": [
    "Flexible measure of node importance can be expanded with other metrics. \n",
    "For example, neighbors counts or qubit noise levels.\n",
    "\n",
    "Once importances are calculated - we traverse topology graph using A-star search -\n",
    "starting from the most important node.\n",
    "\n",
    "Traversed nodes are added to limited qubit list which forms a connected subgraph.\n",
    "\n",
    "Discovered subgraph is used to limit the backend topology during transpilation."
   ]
  },
  {
   "cell_type": "markdown",
   "id": "0a4ed4a1-1dd8-4494-9c7a-97f24e451fcb",
   "metadata": {},
   "source": [
    "### Transpile and Return Metrics"
   ]
  },
  {
   "cell_type": "markdown",
   "id": "f768e44e-f1ca-4889-be69-75e4ee7c0a6d",
   "metadata": {},
   "source": [
    "`transpile_and_return_metrics` function transpiles circuit with given parameters and returns transpilation metrics."
   ]
  },
  {
   "cell_type": "code",
   "execution_count": 32,
   "id": "5c116753-dc30-40d6-a3be-d148dd755e79",
   "metadata": {},
   "outputs": [],
   "source": [
    "transpiled_circuit, metrics = transpile_and_return_metrics(\n",
    "    litmus_circuit, \n",
    "    backend=backend,\n",
    "    optimization_level=3,\n",
    "    seed_transpiler=1234\n",
    ")"
   ]
  },
  {
   "cell_type": "code",
   "execution_count": 33,
   "id": "acdc01dd-28e1-46ce-a04d-cbd96ac4f55d",
   "metadata": {},
   "outputs": [
    {
     "data": {
      "text/html": [
       "<pre style=\"word-wrap: normal;white-space: pre;background: #fff0;line-height: 1.1;font-family: &quot;Courier New&quot;,Courier,monospace\">                ┌──────────────┐          ┌───┐          ┌───┐ Litmus \n",
       "Litmus_0_2 -> 0 ┤ Rz(Litmus_2) ├───────■──┤ X ├──■───────┤ X ├───░────\n",
       "                ├──────────────┤     ┌─┴─┐└─┬─┘┌─┴─┐┌───┐└─┬─┘   ░    \n",
       "Litmus_0_0 -> 1 ┤ Rz(Litmus_0) ├──■──┤ X ├──■──┤ X ├┤ X ├──■─────░────\n",
       "                ├──────────────┤┌─┴─┐└───┘     └───┘└─┬─┘        ░    \n",
       "Litmus_0_1 -> 2 ┤ Rz(Litmus_1) ├┤ X ├─────────────────■──────────░────\n",
       "                └──────────────┘└───┘                            ░    </pre>"
      ],
      "text/plain": [
       "                ┌──────────────┐          ┌───┐          ┌───┐ Litmus \n",
       "Litmus_0_2 -> 0 ┤ Rz(Litmus_2) ├───────■──┤ X ├──■───────┤ X ├───░────\n",
       "                ├──────────────┤     ┌─┴─┐└─┬─┘┌─┴─┐┌───┐└─┬─┘   ░    \n",
       "Litmus_0_0 -> 1 ┤ Rz(Litmus_0) ├──■──┤ X ├──■──┤ X ├┤ X ├──■─────░────\n",
       "                ├──────────────┤┌─┴─┐└───┘     └───┘└─┬─┘        ░    \n",
       "Litmus_0_1 -> 2 ┤ Rz(Litmus_1) ├┤ X ├─────────────────■──────────░────\n",
       "                └──────────────┘└───┘                            ░    "
      ]
     },
     "execution_count": 33,
     "metadata": {},
     "output_type": "execute_result"
    }
   ],
   "source": [
    "transpiled_circuit.draw(fold=-1, idle_wires=False)"
   ]
  },
  {
   "cell_type": "code",
   "execution_count": 34,
   "id": "6462bfbe-6b4a-4025-ac4b-65311f0ff023",
   "metadata": {},
   "outputs": [
    {
     "data": {
      "text/plain": [
       "{'pass_index': 0,\n",
       " 'pass_name': 'ContainsInstruction',\n",
       " 'pass_type': 'Analysis',\n",
       " 'time': 1.1682510375976562e-05,\n",
       " 'depth': 5,\n",
       " 'width': 3,\n",
       " 'ibm_cost': 0.9498972910479807,\n",
       " 'gates_counter': {1: 3, 2: 3}}"
      ]
     },
     "execution_count": 34,
     "metadata": {},
     "output_type": "execute_result"
    }
   ],
   "source": [
    "metrics[0]"
   ]
  },
  {
   "cell_type": "markdown",
   "id": "9cd6356e-ad28-4522-b981-3f704f61cfa1",
   "metadata": {},
   "source": [
    "### Transpilation Stacks"
   ]
  },
  {
   "cell_type": "markdown",
   "id": "3fa0a6b3-27a6-4f4f-97d1-9b8f050b1331",
   "metadata": {},
   "source": [
    "Four pre-defined transpilation stacks have been added:\n",
    "\n",
    "- Qiskit transpilation\n",
    "- Pytket transpilation\n",
    "- BQSKit QSearch synthesis\n",
    "- BQSKit QFactor instantiation"
   ]
  },
  {
   "cell_type": "markdown",
   "id": "83575dfb-be49-4524-b91c-25a3d4e93c9e",
   "metadata": {
    "tags": []
   },
   "source": [
    "#### Synthesis"
   ]
  },
  {
   "cell_type": "markdown",
   "id": "ca839a81-c496-4a4a-86f2-809ee5cb0b54",
   "metadata": {},
   "source": [
    "**Quantum circuit synthesis** is the process of converting a mathematical description of a quantum transformation - often given as a unitary matrix - into a circuit composed of gates from a fixed gate set.\n",
    "\n",
    "**Search-based** class of synthesis tools is categorized by the discrete search for a desired circuit through a space of circuits. These techniques are usually bottom-up, they start with an empty circuit and grow out as they search through the space."
   ]
  },
  {
   "cell_type": "markdown",
   "id": "48640a89-e060-4d42-bb10-84fd0f899766",
   "metadata": {},
   "source": [
    "![image.png](../images/Fig1_circuit_synthesis_schema.jpg)"
   ]
  },
  {
   "cell_type": "markdown",
   "id": "0b5289ad-3d1a-46fa-88a5-f1c296a733fd",
   "metadata": {},
   "source": [
    "[1] QFactor: A Domain-Specific Optimizer for Quantum Circuit Instantiation – https://arxiv.org/pdf/2306.08152.pdf"
   ]
  },
  {
   "cell_type": "markdown",
   "id": "1b5f8779-320a-4114-9996-92839985fd09",
   "metadata": {},
   "source": [
    "#### QSearch"
   ]
  },
  {
   "cell_type": "markdown",
   "id": "24d489df-3452-4513-b4a1-3889045f1f6b",
   "metadata": {},
   "source": [
    "**QSearch** is a powerful search-based synthesis tool, which phrases the problem of circuit synthesis as a search over circuit structures combined with numerical optimization to instantiate circuit parameters.\n",
    "\n",
    "1) The algorithm starts by placing single-qubit rotations on all qubits. \n",
    "\n",
    "2) The circuit is then instantiated by calling a numerical optimization subroutine to solve for the gate's parameters that minimize the distance between the circuit's unitary and the target unitary. \n",
    "\n",
    "3) After this, fixed building blocks composed of two-qubit gates followed by single-qubit rotations are placed on all pairs of qubits. \n",
    "\n",
    "This branching pattern forms the circuit tree, where at depth n in the tree, all possible circuit structures with n two-qudit gates exist. \n",
    "\n",
    "Each structure is a candidate solution is evaluated using the same numerical optimization process, and the order of evaluations is determined by A* search."
   ]
  },
  {
   "cell_type": "markdown",
   "id": "148906b1-3d24-477e-9e69-f6e7c9fa7ae9",
   "metadata": {},
   "source": [
    "#### Stacks Usage"
   ]
  },
  {
   "cell_type": "code",
   "execution_count": 35,
   "id": "777d3e9d-699f-4803-ae48-bf0f9079e618",
   "metadata": {},
   "outputs": [],
   "source": [
    "STACKS = [\"qiskit\",\n",
    "          \"qiskit_qsearch\",\n",
    "          \"qiskit_qfactor_qsearch\",\n",
    "          \"qiskit_pytket\"]"
   ]
  },
  {
   "cell_type": "markdown",
   "id": "ffd6e194-e2ec-4771-af9f-efa809905805",
   "metadata": {},
   "source": [
    "#### Qiskit"
   ]
  },
  {
   "cell_type": "code",
   "execution_count": 36,
   "id": "4f623416-6a13-484a-aa36-fea2cf015d43",
   "metadata": {},
   "outputs": [
    {
     "data": {
      "text/html": [
       "<pre style=\"word-wrap: normal;white-space: pre;background: #fff0;line-height: 1.1;font-family: &quot;Courier New&quot;,Courier,monospace\">                ┌──────────────┐          ┌───┐          ┌───┐ Litmus \n",
       "Litmus_0_2 -> 0 ┤ Rz(Litmus_2) ├───────■──┤ X ├──■───────┤ X ├───░────\n",
       "                ├──────────────┤     ┌─┴─┐└─┬─┘┌─┴─┐┌───┐└─┬─┘   ░    \n",
       "Litmus_0_0 -> 1 ┤ Rz(Litmus_0) ├──■──┤ X ├──■──┤ X ├┤ X ├──■─────░────\n",
       "                ├──────────────┤┌─┴─┐└───┘     └───┘└─┬─┘        ░    \n",
       "Litmus_0_1 -> 2 ┤ Rz(Litmus_1) ├┤ X ├─────────────────■──────────░────\n",
       "                └──────────────┘└───┘                            ░    \n",
       " ancilla_0 -> 3 ──────────────────────────────────────────────────────\n",
       "                                                                      \n",
       " ancilla_1 -> 4 ──────────────────────────────────────────────────────\n",
       "                                                                      </pre>"
      ],
      "text/plain": [
       "                ┌──────────────┐          ┌───┐          ┌───┐ Litmus \n",
       "Litmus_0_2 -> 0 ┤ Rz(Litmus_2) ├───────■──┤ X ├──■───────┤ X ├───░────\n",
       "                ├──────────────┤     ┌─┴─┐└─┬─┘┌─┴─┐┌───┐└─┬─┘   ░    \n",
       "Litmus_0_0 -> 1 ┤ Rz(Litmus_0) ├──■──┤ X ├──■──┤ X ├┤ X ├──■─────░────\n",
       "                ├──────────────┤┌─┴─┐└───┘     └───┘└─┬─┘        ░    \n",
       "Litmus_0_1 -> 2 ┤ Rz(Litmus_1) ├┤ X ├─────────────────■──────────░────\n",
       "                └──────────────┘└───┘                            ░    \n",
       " ancilla_0 -> 3 ──────────────────────────────────────────────────────\n",
       "                                                                      \n",
       " ancilla_1 -> 4 ──────────────────────────────────────────────────────\n",
       "                                                                      "
      ]
     },
     "execution_count": 36,
     "metadata": {},
     "output_type": "execute_result"
    }
   ],
   "source": [
    "transpiled_circuit = transpile(\n",
    "    litmus_circuit,\n",
    "    backend,\n",
    "    stack=\"qiskit\",\n",
    "    seed_transpiler=1234)\n",
    "\n",
    "transpiled_circuit.draw()    "
   ]
  },
  {
   "cell_type": "markdown",
   "id": "5da35628-1d2c-464c-956f-0c05b7398dc8",
   "metadata": {},
   "source": [
    "#### Pytket"
   ]
  },
  {
   "cell_type": "code",
   "execution_count": 37,
   "id": "30e62809-8ba6-402a-bd0c-f4daeaeb2254",
   "metadata": {},
   "outputs": [
    {
     "data": {
      "text/html": [
       "<pre style=\"word-wrap: normal;white-space: pre;background: #fff0;line-height: 1.1;font-family: &quot;Courier New&quot;,Courier,monospace\">                ┌──────────────┐          ┌───┐          ┌───┐ ░ \n",
       "Litmus_0_2 -> 0 ┤ Rz(Litmus_2) ├───────■──┤ X ├──■───────┤ X ├─░─\n",
       "                ├──────────────┤     ┌─┴─┐└─┬─┘┌─┴─┐┌───┐└─┬─┘ ░ \n",
       "Litmus_0_0 -> 1 ┤ Rz(Litmus_0) ├──■──┤ X ├──■──┤ X ├┤ X ├──■───░─\n",
       "                ├──────────────┤┌─┴─┐└───┘     └───┘└─┬─┘      ░ \n",
       "Litmus_0_1 -> 2 ┤ Rz(Litmus_1) ├┤ X ├─────────────────■────────░─\n",
       "                └──────────────┘└───┘                          ░ \n",
       " ancilla_0 -> 3 ─────────────────────────────────────────────────\n",
       "                                                                 \n",
       " ancilla_1 -> 4 ─────────────────────────────────────────────────\n",
       "                                                                 </pre>"
      ],
      "text/plain": [
       "                ┌──────────────┐          ┌───┐          ┌───┐ ░ \n",
       "Litmus_0_2 -> 0 ┤ Rz(Litmus_2) ├───────■──┤ X ├──■───────┤ X ├─░─\n",
       "                ├──────────────┤     ┌─┴─┐└─┬─┘┌─┴─┐┌───┐└─┬─┘ ░ \n",
       "Litmus_0_0 -> 1 ┤ Rz(Litmus_0) ├──■──┤ X ├──■──┤ X ├┤ X ├──■───░─\n",
       "                ├──────────────┤┌─┴─┐└───┘     └───┘└─┬─┘      ░ \n",
       "Litmus_0_1 -> 2 ┤ Rz(Litmus_1) ├┤ X ├─────────────────■────────░─\n",
       "                └──────────────┘└───┘                          ░ \n",
       " ancilla_0 -> 3 ─────────────────────────────────────────────────\n",
       "                                                                 \n",
       " ancilla_1 -> 4 ─────────────────────────────────────────────────\n",
       "                                                                 "
      ]
     },
     "execution_count": 37,
     "metadata": {},
     "output_type": "execute_result"
    }
   ],
   "source": [
    "transpiled_circuit = transpile(\n",
    "    litmus_circuit,\n",
    "    backend,\n",
    "    stack=\"qiskit_pytket\",\n",
    "    seed_transpiler=1234)\n",
    "\n",
    "transpiled_circuit.draw()    "
   ]
  },
  {
   "cell_type": "markdown",
   "id": "d1490c06-443a-4af9-a43b-a22f47b994e6",
   "metadata": {},
   "source": [
    "#### QSearch"
   ]
  },
  {
   "cell_type": "code",
   "execution_count": 38,
   "id": "bca22f0b-770b-4389-a13c-1678b3dbca09",
   "metadata": {},
   "outputs": [],
   "source": [
    "# Bind Circuit Parameters\n",
    "\n",
    "bound_litmus_circuit = litmus_circuit.copy()\n",
    "\n",
    "for index, parameter in enumerate(litmus_circuit.parameters):\n",
    "    \n",
    "    bound_litmus_circuit.assign_parameters(\n",
    "        {parameter: index}, \n",
    "        inplace=True)"
   ]
  },
  {
   "cell_type": "code",
   "execution_count": 39,
   "id": "5fd6f623-21bb-45ec-bddd-53992f71a104",
   "metadata": {},
   "outputs": [
    {
     "name": "stderr",
     "output_type": "stream",
     "text": [
      "Frontier emptied.\n",
      "Returning best known circuit with 0 layers and cost: 2.928933e-01.\n",
      "WARNING:bqskit.passes.synthesis.qsearch:Frontier emptied.\n",
      "WARNING:bqskit.passes.synthesis.qsearch:Returning best known circuit with 0 layers and cost: 2.928933e-01.\n"
     ]
    },
    {
     "data": {
      "text/html": [
       "<pre style=\"word-wrap: normal;white-space: pre;background: #fff0;line-height: 1.1;font-family: &quot;Courier New&quot;,Courier,monospace\">global phase: 2.3559\n",
       "                                                                           ┌────────────┐┌────┐   ┌────────────┐  ┌────┐ ┌───────────┐                                                                   ░ \n",
       "      q_0 -> 0 ────────────────────────────────────────────────────────■───┤ Rz(1.5708) ├┤ √X ├───┤ Rz(4.7117) ├──┤ √X ├─┤ Rz(7.854) ├───────────────────────────────────────────────────────────────────░─\n",
       "               ┌────────────┐┌────┐┌────────────┐┌────┐┌────────────┐┌─┴─┐┌┴────────────┤├────┤┌──┴────────────┴─┐├────┤┌┴───────────┴┐                                                                  ░ \n",
       "      q_1 -> 1 ┤ Rz(2.0708) ├┤ √X ├┤ Rz(6.2832) ├┤ √X ├┤ Rz(13.637) ├┤ X ├┤ Rz(-1.5708) ├┤ √X ├┤ Rz(-4.8475e-09) ├┤ √X ├┤ Rz(-1.5708) ├──■───────────────────────────────────────────────────────────────░─\n",
       "               ├───────────┬┘├────┤└─┬────────┬─┘├────┤├────────────┤└───┘└─────────────┘└────┘└─────────────────┘└────┘└─────────────┘┌─┴─┐┌─────────────┐┌────┐┌─────────────────┐┌────┐┌────────────┐ ░ \n",
       "      q_2 -> 2 ┤ Rz(8.854) ├─┤ √X ├──┤ Rz(2π) ├──┤ √X ├┤ Rz(13.137) ├──────────────────────────────────────────────────────────────────┤ X ├┤ Rz(-2.6081) ├┤ √X ├┤ Rz(-0.00024523) ├┤ √X ├┤ Rz(-1.038) ├─░─\n",
       "               └───────────┘ └────┘  └────────┘  └────┘└────────────┘                                                                  └───┘└─────────────┘└────┘└─────────────────┘└────┘└────────────┘ ░ \n",
       "ancilla_0 -> 3 ────────────────────────────────────────────────────────────────────────────────────────────────────────────────────────────────────────────────────────────────────────────────────────────\n",
       "                                                                                                                                                                                                           \n",
       "ancilla_1 -> 4 ────────────────────────────────────────────────────────────────────────────────────────────────────────────────────────────────────────────────────────────────────────────────────────────\n",
       "                                                                                                                                                                                                           </pre>"
      ],
      "text/plain": [
       "global phase: 2.3559\n",
       "                                                                           ┌────────────┐┌────┐   ┌────────────┐  ┌────┐ ┌───────────┐                                                                   ░ \n",
       "      q_0 -> 0 ────────────────────────────────────────────────────────■───┤ Rz(1.5708) ├┤ √X ├───┤ Rz(4.7117) ├──┤ √X ├─┤ Rz(7.854) ├───────────────────────────────────────────────────────────────────░─\n",
       "               ┌────────────┐┌────┐┌────────────┐┌────┐┌────────────┐┌─┴─┐┌┴────────────┤├────┤┌──┴────────────┴─┐├────┤┌┴───────────┴┐                                                                  ░ \n",
       "      q_1 -> 1 ┤ Rz(2.0708) ├┤ √X ├┤ Rz(6.2832) ├┤ √X ├┤ Rz(13.637) ├┤ X ├┤ Rz(-1.5708) ├┤ √X ├┤ Rz(-4.8475e-09) ├┤ √X ├┤ Rz(-1.5708) ├──■───────────────────────────────────────────────────────────────░─\n",
       "               ├───────────┬┘├────┤└─┬────────┬─┘├────┤├────────────┤└───┘└─────────────┘└────┘└─────────────────┘└────┘└─────────────┘┌─┴─┐┌─────────────┐┌────┐┌─────────────────┐┌────┐┌────────────┐ ░ \n",
       "      q_2 -> 2 ┤ Rz(8.854) ├─┤ √X ├──┤ Rz(2π) ├──┤ √X ├┤ Rz(13.137) ├──────────────────────────────────────────────────────────────────┤ X ├┤ Rz(-2.6081) ├┤ √X ├┤ Rz(-0.00024523) ├┤ √X ├┤ Rz(-1.038) ├─░─\n",
       "               └───────────┘ └────┘  └────────┘  └────┘└────────────┘                                                                  └───┘└─────────────┘└────┘└─────────────────┘└────┘└────────────┘ ░ \n",
       "ancilla_0 -> 3 ────────────────────────────────────────────────────────────────────────────────────────────────────────────────────────────────────────────────────────────────────────────────────────────\n",
       "                                                                                                                                                                                                           \n",
       "ancilla_1 -> 4 ────────────────────────────────────────────────────────────────────────────────────────────────────────────────────────────────────────────────────────────────────────────────────────────\n",
       "                                                                                                                                                                                                           "
      ]
     },
     "execution_count": 39,
     "metadata": {},
     "output_type": "execute_result"
    }
   ],
   "source": [
    "transpiled_circuit = transpile(\n",
    "    bound_litmus_circuit,\n",
    "    backend,\n",
    "    stack=\"qiskit_qsearch\",\n",
    "    qsearch_block_size=2,\n",
    "    seed_transpiler=1234)\n",
    "\n",
    "transpiled_circuit.draw(fold=-1)    "
   ]
  },
  {
   "cell_type": "markdown",
   "id": "cd0b5cdc-7cf0-40d6-98b1-ad2c657d9176",
   "metadata": {},
   "source": [
    "#### QFactor + QSearch"
   ]
  },
  {
   "cell_type": "code",
   "execution_count": 40,
   "id": "ac809aba-4353-46db-b63a-4cffad5fa6ac",
   "metadata": {},
   "outputs": [
    {
     "name": "stderr",
     "output_type": "stream",
     "text": [
      "Frontier emptied.\n",
      "Returning best known circuit with 0 layers and cost: 3.507238e-01.\n",
      "WARNING:bqskit.passes.synthesis.qsearch:Frontier emptied.\n",
      "WARNING:bqskit.passes.synthesis.qsearch:Returning best known circuit with 0 layers and cost: 3.507238e-01.\n"
     ]
    },
    {
     "data": {
      "text/html": [
       "<pre style=\"word-wrap: normal;white-space: pre;background: #fff0;line-height: 1.1;font-family: &quot;Courier New&quot;,Courier,monospace\">global phase: 3.7614\n",
       "                                                                                 ┌────┐    ┌───────────┐     ┌────┐    ┌───────────┐              ┌──────────────┐┌────┐┌──────────────┐┌────┐ ┌─────────────┐                                                       \n",
       "      q_0 -> 0 ───────────────────────────────────────────────────────────■──────┤ √X ├────┤ Rz(-1π/2) ├─────┤ √X ├────┤ Rz(2.299) ├───────────■──┤ Rz(-0.97561) ├┤ √X ├┤ Rz(-0.84364) ├┤ √X ├─┤ Rz(-2.9639) ├───────────────────────────────────────────────────────\n",
       "               ┌─────────────┐┌────┐ ┌────────────┐┌────┐ ┌───────────┐ ┌─┴─┐┌───┴────┴───┐└───┬────┬──┘┌────┴────┴───┐└───┬────┬──┘┌───────┐┌─┴─┐└──┬───────┬───┘├────┤├─────────────┬┘├────┤┌┴─────────────┴┐                                                      \n",
       "      q_1 -> 1 ┤ Rz(0.54911) ├┤ √X ├─┤ Rz(6.2832) ├┤ √X ├─┤ Rz(14.33) ├─┤ X ├┤ Rz(3.0964) ├────┤ √X ├───┤ Rz(-1.5708) ├────┤ √X ├───┤ Rz(0) ├┤ X ├───┤ Rz(π) ├────┤ √X ├┤ Rz(-1.5708) ├─┤ √X ├┤ Rz(-0.045233) ├──■───────────────────────────────────────────────────\n",
       "               └┬────────────┤├────┤┌┴────────────┤├────┤┌┴───────────┴┐└───┘└────────────┘    └────┘   └─────────────┘    └────┘   └───────┘└───┘   └───────┘    └────┘└─────────────┘ └────┘└───────────────┘┌─┴─┐┌─────────┐┌────┐┌────────────┐┌────┐┌──────────┐\n",
       "      q_2 -> 2 ─┤ Rz(-2.984) ├┤ √X ├┤ Rz(-2.8914) ├┤ √X ├┤ Rz(-2.6169) ├───────────────────────────────────────────────────────────────────────────────────────────────────────────────────────────────────────┤ X ├┤ Rz(π/2) ├┤ √X ├┤ Rz(-2.442) ├┤ √X ├┤ Rz(5π/2) ├\n",
       "                └────────────┘└────┘└─────────────┘└────┘└─────────────┘                                                                                                                                       └───┘└─────────┘└────┘└────────────┘└────┘└──────────┘\n",
       "ancilla_0 -> 3 ──────────────────────────────────────────────────────────────────────────────────────────────────────────────────────────────────────────────────────────────────────────────────────────────────────────────────────────────────────────────────────\n",
       "                                                                                                                                                                                                                                                                     \n",
       "ancilla_1 -> 4 ──────────────────────────────────────────────────────────────────────────────────────────────────────────────────────────────────────────────────────────────────────────────────────────────────────────────────────────────────────────────────────\n",
       "                                                                                                                                                                                                                                                                     </pre>"
      ],
      "text/plain": [
       "global phase: 3.7614\n",
       "                                                                                 ┌────┐    ┌───────────┐     ┌────┐    ┌───────────┐              ┌──────────────┐┌────┐┌──────────────┐┌────┐ ┌─────────────┐                                                       \n",
       "      q_0 -> 0 ───────────────────────────────────────────────────────────■──────┤ √X ├────┤ Rz(-1π/2) ├─────┤ √X ├────┤ Rz(2.299) ├───────────■──┤ Rz(-0.97561) ├┤ √X ├┤ Rz(-0.84364) ├┤ √X ├─┤ Rz(-2.9639) ├───────────────────────────────────────────────────────\n",
       "               ┌─────────────┐┌────┐ ┌────────────┐┌────┐ ┌───────────┐ ┌─┴─┐┌───┴────┴───┐└───┬────┬──┘┌────┴────┴───┐└───┬────┬──┘┌───────┐┌─┴─┐└──┬───────┬───┘├────┤├─────────────┬┘├────┤┌┴─────────────┴┐                                                      \n",
       "      q_1 -> 1 ┤ Rz(0.54911) ├┤ √X ├─┤ Rz(6.2832) ├┤ √X ├─┤ Rz(14.33) ├─┤ X ├┤ Rz(3.0964) ├────┤ √X ├───┤ Rz(-1.5708) ├────┤ √X ├───┤ Rz(0) ├┤ X ├───┤ Rz(π) ├────┤ √X ├┤ Rz(-1.5708) ├─┤ √X ├┤ Rz(-0.045233) ├──■───────────────────────────────────────────────────\n",
       "               └┬────────────┤├────┤┌┴────────────┤├────┤┌┴───────────┴┐└───┘└────────────┘    └────┘   └─────────────┘    └────┘   └───────┘└───┘   └───────┘    └────┘└─────────────┘ └────┘└───────────────┘┌─┴─┐┌─────────┐┌────┐┌────────────┐┌────┐┌──────────┐\n",
       "      q_2 -> 2 ─┤ Rz(-2.984) ├┤ √X ├┤ Rz(-2.8914) ├┤ √X ├┤ Rz(-2.6169) ├───────────────────────────────────────────────────────────────────────────────────────────────────────────────────────────────────────┤ X ├┤ Rz(π/2) ├┤ √X ├┤ Rz(-2.442) ├┤ √X ├┤ Rz(5π/2) ├\n",
       "                └────────────┘└────┘└─────────────┘└────┘└─────────────┘                                                                                                                                       └───┘└─────────┘└────┘└────────────┘└────┘└──────────┘\n",
       "ancilla_0 -> 3 ──────────────────────────────────────────────────────────────────────────────────────────────────────────────────────────────────────────────────────────────────────────────────────────────────────────────────────────────────────────────────────\n",
       "                                                                                                                                                                                                                                                                     \n",
       "ancilla_1 -> 4 ──────────────────────────────────────────────────────────────────────────────────────────────────────────────────────────────────────────────────────────────────────────────────────────────────────────────────────────────────────────────────────\n",
       "                                                                                                                                                                                                                                                                     "
      ]
     },
     "execution_count": 40,
     "metadata": {},
     "output_type": "execute_result"
    }
   ],
   "source": [
    "transpiled_circuit = transpile(\n",
    "    bound_litmus_circuit,\n",
    "    backend,\n",
    "    stack=\"qiskit_qfactor_qsearch\",\n",
    "    qsearch_block_size=2,\n",
    "    seed_transpiler=1234)\n",
    "\n",
    "transpiled_circuit.draw(fold=-1)   "
   ]
  },
  {
   "cell_type": "markdown",
   "id": "0c9adf44-abf4-41b7-81d6-8f54cbe60558",
   "metadata": {},
   "source": [
    "### Circuit Hash"
   ]
  },
  {
   "cell_type": "markdown",
   "id": "e6b16716-5003-410b-943b-69a282780623",
   "metadata": {},
   "source": [
    "Function `get_circuit_hash` calculates SHA256 hash for a given quantum circuit.\n",
    "\n",
    "Hash is based on properties of circuit gates:\n",
    "\n",
    "- Instruction class (RX, CNOT, CRZ, etc.)\n",
    "- Parameter values (angles)\n",
    "- Used qubits\n",
    "- Used classical bits\n",
    "\n",
    "Parameter names are ignored - circuits with not-bound RZ(\"theta_1\") and RZ(\"theta_2\") will have equal hashes.\n",
    "\n",
    "Inspired by Qiskit `soft_compare` gate function:\n",
    "\n",
    "https://github.com/Qiskit/qiskit/blob/main/qiskit/circuit/instruction.py#L227"
   ]
  },
  {
   "cell_type": "code",
   "execution_count": 41,
   "id": "984e270b-dcf8-422d-aceb-0f2bb3c222ac",
   "metadata": {},
   "outputs": [
    {
     "data": {
      "text/plain": [
       "100095598721707543281749465799569900477058582496083003953231518177511314776532"
      ]
     },
     "execution_count": 41,
     "metadata": {},
     "output_type": "execute_result"
    }
   ],
   "source": [
    "get_circuit_hash(litmus_circuit)"
   ]
  },
  {
   "cell_type": "code",
   "execution_count": 42,
   "id": "cbf0bc85-856a-4b2b-9aae-5ce73a708c69",
   "metadata": {},
   "outputs": [
    {
     "data": {
      "text/plain": [
       "14933620835672132361461908286984305468315039130020404471380212166601340597543"
      ]
     },
     "execution_count": 42,
     "metadata": {},
     "output_type": "execute_result"
    }
   ],
   "source": [
    "get_circuit_hash(transpiled_circuit)"
   ]
  },
  {
   "attachments": {
    "fcdda73f-fc75-4311-aee1-ce277b8e5ffb.png": {
     "image/png": "[encoded data removed]"
    }
   },
   "cell_type": "markdown",
   "id": "ffd2179e-b1a2-4cd4-8ce6-faeb7f9f0f09",
   "metadata": {},
   "source": [
    "![image.png](attachment:fcdda73f-fc75-4311-aee1-ce277b8e5ffb.png)"
   ]
  },
  {
   "cell_type": "markdown",
   "id": "9f338e55-f56e-46df-83a2-b6af59e41e53",
   "metadata": {
    "tags": []
   },
   "source": [
    "### IBM Cost"
   ]
  },
  {
   "attachments": {
    "52f87ae9-a9f4-421a-8fb8-adc5eb0b3d9a.png": {
     "image/png": "[encoded data removed]"
    }
   },
   "cell_type": "markdown",
   "id": "923d56f0-9968-4f92-9338-d1089b0a21f2",
   "metadata": {},
   "source": [
    "IBM Cost is a product of gate fidelities (F) and depth penalization (K):\n",
    "\n",
    "![ibm_cost](attachment:52f87ae9-a9f4-421a-8fb8-adc5eb0b3d9a.png)\n",
    "\n",
    "* K - circuit depth penalization factor\n",
    "* d - circuit depth\n",
    "* G - gates\n",
    "* F - fidelities\n",
    "\n",
    "IBM Cost can be used as circuit quality metric.\n",
    "\n",
    "[1] “Demonstration of quantum volume 64 on a superconducting quantum computing system” – IBMQ – P. Jurcevic, A. Javadi-Abhari, L. S. Bishop and others – https://arxiv.org/abs/2008.08571"
   ]
  },
  {
   "cell_type": "code",
   "execution_count": 43,
   "id": "58d95846-2f14-4b7a-9048-9aa82f054c7b",
   "metadata": {},
   "outputs": [
    {
     "data": {
      "text/html": [
       "<pre style=\"word-wrap: normal;white-space: pre;background: #fff0;line-height: 1.1;font-family: &quot;Courier New&quot;,Courier,monospace\">            ┌──────────────┐          ┌───┐ Litmus \n",
       "Litmus_0_0: ┤ Rz(Litmus_0) ├──■───────┤ X ├───░────\n",
       "            ├──────────────┤┌─┴─┐     └─┬─┘   ░    \n",
       "Litmus_0_1: ┤ Rz(Litmus_1) ├┤ X ├──■────┼─────░────\n",
       "            ├──────────────┤└───┘┌─┴─┐  │     ░    \n",
       "Litmus_0_2: ┤ Rz(Litmus_2) ├─────┤ X ├──■─────░────\n",
       "            └──────────────┘     └───┘        ░    </pre>"
      ],
      "text/plain": [
       "            ┌──────────────┐          ┌───┐ Litmus \n",
       "Litmus_0_0: ┤ Rz(Litmus_0) ├──■───────┤ X ├───░────\n",
       "            ├──────────────┤┌─┴─┐     └─┬─┘   ░    \n",
       "Litmus_0_1: ┤ Rz(Litmus_1) ├┤ X ├──■────┼─────░────\n",
       "            ├──────────────┤└───┘┌─┴─┐  │     ░    \n",
       "Litmus_0_2: ┤ Rz(Litmus_2) ├─────┤ X ├──■─────░────\n",
       "            └──────────────┘     └───┘        ░    "
      ]
     },
     "execution_count": 43,
     "metadata": {},
     "output_type": "execute_result"
    }
   ],
   "source": [
    "litmus_circuit.draw()"
   ]
  },
  {
   "cell_type": "code",
   "execution_count": 44,
   "id": "143bdd69-ad7e-4a3a-9beb-58469a6fda3c",
   "metadata": {},
   "outputs": [
    {
     "data": {
      "text/plain": [
       "0.9498972910479807"
      ]
     },
     "execution_count": 44,
     "metadata": {},
     "output_type": "execute_result"
    }
   ],
   "source": [
    "get_ibm_cost(litmus_circuit)"
   ]
  },
  {
   "cell_type": "code",
   "execution_count": 45,
   "id": "853057d9-84fe-4937-a738-cb4d5697a04c",
   "metadata": {},
   "outputs": [
    {
     "data": {
      "text/html": [
       "<pre style=\"word-wrap: normal;white-space: pre;background: #fff0;line-height: 1.1;font-family: &quot;Courier New&quot;,Courier,monospace\">global phase: 3.7614\n",
       "                                                                                 ┌────┐    ┌───────────┐     ┌────┐    ┌───────────┐              ┌──────────────┐┌────┐┌──────────────┐┌────┐ ┌─────────────┐                                                       \n",
       "      q_0 -> 0 ───────────────────────────────────────────────────────────■──────┤ √X ├────┤ Rz(-1π/2) ├─────┤ √X ├────┤ Rz(2.299) ├───────────■──┤ Rz(-0.97561) ├┤ √X ├┤ Rz(-0.84364) ├┤ √X ├─┤ Rz(-2.9639) ├───────────────────────────────────────────────────────\n",
       "               ┌─────────────┐┌────┐ ┌────────────┐┌────┐ ┌───────────┐ ┌─┴─┐┌───┴────┴───┐└───┬────┬──┘┌────┴────┴───┐└───┬────┬──┘┌───────┐┌─┴─┐└──┬───────┬───┘├────┤├─────────────┬┘├────┤┌┴─────────────┴┐                                                      \n",
       "      q_1 -> 1 ┤ Rz(0.54911) ├┤ √X ├─┤ Rz(6.2832) ├┤ √X ├─┤ Rz(14.33) ├─┤ X ├┤ Rz(3.0964) ├────┤ √X ├───┤ Rz(-1.5708) ├────┤ √X ├───┤ Rz(0) ├┤ X ├───┤ Rz(π) ├────┤ √X ├┤ Rz(-1.5708) ├─┤ √X ├┤ Rz(-0.045233) ├──■───────────────────────────────────────────────────\n",
       "               └┬────────────┤├────┤┌┴────────────┤├────┤┌┴───────────┴┐└───┘└────────────┘    └────┘   └─────────────┘    └────┘   └───────┘└───┘   └───────┘    └────┘└─────────────┘ └────┘└───────────────┘┌─┴─┐┌─────────┐┌────┐┌────────────┐┌────┐┌──────────┐\n",
       "      q_2 -> 2 ─┤ Rz(-2.984) ├┤ √X ├┤ Rz(-2.8914) ├┤ √X ├┤ Rz(-2.6169) ├───────────────────────────────────────────────────────────────────────────────────────────────────────────────────────────────────────┤ X ├┤ Rz(π/2) ├┤ √X ├┤ Rz(-2.442) ├┤ √X ├┤ Rz(5π/2) ├\n",
       "                └────────────┘└────┘└─────────────┘└────┘└─────────────┘                                                                                                                                       └───┘└─────────┘└────┘└────────────┘└────┘└──────────┘\n",
       "ancilla_0 -> 3 ──────────────────────────────────────────────────────────────────────────────────────────────────────────────────────────────────────────────────────────────────────────────────────────────────────────────────────────────────────────────────────\n",
       "                                                                                                                                                                                                                                                                     \n",
       "ancilla_1 -> 4 ──────────────────────────────────────────────────────────────────────────────────────────────────────────────────────────────────────────────────────────────────────────────────────────────────────────────────────────────────────────────────────\n",
       "                                                                                                                                                                                                                                                                     </pre>"
      ],
      "text/plain": [
       "global phase: 3.7614\n",
       "                                                                                 ┌────┐    ┌───────────┐     ┌────┐    ┌───────────┐              ┌──────────────┐┌────┐┌──────────────┐┌────┐ ┌─────────────┐                                                       \n",
       "      q_0 -> 0 ───────────────────────────────────────────────────────────■──────┤ √X ├────┤ Rz(-1π/2) ├─────┤ √X ├────┤ Rz(2.299) ├───────────■──┤ Rz(-0.97561) ├┤ √X ├┤ Rz(-0.84364) ├┤ √X ├─┤ Rz(-2.9639) ├───────────────────────────────────────────────────────\n",
       "               ┌─────────────┐┌────┐ ┌────────────┐┌────┐ ┌───────────┐ ┌─┴─┐┌───┴────┴───┐└───┬────┬──┘┌────┴────┴───┐└───┬────┬──┘┌───────┐┌─┴─┐└──┬───────┬───┘├────┤├─────────────┬┘├────┤┌┴─────────────┴┐                                                      \n",
       "      q_1 -> 1 ┤ Rz(0.54911) ├┤ √X ├─┤ Rz(6.2832) ├┤ √X ├─┤ Rz(14.33) ├─┤ X ├┤ Rz(3.0964) ├────┤ √X ├───┤ Rz(-1.5708) ├────┤ √X ├───┤ Rz(0) ├┤ X ├───┤ Rz(π) ├────┤ √X ├┤ Rz(-1.5708) ├─┤ √X ├┤ Rz(-0.045233) ├──■───────────────────────────────────────────────────\n",
       "               └┬────────────┤├────┤┌┴────────────┤├────┤┌┴───────────┴┐└───┘└────────────┘    └────┘   └─────────────┘    └────┘   └───────┘└───┘   └───────┘    └────┘└─────────────┘ └────┘└───────────────┘┌─┴─┐┌─────────┐┌────┐┌────────────┐┌────┐┌──────────┐\n",
       "      q_2 -> 2 ─┤ Rz(-2.984) ├┤ √X ├┤ Rz(-2.8914) ├┤ √X ├┤ Rz(-2.6169) ├───────────────────────────────────────────────────────────────────────────────────────────────────────────────────────────────────────┤ X ├┤ Rz(π/2) ├┤ √X ├┤ Rz(-2.442) ├┤ √X ├┤ Rz(5π/2) ├\n",
       "                └────────────┘└────┘└─────────────┘└────┘└─────────────┘                                                                                                                                       └───┘└─────────┘└────┘└────────────┘└────┘└──────────┘\n",
       "ancilla_0 -> 3 ──────────────────────────────────────────────────────────────────────────────────────────────────────────────────────────────────────────────────────────────────────────────────────────────────────────────────────────────────────────────────────\n",
       "                                                                                                                                                                                                                                                                     \n",
       "ancilla_1 -> 4 ──────────────────────────────────────────────────────────────────────────────────────────────────────────────────────────────────────────────────────────────────────────────────────────────────────────────────────────────────────────────────────\n",
       "                                                                                                                                                                                                                                                                     "
      ]
     },
     "execution_count": 45,
     "metadata": {},
     "output_type": "execute_result"
    }
   ],
   "source": [
    "transpiled_circuit.draw(fold=-1)"
   ]
  },
  {
   "cell_type": "code",
   "execution_count": 46,
   "id": "d7c72537-d7c0-4f39-938f-7baf6adf4d99",
   "metadata": {},
   "outputs": [
    {
     "data": {
      "text/plain": [
       "0.8529603716177907"
      ]
     },
     "execution_count": 46,
     "metadata": {},
     "output_type": "execute_result"
    }
   ],
   "source": [
    "get_ibm_cost(transpiled_circuit)"
   ]
  },
  {
   "cell_type": "code",
   "execution_count": null,
   "id": "984459b2-1de6-4363-8b60-9fcf7fdd75b6",
   "metadata": {},
   "outputs": [],
   "source": []
  }
 ],
 "metadata": {
  "kernelspec": {
   "display_name": "Python 3 (ipykernel)",
   "language": "python",
   "name": "python3"
  },
  "language_info": {
   "codemirror_mode": {
    "name": "ipython",
    "version": 3
   },
   "file_extension": ".py",
   "mimetype": "text/x-python",
   "name": "python",
   "nbconvert_exporter": "python",
   "pygments_lexer": "ipython3",
   "version": "3.10.14"
  }
 },
 "nbformat": 4,
 "nbformat_minor": 5
}
