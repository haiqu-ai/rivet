{
 "cells": [
  {
   "cell_type": "markdown",
   "id": "9cd25890-d55b-4330-a918-11ee0366e70f",
   "metadata": {
    "tags": []
   },
   "source": [
    "# 🎲 Transpilation Overview"
   ]
  },
  {
   "cell_type": "markdown",
   "id": "9c333e89-0fec-4e70-81f3-f04b3a2c96ae",
   "metadata": {},
   "source": [
    "**Quantum Transpilation** is transformation of given virtual quantum circuit:\n",
    "\n",
    "- to match the topology of a specific device\n",
    "- to optimize the circuit for execution\n",
    "\n",
    "**Rivet Transpiler package** provides a family of functions for the efficient transpilation of quantum circuits."
   ]
  },
  {
   "cell_type": "markdown",
   "id": "eb03ad22-c3cf-48da-bc2c-20d22261a756",
   "metadata": {
    "tags": []
   },
   "source": [
    "## Transpilation Stages"
   ]
  },
  {
   "cell_type": "markdown",
   "id": "90876d10-ae82-4e04-9d52-238f0730356a",
   "metadata": {},
   "source": [
    "1) **Init** - Unrolling custom instructions and converting the circuit to all 1 and 2 qubit gates.\n",
    "\n",
    "2) **Layout** - Mapping circuit virtual qubits to backend physical qubits.\n",
    "\n",
    "3) **Routing** - Inject SWAP gates to comply with the backend’s coupling map.\n",
    "\n",
    "4) **Translation** - Translate to the target backend’s basis gate set.\n",
    "\n",
    "5) **Optimization** - Main optimization loop to increase circuit quality.\n",
    "\n",
    "6) **Scheduling** - Conversion to hardware-specific pulses."
   ]
  },
  {
   "cell_type": "markdown",
   "id": "8d00645d-e4dc-41fd-942f-374d58e10695",
   "metadata": {},
   "source": [
    "### Transpile Functions"
   ]
  },
  {
   "cell_type": "markdown",
   "id": "4a6f7054-f498-4626-843e-7378817b2c9d",
   "metadata": {},
   "source": [
    "* `transpile` - custom transpilation with possibility of using:\n",
    "\n",
    "    - pre-defined transpilation stacks\n",
    "    - custom PassManager\n",
    "    - dynamical decoupling\n",
    "    - transpiler options\n",
    "\n",
    "* `transpile_chain` - consistently transpile and \"stitch\" a chain of quantum circuits.\n",
    "\n",
    "* `transpile_right` - transpile additional circuit to the right part of existing circuit.\n",
    "\n",
    "* `transpile_left` - transpile additional circuit to the left part of existing circuit.\n",
    "\n",
    "* `transpile_and_compress` - transpile and \"topologically compress\" a circuit considering a coupling map of selected backend."
   ]
  }
 ],
 "metadata": {
  "kernelspec": {
   "display_name": "Python 3 (ipykernel)",
   "language": "python",
   "name": "python3"
  },
  "language_info": {
   "codemirror_mode": {
    "name": "ipython",
    "version": 3
   },
   "file_extension": ".py",
   "mimetype": "text/x-python",
   "name": "python",
   "nbconvert_exporter": "python",
   "pygments_lexer": "ipython3",
   "version": "3.10.14"
  }
 },
 "nbformat": 4,
 "nbformat_minor": 5
}
