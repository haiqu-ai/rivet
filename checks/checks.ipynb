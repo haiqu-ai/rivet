{
 "cells": [
  {
   "cell_type": "markdown",
   "id": "c1a8923e-08de-4348-a70e-5ec3b91bcf37",
   "metadata": {
    "tags": []
   },
   "source": [
    "## 1) Check QML Transpiler"
   ]
  },
  {
   "cell_type": "code",
   "execution_count": 1,
   "id": "4b31dde2-c2e2-4e34-8dd9-025894a39d27",
   "metadata": {},
   "outputs": [
    {
     "name": "stdout",
     "output_type": "stream",
     "text": [
      "/mnt/c/Users/mohor/Jupyter/Haiqu/transpiler\n"
     ]
    }
   ],
   "source": [
    "import qiskit\n",
    "\n",
    "from qiskit.providers.aer import AerSimulator\n",
    "\n",
    "from qiskit.providers.fake_provider import FakeBackend5QV2\n",
    "from qiskit.providers.fake_provider import FakeLimaV2\n",
    "from qiskit.providers.fake_provider import FakeMontrealV2\n",
    "from qiskit.providers.fake_provider import FakeGuadalupeV2\n",
    "from qiskit.providers.fake_provider import FakeBoeblingenV2\n",
    "\n",
    "from qiskit.transpiler.preset_passmanagers import generate_preset_pass_manager\n",
    "\n",
    "from matplotlib import pyplot as plt\n",
    "\n",
    "plt.style.use(\"dark_background\")\n",
    "\n",
    "%cd ..\n",
    "\n",
    "from qml_transpiler import transpile\n",
    "from qml_transpiler import transpile_left\n",
    "from qml_transpiler import transpile_right\n",
    "from qml_transpiler import transpile_chain\n",
    "\n",
    "from qml_transpiler import get_full_map\n",
    "\n",
    "from qml_transpiler import get_litmus_circuit\n",
    "from qml_transpiler import get_cnot_circuit\n",
    "from qml_transpiler import get_sinusoids\n",
    "\n",
    "# %run ../latest/backend.ipynb\n",
    "# %run ../latest/stacks.ipynb"
   ]
  },
  {
   "cell_type": "code",
   "execution_count": 2,
   "id": "972acd2e-a2a8-4f65-a8b3-56dbf41da3c8",
   "metadata": {
    "tags": []
   },
   "outputs": [],
   "source": [
    "# Backend\n",
    "\n",
    "FAKE_BACKEND = FakeBackend5QV2()\n",
    "# FAKE_BACKEND = FakeLimaV2()\n",
    "# FAKE_BACKEND = FakeGuadalupeV2()\n",
    "# FAKE_BACKEND = FakeBoeblingenV2()\n",
    "# FAKE_BACKEND = FakeMontrealV2()\n",
    "\n",
    "backend = AerSimulator.from_backend(FAKE_BACKEND)\n",
    "\n",
    "# backend.options.noise_model = None\n",
    "\n",
    "# qiskit.visualization.plot_gate_map(FAKE_BACKEND)"
   ]
  },
  {
   "cell_type": "markdown",
   "id": "00feb2d5-3ce9-4eb0-81fc-001a89fc5aa2",
   "metadata": {},
   "source": [
    "### Transpile Function"
   ]
  },
  {
   "cell_type": "code",
   "execution_count": 3,
   "id": "fd887e74-a783-4685-a8d1-7a87d2b949a8",
   "metadata": {
    "tags": []
   },
   "outputs": [
    {
     "data": {
      "text/html": [
       "<pre style=\"word-wrap: normal;white-space: pre;background: #fff0;line-height: 1.1;font-family: &quot;Courier New&quot;,Courier,monospace\">global phase: -0.5*Litmus_0 - 0.5*Litmus_1 - 0.5*Litmus_2\n",
       "                                                                    \n",
       " ancilla_0 -> 0 ────────────────────────────────────────────────────\n",
       "                ┌─────────────────┐          ┌───┐          ┌───┐ ░ \n",
       "Litmus_0_2 -> 1 ┤ U(0,0,Litmus_2) ├───────■──┤ X ├──■───────┤ X ├─░─\n",
       "                ├─────────────────┤     ┌─┴─┐└─┬─┘┌─┴─┐┌───┐└─┬─┘ ░ \n",
       "Litmus_0_0 -> 2 ┤ U(0,0,Litmus_0) ├──■──┤ X ├──■──┤ X ├┤ X ├──■───░─\n",
       "                ├─────────────────┤┌─┴─┐└───┘     └───┘└─┬─┘      ░ \n",
       "Litmus_0_1 -> 3 ┤ U(0,0,Litmus_1) ├┤ X ├─────────────────■────────░─\n",
       "                └─────────────────┘└───┘                          ░ \n",
       " ancilla_1 -> 4 ────────────────────────────────────────────────────\n",
       "                                                                    </pre>"
      ],
      "text/plain": [
       "global phase: -0.5*Litmus_0 - 0.5*Litmus_1 - 0.5*Litmus_2\n",
       "                                                                    \n",
       " ancilla_0 -> 0 ────────────────────────────────────────────────────\n",
       "                ┌─────────────────┐          ┌───┐          ┌───┐ ░ \n",
       "Litmus_0_2 -> 1 ┤ U(0,0,Litmus_2) ├───────■──┤ X ├──■───────┤ X ├─░─\n",
       "                ├─────────────────┤     ┌─┴─┐└─┬─┘┌─┴─┐┌───┐└─┬─┘ ░ \n",
       "Litmus_0_0 -> 2 ┤ U(0,0,Litmus_0) ├──■──┤ X ├──■──┤ X ├┤ X ├──■───░─\n",
       "                ├─────────────────┤┌─┴─┐└───┘     └───┘└─┬─┘      ░ \n",
       "Litmus_0_1 -> 3 ┤ U(0,0,Litmus_1) ├┤ X ├─────────────────■────────░─\n",
       "                └─────────────────┘└───┘                          ░ \n",
       " ancilla_1 -> 4 ────────────────────────────────────────────────────\n",
       "                                                                    "
      ]
     },
     "metadata": {},
     "output_type": "display_data"
    },
    {
     "name": "stdout",
     "output_type": "stream",
     "text": [
      "full_map: [1, 3, 2, 0, 4]\n"
     ]
    }
   ],
   "source": [
    "QUBITS_COUNT = 3\n",
    "\n",
    "litmus_circuit = get_litmus_circuit(QUBITS_COUNT, \"Litmus\")\n",
    "\n",
    "transpiled_litmus_circuit = transpile(\n",
    "    litmus_circuit, \n",
    "    backend,\n",
    "    # optimization_level=3,\n",
    "    # initial_layout=[1, 2, 3],\n",
    "    seed_transpiler=1234,\n",
    ")\n",
    "\n",
    "display(transpiled_litmus_circuit.draw(fold=-1))\n",
    "\n",
    "print(\"full_map:\", get_full_map(transpiled_litmus_circuit))"
   ]
  },
  {
   "cell_type": "markdown",
   "id": "d9662762-1823-4db1-b1b3-00cbfc1a6818",
   "metadata": {},
   "source": [
    "### Transpile Right"
   ]
  },
  {
   "cell_type": "markdown",
   "id": "460cfbdd-14f7-4ea8-a90a-424fa1230d34",
   "metadata": {},
   "source": [
    "#### Right Shoelace"
   ]
  },
  {
   "cell_type": "code",
   "execution_count": 4,
   "id": "dca89822-642c-41cd-be45-1de6fb2c6623",
   "metadata": {},
   "outputs": [
    {
     "data": {
      "text/html": [
       "<pre style=\"word-wrap: normal;white-space: pre;background: #fff0;line-height: 1.1;font-family: &quot;Courier New&quot;,Courier,monospace\">global phase: -0.5*Litmus_0 - 0.5*Litmus_1 - 0.5*Litmus_2 - 0.5*Litmus_3\n",
       "                            ░ ┌─────────────────┐┌───┐                                         ░ \n",
       "      q_1 -> 0 ─────────────░─┤ U(0,0,Litmus_1) ├┤ X ├─────────────────■───────────────────────░─\n",
       "               ┌──────────┐ ░ ├─────────────────┤└─┬─┘┌───┐     ┌───┐┌─┴─┐                     ░ \n",
       "      q_0 -> 1 ┤ U(π,0,π) ├─░─┤ U(0,0,Litmus_0) ├──■──┤ X ├──■──┤ X ├┤ X ├────────────■────────░─\n",
       "               └──────────┘ ░ ├─────────────────┤     └─┬─┘┌─┴─┐└─┬─┘├───┤     ┌───┐┌─┴─┐      ░ \n",
       "      q_2 -> 2 ─────────────░─┤ U(0,0,Litmus_2) ├───────■──┤ X ├──■──┤ X ├──■──┤ X ├┤ X ├──■───░─\n",
       "                            ░ ├─────────────────┤          └───┘     └─┬─┘┌─┴─┐└─┬─┘└───┘┌─┴─┐ ░ \n",
       "      q_3 -> 3 ─────────────░─┤ U(0,0,Litmus_3) ├──────────────────────■──┤ X ├──■───────┤ X ├─░─\n",
       "                            ░ └─────────────────┘                         └───┘          └───┘ ░ \n",
       "ancilla_0 -> 4 ────────────────────────────────────────────────────────────────────────────────░─\n",
       "                                                                                               ░ </pre>"
      ],
      "text/plain": [
       "global phase: -0.5*Litmus_0 - 0.5*Litmus_1 - 0.5*Litmus_2 - 0.5*Litmus_3\n",
       "                            ░ ┌─────────────────┐┌───┐                                         ░ \n",
       "      q_1 -> 0 ─────────────░─┤ U(0,0,Litmus_1) ├┤ X ├─────────────────■───────────────────────░─\n",
       "               ┌──────────┐ ░ ├─────────────────┤└─┬─┘┌───┐     ┌───┐┌─┴─┐                     ░ \n",
       "      q_0 -> 1 ┤ U(π,0,π) ├─░─┤ U(0,0,Litmus_0) ├──■──┤ X ├──■──┤ X ├┤ X ├────────────■────────░─\n",
       "               └──────────┘ ░ ├─────────────────┤     └─┬─┘┌─┴─┐└─┬─┘├───┤     ┌───┐┌─┴─┐      ░ \n",
       "      q_2 -> 2 ─────────────░─┤ U(0,0,Litmus_2) ├───────■──┤ X ├──■──┤ X ├──■──┤ X ├┤ X ├──■───░─\n",
       "                            ░ ├─────────────────┤          └───┘     └─┬─┘┌─┴─┐└─┬─┘└───┘┌─┴─┐ ░ \n",
       "      q_3 -> 3 ─────────────░─┤ U(0,0,Litmus_3) ├──────────────────────■──┤ X ├──■───────┤ X ├─░─\n",
       "                            ░ └─────────────────┘                         └───┘          └───┘ ░ \n",
       "ancilla_0 -> 4 ────────────────────────────────────────────────────────────────────────────────░─\n",
       "                                                                                               ░ "
      ]
     },
     "metadata": {},
     "output_type": "display_data"
    },
    {
     "name": "stdout",
     "output_type": "stream",
     "text": [
      "full_map: [1, 3, 2, 0, 4]\n"
     ]
    }
   ],
   "source": [
    "QUBITS_COUNT = 4\n",
    "\n",
    "# Circuits\n",
    "\n",
    "initial_state_circuit = qiskit.QuantumCircuit(QUBITS_COUNT)\n",
    "\n",
    "initial_state_circuit.x(0)\n",
    "initial_state_circuit.barrier()\n",
    "\n",
    "litmus_circuit = get_litmus_circuit(QUBITS_COUNT, \"Litmus\")\n",
    "\n",
    "# Transpile\n",
    "\n",
    "transpiled_initial_state_circuit = transpile(\n",
    "    initial_state_circuit,\n",
    "    backend,\n",
    "    seed_transpiler=1234,\n",
    "    optimization_level=3\n",
    ")\n",
    "\n",
    "# transpiled_initial_state_circuit.draw(fold=-1)\n",
    "\n",
    "shoelace_circuit = transpile_right(\n",
    "    central_circuit=transpiled_initial_state_circuit,\n",
    "    right_circuit=litmus_circuit,\n",
    "    backend=backend,\n",
    "    seed_transpiler=1234,\n",
    "    optimization_level=3\n",
    ")\n",
    "\n",
    "display(shoelace_circuit.draw(fold=-1))\n",
    "\n",
    "print(\"full_map:\", get_full_map(transpiled_litmus_circuit))"
   ]
  },
  {
   "cell_type": "markdown",
   "id": "9aa82795-9333-437f-aa9d-a66fa63def04",
   "metadata": {},
   "source": [
    "#### Right CNOT "
   ]
  },
  {
   "cell_type": "code",
   "execution_count": 5,
   "id": "43b68e7b-f8bd-4844-be9b-59ab9785eeab",
   "metadata": {},
   "outputs": [
    {
     "data": {
      "text/html": [
       "<pre style=\"word-wrap: normal;white-space: pre;background: #fff0;line-height: 1.1;font-family: &quot;Courier New&quot;,Courier,monospace\">global phase: -1.0*CNOT_0 - 1.0*CNOT_1 - 1.0*CNOT_2 - 0.5*Litmus_0 - 0.5*Litmus_1 - 0.5*Litmus_2\n",
       "                                                                                                          ░                             \n",
       " ancilla_0 -> 0 ──────────────────────────────────────────────────────────────────────────────────────────░─────────────────────────────\n",
       "                ┌─────────────────┐          ┌───┐          ┌───┐ ░ ┌───────────────┐                     ░ ┌───────────────┐      CNOT \n",
       "Litmus_0_2 -> 1 ┤ U(0,0,Litmus_2) ├───────■──┤ X ├──■───────┤ X ├─░─┤ U(0,0,CNOT_0) ├─────────────────■───░─┤ U(0,0,CNOT_0) ├──■────░───\n",
       "                ├─────────────────┤     ┌─┴─┐└─┬─┘┌─┴─┐┌───┐└─┬─┘ ░ ├───────────────┤┌───┐     ┌───┐┌─┴─┐ ░ ├───────────────┤┌─┴─┐  ░   \n",
       "Litmus_0_0 -> 2 ┤ U(0,0,Litmus_0) ├──■──┤ X ├──■──┤ X ├┤ X ├──■───░─┤ U(0,0,CNOT_2) ├┤ X ├──■──┤ X ├┤ X ├─░─┤ U(0,0,CNOT_1) ├┤ X ├──░───\n",
       "                ├─────────────────┤┌─┴─┐└───┘     └───┘└─┬─┘      ░ ├───────────────┤└─┬─┘┌─┴─┐└─┬─┘└───┘ ░ ├───────────────┤└───┘  ░   \n",
       "Litmus_0_1 -> 3 ┤ U(0,0,Litmus_1) ├┤ X ├─────────────────■────────░─┤ U(0,0,CNOT_1) ├──■──┤ X ├──■────────░─┤ U(0,0,CNOT_2) ├───────░───\n",
       "                └─────────────────┘└───┘                          ░ └───────────────┘     └───┘           ░ └───────────────┘       ░   \n",
       " ancilla_1 -> 4 ──────────────────────────────────────────────────────────────────────────────────────────░─────────────────────────────\n",
       "                                                                                                          ░                             </pre>"
      ],
      "text/plain": [
       "global phase: -1.0*CNOT_0 - 1.0*CNOT_1 - 1.0*CNOT_2 - 0.5*Litmus_0 - 0.5*Litmus_1 - 0.5*Litmus_2\n",
       "                                                                                                          ░                             \n",
       " ancilla_0 -> 0 ──────────────────────────────────────────────────────────────────────────────────────────░─────────────────────────────\n",
       "                ┌─────────────────┐          ┌───┐          ┌───┐ ░ ┌───────────────┐                     ░ ┌───────────────┐      CNOT \n",
       "Litmus_0_2 -> 1 ┤ U(0,0,Litmus_2) ├───────■──┤ X ├──■───────┤ X ├─░─┤ U(0,0,CNOT_0) ├─────────────────■───░─┤ U(0,0,CNOT_0) ├──■────░───\n",
       "                ├─────────────────┤     ┌─┴─┐└─┬─┘┌─┴─┐┌───┐└─┬─┘ ░ ├───────────────┤┌───┐     ┌───┐┌─┴─┐ ░ ├───────────────┤┌─┴─┐  ░   \n",
       "Litmus_0_0 -> 2 ┤ U(0,0,Litmus_0) ├──■──┤ X ├──■──┤ X ├┤ X ├──■───░─┤ U(0,0,CNOT_2) ├┤ X ├──■──┤ X ├┤ X ├─░─┤ U(0,0,CNOT_1) ├┤ X ├──░───\n",
       "                ├─────────────────┤┌─┴─┐└───┘     └───┘└─┬─┘      ░ ├───────────────┤└─┬─┘┌─┴─┐└─┬─┘└───┘ ░ ├───────────────┤└───┘  ░   \n",
       "Litmus_0_1 -> 3 ┤ U(0,0,Litmus_1) ├┤ X ├─────────────────■────────░─┤ U(0,0,CNOT_1) ├──■──┤ X ├──■────────░─┤ U(0,0,CNOT_2) ├───────░───\n",
       "                └─────────────────┘└───┘                          ░ └───────────────┘     └───┘           ░ └───────────────┘       ░   \n",
       " ancilla_1 -> 4 ──────────────────────────────────────────────────────────────────────────────────────────░─────────────────────────────\n",
       "                                                                                                          ░                             "
      ]
     },
     "metadata": {},
     "output_type": "display_data"
    },
    {
     "name": "stdout",
     "output_type": "stream",
     "text": [
      "full_map: [3, 1, 2, 0, 4]\n"
     ]
    }
   ],
   "source": [
    "QUBITS_COUNT = 3\n",
    "\n",
    "# Circuits\n",
    "\n",
    "litmus_circuit = get_litmus_circuit(QUBITS_COUNT, \"Litmus\")\n",
    "\n",
    "cnot_circuit = get_cnot_circuit(QUBITS_COUNT, \"CNOT\")\n",
    "\n",
    "# display(cnot_circuit.draw(fold=-1))\n",
    "\n",
    "# Transpile\n",
    "\n",
    "transpiled_litmus_circuit = qiskit.transpile(\n",
    "    litmus_circuit, \n",
    "    backend,\n",
    "    seed_transpiler=1234,\n",
    ")\n",
    "\n",
    "# display(transpiled_litmus_circuit.draw(fold=-1))\n",
    "\n",
    "right_cnot_circuit = transpile_right(\n",
    "    central_circuit=transpiled_litmus_circuit,\n",
    "    right_circuit=cnot_circuit,\n",
    "    backend=backend,\n",
    "    seed_transpiler=1234\n",
    ")\n",
    "\n",
    "# display(right_cnot_circuit.draw(fold=-1))\n",
    "\n",
    "right_cnot_circuit_2 = transpile_right(\n",
    "    central_circuit=right_cnot_circuit,\n",
    "    right_circuit=cnot_circuit,\n",
    "    backend=backend,\n",
    "    seed_transpiler=1234\n",
    ")\n",
    "\n",
    "display(right_cnot_circuit_2.draw(fold=-1))\n",
    "\n",
    "print(\"full_map:\", get_full_map(right_cnot_circuit_2))"
   ]
  },
  {
   "cell_type": "markdown",
   "id": "d905c16d-4377-4303-b428-e1e05173771f",
   "metadata": {},
   "source": [
    "### Transpile Left"
   ]
  },
  {
   "cell_type": "markdown",
   "id": "38230a4a-23a8-4b38-9ac6-4ea5b4bfed64",
   "metadata": {},
   "source": [
    "#### Left CNOT"
   ]
  },
  {
   "cell_type": "code",
   "execution_count": 6,
   "id": "011796b5-4abd-46a6-b484-976962d0ceff",
   "metadata": {},
   "outputs": [
    {
     "data": {
      "text/html": [
       "<pre style=\"word-wrap: normal;white-space: pre;background: #fff0;line-height: 1.1;font-family: &quot;Courier New&quot;,Courier,monospace\">global phase: -0.5*Litmus_0 - 0.5*Litmus_1 - 0.5*Litmus_2 - 0.5*cnot_0 - 0.5*cnot_1 - 0.5*cnot_2\n",
       "                                                                                                                                    \n",
       "ancilla_0 -> 0 ─────────────────────────────────────────────────────────────────────────────────────────────────────────────────────\n",
       "                                              ┌───┐                           ░ ┌─────────────────┐          ┌───┐          ┌───┐ ░ \n",
       " cnot_0_0 -> 1 ────────────────────────────■──┤ X ├──■────────────────────────░─┤ U(0,0,Litmus_2) ├───────■──┤ X ├──■───────┤ X ├─░─\n",
       "               ┌───────────────────┐┌───┐┌─┴─┐└─┬─┘┌─┴─┐┌───────────────────┐ ░ ├─────────────────┤     ┌─┴─┐└─┬─┘┌─┴─┐┌───┐└─┬─┘ ░ \n",
       " cnot_0_2 -> 2 ┤ U(0,1.0*cnot_2,0) ├┤ X ├┤ X ├──■──┤ X ├┤ U(0,1.0*cnot_0,0) ├─░─┤ U(0,0,Litmus_0) ├──■──┤ X ├──■──┤ X ├┤ X ├──■───░─\n",
       "               ├───────────────────┤└─┬─┘└───┘     └───┘└───────────────────┘ ░ ├─────────────────┤┌─┴─┐└───┘     └───┘└─┬─┘      ░ \n",
       " cnot_0_1 -> 3 ┤ U(0,1.0*cnot_1,0) ├──■───────────────────────────────────────░─┤ U(0,0,Litmus_1) ├┤ X ├─────────────────■────────░─\n",
       "               └───────────────────┘                                          ░ └─────────────────┘└───┘                          ░ \n",
       "ancilla_1 -> 4 ─────────────────────────────────────────────────────────────────────────────────────────────────────────────────────\n",
       "                                                                                                                                    </pre>"
      ],
      "text/plain": [
       "global phase: -0.5*Litmus_0 - 0.5*Litmus_1 - 0.5*Litmus_2 - 0.5*cnot_0 - 0.5*cnot_1 - 0.5*cnot_2\n",
       "                                                                                                                                    \n",
       "ancilla_0 -> 0 ─────────────────────────────────────────────────────────────────────────────────────────────────────────────────────\n",
       "                                              ┌───┐                           ░ ┌─────────────────┐          ┌───┐          ┌───┐ ░ \n",
       " cnot_0_0 -> 1 ────────────────────────────■──┤ X ├──■────────────────────────░─┤ U(0,0,Litmus_2) ├───────■──┤ X ├──■───────┤ X ├─░─\n",
       "               ┌───────────────────┐┌───┐┌─┴─┐└─┬─┘┌─┴─┐┌───────────────────┐ ░ ├─────────────────┤     ┌─┴─┐└─┬─┘┌─┴─┐┌───┐└─┬─┘ ░ \n",
       " cnot_0_2 -> 2 ┤ U(0,1.0*cnot_2,0) ├┤ X ├┤ X ├──■──┤ X ├┤ U(0,1.0*cnot_0,0) ├─░─┤ U(0,0,Litmus_0) ├──■──┤ X ├──■──┤ X ├┤ X ├──■───░─\n",
       "               ├───────────────────┤└─┬─┘└───┘     └───┘└───────────────────┘ ░ ├─────────────────┤┌─┴─┐└───┘     └───┘└─┬─┘      ░ \n",
       " cnot_0_1 -> 3 ┤ U(0,1.0*cnot_1,0) ├──■───────────────────────────────────────░─┤ U(0,0,Litmus_1) ├┤ X ├─────────────────■────────░─\n",
       "               └───────────────────┘                                          ░ └─────────────────┘└───┘                          ░ \n",
       "ancilla_1 -> 4 ─────────────────────────────────────────────────────────────────────────────────────────────────────────────────────\n",
       "                                                                                                                                    "
      ]
     },
     "execution_count": 6,
     "metadata": {},
     "output_type": "execute_result"
    }
   ],
   "source": [
    "QUBITS_COUNT = 3\n",
    "\n",
    "# Circuits\n",
    "\n",
    "litmus_circuit = get_litmus_circuit(QUBITS_COUNT, \"Litmus\")\n",
    "\n",
    "cnot_circuit = get_cnot_circuit(QUBITS_COUNT, \"cnot\", [1, 2])\n",
    "\n",
    "# display(cnot_circuit.draw(fold=-1))\n",
    "\n",
    "# Transpile\n",
    "\n",
    "transpiled_litmus_circuit = qiskit.transpile(\n",
    "    litmus_circuit, \n",
    "    backend,\n",
    "    seed_transpiler=1234,\n",
    ")\n",
    "\n",
    "# display(transpiled_litmus_circuit.draw(fold=-1))\n",
    "\n",
    "left_cnot_circuit = transpile_left(\n",
    "    central_circuit=transpiled_litmus_circuit,\n",
    "    left_circuit=cnot_circuit,\n",
    "    backend=backend,\n",
    "    seed_transpiler=1234\n",
    ")\n",
    "\n",
    "left_cnot_circuit.draw(fold=-1)"
   ]
  },
  {
   "cell_type": "code",
   "execution_count": 7,
   "id": "292b4088-480f-49ac-9832-dae16a884295",
   "metadata": {},
   "outputs": [
    {
     "data": {
      "text/plain": [
       "[1, 3, 2, 0, 4]"
      ]
     },
     "execution_count": 7,
     "metadata": {},
     "output_type": "execute_result"
    }
   ],
   "source": [
    "get_full_map(left_cnot_circuit)\n",
    "\n",
    "# [1, 3, 2, 0, 4]"
   ]
  },
  {
   "cell_type": "markdown",
   "id": "7ce6b944-911e-4eec-a8fc-91258969ee4f",
   "metadata": {},
   "source": [
    "### Stacks"
   ]
  },
  {
   "cell_type": "code",
   "execution_count": 8,
   "id": "186f4a07-b144-4c06-9f5e-ecfd17c549a7",
   "metadata": {},
   "outputs": [
    {
     "name": "stdout",
     "output_type": "stream",
     "text": [
      "stack: qiskit\n"
     ]
    },
    {
     "data": {
      "text/plain": [
       "'transpiled_litmus_circuit:'"
      ]
     },
     "metadata": {},
     "output_type": "display_data"
    },
    {
     "data": {
      "text/html": [
       "<pre style=\"word-wrap: normal;white-space: pre;background: #fff0;line-height: 1.1;font-family: &quot;Courier New&quot;,Courier,monospace\">global phase: 4.7832\n",
       "                                                             \n",
       " ancilla_0 -> 0 ─────────────────────────────────────────────\n",
       "                ┌──────────┐          ┌───┐          ┌───┐ ░ \n",
       "Litmus_0_2 -> 1 ┤ U(0,0,2) ├───────■──┤ X ├──■───────┤ X ├─░─\n",
       "                └──────────┘     ┌─┴─┐└─┬─┘┌─┴─┐┌───┐└─┬─┘ ░ \n",
       "Litmus_0_0 -> 2 ──────────────■──┤ X ├──■──┤ X ├┤ X ├──■───░─\n",
       "                ┌──────────┐┌─┴─┐└───┘     └───┘└─┬─┘      ░ \n",
       "Litmus_0_1 -> 3 ┤ U(0,0,1) ├┤ X ├─────────────────■────────░─\n",
       "                └──────────┘└───┘                          ░ \n",
       " ancilla_1 -> 4 ─────────────────────────────────────────────\n",
       "                                                             </pre>"
      ],
      "text/plain": [
       "global phase: 4.7832\n",
       "                                                             \n",
       " ancilla_0 -> 0 ─────────────────────────────────────────────\n",
       "                ┌──────────┐          ┌───┐          ┌───┐ ░ \n",
       "Litmus_0_2 -> 1 ┤ U(0,0,2) ├───────■──┤ X ├──■───────┤ X ├─░─\n",
       "                └──────────┘     ┌─┴─┐└─┬─┘┌─┴─┐┌───┐└─┬─┘ ░ \n",
       "Litmus_0_0 -> 2 ──────────────■──┤ X ├──■──┤ X ├┤ X ├──■───░─\n",
       "                ┌──────────┐┌─┴─┐└───┘     └───┘└─┬─┘      ░ \n",
       "Litmus_0_1 -> 3 ┤ U(0,0,1) ├┤ X ├─────────────────■────────░─\n",
       "                └──────────┘└───┘                          ░ \n",
       " ancilla_1 -> 4 ─────────────────────────────────────────────\n",
       "                                                             "
      ]
     },
     "metadata": {},
     "output_type": "display_data"
    }
   ],
   "source": [
    "QUBITS_COUNT = 3\n",
    "\n",
    "QSEARCH_BLOCK_SIZE = 2\n",
    "\n",
    "litmus_circuit = get_litmus_circuit(QUBITS_COUNT, \"Litmus\")\n",
    "\n",
    "for index, parameter in enumerate(litmus_circuit.parameters):\n",
    "    litmus_circuit.assign_parameters({parameter: index}, inplace=True)\n",
    "    \n",
    "STACKS = [\n",
    "    \"qiskit\",\n",
    "    # \"qiskit_qsearch\",\n",
    "    # \"qiskit_qfactor_qsearch\",\n",
    "    # \"qiskit_pytket\"\n",
    "]\n",
    "\n",
    "for stack in STACKS:\n",
    "    \n",
    "    print(\"stack:\", stack)\n",
    "    \n",
    "    transpiled_litmus_circuit = transpile(\n",
    "        litmus_circuit,\n",
    "        backend,\n",
    "        stack=stack,\n",
    "        optimization_level=3,\n",
    "        qsearch_block_size=QSEARCH_BLOCK_SIZE,\n",
    "        seed_transpiler=1234)\n",
    "    \n",
    "    # transpiled_litmus_circuit = pass_manager.run(litmus_circuit)\n",
    "    \n",
    "    display(\"transpiled_litmus_circuit:\", transpiled_litmus_circuit.draw(fold=-1))    "
   ]
  },
  {
   "cell_type": "code",
   "execution_count": null,
   "id": "f4808b64-8c60-4aae-857d-4c6da93bd455",
   "metadata": {},
   "outputs": [],
   "source": []
  },
  {
   "cell_type": "markdown",
   "id": "05fdde00-15ba-4f1d-9013-76f581199c04",
   "metadata": {
    "tags": []
   },
   "source": [
    "## 2) Check Transpilation Types"
   ]
  },
  {
   "cell_type": "markdown",
   "id": "d4a3b3c8-8825-4cf3-afb0-b15d7a7a76de",
   "metadata": {
    "tags": []
   },
   "source": [
    "### Build Circuit Functions"
   ]
  },
  {
   "cell_type": "code",
   "execution_count": 9,
   "id": "4f1f2524-8ea8-414c-b243-be981845f8bd",
   "metadata": {},
   "outputs": [],
   "source": [
    "def build_combined_circuit(circuit_parts, backend, *arguments, **key_arguments):\n",
    "    \n",
    "    qubits_count = circuit_parts[0].num_qubits\n",
    "\n",
    "    # Compose\n",
    "\n",
    "    combined_circuit = qiskit.QuantumCircuit(qubits_count)\n",
    "    \n",
    "    for circuit_part in circuit_parts:\n",
    "\n",
    "        combined_circuit.compose(circuit_part, inplace=True)\n",
    "\n",
    "    # combined_litmus_circuit.measure_active()\n",
    "\n",
    "    # Transpile\n",
    "\n",
    "    transpiled_combined_circuit = transpile(\n",
    "        combined_circuit, \n",
    "        backend,\n",
    "        *arguments, **key_arguments\n",
    "    )\n",
    "        \n",
    "    return transpiled_combined_circuit"
   ]
  },
  {
   "cell_type": "code",
   "execution_count": 10,
   "id": "bfbb9951-ed24-432d-b868-d2b189653fd3",
   "metadata": {},
   "outputs": [],
   "source": [
    "def build_blocks_circuit(circuit_parts, backend, *arguments, **key_arguments):\n",
    "    \n",
    "    # Transpile\n",
    "    \n",
    "    transpiled_circuit_parts = []\n",
    "    \n",
    "    for circuit_part in circuit_parts:\n",
    "        \n",
    "        transpiled_circuit_part = transpile(\n",
    "            circuit_part,\n",
    "            backend,\n",
    "            *arguments, **key_arguments\n",
    "        )\n",
    "        \n",
    "        transpiled_circuit_parts.append(transpiled_circuit_part)\n",
    "\n",
    "        full_map = get_full_map(transpiled_circuit_part)\n",
    "        \n",
    "        initial_layout = full_map[:circuit_part.num_qubits]\n",
    "        \n",
    "        key_arguments['initial_layout'] = initial_layout\n",
    "\n",
    "    # Compose\n",
    "        \n",
    "    blocks_circuit = None\n",
    "    \n",
    "    for transpiled_circuit_part in transpiled_circuit_parts:\n",
    "        \n",
    "        if blocks_circuit is None:\n",
    "            blocks_circuit = transpiled_circuit_part\n",
    "            \n",
    "        else:      \n",
    "            blocks_circuit.compose(transpiled_circuit_part, inplace=True)\n",
    "        \n",
    "    return blocks_circuit"
   ]
  },
  {
   "cell_type": "code",
   "execution_count": 11,
   "id": "a42e4ba6-0ea1-4768-b320-9f33d2ab66b5",
   "metadata": {},
   "outputs": [],
   "source": [
    "def build_right_circuit(circuit_parts, backend, *arguments, **key_arguments):\n",
    "    \n",
    "    # Transpile\n",
    "    \n",
    "    central_circuit = transpile(\n",
    "        circuit_parts[0],\n",
    "        backend, \n",
    "        *arguments, **key_arguments\n",
    "    )\n",
    "    \n",
    "    for right_circuit in circuit_parts[1:]:\n",
    "        \n",
    "        transpiled_right_circuit = transpile_right(\n",
    "            central_circuit=central_circuit,\n",
    "            right_circuit=right_circuit,\n",
    "            backend=backend,\n",
    "            *arguments, **key_arguments\n",
    "        )\n",
    "        \n",
    "        central_circuit = transpiled_right_circuit\n",
    "        \n",
    "    return transpiled_right_circuit"
   ]
  },
  {
   "cell_type": "code",
   "execution_count": 12,
   "id": "9e7af355-4bac-4217-b6a4-2ea8f1c2fb16",
   "metadata": {},
   "outputs": [],
   "source": [
    "def build_left_circuit(circuit_parts, backend, *arguments, **key_arguments):\n",
    "    \n",
    "    reversed_circuit_parts = list(reversed(circuit_parts))\n",
    "    \n",
    "    # Transpile\n",
    "    \n",
    "    central_circuit = transpile(\n",
    "        reversed_circuit_parts[0],\n",
    "        backend,\n",
    "        *arguments, **key_arguments\n",
    "    )\n",
    "    \n",
    "    for left_circuit in reversed_circuit_parts[1:]:\n",
    "        \n",
    "        transpiled_left_circuit = transpile_left(\n",
    "            central_circuit=central_circuit,\n",
    "            left_circuit=left_circuit,\n",
    "            backend=backend,\n",
    "            *arguments, **key_arguments\n",
    "        )\n",
    "        \n",
    "        central_circuit = transpiled_left_circuit\n",
    "        \n",
    "    return transpiled_left_circuit"
   ]
  },
  {
   "cell_type": "markdown",
   "id": "69287fa5-1c4a-4f80-adaa-e46d662bb084",
   "metadata": {
    "tags": []
   },
   "source": [
    "### Comparison Functions"
   ]
  },
  {
   "cell_type": "code",
   "execution_count": 13,
   "id": "2d2e5c7e-74ed-4852-93ff-c195b095ce11",
   "metadata": {},
   "outputs": [],
   "source": [
    "def get_circuits_to_compare(circuit_parts, backend, *arguments, **key_arguments):\n",
    "    \n",
    "    # Build Circuits\n",
    "    \n",
    "    combined_circuit = build_combined_circuit(circuit_parts, backend, *arguments, **key_arguments)\n",
    "    blocks_circuit = build_blocks_circuit(circuit_parts, backend, *arguments, **key_arguments)\n",
    "    chain_circuit = transpile_chain(circuit_parts, backend, *arguments, **key_arguments)\n",
    "    \n",
    "    right_circuit = build_right_circuit(circuit_parts, backend, *arguments, **key_arguments)\n",
    "    left_circuit = build_left_circuit(circuit_parts, backend, *arguments, **key_arguments)\n",
    "\n",
    "    circuits_to_compare = {\n",
    "        \"Combined\": combined_circuit,\n",
    "        \"Blocks\": blocks_circuit,\n",
    "        \"Chain\": chain_circuit,\n",
    "        \"Right\": right_circuit,\n",
    "        \"Left\": left_circuit,\n",
    "    }\n",
    "    \n",
    "    return circuits_to_compare"
   ]
  },
  {
   "cell_type": "code",
   "execution_count": 14,
   "id": "7caeadc0-512f-4b19-825c-8bf95a317751",
   "metadata": {},
   "outputs": [],
   "source": [
    "def run_circuits_to_compare(circuits_to_compare, backend, shots_count):\n",
    "       \n",
    "    results = {}\n",
    "\n",
    "    for circuit_name, circuit in circuits_to_compare.items():\n",
    "\n",
    "        # Assign Parameters\n",
    "\n",
    "        for index, parameter in enumerate(circuit.parameters):\n",
    "\n",
    "            circuit.assign_parameters({parameter: index}, inplace=True)    \n",
    "\n",
    "        # Run\n",
    "\n",
    "        job = backend.run(circuit, shots=shots_count)\n",
    "\n",
    "        counts = job.result().get_counts()\n",
    "\n",
    "        results[circuit_name] = counts\n",
    "\n",
    "    return results"
   ]
  },
  {
   "cell_type": "code",
   "execution_count": 15,
   "id": "d023108c-578e-4056-9364-12b72e508b9e",
   "metadata": {},
   "outputs": [],
   "source": [
    "def plot_results_to_compare(results, \n",
    "                            print_counts=True,\n",
    "                            display_plots=False):\n",
    "    # Counts\n",
    "\n",
    "    if print_counts is True:\n",
    "\n",
    "        for circuit_name, counts in results.items():\n",
    "\n",
    "            print(f\"{circuit_name:<8} {counts}\")\n",
    "\n",
    "    # Plots\n",
    "\n",
    "    if display_plots is True:\n",
    "\n",
    "        for circuit_name, counts in results.items():\n",
    "\n",
    "            display(qiskit.visualization.plot_histogram(\n",
    "                counts,\n",
    "                figsize=(7, 2),\n",
    "                bar_labels=False,\n",
    "                sort='value_desc',\n",
    "                title=circuit_name\n",
    "            ))"
   ]
  },
  {
   "cell_type": "code",
   "execution_count": 16,
   "id": "31105356-0754-476d-a03c-6fe917568c89",
   "metadata": {},
   "outputs": [],
   "source": [
    "def check_delta(results, delta_treshold=0.1):\n",
    "    \n",
    "    # Total Counts\n",
    "    \n",
    "    total_counts = {}\n",
    "    \n",
    "    for circuit_name, counts in results.items():\n",
    "        \n",
    "        for state, count in counts.items():\n",
    "            \n",
    "            if state in total_counts:\n",
    "                total_counts[state] += count\n",
    "            \n",
    "            else:\n",
    "                total_counts[state] = count\n",
    "                \n",
    "    # Average Counts\n",
    "    \n",
    "    circuits_count = len(results)\n",
    "                \n",
    "    average_counts = {state: count / circuits_count \n",
    "                      for state, count in total_counts.items()}\n",
    "    \n",
    "    # Deltas\n",
    "    \n",
    "    check_pass_flags = []\n",
    "    \n",
    "    for circuit_name, counts in results.items():\n",
    "        \n",
    "        total_delta = 0\n",
    "        total_counts = 0\n",
    "        \n",
    "        for state, count in counts.items():\n",
    "            \n",
    "            average_count = average_counts[state]\n",
    "            \n",
    "            delta = abs(count - average_count)\n",
    "            \n",
    "            total_delta += delta\n",
    "            total_counts += count\n",
    "            \n",
    "        # Check Passed\n",
    "            \n",
    "        check_pass_flag = total_delta < delta_treshold * total_counts\n",
    "        \n",
    "        check_pass_flags.append(check_pass_flag)\n",
    "        \n",
    "    # All Passed\n",
    "        \n",
    "    all_checks_passed = all(check_pass_flags)\n",
    "    \n",
    "    return all_checks_passed"
   ]
  },
  {
   "cell_type": "markdown",
   "id": "7faf82cf-9aff-4251-ad7a-7f7573665267",
   "metadata": {
    "tags": []
   },
   "source": [
    "## Litmus Types Comparison"
   ]
  },
  {
   "cell_type": "code",
   "execution_count": 17,
   "id": "baca2861-0e0e-4b4d-ac16-bfed0ebf1b07",
   "metadata": {},
   "outputs": [],
   "source": [
    "QUBITS_COUNT = 10\n",
    "\n",
    "# LAYOUT_METHOD = 'dense'\n",
    "LAYOUT_METHOD = None\n",
    "# ROUTING_METHOD = 'sabre'\n",
    "ROUTING_METHOD = None\n",
    "\n",
    "# ‘trivial’, ‘dense’, ‘noise_adaptive’, ‘sabre’\n",
    "# ‘basic’, ‘lookahead’, ‘stochastic’, ‘sabre’, ‘none’\n",
    "\n",
    "SHOTS_COUNT = 1000\n",
    "SEED_TRANSPILER = 1234\n",
    "OPTIMIZATION_LEVEL = 3\n",
    "\n",
    "qubits = list(range(QUBITS_COUNT))"
   ]
  },
  {
   "cell_type": "code",
   "execution_count": 18,
   "id": "b9204510-eaaa-4376-af51-8be4143b4fee",
   "metadata": {},
   "outputs": [
    {
     "data": {
      "image/png": "[encoded data removed]",
      "text/plain": [
       "<Figure size 360x360 with 1 Axes>"
      ]
     },
     "execution_count": 18,
     "metadata": {},
     "output_type": "execute_result"
    }
   ],
   "source": [
    "# Backend\n",
    "\n",
    "# FAKE_BACKEND = FakeBackend5QV2()\n",
    "# FAKE_BACKEND = FakeLimaV2()\n",
    "# FAKE_BACKEND = FakeGuadalupeV2()\n",
    "# FAKE_BACKEND = FakeBoeblingenV2()\n",
    "FAKE_BACKEND = FakeMontrealV2()\n",
    "\n",
    "backend = AerSimulator.from_backend(FAKE_BACKEND)\n",
    "\n",
    "backend.options.noise_model = None\n",
    "\n",
    "qiskit.visualization.plot_gate_map(FAKE_BACKEND)"
   ]
  },
  {
   "cell_type": "code",
   "execution_count": 19,
   "id": "0735d4f9-2981-4391-bf8b-6164480929ae",
   "metadata": {},
   "outputs": [],
   "source": [
    "# Initial State Part\n",
    "\n",
    "initial_state_circuit = qiskit.QuantumCircuit(QUBITS_COUNT)\n",
    "\n",
    "initial_state_circuit.x(0)\n",
    "initial_state_circuit.barrier()\n",
    "\n",
    "# Litmus Parts\n",
    "\n",
    "l1_circuit = get_litmus_circuit(QUBITS_COUNT, \"L1\")\n",
    "l2_circuit = get_litmus_circuit(QUBITS_COUNT, \"L2\")\n",
    "\n",
    "# Measurement Part\n",
    "\n",
    "measurement_circuit = qiskit.QuantumCircuit(QUBITS_COUNT, QUBITS_COUNT)\n",
    "measurement_circuit.measure(qubits, qubits)\n",
    "\n",
    "# Circuit Parts\n",
    "\n",
    "CIRCUIT_PARTS = [\n",
    "    initial_state_circuit,\n",
    "    l1_circuit,\n",
    "    l2_circuit,\n",
    "    measurement_circuit\n",
    "]"
   ]
  },
  {
   "cell_type": "code",
   "execution_count": 20,
   "id": "1f944b89-3d5f-4348-ab94-4808ac8ad40a",
   "metadata": {},
   "outputs": [
    {
     "name": "stdout",
     "output_type": "stream",
     "text": [
      "Combined {'1010101011': 1000}\n",
      "Blocks   {'1010101011': 1000}\n",
      "Chain    {'1010101011': 1000}\n",
      "Right    {'1010101011': 1000}\n",
      "Left     {'1010101011': 1000}\n"
     ]
    }
   ],
   "source": [
    "circuits_to_compare = get_circuits_to_compare(\n",
    "    circuit_parts=CIRCUIT_PARTS,\n",
    "    backend=backend,\n",
    "    layout_method=LAYOUT_METHOD,\n",
    "    routing_method=ROUTING_METHOD,  \n",
    "    seed_transpiler=SEED_TRANSPILER,\n",
    "    optimization_level=OPTIMIZATION_LEVEL\n",
    ")\n",
    "\n",
    "results = run_circuits_to_compare(\n",
    "    circuits_to_compare=circuits_to_compare, \n",
    "    backend=backend, \n",
    "    shots_count=SHOTS_COUNT\n",
    ")\n",
    "\n",
    "plot_results_to_compare(results)"
   ]
  },
  {
   "cell_type": "code",
   "execution_count": 21,
   "id": "935a97af-c46c-4dec-8c36-7a51058d6724",
   "metadata": {},
   "outputs": [],
   "source": [
    "assert check_delta(results), \"Check Delta\""
   ]
  },
  {
   "cell_type": "code",
   "execution_count": null,
   "id": "7f8be4d1-7e9f-4f02-9467-95012ec21d4d",
   "metadata": {},
   "outputs": [],
   "source": []
  },
  {
   "cell_type": "markdown",
   "id": "9e279aa4-b327-4f4c-b38a-67ef3fedf317",
   "metadata": {
    "tags": []
   },
   "source": [
    "## AE and QFT Types Comparison"
   ]
  },
  {
   "cell_type": "code",
   "execution_count": 22,
   "id": "7d6feacb-b3b0-4b7e-a3f8-17c6b6119623",
   "metadata": {},
   "outputs": [],
   "source": [
    "QUBITS_COUNT = 6\n",
    "\n",
    "# LAYOUT_METHOD = 'sabre'\n",
    "LAYOUT_METHOD = None\n",
    "# ROUTING_METHOD = 'sabre'\n",
    "ROUTING_METHOD = None\n",
    "\n",
    "# ‘trivial’, ‘dense’, ‘noise_adaptive’, ‘sabre’\n",
    "# ‘basic’, ‘lookahead’, ‘stochastic’, ‘sabre’, ‘none’\n",
    "\n",
    "SHOTS_COUNT = 1000\n",
    "SEED_TRANSPILER = 1234\n",
    "OPTIMIZATION_LEVEL = 3\n",
    "\n",
    "qubits = list(range(QUBITS_COUNT))\n",
    "\n",
    "\n",
    "# Backend\n",
    "\n",
    "# FAKE_BACKEND = FakeBackend5QV2()\n",
    "# FAKE_BACKEND = FakeLimaV2()\n",
    "# FAKE_BACKEND = FakeGuadalupeV2()\n",
    "# FAKE_BACKEND = FakeBoeblingenV2()\n",
    "FAKE_BACKEND = FakeMontrealV2()\n",
    "\n",
    "backend = AerSimulator.from_backend(FAKE_BACKEND)\n",
    "\n",
    "backend.options.noise_model = None\n",
    "\n",
    "# qiskit.visualization.plot_gate_map(FAKE_BACKEND)"
   ]
  },
  {
   "cell_type": "markdown",
   "id": "bf90a5b8-67aa-4f83-9d07-63190219951c",
   "metadata": {},
   "source": [
    "### Sinusoids"
   ]
  },
  {
   "cell_type": "code",
   "execution_count": 23,
   "id": "36dc2f72-94a4-4eb3-a21c-04f8e36aa57d",
   "metadata": {},
   "outputs": [],
   "source": [
    "# sinusoids_data = get_sinusoids(QUBITS_COUNT, frequencies=[1])\n",
    "\n",
    "# sinusoids_data = get_sinusoids(QUBITS_COUNT, 1)\n",
    "\n",
    "sinusoids_data = get_sinusoids(QUBITS_COUNT, \n",
    "                               frequencies=[1, 3],\n",
    "                               amplitudes=[10, 5])\n",
    "\n",
    "# Plot Sinusoids\n",
    "\n",
    "# plt.title(\"Amplitude Encoded Signal\")\n",
    "# plt.xlabel(\"Time\")\n",
    "# plt.ylabel(\"Amplitude\")\n",
    "\n",
    "# plt.plot(sinusoids_data);"
   ]
  },
  {
   "cell_type": "markdown",
   "id": "f72d934c-bb25-45ad-986d-9fbc6986ff1b",
   "metadata": {},
   "source": [
    "### Circuit Parts"
   ]
  },
  {
   "cell_type": "code",
   "execution_count": 24,
   "id": "29c63887-77cc-4f13-bac3-c288b931931c",
   "metadata": {},
   "outputs": [],
   "source": [
    "# AE Part\n",
    "\n",
    "amplitude_embedding = qiskit.circuit.library.StatePreparation(sinusoids_data)\n",
    "\n",
    "ae_circuit = qiskit.QuantumCircuit(QUBITS_COUNT)\n",
    "ae_circuit.append(amplitude_embedding, qargs=qubits)\n",
    "ae_circuit.barrier()\n",
    "\n",
    "# QFT Part\n",
    "\n",
    "qft = qiskit.circuit.library.QFT(num_qubits=QUBITS_COUNT)\n",
    "\n",
    "qft_circuit = qiskit.QuantumCircuit(QUBITS_COUNT)\n",
    "qft_circuit.append(qft, qargs=qubits)\n",
    "qft_circuit.barrier()\n",
    "\n",
    "# Measurement Part\n",
    "\n",
    "measurement_circuit = qiskit.QuantumCircuit(QUBITS_COUNT, QUBITS_COUNT)\n",
    "measurement_circuit.measure(qubits, qubits)\n",
    "\n",
    "# Circuit Parts\n",
    "\n",
    "CIRCUIT_PARTS = [\n",
    "    ae_circuit,\n",
    "    qft_circuit,\n",
    "    measurement_circuit\n",
    "]"
   ]
  },
  {
   "cell_type": "code",
   "execution_count": 25,
   "id": "66f435cb-f2b1-4907-8280-a4ead175644e",
   "metadata": {},
   "outputs": [],
   "source": [
    "circuits_to_compare = get_circuits_to_compare(\n",
    "    circuit_parts=CIRCUIT_PARTS,\n",
    "    backend=backend,\n",
    "    layout_method=LAYOUT_METHOD,\n",
    "    routing_method=ROUTING_METHOD,  \n",
    "    seed_transpiler=SEED_TRANSPILER,\n",
    "    optimization_level=OPTIMIZATION_LEVEL\n",
    ")\n",
    "\n",
    "results = run_circuits_to_compare(\n",
    "    circuits_to_compare=circuits_to_compare, \n",
    "    backend=backend, \n",
    "    shots_count=SHOTS_COUNT\n",
    ")"
   ]
  },
  {
   "cell_type": "code",
   "execution_count": 29,
   "id": "d8547ca2-0dac-42e3-bfcf-d2956b0fec66",
   "metadata": {},
   "outputs": [],
   "source": [
    "# plot_results_to_compare(results, print_counts=False, display_plots=True)"
   ]
  },
  {
   "cell_type": "code",
   "execution_count": 27,
   "id": "65e49cb5-9cea-41fe-a371-ecab7fbaf2a6",
   "metadata": {},
   "outputs": [],
   "source": [
    "assert check_delta(results), \"Check Delta\""
   ]
  },
  {
   "cell_type": "code",
   "execution_count": null,
   "id": "ce47c962-aa2b-437a-b2d8-f5d634c3d2bd",
   "metadata": {},
   "outputs": [],
   "source": []
  },
  {
   "cell_type": "code",
   "execution_count": null,
   "id": "7f8422d6-f250-47f7-992e-3cae7d61f101",
   "metadata": {},
   "outputs": [],
   "source": []
  },
  {
   "cell_type": "code",
   "execution_count": null,
   "id": "a5c1378f-8854-4ee2-9e86-1b11bb7fad51",
   "metadata": {},
   "outputs": [],
   "source": []
  }
 ],
 "metadata": {
  "kernelspec": {
   "display_name": "Python 3 (ipykernel)",
   "language": "python",
   "name": "python3"
  },
  "language_info": {
   "codemirror_mode": {
    "name": "ipython",
    "version": 3
   },
   "file_extension": ".py",
   "mimetype": "text/x-python",
   "name": "python",
   "nbconvert_exporter": "python",
   "pygments_lexer": "ipython3",
   "version": "3.8.10"
  }
 },
 "nbformat": 4,
 "nbformat_minor": 5
}
