{
 "cells": [
  {
   "cell_type": "code",
   "execution_count": 1,
   "id": "7e38a208-4d31-4e85-a94e-a6c1c527708e",
   "metadata": {},
   "outputs": [],
   "source": [
    "import qiskit\n",
    "\n",
    "from qiskit_aer import AerSimulator\n",
    "\n",
    "from qiskit_ibm_runtime.fake_provider import fake_backend"
   ]
  },
  {
   "cell_type": "code",
   "execution_count": 2,
   "id": "f97291ef-667c-45d0-a08a-103d0c67b842",
   "metadata": {},
   "outputs": [],
   "source": [
    "import numpy as np\n",
    "\n",
    "import warnings\n",
    "\n",
    "from importlib.util import find_spec\n",
    "\n",
    "import qiskit\n",
    "\n",
    "from qiskit.qasm2 import dumps\n",
    "from qiskit.transpiler.preset_passmanagers import generate_preset_pass_manager\n",
    "\n",
    "from qiskit_aer import AerSimulator"
   ]
  },
  {
   "cell_type": "code",
   "execution_count": 3,
   "id": "f2a731f5-8412-485f-b041-12d7df43b9b9",
   "metadata": {},
   "outputs": [],
   "source": [
    "try:\n",
    "    import bqskit\n",
    "\n",
    "except ModuleNotFoundError:\n",
    "    warnings.warn(\"BQSKit not found\", ImportWarning)\n",
    "\n",
    "try:\n",
    "    import pytket\n",
    "    import pytket.extensions.qiskit\n",
    "\n",
    "except ModuleNotFoundError:\n",
    "    warnings.warn(\"Pytket not found\", ImportWarning)"
   ]
  },
  {
   "cell_type": "code",
   "execution_count": 4,
   "id": "64b6a0e2-174e-45d2-92ea-b84fa8c822a3",
   "metadata": {},
   "outputs": [],
   "source": [
    "backend = AerSimulator"
   ]
  },
  {
   "cell_type": "code",
   "execution_count": 5,
   "id": "d32a6d63-b56e-4434-97a8-fa60d2560f85",
   "metadata": {},
   "outputs": [
    {
     "data": {
      "text/plain": [
       "False"
      ]
     },
     "execution_count": 5,
     "metadata": {},
     "output_type": "execute_result"
    }
   ],
   "source": [
    "isinstance(backend, (qiskit.providers.BackendV1,\n",
    "                     fake_backend.FakeBackend))"
   ]
  },
  {
   "cell_type": "code",
   "execution_count": 6,
   "id": "6af98cc0-4149-4c10-a3b4-22640fca049c",
   "metadata": {},
   "outputs": [
    {
     "data": {
      "text/plain": [
       "False"
      ]
     },
     "execution_count": 6,
     "metadata": {},
     "output_type": "execute_result"
    }
   ],
   "source": [
    "isinstance(backend, (qiskit.providers.BackendV2,\n",
    "                     fake_backend.FakeBackendV2))"
   ]
  },
  {
   "cell_type": "code",
   "execution_count": 7,
   "id": "a168985f-a56e-48ce-9aa2-fe0323ce3b74",
   "metadata": {},
   "outputs": [],
   "source": [
    "def model_from_ibmq_backend(backend):\n",
    "\n",
    "    \"\"\"\n",
    "    Create a machine model from an IBMQ backend.\n",
    "\n",
    "    Args:\n",
    "        backend: The IBMQ backend.\n",
    "\n",
    "    Returns:\n",
    "        MachineModel: The machine model representing the backend.\n",
    "    \"\"\"\n",
    "\n",
    "    # Based on https://github.com/BQSKit/bqskit/blob/main/bqskit/ext/qiskit/models.py\n",
    "\n",
    "    IBMQ_BASIS_GATES_LIMIT = 10\n",
    "\n",
    "    # Backend\n",
    "\n",
    "    if backend is None:\n",
    "        ibmq_backend = AerSimulator()\n",
    "    else:\n",
    "        ibmq_backend = backend\n",
    "\n",
    "    if isinstance(ibmq_backend, (qiskit.providers.BackendV1,\n",
    "                                 fake_backend.FakeBackend)):\n",
    "\n",
    "        # print('IBMQ Backend Version 1')\n",
    "\n",
    "        qubits_count = ibmq_backend.configuration().n_qubits\n",
    "        basis_gates = ibmq_backend.configuration().basis_gates\n",
    "        coupling_map = ibmq_backend.configuration().coupling_map\n",
    "\n",
    "    if isinstance(ibmq_backend, (qiskit.providers.BackendV2,\n",
    "                                 fake_backend.FakeBackendV2)):\n",
    "\n",
    "        # print('IBMQ Backend Version 2')\n",
    "\n",
    "        qubits_count = ibmq_backend.target.num_qubits\n",
    "        basis_gates = ibmq_backend.target.operation_names\n",
    "        coupling_map = ibmq_backend.target.build_coupling_map()\n",
    "\n",
    "    # Gate Set\n",
    "\n",
    "    gate_dict = {'cx': bqskit.ir.gates.CNOTGate(),\n",
    "                 'cz': bqskit.ir.gates.CZGate(),\n",
    "                 'u3': bqskit.ir.gates.U3Gate(),\n",
    "                 'u2': bqskit.ir.gates.U2Gate(),\n",
    "                 'u1': bqskit.ir.gates.U1Gate(),\n",
    "                 'rz': bqskit.ir.gates.RZGate(),\n",
    "                 'sx': bqskit.ir.gates.SXGate(),\n",
    "                 'x': bqskit.ir.gates.XGate(),\n",
    "                 'p': bqskit.ir.gates.RZGate()}\n",
    "\n",
    "    if len(basis_gates) > IBMQ_BASIS_GATES_LIMIT:\n",
    "\n",
    "        gate_set = {bqskit.ir.gates.CNOTGate(),\n",
    "                    bqskit.ir.gates.RZGate(),\n",
    "                    bqskit.ir.gates.SXGate()}\n",
    "    else:\n",
    "\n",
    "        gate_set = {gate_dict.get(basis_gate)\n",
    "                    for basis_gate in basis_gates} - {None}\n",
    "\n",
    "    # Coupling List\n",
    "\n",
    "    coupling_list = None\n",
    "\n",
    "    if coupling_map is not None:\n",
    "\n",
    "        coupling_list = list({tuple(sorted(edge)) for edge in coupling_map})\n",
    "\n",
    "    # Mashine Model\n",
    "\n",
    "    machine_model = bqskit.MachineModel(qubits_count, coupling_list, gate_set)\n",
    "\n",
    "    return machine_model"
   ]
  },
  {
   "cell_type": "code",
   "execution_count": 8,
   "id": "f79a30ec-5410-4468-a347-531abf604b3c",
   "metadata": {},
   "outputs": [
    {
     "ename": "UnboundLocalError",
     "evalue": "local variable 'basis_gates' referenced before assignment",
     "output_type": "error",
     "traceback": [
      "\u001b[0;31m---------------------------------------------------------------------------\u001b[0m",
      "\u001b[0;31mUnboundLocalError\u001b[0m                         Traceback (most recent call last)",
      "Cell \u001b[0;32mIn[8], line 1\u001b[0m\n\u001b[0;32m----> 1\u001b[0m \u001b[43mmodel_from_ibmq_backend\u001b[49m\u001b[43m(\u001b[49m\u001b[43mbackend\u001b[49m\u001b[43m)\u001b[49m\n",
      "Cell \u001b[0;32mIn[7], line 54\u001b[0m, in \u001b[0;36mmodel_from_ibmq_backend\u001b[0;34m(backend)\u001b[0m\n\u001b[1;32m     42\u001b[0m \u001b[38;5;66;03m# Gate Set\u001b[39;00m\n\u001b[1;32m     44\u001b[0m gate_dict \u001b[38;5;241m=\u001b[39m {\u001b[38;5;124m'\u001b[39m\u001b[38;5;124mcx\u001b[39m\u001b[38;5;124m'\u001b[39m: bqskit\u001b[38;5;241m.\u001b[39mir\u001b[38;5;241m.\u001b[39mgates\u001b[38;5;241m.\u001b[39mCNOTGate(),\n\u001b[1;32m     45\u001b[0m              \u001b[38;5;124m'\u001b[39m\u001b[38;5;124mcz\u001b[39m\u001b[38;5;124m'\u001b[39m: bqskit\u001b[38;5;241m.\u001b[39mir\u001b[38;5;241m.\u001b[39mgates\u001b[38;5;241m.\u001b[39mCZGate(),\n\u001b[1;32m     46\u001b[0m              \u001b[38;5;124m'\u001b[39m\u001b[38;5;124mu3\u001b[39m\u001b[38;5;124m'\u001b[39m: bqskit\u001b[38;5;241m.\u001b[39mir\u001b[38;5;241m.\u001b[39mgates\u001b[38;5;241m.\u001b[39mU3Gate(),\n\u001b[0;32m   (...)\u001b[0m\n\u001b[1;32m     51\u001b[0m              \u001b[38;5;124m'\u001b[39m\u001b[38;5;124mx\u001b[39m\u001b[38;5;124m'\u001b[39m: bqskit\u001b[38;5;241m.\u001b[39mir\u001b[38;5;241m.\u001b[39mgates\u001b[38;5;241m.\u001b[39mXGate(),\n\u001b[1;32m     52\u001b[0m              \u001b[38;5;124m'\u001b[39m\u001b[38;5;124mp\u001b[39m\u001b[38;5;124m'\u001b[39m: bqskit\u001b[38;5;241m.\u001b[39mir\u001b[38;5;241m.\u001b[39mgates\u001b[38;5;241m.\u001b[39mRZGate()}\n\u001b[0;32m---> 54\u001b[0m \u001b[38;5;28;01mif\u001b[39;00m \u001b[38;5;28mlen\u001b[39m(\u001b[43mbasis_gates\u001b[49m) \u001b[38;5;241m>\u001b[39m IBMQ_BASIS_GATES_LIMIT:\n\u001b[1;32m     56\u001b[0m     gate_set \u001b[38;5;241m=\u001b[39m {bqskit\u001b[38;5;241m.\u001b[39mir\u001b[38;5;241m.\u001b[39mgates\u001b[38;5;241m.\u001b[39mCNOTGate(),\n\u001b[1;32m     57\u001b[0m                 bqskit\u001b[38;5;241m.\u001b[39mir\u001b[38;5;241m.\u001b[39mgates\u001b[38;5;241m.\u001b[39mRZGate(),\n\u001b[1;32m     58\u001b[0m                 bqskit\u001b[38;5;241m.\u001b[39mir\u001b[38;5;241m.\u001b[39mgates\u001b[38;5;241m.\u001b[39mSXGate()}\n\u001b[1;32m     59\u001b[0m \u001b[38;5;28;01melse\u001b[39;00m:\n",
      "\u001b[0;31mUnboundLocalError\u001b[0m: local variable 'basis_gates' referenced before assignment"
     ]
    }
   ],
   "source": [
    "model_from_ibmq_backend(backend)"
   ]
  },
  {
   "cell_type": "code",
   "execution_count": null,
   "id": "42f29896-24a2-4f55-8968-fbc12deda135",
   "metadata": {},
   "outputs": [],
   "source": []
  }
 ],
 "metadata": {
  "kernelspec": {
   "display_name": "Rivet_Release",
   "language": "python",
   "name": "rivet_release"
  },
  "language_info": {
   "codemirror_mode": {
    "name": "ipython",
    "version": 3
   },
   "file_extension": ".py",
   "mimetype": "text/x-python",
   "name": "python",
   "nbconvert_exporter": "python",
   "pygments_lexer": "ipython3",
   "version": "3.10.13"
  }
 },
 "nbformat": 4,
 "nbformat_minor": 5
}
