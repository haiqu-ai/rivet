{
 "cells": [
  {
   "cell_type": "markdown",
   "id": "bc6e6786-dcbf-4730-bb1e-df1fa4b656f0",
   "metadata": {},
   "source": [
    "### Aer Dependency Check"
   ]
  },
  {
   "cell_type": "code",
   "execution_count": 1,
   "id": "7e38a208-4d31-4e85-a94e-a6c1c527708e",
   "metadata": {},
   "outputs": [],
   "source": [
    "import qiskit\n",
    "\n",
    "from qiskit_aer import AerSimulator\n",
    "\n",
    "from qiskit_ibm_runtime.fake_provider import fake_backend"
   ]
  },
  {
   "cell_type": "code",
   "execution_count": 2,
   "id": "f2a731f5-8412-485f-b041-12d7df43b9b9",
   "metadata": {},
   "outputs": [],
   "source": [
    "import warnings\n",
    "\n",
    "try:\n",
    "    import bqskit\n",
    "\n",
    "except ModuleNotFoundError:\n",
    "    warnings.warn(\"BQSKit not found\", ImportWarning)\n",
    "\n",
    "try:\n",
    "    import pytket\n",
    "    import pytket.extensions.qiskit\n",
    "\n",
    "except ModuleNotFoundError:\n",
    "    warnings.warn(\"Pytket not found\", ImportWarning)"
   ]
  },
  {
   "cell_type": "code",
   "execution_count": null,
   "id": "b9408e27-4514-4e8b-86ee-74f8168d6f4f",
   "metadata": {},
   "outputs": [],
   "source": []
  },
  {
   "cell_type": "code",
   "execution_count": 3,
   "id": "18764430-d756-4931-a68a-e90e7c5d02a0",
   "metadata": {},
   "outputs": [
    {
     "name": "stdout",
     "output_type": "stream",
     "text": [
      "qubits_count: 29\n",
      "basis_gates: dict_keys(['multiplexer', 'save_probabilities_dict', 'sdg', 'mcu3', 'measure', 'save_superop', 'set_superop', 'switch_case', 'cy', 'set_unitary', 'r', 'kraus', 'cu3', 'set_stabilizer', 'rzx', 'rx', 'superop', 'continue_loop', 'save_unitary', 'save_amplitudes_sq', 'mcx', 'mcx_gray', 't', 'save_stabilizer', 'mcy', 'z', 'mcp', 's', 'delay', 'diagonal', 'save_statevector_dict', 'set_matrix_product_state', 'mcphase', 'csx', 'break_loop', 'sx', 'save_statevector', 'cp', 'reset', 'set_density_matrix', 'mcswap', 'ecr', 'save_expval_var', 'pauli', 'mcu', 'u2', 'save_density_matrix', 'cx', 'quantum_channel', 'initialize', 'mcrx', 'cu', 'p', 'ry', 'save_expval', 'mcrz', 'u1', 'sxdg', 'save_amplitudes', 'mcu2', 'ryy', 'y', 'cswap', 'rzz', 'tdg', 'mcr', 'save_clifford', 'ccx', 'x', 'h', 'mcz', 'while_loop', 'cz', 'save_probabilities', 'save_matrix_product_state', 'id', 'cu2', 'rz', 'for_loop', 'u', 'set_statevector', 'unitary', 'save_state', 'rxx', 'mcu1', 'qerror_loc', 'mcry', 'if_else', 'u3', 'mcsx', 'cu1', 'roerror', 'swap'])\n",
      "coupling_map: None\n"
     ]
    }
   ],
   "source": [
    "backend = AerSimulator()\n",
    "\n",
    "qubits_count = backend.target.num_qubits\n",
    "basis_gates = backend.target.operation_names\n",
    "coupling_map = backend.target.build_coupling_map()\n",
    "\n",
    "print(\"qubits_count:\", qubits_count)\n",
    "print(\"basis_gates:\", basis_gates)\n",
    "print(\"coupling_map:\", coupling_map)"
   ]
  },
  {
   "cell_type": "code",
   "execution_count": 4,
   "id": "d62d5576-6c76-4a54-947a-9a68195e917f",
   "metadata": {},
   "outputs": [],
   "source": [
    "# Constants\n",
    "\n",
    "AER_SIMULATOR_V13_COUPLING_MAP = None\n",
    "\n",
    "AER_SIMULATOR_V13_QUBITS_COUNT = 29\n",
    "\n",
    "AER_SIMULATOR_V13_BASIS_GATES = [\n",
    "    'break_loop', 'ccx', 'continue_loop', 'cp', 'cswap', 'csx', 'cu', 'cu1', 'cu2', 'cu3', 'cx', 'cy', 'cz', \n",
    "    'delay', 'diagonal', 'ecr', 'for_loop', 'h', 'id', 'if_else', 'initialize', 'kraus', \n",
    "    'mcp', 'mcphase', 'mcr', 'mcrx', 'mcry', 'mcrz', 'mcswap', 'mcsx', \n",
    "    'mcu', 'mcu1', 'mcu2', 'mcu3', 'mcx', 'mcx_gray', 'mcy', 'mcz', \n",
    "    'measure', 'multiplexer', 'p', 'pauli', 'qerror_loc', 'quantum_channel', 'r', 'reset', 'roerror', \n",
    "    'rx', 'rxx', 'ry', 'ryy', 'rz', 'rzx', 'rzz', 's', \n",
    "    'save_amplitudes', 'save_amplitudes_sq', 'save_clifford', 'save_density_matrix', 'save_expval', \n",
    "    'save_expval_var', 'save_matrix_product_state', 'save_probabilities', 'save_probabilities_dict', \n",
    "    'save_stabilizer', 'save_state', 'save_statevector', 'save_statevector_dict', 'save_superop', \n",
    "    'save_unitary', 'sdg', \n",
    "    'set_density_matrix', 'set_matrix_product_state', 'set_stabilizer', 'set_statevector', 'set_superop', \n",
    "    'set_unitary', 'superop', 'swap', 'switch_case', \n",
    "    'sx', 'sxdg', 't', 'tdg', 'u', 'u1', 'u2', 'u3', 'unitary', 'while_loop', 'x', 'y', 'z'\n",
    "]\n",
    "\n",
    "AER_SIMULATOR_V14_BASIS_GATES = [\n",
    "    'break_loop', 'ccx', 'continue_loop', 'cp', 'cswap', 'csx', 'cu', 'cu1', 'cu2', 'cu3', 'cx', 'cy', 'cz',\n",
    "    'ccz,'\n",
    "    'delay', 'diagonal', 'ecr', 'for_loop', 'h', 'id', 'if_else', 'initialize', 'kraus', \n",
    "    'mcp', 'mcphase', 'mcr', 'mcrx', 'mcry', 'mcrz', 'mcswap', 'mcsx', \n",
    "    'mcu', 'mcu1', 'mcu2', 'mcu3', 'mcx', 'mcx_gray', 'mcy', 'mcz', \n",
    "    'measure', 'multiplexer', 'p', 'pauli', 'qerror_loc', 'quantum_channel', 'r', 'reset', 'roerror', \n",
    "    'rx', 'rxx', 'ry', 'ryy', 'rz', 'rzx', 'rzz', 's', \n",
    "    'save_amplitudes', 'save_amplitudes_sq', 'save_clifford', 'save_density_matrix', 'save_expval', \n",
    "    'save_expval_var', 'save_matrix_product_state', 'save_probabilities', 'save_probabilities_dict', \n",
    "    'save_stabilizer', 'save_state', 'save_statevector', 'save_statevector_dict', 'save_superop', \n",
    "    'save_unitary', 'sdg', \n",
    "    'set_density_matrix', 'set_matrix_product_state', 'set_stabilizer', 'set_statevector', 'set_superop', \n",
    "    'set_unitary', 'superop', 'swap', 'switch_case', \n",
    "    'sx', 'sxdg', 't', 'tdg', 'u', 'u1', 'u2', 'u3', 'unitary', 'while_loop', 'x', 'y', 'z'\n",
    "]"
   ]
  },
  {
   "cell_type": "code",
   "execution_count": null,
   "id": "187dda43-bfcc-4a24-92f0-f4dc7990725f",
   "metadata": {},
   "outputs": [],
   "source": []
  },
  {
   "cell_type": "code",
   "execution_count": 5,
   "id": "a168985f-a56e-48ce-9aa2-fe0323ce3b74",
   "metadata": {},
   "outputs": [],
   "source": [
    "def model_from_ibmq_backend(backend):\n",
    "\n",
    "    \"\"\"\n",
    "    Create a machine model from an IBMQ backend.\n",
    "\n",
    "    Args:\n",
    "        backend: The IBMQ backend.\n",
    "\n",
    "    Returns:\n",
    "        MachineModel: The machine model representing the backend.\n",
    "    \"\"\"\n",
    "\n",
    "    # Based on https://github.com/BQSKit/bqskit/blob/main/bqskit/ext/qiskit/models.py\n",
    "\n",
    "    IBMQ_BASIS_GATES_LIMIT = 10\n",
    "\n",
    "    # Backend\n",
    "\n",
    "    if backend is None:\n",
    "        ibmq_backend = AerSimulator()\n",
    "    else:\n",
    "        ibmq_backend = backend\n",
    "\n",
    "    if isinstance(ibmq_backend, (qiskit.providers.BackendV1,\n",
    "                                 fake_backend.FakeBackend)):\n",
    "\n",
    "        print('IBMQ Backend Version 1')\n",
    "\n",
    "        qubits_count = ibmq_backend.configuration().n_qubits\n",
    "        basis_gates = ibmq_backend.configuration().basis_gates\n",
    "        coupling_map = ibmq_backend.configuration().coupling_map\n",
    "\n",
    "    if isinstance(ibmq_backend, (qiskit.providers.BackendV2,\n",
    "                                 fake_backend.FakeBackendV2)):\n",
    "\n",
    "        print('IBMQ Backend Version 2')\n",
    "\n",
    "        qubits_count = ibmq_backend.target.num_qubits\n",
    "        basis_gates = ibmq_backend.target.operation_names\n",
    "        coupling_map = ibmq_backend.target.build_coupling_map()\n",
    "\n",
    "    # Gate Set\n",
    "\n",
    "    gate_dict = {'cx': bqskit.ir.gates.CNOTGate(),\n",
    "                 'cz': bqskit.ir.gates.CZGate(),\n",
    "                 'u3': bqskit.ir.gates.U3Gate(),\n",
    "                 'u2': bqskit.ir.gates.U2Gate(),\n",
    "                 'u1': bqskit.ir.gates.U1Gate(),\n",
    "                 'rz': bqskit.ir.gates.RZGate(),\n",
    "                 'sx': bqskit.ir.gates.SXGate(),\n",
    "                 'x': bqskit.ir.gates.XGate(),\n",
    "                 'p': bqskit.ir.gates.RZGate()}\n",
    "\n",
    "    if len(basis_gates) > IBMQ_BASIS_GATES_LIMIT:\n",
    "\n",
    "        gate_set = {bqskit.ir.gates.CNOTGate(),\n",
    "                    bqskit.ir.gates.RZGate(),\n",
    "                    bqskit.ir.gates.SXGate()}\n",
    "    else:\n",
    "\n",
    "        gate_set = {gate_dict.get(basis_gate)\n",
    "                    for basis_gate in basis_gates} - {None}\n",
    "\n",
    "    # Coupling List\n",
    "\n",
    "    coupling_list = None\n",
    "\n",
    "    if coupling_map is not None:\n",
    "\n",
    "        coupling_list = list({tuple(sorted(edge)) for edge in coupling_map})\n",
    "\n",
    "    # Mashine Model\n",
    "\n",
    "    machine_model = bqskit.MachineModel(qubits_count, coupling_list, gate_set)\n",
    "\n",
    "    return machine_model"
   ]
  },
  {
   "cell_type": "code",
   "execution_count": 6,
   "id": "f79a30ec-5410-4468-a347-531abf604b3c",
   "metadata": {},
   "outputs": [
    {
     "name": "stdout",
     "output_type": "stream",
     "text": [
      "IBMQ Backend Version 2\n"
     ]
    },
    {
     "data": {
      "text/plain": [
       "<bqskit.compiler.machine.MachineModel at 0x7f48e69729b0>"
      ]
     },
     "execution_count": 6,
     "metadata": {},
     "output_type": "execute_result"
    }
   ],
   "source": [
    "model_from_ibmq_backend(backend)"
   ]
  },
  {
   "cell_type": "code",
   "execution_count": null,
   "id": "42f29896-24a2-4f55-8968-fbc12deda135",
   "metadata": {},
   "outputs": [],
   "source": []
  }
 ],
 "metadata": {
  "kernelspec": {
   "display_name": "Rivet_Release",
   "language": "python",
   "name": "rivet_release"
  },
  "language_info": {
   "codemirror_mode": {
    "name": "ipython",
    "version": 3
   },
   "file_extension": ".py",
   "mimetype": "text/x-python",
   "name": "python",
   "nbconvert_exporter": "python",
   "pygments_lexer": "ipython3",
   "version": "3.10.13"
  }
 },
 "nbformat": 4,
 "nbformat_minor": 5
}
