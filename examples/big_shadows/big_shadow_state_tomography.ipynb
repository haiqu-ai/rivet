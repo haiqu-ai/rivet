{
 "cells": [
  {
   "cell_type": "markdown",
   "id": "3ab8d635-377b-4e63-8309-3027badc7003",
   "metadata": {
    "id": "3ab8d635-377b-4e63-8309-3027badc7003"
   },
   "source": [
    "# Big Shadow State Tomography"
   ]
  },
  {
   "cell_type": "code",
   "execution_count": 43,
   "id": "97625d2b",
   "metadata": {},
   "outputs": [],
   "source": [
    "import numpy as np\n",
    "\n",
    "from time import time\n",
    "from tqdm import tqdm\n",
    "\n",
    "import qiskit\n",
    "\n",
    "from qiskit_aer import AerSimulator\n",
    "from qiskit.visualization import plot_gate_map \n",
    "\n",
    "from qiskit_ibm_runtime.fake_provider import FakeLimaV2\n",
    "from qiskit_ibm_runtime.fake_provider import FakeMontrealV2\n",
    "from qiskit_ibm_runtime.fake_provider import FakeKyiv\n",
    "\n",
    "from qiskit.circuit.random import random_circuit\n",
    "\n",
    "import matplotlib.pyplot as plt\n",
    "\n",
    "plt.style.use(\"dark_background\")\n",
    "\n",
    "%cd -q ../..\n",
    "\n",
    "from rivet_transpiler import transpile_right"
   ]
  },
  {
   "cell_type": "code",
   "execution_count": 46,
   "id": "e111a1c4",
   "metadata": {
    "id": "e111a1c4"
   },
   "outputs": [],
   "source": [
    "FAKE_BACKEND = FakeKyiv()\n",
    "\n",
    "backend = AerSimulator.from_backend(FAKE_BACKEND)\n",
    "\n",
    "backend.options.noise_model = None\n",
    "\n",
    "# qiskit.visualization.plot_gate_map(FAKE_BACKEND)"
   ]
  },
  {
   "cell_type": "markdown",
   "id": "540efa24-4f39-43b8-8cc0-1fd1bfe86170",
   "metadata": {
    "id": "540efa24-4f39-43b8-8cc0-1fd1bfe86170"
   },
   "source": [
    "#### 3.3. Functions"
   ]
  },
  {
   "cell_type": "code",
   "execution_count": 47,
   "id": "9d683330-3925-404f-a408-635995f978f5",
   "metadata": {
    "id": "9d683330-3925-404f-a408-635995f978f5"
   },
   "outputs": [],
   "source": [
    "def get_ghz_circuit(qubits_count):\n",
    "\n",
    "    qubits = list(range(qubits_count))\n",
    "\n",
    "    circuit = qiskit.QuantumCircuit(qubits_count)\n",
    "\n",
    "    circuit.h(0)\n",
    "\n",
    "    for control, target in zip(qubits, qubits[1:]):\n",
    "\n",
    "        circuit.cx(control, target)\n",
    "\n",
    "    return circuit"
   ]
  },
  {
   "cell_type": "code",
   "execution_count": 48,
   "id": "133ceed5-a2b3-4133-9f31-3b7fe58f416c",
   "metadata": {
    "id": "133ceed5-a2b3-4133-9f31-3b7fe58f416c"
   },
   "outputs": [],
   "source": [
    "def rotate_qubit_to_basis(circuit, qubit, basis):\n",
    "\n",
    "    if basis == \"X\":\n",
    "        circuit.h(qubit)\n",
    "\n",
    "    elif basis == \"Y\":\n",
    "        circuit.sdg(qubit)\n",
    "        circuit.h(qubit)\n",
    "\n",
    "    elif basis == \"Z\":\n",
    "        pass"
   ]
  },
  {
   "cell_type": "code",
   "execution_count": 49,
   "id": "1ef7c0a7-6b49-4da6-b8e5-082f72cc052b",
   "metadata": {
    "id": "1ef7c0a7-6b49-4da6-b8e5-082f72cc052b"
   },
   "outputs": [],
   "source": [
    "def build_bases_rotation_circuit(bases):\n",
    "\n",
    "    qubits_count = len(bases)\n",
    "\n",
    "    circuit = qiskit.QuantumCircuit(qubits_count)\n",
    "\n",
    "    for qubit, basis in enumerate(bases):\n",
    "\n",
    "        if basis == \"X\":\n",
    "            circuit.h(qubit)\n",
    "\n",
    "        elif basis == \"Y\":\n",
    "            circuit.sdg(qubit)\n",
    "            circuit.h(qubit)\n",
    "\n",
    "        elif basis == \"Z\":\n",
    "            pass\n",
    "\n",
    "    return circuit"
   ]
  },
  {
   "cell_type": "code",
   "execution_count": 50,
   "id": "f4f09362-be50-4258-9099-509da33c3a95",
   "metadata": {
    "id": "f4f09362-be50-4258-9099-509da33c3a95"
   },
   "outputs": [],
   "source": [
    "def get_inverted_channel(channel, qubits_count):\n",
    "\n",
    "    identity = np.eye(2 ** qubits_count)\n",
    "\n",
    "    inverted_channel = (2 ** qubits_count + 1) * channel - identity\n",
    "\n",
    "    return inverted_channel"
   ]
  },
  {
   "cell_type": "code",
   "execution_count": 51,
   "id": "926c81fe-dcc9-4b40-9784-31bc98d1d411",
   "metadata": {
    "id": "926c81fe-dcc9-4b40-9784-31bc98d1d411"
   },
   "outputs": [],
   "source": [
    "def get_basis_unitary(basis):\n",
    "\n",
    "    if basis == \"X\":\n",
    "        unitary = 1/np.sqrt(2) * np.array([[1.,1.],\n",
    "                                           [1.,-1.]])\n",
    "    elif basis == \"Y\":\n",
    "        unitary = 1/np.sqrt(2) * np.array([[1.,-1.0j],\n",
    "                                           [1.,1.j]])\n",
    "    elif basis == \"Z\":\n",
    "        unitary = np.eye(2)\n",
    "\n",
    "    return unitary"
   ]
  },
  {
   "cell_type": "code",
   "execution_count": 52,
   "id": "12e78ecf-98b3-4e7d-ae79-946ab79dff05",
   "metadata": {
    "id": "12e78ecf-98b3-4e7d-ae79-946ab79dff05"
   },
   "outputs": [],
   "source": [
    "def get_mean_square_error(a, b):\n",
    "\n",
    "    mean_square_error = np.abs(((a - b) ** 2).mean())\n",
    "\n",
    "    return mean_square_error"
   ]
  },
  {
   "cell_type": "markdown",
   "id": "b3dbd0fd-3cb0-40c1-a764-0a843b884e53",
   "metadata": {
    "id": "b3dbd0fd-3cb0-40c1-a764-0a843b884e53"
   },
   "source": [
    "### Circuit"
   ]
  },
  {
   "cell_type": "code",
   "execution_count": 53,
   "id": "90eb621b-708b-4b95-8aae-5b505db8da5f",
   "metadata": {
    "id": "90eb621b-708b-4b95-8aae-5b505db8da5f"
   },
   "outputs": [],
   "source": [
    "QUBITS_COUNT = 3\n",
    "SU2_LAYERS_COUNT = 10\n",
    "PARAMETRIZATION_RATIO = 0.25\n",
    "\n",
    "OPTIMIZATION_LEVEL = 3\n",
    "\n",
    "SEED = 1234"
   ]
  },
  {
   "cell_type": "code",
   "execution_count": 54,
   "id": "a1e88da4-fe0c-4326-b167-a47075b4c939",
   "metadata": {
    "id": "a1e88da4-fe0c-4326-b167-a47075b4c939"
   },
   "outputs": [],
   "source": [
    "qubits = list(range(QUBITS_COUNT))\n",
    "\n",
    "rng = np.random.default_rng(SEED) "
   ]
  },
  {
   "cell_type": "markdown",
   "id": "cd5e4f25-7d2e-41ea-8f60-693a2976c1a6",
   "metadata": {
    "id": "cd5e4f25-7d2e-41ea-8f60-693a2976c1a6",
    "tags": []
   },
   "source": [
    "#### 4.1.2.  Parametrized SU2 Circuit"
   ]
  },
  {
   "cell_type": "code",
   "execution_count": 56,
   "id": "7ae1b32f-4006-4aec-b370-e3a59aec5cae",
   "metadata": {
    "id": "7ae1b32f-4006-4aec-b370-e3a59aec5cae",
    "tags": []
   },
   "outputs": [
    {
     "name": "stdout",
     "output_type": "stream",
     "text": [
      "circuit.depth(): 100\n"
     ]
    },
    {
     "data": {
      "text/html": [
       "<pre style=\"word-wrap: normal;white-space: pre;background: #fff0;line-height: 1.1;font-family: &quot;Courier New&quot;,Courier,monospace\">     ┌─────────┐┌─────────┐┌─────────┐┌─────────┐┌─────────┐┌─────────┐┌─────────┐┌─────────┐┌─────────┐┌─────────┐┌─────────┐┌─────────┐┌─────────┐┌─────────┐┌─────────┐┌─────────┐┌─────────┐┌─────────┐┌─────────┐┌─────────┐┌─────────┐┌─────────┐┌─────────┐┌─────────┐┌─────────┐┌─────────┐┌─────────┐┌─────────┐┌─────────┐┌─────────┐┌─────────────┐┌─────────────┐     ┌─────────────┐┌─────────────┐                    ┌─────────────┐┌─────────────┐                     ┌───────────┐┌─────────────┐                    ┌─────────────┐┌─────────────┐                    ┌─────────────┐┌─────────────┐                    ┌─────────────┐┌─────────────┐                     ┌─────────────┐┌─────────────┐                     ┌─────────────┐┌─────────────┐                    ┌─────────────┐┌─────────────┐                      ┌─────────┐┌─────────┐┌─────────┐┌─────────┐┌─────────┐┌─────────┐┌─────────┐┌─────────┐┌─────────┐┌─────────┐┌─────────┐┌─────────┐┌─────────┐┌─────────┐┌─────────┐┌─────────┐┌─────────┐┌─────────┐┌─────────┐┌─────────┐┌─────────┐┌─────────┐┌─────────┐┌─────────┐┌─────────┐┌─────────┐┌─────────┐┌─────────┐┌─────────┐┌─────────┐           \n",
       "q_0: ┤ Rz(0.5) ├┤ Rz(0.5) ├┤ Rz(0.5) ├┤ Rz(0.5) ├┤ Rz(0.5) ├┤ Rz(0.5) ├┤ Rz(0.5) ├┤ Rz(0.5) ├┤ Rz(0.5) ├┤ Rz(0.5) ├┤ Rz(0.5) ├┤ Rz(0.5) ├┤ Rz(0.5) ├┤ Rz(0.5) ├┤ Rz(0.5) ├┤ Rz(0.5) ├┤ Rz(0.5) ├┤ Rz(0.5) ├┤ Rz(0.5) ├┤ Rz(0.5) ├┤ Rz(0.5) ├┤ Rz(0.5) ├┤ Rz(0.5) ├┤ Rz(0.5) ├┤ Rz(0.5) ├┤ Rz(0.5) ├┤ Rz(0.5) ├┤ Rz(0.5) ├┤ Rz(0.5) ├┤ Rz(0.5) ├┤ Ry(0.57391) ├┤ Rz(0.54782) ├──■──┤ Ry(0.73837) ├┤ Rz(0.52102) ├─────────────────■──┤ Ry(0.83408) ├┤ Rz(0.97687) ├──────────────────■──┤ Ry(0.967) ├┤ Rz(0.34313) ├─────────────────■──┤ Ry(0.56636) ├┤ Rz(0.66133) ├─────────────────■──┤ Ry(0.42638) ├┤ Rz(0.72822) ├─────────────────■──┤ Ry(0.90263) ├┤ Rz(0.67058) ├──────────────────■──┤ Ry(0.92273) ├┤ Rz(0.77582) ├──────────────────■──┤ Ry(0.93515) ├┤ Rz(0.57168) ├─────────────────■──┤ Ry(0.99905) ├┤ Rz(0.93654) ├───────────────────■──┤ Rz(1.5) ├┤ Rz(1.5) ├┤ Rz(1.5) ├┤ Rz(1.5) ├┤ Rz(1.5) ├┤ Rz(1.5) ├┤ Rz(1.5) ├┤ Rz(1.5) ├┤ Rz(1.5) ├┤ Rz(1.5) ├┤ Rz(1.5) ├┤ Rz(1.5) ├┤ Rz(1.5) ├┤ Rz(1.5) ├┤ Rz(1.5) ├┤ Rz(1.5) ├┤ Rz(1.5) ├┤ Rz(1.5) ├┤ Rz(1.5) ├┤ Rz(1.5) ├┤ Rz(1.5) ├┤ Rz(1.5) ├┤ Rz(1.5) ├┤ Rz(1.5) ├┤ Rz(1.5) ├┤ Rz(1.5) ├┤ Rz(1.5) ├┤ Rz(1.5) ├┤ Rz(1.5) ├┤ Rz(1.5) ├───────────\n",
       "     ├─────────┤├─────────┤├─────────┤├─────────┤├─────────┤├─────────┤├─────────┤├─────────┤├─────────┤├─────────┤├─────────┤├─────────┤├─────────┤├─────────┤├─────────┤├─────────┤├─────────┤├─────────┤├─────────┤├─────────┤├─────────┤├─────────┤├─────────┤├─────────┤├─────────┤├─────────┤├─────────┤├─────────┤├─────────┤├─────────┤├─────────────┤├─────────────┤┌─┴─┐└─────────────┘├─────────────┤┌─────────────┐┌─┴─┐└─────────────┘├─────────────┴┐┌─────────────┐┌─┴─┐└───────────┘└┬────────────┤┌─────────────┐┌─┴─┐└─────────────┘├─────────────┤┌─────────────┐┌─┴─┐└─────────────┘├─────────────┤┌─────────────┐┌─┴─┐└─────────────┘├─────────────┤┌──────────────┐┌─┴─┐└─────────────┘└┬────────────┤ ┌─────────────┐┌─┴─┐└─────────────┘├─────────────┤┌─────────────┐┌─┴─┐└─────────────┘├─────────────┴┐┌──────────────┐┌─┴─┐└─────────┘├─────────┤├─────────┤├─────────┤├─────────┤├─────────┤├─────────┤├─────────┤├─────────┤├─────────┤├─────────┤├─────────┤├─────────┤├─────────┤├─────────┤├─────────┤├─────────┤├─────────┤├─────────┤├─────────┤├─────────┤├─────────┤├─────────┤├─────────┤├─────────┤├─────────┤├─────────┤├─────────┤├─────────┤├─────────┤┌─────────┐\n",
       "q_1: ┤ Rz(0.5) ├┤ Rz(0.5) ├┤ Rz(0.5) ├┤ Rz(0.5) ├┤ Rz(0.5) ├┤ Rz(0.5) ├┤ Rz(0.5) ├┤ Rz(0.5) ├┤ Rz(0.5) ├┤ Rz(0.5) ├┤ Rz(0.5) ├┤ Rz(0.5) ├┤ Rz(0.5) ├┤ Rz(0.5) ├┤ Rz(0.5) ├┤ Rz(0.5) ├┤ Rz(0.5) ├┤ Rz(0.5) ├┤ Rz(0.5) ├┤ Rz(0.5) ├┤ Rz(0.5) ├┤ Rz(0.5) ├┤ Rz(0.5) ├┤ Rz(0.5) ├┤ Rz(0.5) ├┤ Rz(0.5) ├┤ Rz(0.5) ├┤ Rz(0.5) ├┤ Rz(0.5) ├┤ Rz(0.5) ├┤ Ry(0.31467) ├┤ Rz(0.41545) ├┤ X ├───────■───────┤ Ry(0.56575) ├┤ Rz(0.41309) ├┤ X ├───────■───────┤ Ry(0.018637) ├┤ Rz(0.39632) ├┤ X ├──────■───────┤ Ry(0.2144) ├┤ Rz(0.19152) ├┤ X ├───────■───────┤ Ry(0.50235) ├┤ Rz(0.89322) ├┤ X ├───────■───────┤ Ry(0.11754) ├┤ Rz(0.57488) ├┤ X ├───────■───────┤ Ry(0.45439) ├┤ Rz(0.025232) ├┤ X ├───────■────────┤ Ry(0.2201) ├─┤ Rz(0.32699) ├┤ X ├───────■───────┤ Ry(0.26276) ├┤ Rz(0.44238) ├┤ X ├───────■───────┤ Ry(0.025564) ├┤ Rz(0.067504) ├┤ X ├─────■─────┤ Rz(1.5) ├┤ Rz(1.5) ├┤ Rz(1.5) ├┤ Rz(1.5) ├┤ Rz(1.5) ├┤ Rz(1.5) ├┤ Rz(1.5) ├┤ Rz(1.5) ├┤ Rz(1.5) ├┤ Rz(1.5) ├┤ Rz(1.5) ├┤ Rz(1.5) ├┤ Rz(1.5) ├┤ Rz(1.5) ├┤ Rz(1.5) ├┤ Rz(1.5) ├┤ Rz(1.5) ├┤ Rz(1.5) ├┤ Rz(1.5) ├┤ Rz(1.5) ├┤ Rz(1.5) ├┤ Rz(1.5) ├┤ Rz(1.5) ├┤ Rz(1.5) ├┤ Rz(1.5) ├┤ Rz(1.5) ├┤ Rz(1.5) ├┤ Rz(1.5) ├┤ Rz(1.5) ├┤ Rz(1.5) ├\n",
       "     ├─────────┤├─────────┤├─────────┤├─────────┤├─────────┤├─────────┤├─────────┤├─────────┤├─────────┤├─────────┤├─────────┤├─────────┤├─────────┤├─────────┤├─────────┤├─────────┤├─────────┤├─────────┤├─────────┤├─────────┤├─────────┤├─────────┤├─────────┤├─────────┤├─────────┤├─────────┤├─────────┤├─────────┤├─────────┤├─────────┤├─────────────┤├─────────────┤└───┘     ┌─┴─┐     ├─────────────┤├─────────────┤└───┘     ┌─┴─┐     ├──────────────┤├─────────────┤└───┘    ┌─┴─┐    ┌┴────────────┤├─────────────┤└───┘     ┌─┴─┐     ├─────────────┤└┬────────────┤└───┘     ┌─┴─┐     ├─────────────┤├─────────────┤└───┘     ┌─┴─┐     ├─────────────┤├─────────────┬┘└───┘     ┌─┴─┐     ┌┴────────────┴┐├─────────────┤└───┘     ┌─┴─┐     ├─────────────┤├─────────────┤└───┘     ┌─┴─┐     ├─────────────┬┘├─────────────┬┘└───┘   ┌─┴─┐   ├─────────┤├─────────┤├─────────┤├─────────┤├─────────┤├─────────┤├─────────┤├─────────┤├─────────┤├─────────┤├─────────┤├─────────┤├─────────┤├─────────┤├─────────┤├─────────┤├─────────┤├─────────┤├─────────┤├─────────┤├─────────┤├─────────┤├─────────┤├─────────┤├─────────┤├─────────┤├─────────┤├─────────┤├─────────┤├─────────┤\n",
       "q_2: ┤ Rz(0.5) ├┤ Rz(0.5) ├┤ Rz(0.5) ├┤ Rz(0.5) ├┤ Rz(0.5) ├┤ Rz(0.5) ├┤ Rz(0.5) ├┤ Rz(0.5) ├┤ Rz(0.5) ├┤ Rz(0.5) ├┤ Rz(0.5) ├┤ Rz(0.5) ├┤ Rz(0.5) ├┤ Rz(0.5) ├┤ Rz(0.5) ├┤ Rz(0.5) ├┤ Rz(0.5) ├┤ Rz(0.5) ├┤ Rz(0.5) ├┤ Rz(0.5) ├┤ Rz(0.5) ├┤ Rz(0.5) ├┤ Rz(0.5) ├┤ Rz(0.5) ├┤ Rz(0.5) ├┤ Rz(0.5) ├┤ Rz(0.5) ├┤ Rz(0.5) ├┤ Rz(0.5) ├┤ Rz(0.5) ├┤ Ry(0.88044) ├┤ Rz(0.34599) ├──────────┤ X ├─────┤ Ry(0.10082) ├┤ Rz(0.77181) ├──────────┤ X ├─────┤ Ry(0.064119) ├┤ Rz(0.97345) ├─────────┤ X ├────┤ Ry(0.33365) ├┤ Rz(0.68209) ├──────────┤ X ├─────┤ Ry(0.44002) ├─┤ Rz(0.3762) ├──────────┤ X ├─────┤ Ry(0.66269) ├┤ Rz(0.85014) ├──────────┤ X ├─────┤ Ry(0.87463) ├┤ Rz(0.84422) ├───────────┤ X ├─────┤ Ry(0.079526) ├┤ Rz(0.61324) ├──────────┤ X ├─────┤ Ry(0.71285) ├┤ Rz(0.91093) ├──────────┤ X ├─────┤ Ry(0.70433) ├─┤ Rz(0.44453) ├─────────┤ X ├───┤ Rz(1.5) ├┤ Rz(1.5) ├┤ Rz(1.5) ├┤ Rz(1.5) ├┤ Rz(1.5) ├┤ Rz(1.5) ├┤ Rz(1.5) ├┤ Rz(1.5) ├┤ Rz(1.5) ├┤ Rz(1.5) ├┤ Rz(1.5) ├┤ Rz(1.5) ├┤ Rz(1.5) ├┤ Rz(1.5) ├┤ Rz(1.5) ├┤ Rz(1.5) ├┤ Rz(1.5) ├┤ Rz(1.5) ├┤ Rz(1.5) ├┤ Rz(1.5) ├┤ Rz(1.5) ├┤ Rz(1.5) ├┤ Rz(1.5) ├┤ Rz(1.5) ├┤ Rz(1.5) ├┤ Rz(1.5) ├┤ Rz(1.5) ├┤ Rz(1.5) ├┤ Rz(1.5) ├┤ Rz(1.5) ├\n",
       "     └─────────┘└─────────┘└─────────┘└─────────┘└─────────┘└─────────┘└─────────┘└─────────┘└─────────┘└─────────┘└─────────┘└─────────┘└─────────┘└─────────┘└─────────┘└─────────┘└─────────┘└─────────┘└─────────┘└─────────┘└─────────┘└─────────┘└─────────┘└─────────┘└─────────┘└─────────┘└─────────┘└─────────┘└─────────┘└─────────┘└─────────────┘└─────────────┘          └───┘     └─────────────┘└─────────────┘          └───┘     └──────────────┘└─────────────┘         └───┘    └─────────────┘└─────────────┘          └───┘     └─────────────┘ └────────────┘          └───┘     └─────────────┘└─────────────┘          └───┘     └─────────────┘└─────────────┘           └───┘     └──────────────┘└─────────────┘          └───┘     └─────────────┘└─────────────┘          └───┘     └─────────────┘ └─────────────┘         └───┘   └─────────┘└─────────┘└─────────┘└─────────┘└─────────┘└─────────┘└─────────┘└─────────┘└─────────┘└─────────┘└─────────┘└─────────┘└─────────┘└─────────┘└─────────┘└─────────┘└─────────┘└─────────┘└─────────┘└─────────┘└─────────┘└─────────┘└─────────┘└─────────┘└─────────┘└─────────┘└─────────┘└─────────┘└─────────┘└─────────┘</pre>"
      ],
      "text/plain": [
       "     ┌─────────┐┌─────────┐┌─────────┐┌─────────┐┌─────────┐┌─────────┐┌─────────┐┌─────────┐┌─────────┐┌─────────┐┌─────────┐┌─────────┐┌─────────┐┌─────────┐┌─────────┐┌─────────┐┌─────────┐┌─────────┐┌─────────┐┌─────────┐┌─────────┐┌─────────┐┌─────────┐┌─────────┐┌─────────┐┌─────────┐┌─────────┐┌─────────┐┌─────────┐┌─────────┐┌─────────────┐┌─────────────┐     ┌─────────────┐┌─────────────┐                    ┌─────────────┐┌─────────────┐                     ┌───────────┐┌─────────────┐                    ┌─────────────┐┌─────────────┐                    ┌─────────────┐┌─────────────┐                    ┌─────────────┐┌─────────────┐                     ┌─────────────┐┌─────────────┐                     ┌─────────────┐┌─────────────┐                    ┌─────────────┐┌─────────────┐                      ┌─────────┐┌─────────┐┌─────────┐┌─────────┐┌─────────┐┌─────────┐┌─────────┐┌─────────┐┌─────────┐┌─────────┐┌─────────┐┌─────────┐┌─────────┐┌─────────┐┌─────────┐┌─────────┐┌─────────┐┌─────────┐┌─────────┐┌─────────┐┌─────────┐┌─────────┐┌─────────┐┌─────────┐┌─────────┐┌─────────┐┌─────────┐┌─────────┐┌─────────┐┌─────────┐           \n",
       "q_0: ┤ Rz(0.5) ├┤ Rz(0.5) ├┤ Rz(0.5) ├┤ Rz(0.5) ├┤ Rz(0.5) ├┤ Rz(0.5) ├┤ Rz(0.5) ├┤ Rz(0.5) ├┤ Rz(0.5) ├┤ Rz(0.5) ├┤ Rz(0.5) ├┤ Rz(0.5) ├┤ Rz(0.5) ├┤ Rz(0.5) ├┤ Rz(0.5) ├┤ Rz(0.5) ├┤ Rz(0.5) ├┤ Rz(0.5) ├┤ Rz(0.5) ├┤ Rz(0.5) ├┤ Rz(0.5) ├┤ Rz(0.5) ├┤ Rz(0.5) ├┤ Rz(0.5) ├┤ Rz(0.5) ├┤ Rz(0.5) ├┤ Rz(0.5) ├┤ Rz(0.5) ├┤ Rz(0.5) ├┤ Rz(0.5) ├┤ Ry(0.57391) ├┤ Rz(0.54782) ├──■──┤ Ry(0.73837) ├┤ Rz(0.52102) ├─────────────────■──┤ Ry(0.83408) ├┤ Rz(0.97687) ├──────────────────■──┤ Ry(0.967) ├┤ Rz(0.34313) ├─────────────────■──┤ Ry(0.56636) ├┤ Rz(0.66133) ├─────────────────■──┤ Ry(0.42638) ├┤ Rz(0.72822) ├─────────────────■──┤ Ry(0.90263) ├┤ Rz(0.67058) ├──────────────────■──┤ Ry(0.92273) ├┤ Rz(0.77582) ├──────────────────■──┤ Ry(0.93515) ├┤ Rz(0.57168) ├─────────────────■──┤ Ry(0.99905) ├┤ Rz(0.93654) ├───────────────────■──┤ Rz(1.5) ├┤ Rz(1.5) ├┤ Rz(1.5) ├┤ Rz(1.5) ├┤ Rz(1.5) ├┤ Rz(1.5) ├┤ Rz(1.5) ├┤ Rz(1.5) ├┤ Rz(1.5) ├┤ Rz(1.5) ├┤ Rz(1.5) ├┤ Rz(1.5) ├┤ Rz(1.5) ├┤ Rz(1.5) ├┤ Rz(1.5) ├┤ Rz(1.5) ├┤ Rz(1.5) ├┤ Rz(1.5) ├┤ Rz(1.5) ├┤ Rz(1.5) ├┤ Rz(1.5) ├┤ Rz(1.5) ├┤ Rz(1.5) ├┤ Rz(1.5) ├┤ Rz(1.5) ├┤ Rz(1.5) ├┤ Rz(1.5) ├┤ Rz(1.5) ├┤ Rz(1.5) ├┤ Rz(1.5) ├───────────\n",
       "     ├─────────┤├─────────┤├─────────┤├─────────┤├─────────┤├─────────┤├─────────┤├─────────┤├─────────┤├─────────┤├─────────┤├─────────┤├─────────┤├─────────┤├─────────┤├─────────┤├─────────┤├─────────┤├─────────┤├─────────┤├─────────┤├─────────┤├─────────┤├─────────┤├─────────┤├─────────┤├─────────┤├─────────┤├─────────┤├─────────┤├─────────────┤├─────────────┤┌─┴─┐└─────────────┘├─────────────┤┌─────────────┐┌─┴─┐└─────────────┘├─────────────┴┐┌─────────────┐┌─┴─┐└───────────┘└┬────────────┤┌─────────────┐┌─┴─┐└─────────────┘├─────────────┤┌─────────────┐┌─┴─┐└─────────────┘├─────────────┤┌─────────────┐┌─┴─┐└─────────────┘├─────────────┤┌──────────────┐┌─┴─┐└─────────────┘└┬────────────┤ ┌─────────────┐┌─┴─┐└─────────────┘├─────────────┤┌─────────────┐┌─┴─┐└─────────────┘├─────────────┴┐┌──────────────┐┌─┴─┐└─────────┘├─────────┤├─────────┤├─────────┤├─────────┤├─────────┤├─────────┤├─────────┤├─────────┤├─────────┤├─────────┤├─────────┤├─────────┤├─────────┤├─────────┤├─────────┤├─────────┤├─────────┤├─────────┤├─────────┤├─────────┤├─────────┤├─────────┤├─────────┤├─────────┤├─────────┤├─────────┤├─────────┤├─────────┤├─────────┤┌─────────┐\n",
       "q_1: ┤ Rz(0.5) ├┤ Rz(0.5) ├┤ Rz(0.5) ├┤ Rz(0.5) ├┤ Rz(0.5) ├┤ Rz(0.5) ├┤ Rz(0.5) ├┤ Rz(0.5) ├┤ Rz(0.5) ├┤ Rz(0.5) ├┤ Rz(0.5) ├┤ Rz(0.5) ├┤ Rz(0.5) ├┤ Rz(0.5) ├┤ Rz(0.5) ├┤ Rz(0.5) ├┤ Rz(0.5) ├┤ Rz(0.5) ├┤ Rz(0.5) ├┤ Rz(0.5) ├┤ Rz(0.5) ├┤ Rz(0.5) ├┤ Rz(0.5) ├┤ Rz(0.5) ├┤ Rz(0.5) ├┤ Rz(0.5) ├┤ Rz(0.5) ├┤ Rz(0.5) ├┤ Rz(0.5) ├┤ Rz(0.5) ├┤ Ry(0.31467) ├┤ Rz(0.41545) ├┤ X ├───────■───────┤ Ry(0.56575) ├┤ Rz(0.41309) ├┤ X ├───────■───────┤ Ry(0.018637) ├┤ Rz(0.39632) ├┤ X ├──────■───────┤ Ry(0.2144) ├┤ Rz(0.19152) ├┤ X ├───────■───────┤ Ry(0.50235) ├┤ Rz(0.89322) ├┤ X ├───────■───────┤ Ry(0.11754) ├┤ Rz(0.57488) ├┤ X ├───────■───────┤ Ry(0.45439) ├┤ Rz(0.025232) ├┤ X ├───────■────────┤ Ry(0.2201) ├─┤ Rz(0.32699) ├┤ X ├───────■───────┤ Ry(0.26276) ├┤ Rz(0.44238) ├┤ X ├───────■───────┤ Ry(0.025564) ├┤ Rz(0.067504) ├┤ X ├─────■─────┤ Rz(1.5) ├┤ Rz(1.5) ├┤ Rz(1.5) ├┤ Rz(1.5) ├┤ Rz(1.5) ├┤ Rz(1.5) ├┤ Rz(1.5) ├┤ Rz(1.5) ├┤ Rz(1.5) ├┤ Rz(1.5) ├┤ Rz(1.5) ├┤ Rz(1.5) ├┤ Rz(1.5) ├┤ Rz(1.5) ├┤ Rz(1.5) ├┤ Rz(1.5) ├┤ Rz(1.5) ├┤ Rz(1.5) ├┤ Rz(1.5) ├┤ Rz(1.5) ├┤ Rz(1.5) ├┤ Rz(1.5) ├┤ Rz(1.5) ├┤ Rz(1.5) ├┤ Rz(1.5) ├┤ Rz(1.5) ├┤ Rz(1.5) ├┤ Rz(1.5) ├┤ Rz(1.5) ├┤ Rz(1.5) ├\n",
       "     ├─────────┤├─────────┤├─────────┤├─────────┤├─────────┤├─────────┤├─────────┤├─────────┤├─────────┤├─────────┤├─────────┤├─────────┤├─────────┤├─────────┤├─────────┤├─────────┤├─────────┤├─────────┤├─────────┤├─────────┤├─────────┤├─────────┤├─────────┤├─────────┤├─────────┤├─────────┤├─────────┤├─────────┤├─────────┤├─────────┤├─────────────┤├─────────────┤└───┘     ┌─┴─┐     ├─────────────┤├─────────────┤└───┘     ┌─┴─┐     ├──────────────┤├─────────────┤└───┘    ┌─┴─┐    ┌┴────────────┤├─────────────┤└───┘     ┌─┴─┐     ├─────────────┤└┬────────────┤└───┘     ┌─┴─┐     ├─────────────┤├─────────────┤└───┘     ┌─┴─┐     ├─────────────┤├─────────────┬┘└───┘     ┌─┴─┐     ┌┴────────────┴┐├─────────────┤└───┘     ┌─┴─┐     ├─────────────┤├─────────────┤└───┘     ┌─┴─┐     ├─────────────┬┘├─────────────┬┘└───┘   ┌─┴─┐   ├─────────┤├─────────┤├─────────┤├─────────┤├─────────┤├─────────┤├─────────┤├─────────┤├─────────┤├─────────┤├─────────┤├─────────┤├─────────┤├─────────┤├─────────┤├─────────┤├─────────┤├─────────┤├─────────┤├─────────┤├─────────┤├─────────┤├─────────┤├─────────┤├─────────┤├─────────┤├─────────┤├─────────┤├─────────┤├─────────┤\n",
       "q_2: ┤ Rz(0.5) ├┤ Rz(0.5) ├┤ Rz(0.5) ├┤ Rz(0.5) ├┤ Rz(0.5) ├┤ Rz(0.5) ├┤ Rz(0.5) ├┤ Rz(0.5) ├┤ Rz(0.5) ├┤ Rz(0.5) ├┤ Rz(0.5) ├┤ Rz(0.5) ├┤ Rz(0.5) ├┤ Rz(0.5) ├┤ Rz(0.5) ├┤ Rz(0.5) ├┤ Rz(0.5) ├┤ Rz(0.5) ├┤ Rz(0.5) ├┤ Rz(0.5) ├┤ Rz(0.5) ├┤ Rz(0.5) ├┤ Rz(0.5) ├┤ Rz(0.5) ├┤ Rz(0.5) ├┤ Rz(0.5) ├┤ Rz(0.5) ├┤ Rz(0.5) ├┤ Rz(0.5) ├┤ Rz(0.5) ├┤ Ry(0.88044) ├┤ Rz(0.34599) ├──────────┤ X ├─────┤ Ry(0.10082) ├┤ Rz(0.77181) ├──────────┤ X ├─────┤ Ry(0.064119) ├┤ Rz(0.97345) ├─────────┤ X ├────┤ Ry(0.33365) ├┤ Rz(0.68209) ├──────────┤ X ├─────┤ Ry(0.44002) ├─┤ Rz(0.3762) ├──────────┤ X ├─────┤ Ry(0.66269) ├┤ Rz(0.85014) ├──────────┤ X ├─────┤ Ry(0.87463) ├┤ Rz(0.84422) ├───────────┤ X ├─────┤ Ry(0.079526) ├┤ Rz(0.61324) ├──────────┤ X ├─────┤ Ry(0.71285) ├┤ Rz(0.91093) ├──────────┤ X ├─────┤ Ry(0.70433) ├─┤ Rz(0.44453) ├─────────┤ X ├───┤ Rz(1.5) ├┤ Rz(1.5) ├┤ Rz(1.5) ├┤ Rz(1.5) ├┤ Rz(1.5) ├┤ Rz(1.5) ├┤ Rz(1.5) ├┤ Rz(1.5) ├┤ Rz(1.5) ├┤ Rz(1.5) ├┤ Rz(1.5) ├┤ Rz(1.5) ├┤ Rz(1.5) ├┤ Rz(1.5) ├┤ Rz(1.5) ├┤ Rz(1.5) ├┤ Rz(1.5) ├┤ Rz(1.5) ├┤ Rz(1.5) ├┤ Rz(1.5) ├┤ Rz(1.5) ├┤ Rz(1.5) ├┤ Rz(1.5) ├┤ Rz(1.5) ├┤ Rz(1.5) ├┤ Rz(1.5) ├┤ Rz(1.5) ├┤ Rz(1.5) ├┤ Rz(1.5) ├┤ Rz(1.5) ├\n",
       "     └─────────┘└─────────┘└─────────┘└─────────┘└─────────┘└─────────┘└─────────┘└─────────┘└─────────┘└─────────┘└─────────┘└─────────┘└─────────┘└─────────┘└─────────┘└─────────┘└─────────┘└─────────┘└─────────┘└─────────┘└─────────┘└─────────┘└─────────┘└─────────┘└─────────┘└─────────┘└─────────┘└─────────┘└─────────┘└─────────┘└─────────────┘└─────────────┘          └───┘     └─────────────┘└─────────────┘          └───┘     └──────────────┘└─────────────┘         └───┘    └─────────────┘└─────────────┘          └───┘     └─────────────┘ └────────────┘          └───┘     └─────────────┘└─────────────┘          └───┘     └─────────────┘└─────────────┘           └───┘     └──────────────┘└─────────────┘          └───┘     └─────────────┘└─────────────┘          └───┘     └─────────────┘ └─────────────┘         └───┘   └─────────┘└─────────┘└─────────┘└─────────┘└─────────┘└─────────┘└─────────┘└─────────┘└─────────┘└─────────┘└─────────┘└─────────┘└─────────┘└─────────┘└─────────┘└─────────┘└─────────┘└─────────┘└─────────┘└─────────┘└─────────┘└─────────┘└─────────┘└─────────┘└─────────┘└─────────┘└─────────┘└─────────┘└─────────┘└─────────┘"
      ]
     },
     "execution_count": 56,
     "metadata": {},
     "output_type": "execute_result"
    }
   ],
   "source": [
    "# Non-Parametrized Part\n",
    "\n",
    "left_part = qiskit.QuantumCircuit(QUBITS_COUNT)\n",
    "right_part = qiskit.QuantumCircuit(QUBITS_COUNT)\n",
    "\n",
    "non_parametrized_layers_count = SU2_LAYERS_COUNT * 2 * (1 / PARAMETRIZATION_RATIO - 1)\n",
    "\n",
    "non_parametrized_layers_count = int(non_parametrized_layers_count)\n",
    "\n",
    "for left_layer in range(non_parametrized_layers_count // 2):\n",
    "    left_part.rz(0.5, qubits)\n",
    "    \n",
    "for right_layer in range(non_parametrized_layers_count // 2):\n",
    "    right_part.rz(1.5, qubits)   \n",
    "    \n",
    "# Parametrized Part\n",
    "\n",
    "parametrized_part = qiskit.circuit.library.EfficientSU2(\n",
    "    num_qubits=QUBITS_COUNT,\n",
    "    reps=SU2_LAYERS_COUNT,\n",
    "    entanglement=\"linear\",\n",
    "    skip_final_rotation_layer=True\n",
    ")\n",
    "\n",
    "# Compose Parts\n",
    "\n",
    "parametrized_part = parametrized_part.decompose()\n",
    "\n",
    "parametrized_circuit = parametrized_part.compose(left_part, front=True)\n",
    "parametrized_circuit = parametrized_circuit.compose(right_part)\n",
    "\n",
    "# Bind Parameters\n",
    "\n",
    "random_parameters = np.random.rand(parametrized_circuit.num_parameters)\n",
    "\n",
    "circuit = parametrized_circuit.assign_parameters(random_parameters)\n",
    "\n",
    "print(\"circuit.depth():\", circuit.depth())\n",
    "\n",
    "circuit.draw(fold=-1)"
   ]
  },
  {
   "cell_type": "markdown",
   "id": "fc13ca06-3e64-4325-bc0b-6b2435757b61",
   "metadata": {
    "id": "fc13ca06-3e64-4325-bc0b-6b2435757b61"
   },
   "source": [
    "#### Other Circuits"
   ]
  },
  {
   "cell_type": "code",
   "execution_count": 57,
   "id": "f09b07a9-d1fc-49c5-8224-34414f30b934",
   "metadata": {
    "id": "f09b07a9-d1fc-49c5-8224-34414f30b934"
   },
   "outputs": [
    {
     "data": {
      "text/html": [
       "<pre style=\"word-wrap: normal;white-space: pre;background: #fff0;line-height: 1.1;font-family: &quot;Courier New&quot;,Courier,monospace\">     ┌───┐          \n",
       "q_0: ┤ H ├──■───────\n",
       "     └───┘┌─┴─┐     \n",
       "q_1: ─────┤ X ├──■──\n",
       "          └───┘┌─┴─┐\n",
       "q_2: ──────────┤ X ├\n",
       "               └───┘</pre>"
      ],
      "text/plain": [
       "     ┌───┐          \n",
       "q_0: ┤ H ├──■───────\n",
       "     └───┘┌─┴─┐     \n",
       "q_1: ─────┤ X ├──■──\n",
       "          └───┘┌─┴─┐\n",
       "q_2: ──────────┤ X ├\n",
       "               └───┘"
      ]
     },
     "execution_count": 57,
     "metadata": {},
     "output_type": "execute_result"
    }
   ],
   "source": [
    "## GHZ Circuit\n",
    "\n",
    "circuit = get_ghz_circuit(QUBITS_COUNT)\n",
    "circuit.draw(fold=-1)\n",
    "\n",
    "## Random Circuit\n",
    "\n",
    "# circuit = random_circuit(QUBITS_COUNT, depth=20, max_operands=1, measure=False)"
   ]
  },
  {
   "cell_type": "markdown",
   "id": "7f7ecdac-b2f3-4636-8747-1034eed2ee63",
   "metadata": {
    "id": "7f7ecdac-b2f3-4636-8747-1034eed2ee63"
   },
   "source": [
    "### 4.2.  Run Paulis Experiment"
   ]
  },
  {
   "cell_type": "code",
   "execution_count": 58,
   "id": "1859bcf4-545a-44dc-bdb8-e85b5d509ba7",
   "metadata": {
    "id": "1859bcf4-545a-44dc-bdb8-e85b5d509ba7"
   },
   "outputs": [],
   "source": [
    "TOTAL_SHOTS_COUNT = 1000"
   ]
  },
  {
   "cell_type": "code",
   "execution_count": 60,
   "id": "159c1e11-b441-4d7a-93c7-1cfbb37e7ef0",
   "metadata": {
    "id": "159c1e11-b441-4d7a-93c7-1cfbb37e7ef0"
   },
   "outputs": [
    {
     "data": {
      "text/plain": [
       "(27, 3)"
      ]
     },
     "execution_count": 60,
     "metadata": {},
     "output_type": "execute_result"
    }
   ],
   "source": [
    "random_bases = rng.choice(['X','Y','Z'], size=(TOTAL_SHOTS_COUNT, QUBITS_COUNT))\n",
    "\n",
    "bases_list, shots_counts = np.unique(random_bases, axis=0, return_counts=True)\n",
    "\n",
    "bases_list.shape"
   ]
  },
  {
   "cell_type": "code",
   "execution_count": 61,
   "id": "8fb972e6-95f5-4ebd-8415-53b3f89b6150",
   "metadata": {
    "id": "8fb972e6-95f5-4ebd-8415-53b3f89b6150",
    "tags": []
   },
   "outputs": [
    {
     "data": {
      "text/plain": [
       "27"
      ]
     },
     "execution_count": 61,
     "metadata": {},
     "output_type": "execute_result"
    }
   ],
   "source": [
    "rotation_circuits = []\n",
    "\n",
    "for bases in bases_list:\n",
    "\n",
    "    rotation_circuit = build_bases_rotation_circuit(bases)\n",
    "\n",
    "    rotation_circuits.append(rotation_circuit)\n",
    "\n",
    "len(rotation_circuits)"
   ]
  },
  {
   "cell_type": "markdown",
   "id": "f6d7c756-bd16-4d1b-a4ea-a9b49b2224f3",
   "metadata": {
    "id": "f6d7c756-bd16-4d1b-a4ea-a9b49b2224f3"
   },
   "source": [
    "#### Basic Transpilation - Slower Version!\n"
   ]
  },
  {
   "cell_type": "code",
   "execution_count": 62,
   "id": "e57ce961-e840-491d-8c1c-21310b4bd745",
   "metadata": {
    "id": "e57ce961-e840-491d-8c1c-21310b4bd745",
    "outputId": "bff4c7b5-30aa-4295-f29b-862e674a4380",
    "tags": []
   },
   "outputs": [
    {
     "name": "stderr",
     "output_type": "stream",
     "text": [
      "100%|█████████████████████████████████████████████████████████████████████| 27/27 [00:02<00:00, 12.49 basis/s]"
     ]
    },
    {
     "name": "stdout",
     "output_type": "stream",
     "text": [
      "estimated_time: 2.16\n"
     ]
    },
    {
     "name": "stderr",
     "output_type": "stream",
     "text": [
      "\n"
     ]
    }
   ],
   "source": [
    "start_time = time()\n",
    "\n",
    "# Compose and Transpile all Rotation Circuits\n",
    "\n",
    "shadow_circuits = []\n",
    "\n",
    "rotation_tracker = tqdm(rotation_circuits, unit=' basis', ncols=110)\n",
    "\n",
    "for rotation_circuit in rotation_tracker:\n",
    "\n",
    "    measurement_circuit = rotation_circuit.measure_all(inplace=False)\n",
    "\n",
    "    measured_circuit = circuit.compose(measurement_circuit)\n",
    "\n",
    "    # display(measured_circuit.draw(fold=-1))\n",
    "\n",
    "    shadow_circuit = qiskit.transpile(\n",
    "        measured_circuit,\n",
    "        backend,\n",
    "        seed_transpiler=SEED,\n",
    "        optimization_level=OPTIMIZATION_LEVEL)\n",
    "\n",
    "    shadow_circuits.append(shadow_circuit)\n",
    "\n",
    "estimated_time = time() - start_time\n",
    "\n",
    "print(f\"estimated_time: {estimated_time:.02f}\")"
   ]
  },
  {
   "cell_type": "markdown",
   "id": "9a792284-52a1-4d26-aff0-079fa71160a3",
   "metadata": {
    "id": "9a792284-52a1-4d26-aff0-079fa71160a3"
   },
   "source": [
    "#### Transpile Right - Much Faster!"
   ]
  },
  {
   "cell_type": "code",
   "execution_count": 63,
   "id": "83f9d09c-e309-4c73-82b9-5861eec5aa40",
   "metadata": {
    "id": "83f9d09c-e309-4c73-82b9-5861eec5aa40",
    "outputId": "3a350493-23b1-4489-f5f9-7497f56e8a20"
   },
   "outputs": [
    {
     "name": "stderr",
     "output_type": "stream",
     "text": [
      "100%|█████████████████████████████████████████████████████████████████████| 27/27 [00:00<00:00, 37.05 basis/s]"
     ]
    },
    {
     "name": "stdout",
     "output_type": "stream",
     "text": [
      "estimated_time: 0.80\n"
     ]
    },
    {
     "name": "stderr",
     "output_type": "stream",
     "text": [
      "\n"
     ]
    }
   ],
   "source": [
    "start_time = time()\n",
    "\n",
    "# Transpile Central Part\n",
    "\n",
    "transpiled_central_circuit = qiskit.transpile(\n",
    "    circuit,\n",
    "    backend,\n",
    "    seed_transpiler=SEED,\n",
    "    optimization_level=OPTIMIZATION_LEVEL)\n",
    "\n",
    "\n",
    "# Transpile Right all Rotation Circuits\n",
    "\n",
    "shadow_circuits = []\n",
    "\n",
    "rotation_tracker = tqdm(rotation_circuits, unit=' basis', ncols=110)\n",
    "\n",
    "for rotation_circuit in rotation_tracker:\n",
    "\n",
    "    measurement_circuit = rotation_circuit.measure_all(inplace=False)\n",
    "\n",
    "    shadow_circuit = transpile_right(\n",
    "        transpiled_central_circuit,\n",
    "        measurement_circuit,\n",
    "        backend=backend,\n",
    "        seed_transpiler=SEED,\n",
    "        optimization_level=OPTIMIZATION_LEVEL)\n",
    "\n",
    "    shadow_circuits.append(shadow_circuit)\n",
    "\n",
    "\n",
    "estimated_time = time() - start_time\n",
    "\n",
    "print(f\"estimated_time: {estimated_time:.02f}\")"
   ]
  },
  {
   "cell_type": "code",
   "execution_count": 68,
   "id": "df4c7601-92bf-4ee0-8fac-35930e4db1cd",
   "metadata": {},
   "outputs": [
    {
     "data": {
      "text/html": [
       "<pre style=\"word-wrap: normal;white-space: pre;background: #fff0;line-height: 1.1;font-family: &quot;Courier New&quot;,Courier,monospace\">global phase: 5π/4\n",
       "          ┌──────────┐┌────┐┌─────────────┐┌────┐┌─────────┐┌──────┐  ┌──────────┐ ┌────┐┌─────────────┐┌─────────┐   ┌────┐  ┌─────────┐                       ░ ┌─┐      \n",
       "q_0 -> 41 ┤ Rz(-π/2) ├┤ √X ├┤ Rz(-2.3446) ├┤ √X ├┤ Rz(π/2) ├┤1     ├──┤ Rz(-π/2) ├─┤ √X ├┤ Rz(-2.3446) ├┤ Rz(π/2) ├───┤ √X ├──┤ Rz(π/2) ├───────────────────────░─┤M├──────\n",
       "          ├─────────┬┘├────┤├─────────────┤└────┘└─────────┘│  Ecr │┌─┴──────────┴┐├────┤└──┬────────┬─┘└─┬──────┬┘   ├───┬┘  ├─────────┤   ┌────┐  ┌─────────┐ ░ └╥┘┌─┐   \n",
       "q_1 -> 53 ┤ Rz(π/2) ├─┤ √X ├┤ Rz(-1.1086) ├─────────────────┤0     ├┤ Rz(-2.6794) ├┤ √X ├───┤ Rz(-π) ├────┤0     ├────┤ X ├───┤ Rz(π/2) ├───┤ √X ├──┤ Rz(π/2) ├─░──╫─┤M├───\n",
       "          └┬────────┤ ├────┤└──┬────────┬─┘                 └──────┘└─────────────┘└────┘   └────────┘    │  Ecr │ ┌──┴───┴──┐└──┬────┬─┘┌──┴────┴─┐└─────────┘ ░  ║ └╥┘┌─┐\n",
       "q_2 -> 60 ─┤ Rz(-π) ├─┤ √X ├───┤ Rz(-π) ├─────────────────────────────────────────────────────────────────┤1     ├─┤ Rz(π/2) ├───┤ √X ├──┤ Rz(π/2) ├────────────░──╫──╫─┤M├\n",
       "           └────────┘ └────┘   └────────┘                                                                 └──────┘ └─────────┘   └────┘  └─────────┘            ░  ║  ║ └╥┘\n",
       "  meas: 3/═════════════════════════════════════════════════════════════════════════════════════════════════════════════════════════════════════════════════════════╩══╩══╩═\n",
       "                                                                                                                                                                   0  1  2 </pre>"
      ],
      "text/plain": [
       "global phase: 5π/4\n",
       "          ┌──────────┐┌────┐┌─────────────┐┌────┐┌─────────┐┌──────┐  ┌──────────┐ ┌────┐┌─────────────┐┌─────────┐   ┌────┐  ┌─────────┐                       ░ ┌─┐      \n",
       "q_0 -> 41 ┤ Rz(-π/2) ├┤ √X ├┤ Rz(-2.3446) ├┤ √X ├┤ Rz(π/2) ├┤1     ├──┤ Rz(-π/2) ├─┤ √X ├┤ Rz(-2.3446) ├┤ Rz(π/2) ├───┤ √X ├──┤ Rz(π/2) ├───────────────────────░─┤M├──────\n",
       "          ├─────────┬┘├────┤├─────────────┤└────┘└─────────┘│  Ecr │┌─┴──────────┴┐├────┤└──┬────────┬─┘└─┬──────┬┘   ├───┬┘  ├─────────┤   ┌────┐  ┌─────────┐ ░ └╥┘┌─┐   \n",
       "q_1 -> 53 ┤ Rz(π/2) ├─┤ √X ├┤ Rz(-1.1086) ├─────────────────┤0     ├┤ Rz(-2.6794) ├┤ √X ├───┤ Rz(-π) ├────┤0     ├────┤ X ├───┤ Rz(π/2) ├───┤ √X ├──┤ Rz(π/2) ├─░──╫─┤M├───\n",
       "          └┬────────┤ ├────┤└──┬────────┬─┘                 └──────┘└─────────────┘└────┘   └────────┘    │  Ecr │ ┌──┴───┴──┐└──┬────┬─┘┌──┴────┴─┐└─────────┘ ░  ║ └╥┘┌─┐\n",
       "q_2 -> 60 ─┤ Rz(-π) ├─┤ √X ├───┤ Rz(-π) ├─────────────────────────────────────────────────────────────────┤1     ├─┤ Rz(π/2) ├───┤ √X ├──┤ Rz(π/2) ├────────────░──╫──╫─┤M├\n",
       "           └────────┘ └────┘   └────────┘                                                                 └──────┘ └─────────┘   └────┘  └─────────┘            ░  ║  ║ └╥┘\n",
       "  meas: 3/═════════════════════════════════════════════════════════════════════════════════════════════════════════════════════════════════════════════════════════╩══╩══╩═\n",
       "                                                                                                                                                                   0  1  2 "
      ]
     },
     "execution_count": 68,
     "metadata": {},
     "output_type": "execute_result"
    }
   ],
   "source": [
    "shadow_circuits[0].draw(idle_wires=False, fold=-1)"
   ]
  },
  {
   "cell_type": "markdown",
   "id": "1d5de3aa-cc6b-4661-b36b-e756898be95e",
   "metadata": {
    "id": "1d5de3aa-cc6b-4661-b36b-e756898be95e",
    "tags": []
   },
   "source": [
    "#### 4.2.3. Run Shadow Circuits"
   ]
  },
  {
   "cell_type": "code",
   "execution_count": 20,
   "id": "a4adf49e-5570-4b5c-a88b-b27a762ee08b",
   "metadata": {
    "id": "a4adf49e-5570-4b5c-a88b-b27a762ee08b",
    "tags": []
   },
   "outputs": [],
   "source": [
    "counts_list = []\n",
    "\n",
    "for shadow_circuit, shots in zip(shadow_circuits, shots_counts):\n",
    "\n",
    "    job = backend.run(shadow_circuit, shots=shots)\n",
    "\n",
    "    counts = job.result().get_counts()\n",
    "\n",
    "    counts_list.append(counts)"
   ]
  },
  {
   "cell_type": "markdown",
   "id": "3428e17c-0dff-492c-81ba-54f609764375",
   "metadata": {
    "id": "3428e17c-0dff-492c-81ba-54f609764375"
   },
   "source": [
    "#### 4.2.4. Calculate Shadows\n",
    "\n",
    "Calculate the shadow matrices for a set of observed states used to estimate the quantum state of the system."
   ]
  },
  {
   "cell_type": "code",
   "execution_count": 21,
   "id": "55619603-1104-4165-a0ac-7019f72b786c",
   "metadata": {
    "id": "55619603-1104-4165-a0ac-7019f72b786c"
   },
   "outputs": [],
   "source": [
    "shadows = []\n",
    "\n",
    "for bases, counts in zip(bases_list, counts_list):\n",
    "\n",
    "    for state, count in counts.items():\n",
    "\n",
    "        shadow_part = 1\n",
    "\n",
    "        for bit_index, bit in enumerate(state[::-1]):\n",
    "\n",
    "            basis = bases[bit_index]\n",
    "\n",
    "            basis_unitary = get_basis_unitary(basis)\n",
    "\n",
    "            vector = basis_unitary[int(bit), :]\n",
    "\n",
    "            outer_product = np.outer(vector.conj(), vector)\n",
    "\n",
    "            inverted_channel = get_inverted_channel(outer_product, 1)\n",
    "\n",
    "            shadow_part = np.kron(inverted_channel, shadow_part)\n",
    "\n",
    "        shadow = shadow_part * count\n",
    "\n",
    "        shadows.append(shadow)"
   ]
  },
  {
   "cell_type": "markdown",
   "id": "f304c377-5251-4cdd-8d6a-fbc57db98afd",
   "metadata": {
    "id": "f304c377-5251-4cdd-8d6a-fbc57db98afd"
   },
   "source": [
    "#### 4.2.5. Analyze Density Matrices"
   ]
  },
  {
   "cell_type": "code",
   "execution_count": 22,
   "id": "7d74d489-9455-44d8-a855-1d29ce0ed890",
   "metadata": {
    "id": "7d74d489-9455-44d8-a855-1d29ce0ed890"
   },
   "outputs": [
    {
     "data": {
      "text/plain": [
       "(8, 8)"
      ]
     },
     "execution_count": 22,
     "metadata": {},
     "output_type": "execute_result"
    }
   ],
   "source": [
    "reconstructed_density_matrix = np.sum(shadows, axis=0) / TOTAL_SHOTS_COUNT\n",
    "\n",
    "reconstructed_density_matrix.shape"
   ]
  },
  {
   "cell_type": "code",
   "execution_count": 23,
   "id": "d9a05e75-a60f-4d91-b06b-fd218185c1b6",
   "metadata": {
    "id": "d9a05e75-a60f-4d91-b06b-fd218185c1b6"
   },
   "outputs": [
    {
     "data": {
      "text/plain": [
       "(8, 8)"
      ]
     },
     "execution_count": 23,
     "metadata": {},
     "output_type": "execute_result"
    }
   ],
   "source": [
    "original_density_matrix = qiskit.quantum_info.DensityMatrix(circuit).data\n",
    "\n",
    "original_density_matrix.shape"
   ]
  },
  {
   "cell_type": "markdown",
   "id": "e160b52b-edd4-44bc-8799-15da16a6ccc0",
   "metadata": {
    "id": "e160b52b-edd4-44bc-8799-15da16a6ccc0"
   },
   "source": [
    "Below we plot the visualization for **ORIGINAL** and **RECONSTRUCTED** Density Matrices:"
   ]
  },
  {
   "cell_type": "code",
   "execution_count": 24,
   "id": "c67a3e0b-9e4d-47eb-82d1-25a2aceb3c98",
   "metadata": {
    "id": "c67a3e0b-9e4d-47eb-82d1-25a2aceb3c98"
   },
   "outputs": [],
   "source": [
    "def plot_density_matrix(density_matrix, label=\"\"):\n",
    "\n",
    "    plt.suptitle(f\"{label} Density Matrix\", y=0.9)\n",
    "\n",
    "    real = plt.subplot(121)\n",
    "    real.set_title(\"Real part\")\n",
    "\n",
    "    real.imshow(density_matrix.real, vmin=-0.7, vmax=0.7)\n",
    "\n",
    "    real.axes.set_xticks(())\n",
    "    real.axes.set_yticks(())\n",
    "\n",
    "\n",
    "    imaginary = plt.subplot(122)\n",
    "    imaginary.set_title(\"Imaginary part\")\n",
    "    imaginary.imshow(density_matrix.imag, vmin=-0.7, vmax=0.7)\n",
    "\n",
    "    imaginary.axes.set_xticks(())\n",
    "    imaginary.axes.set_yticks(())\n",
    "\n",
    "    plt.show()"
   ]
  },
  {
   "cell_type": "code",
   "execution_count": 25,
   "id": "9125665b-25c4-46c3-b1a8-affeb894c99c",
   "metadata": {
    "id": "9125665b-25c4-46c3-b1a8-affeb894c99c",
    "outputId": "49f92ab2-d970-40b9-9d94-cd6c9f0aa3c4"
   },
   "outputs": [
    {
     "data": {
      "image/png": "[encoded data removed]",
      "text/plain": [
       "<Figure size 640x480 with 2 Axes>"
      ]
     },
     "metadata": {},
     "output_type": "display_data"
    }
   ],
   "source": [
    "plot_density_matrix(original_density_matrix, label=\"Original\")"
   ]
  },
  {
   "cell_type": "code",
   "execution_count": 26,
   "id": "349936c2-800d-4406-a858-c9776dc618d4",
   "metadata": {
    "id": "349936c2-800d-4406-a858-c9776dc618d4",
    "outputId": "491c83f2-a9a7-470c-853b-904a69369141"
   },
   "outputs": [
    {
     "data": {
      "image/png": "[encoded data removed]",
      "text/plain": [
       "<Figure size 640x480 with 2 Axes>"
      ]
     },
     "metadata": {},
     "output_type": "display_data"
    }
   ],
   "source": [
    "plot_density_matrix(reconstructed_density_matrix, label=\"Reconstructed\")"
   ]
  },
  {
   "cell_type": "markdown",
   "id": "89d0f272-c5dd-48aa-aa68-75eb14f37c71",
   "metadata": {
    "id": "89d0f272-c5dd-48aa-aa68-75eb14f37c71"
   },
   "source": [
    "To measure a Mean Square Error:"
   ]
  },
  {
   "cell_type": "code",
   "execution_count": 27,
   "id": "9dbe1265-7428-444b-98cf-b9473a68fe99",
   "metadata": {
    "id": "9dbe1265-7428-444b-98cf-b9473a68fe99",
    "outputId": "eb7b8fd5-2fde-4ce8-f123-ce043df09c15"
   },
   "outputs": [
    {
     "data": {
      "text/plain": [
       "0.0004419101562499986"
      ]
     },
     "execution_count": 27,
     "metadata": {},
     "output_type": "execute_result"
    }
   ],
   "source": [
    "mean_square_error = np.abs(((original_density_matrix -\n",
    "                             reconstructed_density_matrix) ** 2).mean())\n",
    "\n",
    "mean_square_error"
   ]
  },
  {
   "cell_type": "markdown",
   "id": "bbf885ec-abcc-4082-89e7-5fc087a4390e",
   "metadata": {
    "id": "bbf885ec-abcc-4082-89e7-5fc087a4390e"
   },
   "source": [
    "### 4.3.  Run Cliffords Experiment"
   ]
  },
  {
   "cell_type": "code",
   "execution_count": 28,
   "id": "80b5cf53-d499-4d3f-88c1-2fa78b0f4b1d",
   "metadata": {
    "id": "80b5cf53-d499-4d3f-88c1-2fa78b0f4b1d"
   },
   "outputs": [],
   "source": [
    "SHADOWS_COUNT = 100\n",
    "SHOTS_COUNT = 100\n",
    "\n",
    "cliffords = [qiskit.quantum_info.random_clifford(QUBITS_COUNT, seed=rng)\n",
    "             for _ in range(SHADOWS_COUNT)]"
   ]
  },
  {
   "cell_type": "markdown",
   "id": "13e43242-63db-4ffb-b75e-2995829cdd97",
   "metadata": {
    "id": "13e43242-63db-4ffb-b75e-2995829cdd97"
   },
   "source": [
    "- Define Rotation Circuits:"
   ]
  },
  {
   "cell_type": "code",
   "execution_count": 29,
   "id": "63ddc265-0c3b-4098-a14b-f3fb318ec85d",
   "metadata": {
    "id": "63ddc265-0c3b-4098-a14b-f3fb318ec85d"
   },
   "outputs": [
    {
     "data": {
      "text/plain": [
       "100"
      ]
     },
     "execution_count": 29,
     "metadata": {},
     "output_type": "execute_result"
    }
   ],
   "source": [
    "rotation_circuits = []\n",
    "\n",
    "for clifford in cliffords:\n",
    "\n",
    "    rotation_circuit = clifford.to_circuit()\n",
    "\n",
    "    rotation_circuits.append(rotation_circuit)\n",
    "\n",
    "len(rotation_circuits)"
   ]
  },
  {
   "cell_type": "markdown",
   "id": "33cc9bcc-3cd4-4862-b8d5-9548c6ce763e",
   "metadata": {
    "id": "33cc9bcc-3cd4-4862-b8d5-9548c6ce763e"
   },
   "source": [
    "#### 4.3.1. Basic Transpilation - Slower Version!"
   ]
  },
  {
   "cell_type": "code",
   "execution_count": 30,
   "id": "1448fe24-412c-4995-90c2-3abd5244058d",
   "metadata": {
    "id": "1448fe24-412c-4995-90c2-3abd5244058d",
    "outputId": "f7476605-ecca-4aa3-f495-865864744a8d",
    "tags": []
   },
   "outputs": [
    {
     "name": "stderr",
     "output_type": "stream",
     "text": [
      "100%|███████████████████████████████████████████████████████████████████| 100/100 [00:04<00:00, 22.69 basis/s]"
     ]
    },
    {
     "name": "stdout",
     "output_type": "stream",
     "text": [
      "estimated_time: 4.41\n"
     ]
    },
    {
     "name": "stderr",
     "output_type": "stream",
     "text": [
      "\n"
     ]
    }
   ],
   "source": [
    "start_time = time()\n",
    "\n",
    "# Compose and Transpile all Rotation Circuits\n",
    "\n",
    "shadow_circuits = []\n",
    "\n",
    "rotation_tracker = tqdm(rotation_circuits, unit=' basis', ncols=110)\n",
    "\n",
    "for rotation_circuit in rotation_tracker:\n",
    "\n",
    "    measurement_circuit = rotation_circuit.measure_all(inplace=False)\n",
    "\n",
    "    measured_circuit = circuit.compose(measurement_circuit)\n",
    "\n",
    "    # display(measured_circuit.draw(fold=-1))\n",
    "\n",
    "    shadow_circuit = qiskit.transpile(\n",
    "        measured_circuit,\n",
    "        backend,\n",
    "        seed_transpiler=SEED,\n",
    "        optimization_level=OPTIMIZATION_LEVEL)\n",
    "\n",
    "    shadow_circuits.append(shadow_circuit)\n",
    "\n",
    "estimated_time = time() - start_time\n",
    "\n",
    "print(f\"estimated_time: {estimated_time:.02f}\")"
   ]
  },
  {
   "cell_type": "markdown",
   "id": "e581f9eb-5013-47c4-a9cf-e6a7c64d346f",
   "metadata": {
    "id": "e581f9eb-5013-47c4-a9cf-e6a7c64d346f"
   },
   "source": [
    "#### 4.3.2. Transpile Right - Much Faster!"
   ]
  },
  {
   "cell_type": "code",
   "execution_count": 31,
   "id": "40b29211-155b-4cee-af35-dfabedcb310e",
   "metadata": {
    "id": "40b29211-155b-4cee-af35-dfabedcb310e",
    "outputId": "7c8ede2c-6240-4483-a7a0-d75a6e3214fb",
    "scrolled": true
   },
   "outputs": [
    {
     "name": "stderr",
     "output_type": "stream",
     "text": [
      "100%|███████████████████████████████████████████████████████████████████| 100/100 [00:03<00:00, 28.97 basis/s]"
     ]
    },
    {
     "name": "stdout",
     "output_type": "stream",
     "text": [
      "estimated_time: 3.47\n"
     ]
    },
    {
     "name": "stderr",
     "output_type": "stream",
     "text": [
      "\n"
     ]
    }
   ],
   "source": [
    "start_time = time()\n",
    "\n",
    "# Transpile Central Part\n",
    "\n",
    "transpiled_central_circuit = qiskit.transpile(\n",
    "    circuit,\n",
    "    backend,\n",
    "    seed_transpiler=SEED,\n",
    "    optimization_level=OPTIMIZATION_LEVEL)\n",
    "\n",
    "\n",
    "# Transpile Right all Rotation Circuits\n",
    "\n",
    "shadow_circuits = []\n",
    "\n",
    "rotation_tracker = tqdm(rotation_circuits, unit=' basis', ncols=110)\n",
    "\n",
    "for rotation_circuit in rotation_tracker:\n",
    "\n",
    "    measurement_circuit = rotation_circuit.measure_all(inplace=False)\n",
    "\n",
    "    shadow_circuit = transpile_right(\n",
    "        transpiled_central_circuit,\n",
    "        measurement_circuit,\n",
    "        backend=backend,\n",
    "        seed_transpiler=SEED,\n",
    "        optimization_level=OPTIMIZATION_LEVEL)\n",
    "\n",
    "    shadow_circuits.append(shadow_circuit)\n",
    "\n",
    "\n",
    "estimated_time = time() - start_time\n",
    "\n",
    "print(f\"estimated_time: {estimated_time:.02f}\")"
   ]
  },
  {
   "cell_type": "markdown",
   "id": "93f62618-8020-4972-bbf0-6430ed2f331d",
   "metadata": {
    "id": "93f62618-8020-4972-bbf0-6430ed2f331d",
    "tags": []
   },
   "source": [
    "#### 4.3.3.  Run Shadow Circuits"
   ]
  },
  {
   "cell_type": "code",
   "execution_count": 32,
   "id": "c1d6cb4c-3b51-4e4c-a05c-5dc23ff37c8f",
   "metadata": {
    "id": "c1d6cb4c-3b51-4e4c-a05c-5dc23ff37c8f",
    "tags": []
   },
   "outputs": [],
   "source": [
    "counts_list = []\n",
    "\n",
    "for shadow_circuit in shadow_circuits:\n",
    "\n",
    "    job = backend.run(shadow_circuit, shots=SHOTS_COUNT)\n",
    "\n",
    "    counts = job.result().get_counts()\n",
    "\n",
    "    counts_list.append(counts)"
   ]
  },
  {
   "cell_type": "markdown",
   "id": "5d6933d5-febc-4f0e-ae0b-52441fdc8918",
   "metadata": {
    "id": "5d6933d5-febc-4f0e-ae0b-52441fdc8918"
   },
   "source": [
    "#### 4.3.4.  Calculate Shadows\n",
    "\n",
    "Calculate the shadow matrices for a set of observed states used to estimate the quantum state of the system."
   ]
  },
  {
   "cell_type": "code",
   "execution_count": 33,
   "id": "2c97882c-d8af-4bab-8107-a6c3d7e10791",
   "metadata": {
    "id": "2c97882c-d8af-4bab-8107-a6c3d7e10791"
   },
   "outputs": [],
   "source": [
    "shadows = []\n",
    "\n",
    "for clifford, counts in zip(cliffords, counts_list):\n",
    "\n",
    "    unitary = clifford.adjoint().to_matrix()\n",
    "\n",
    "    for state, count in counts.items():\n",
    "\n",
    "        state_index = int(state, 2)\n",
    "\n",
    "        vector = unitary[:, state_index]\n",
    "\n",
    "        outer_product = np.outer(vector, vector.conj())\n",
    "\n",
    "        inverted_channel = get_inverted_channel(outer_product, QUBITS_COUNT)\n",
    "\n",
    "        shadow = inverted_channel * count\n",
    "\n",
    "        shadows.append(shadow)"
   ]
  },
  {
   "cell_type": "markdown",
   "id": "93a74e4e-b6f8-433e-90d8-9d01cd0af7c6",
   "metadata": {
    "id": "93a74e4e-b6f8-433e-90d8-9d01cd0af7c6"
   },
   "source": [
    "#### 4.3.5.  Analyze Density Matrices"
   ]
  },
  {
   "cell_type": "code",
   "execution_count": 34,
   "id": "0de4a6e3-d29b-4d93-b208-1ef4c6b8d45b",
   "metadata": {
    "id": "0de4a6e3-d29b-4d93-b208-1ef4c6b8d45b"
   },
   "outputs": [
    {
     "data": {
      "text/plain": [
       "(8, 8)"
      ]
     },
     "execution_count": 34,
     "metadata": {},
     "output_type": "execute_result"
    }
   ],
   "source": [
    "TOTAL_SHOTS_COUNT = SHADOWS_COUNT * SHOTS_COUNT\n",
    "\n",
    "reconstructed_density_matrix = np.sum(shadows, axis=0) / TOTAL_SHOTS_COUNT\n",
    "\n",
    "reconstructed_density_matrix.shape"
   ]
  },
  {
   "cell_type": "code",
   "execution_count": 35,
   "id": "592c614d-f558-41ad-9d5b-e2a77c115111",
   "metadata": {
    "id": "592c614d-f558-41ad-9d5b-e2a77c115111"
   },
   "outputs": [
    {
     "data": {
      "text/plain": [
       "(8, 8)"
      ]
     },
     "execution_count": 35,
     "metadata": {},
     "output_type": "execute_result"
    }
   ],
   "source": [
    "original_density_matrix = qiskit.quantum_info.DensityMatrix(circuit).data\n",
    "\n",
    "original_density_matrix.shape"
   ]
  },
  {
   "cell_type": "markdown",
   "id": "8488f603-3582-44ce-babe-bb6367007f8f",
   "metadata": {
    "id": "8488f603-3582-44ce-babe-bb6367007f8f"
   },
   "source": [
    "Below we plot the visualization for **ORIGINAL** and **RECONSTRUCTED** Density Matrices:"
   ]
  },
  {
   "cell_type": "code",
   "execution_count": 36,
   "id": "337cf636-08d7-4fee-bb73-94da4cd49068",
   "metadata": {
    "id": "337cf636-08d7-4fee-bb73-94da4cd49068",
    "outputId": "f728560f-31aa-4357-c562-1bff6e1788a2"
   },
   "outputs": [
    {
     "data": {
      "image/png": "[encoded data removed]",
      "text/plain": [
       "<Figure size 640x480 with 2 Axes>"
      ]
     },
     "metadata": {},
     "output_type": "display_data"
    }
   ],
   "source": [
    "plot_density_matrix(original_density_matrix, label=\"Original\")"
   ]
  },
  {
   "cell_type": "code",
   "execution_count": 37,
   "id": "87ac42a8-b6f9-4421-9125-84f2442e0a95",
   "metadata": {
    "id": "87ac42a8-b6f9-4421-9125-84f2442e0a95",
    "outputId": "69a2c2cb-7fe6-4e61-8fab-0421f1da368c"
   },
   "outputs": [
    {
     "data": {
      "image/png": "[encoded data removed]",
      "text/plain": [
       "<Figure size 640x480 with 2 Axes>"
      ]
     },
     "metadata": {},
     "output_type": "display_data"
    }
   ],
   "source": [
    "plot_density_matrix(reconstructed_density_matrix, label=\"Reconstructed\")"
   ]
  },
  {
   "cell_type": "markdown",
   "id": "d15532a0",
   "metadata": {
    "id": "d15532a0"
   },
   "source": [
    "To measure a Mean Square Error:"
   ]
  },
  {
   "cell_type": "code",
   "execution_count": 38,
   "id": "bbe9795e-5695-4b04-af85-9d4c713bfb3c",
   "metadata": {
    "id": "bbe9795e-5695-4b04-af85-9d4c713bfb3c",
    "outputId": "8feaa616-1f02-4aaa-d0dc-34d823112e77"
   },
   "outputs": [
    {
     "data": {
      "text/plain": [
       "0.0007780460937499958"
      ]
     },
     "execution_count": 38,
     "metadata": {},
     "output_type": "execute_result"
    }
   ],
   "source": [
    "get_mean_square_error(original_density_matrix,\n",
    "                      reconstructed_density_matrix)"
   ]
  },
  {
   "cell_type": "markdown",
   "id": "adf5c7cd-e363-4d6f-9114-a20dd61f52f2",
   "metadata": {
    "id": "adf5c7cd-e363-4d6f-9114-a20dd61f52f2",
    "tags": []
   },
   "source": [
    "### 4.4.  Compare Transpilation Times\n",
    "Below we compare the transpilation times for a few circuits (from 2 to 8 qubits) using the basic transpilation and transpilation with a `transpile_right`."
   ]
  },
  {
   "cell_type": "code",
   "execution_count": 39,
   "id": "5ce0068c-6b14-47da-a1ee-10cd14255368",
   "metadata": {
    "id": "5ce0068c-6b14-47da-a1ee-10cd14255368",
    "outputId": "1c3c8ea7-3f50-4fa3-f57b-199122536217"
   },
   "outputs": [
    {
     "data": {
      "text/plain": [
       "{2: {'bases': 9, 'basic_transpilation': 2.15, 'transpile_right': 0.27},\n",
       " 3: {'bases': 27, 'basic_transpilation': 20.03, 'transpile_right': 1.14},\n",
       " 4: {'bases': 81, 'basic_transpilation': 82.06, 'transpile_right': 2.74},\n",
       " 5: {'bases': 243, 'basic_transpilation': 312.58, 'transpile_right': 7.39},\n",
       " 6: {'bases': 729, 'basic_transpilation': 1150.28, 'transpile_right': 23.47},\n",
       " 7: {'bases': 2167, 'basic_transpilation': 3939.58, 'transpile_right': 121.01},\n",
       " 8: {'bases': 5127,\n",
       "  'basic_transpilation': 10018.36,\n",
       "  'transpile_right': 271.09}}"
      ]
     },
     "execution_count": 39,
     "metadata": {},
     "output_type": "execute_result"
    }
   ],
   "source": [
    "results = np.load(\"examples/shadows/results.npy\",\n",
    "                  allow_pickle=True).item()\n",
    "results"
   ]
  },
  {
   "cell_type": "code",
   "execution_count": 40,
   "id": "f1ebb1af-9e3a-45b6-b1fe-a0f4c6b82b0d",
   "metadata": {
    "id": "f1ebb1af-9e3a-45b6-b1fe-a0f4c6b82b0d",
    "outputId": "ae6102fa-ba6d-4a21-842f-30d24d7f381e"
   },
   "outputs": [
    {
     "data": {
      "text/plain": [
       "[2.15, 20.03, 82.06, 312.58, 1150.28, 3939.58, 10018.36]"
      ]
     },
     "execution_count": 40,
     "metadata": {},
     "output_type": "execute_result"
    }
   ],
   "source": [
    "basic_times = [results[qubit_count]['basic_transpilation'] for qubit_count in results]\n",
    "\n",
    "basic_times"
   ]
  },
  {
   "cell_type": "code",
   "execution_count": 41,
   "id": "c45a4df4-8feb-4c66-adeb-efd4737e92e3",
   "metadata": {
    "id": "c45a4df4-8feb-4c66-adeb-efd4737e92e3",
    "outputId": "f4e446d5-7591-4d14-c610-bc030674d206"
   },
   "outputs": [
    {
     "data": {
      "text/plain": [
       "[0.27, 1.14, 2.74, 7.39, 23.47, 121.01, 271.09]"
      ]
     },
     "execution_count": 41,
     "metadata": {},
     "output_type": "execute_result"
    }
   ],
   "source": [
    "right_times = [results[qubit_count]['transpile_right'] for qubit_count in results]\n",
    "\n",
    "right_times"
   ]
  },
  {
   "cell_type": "code",
   "execution_count": 42,
   "id": "00ad3048-8bb6-4ab3-8d0b-915a2068a2fb",
   "metadata": {
    "id": "00ad3048-8bb6-4ab3-8d0b-915a2068a2fb",
    "outputId": "3f5281da-09a7-4386-c266-3359b6360b2a"
   },
   "outputs": [
    {
     "data": {
      "image/png": "[encoded data removed]",
      "text/plain": [
       "<Figure size 640x480 with 1 Axes>"
      ]
     },
     "metadata": {},
     "output_type": "display_data"
    }
   ],
   "source": [
    "# Plot Transpilation times\n",
    "\n",
    "qubit_counts = list(results.keys())\n",
    "\n",
    "plt.title(\"Transpilation time comparison\")\n",
    "plt.xlabel(\"Qubits\")\n",
    "plt.ylabel(\"Transpilation time, seconds\")\n",
    "\n",
    "plt.plot(qubit_counts, basic_times, label=\"Basic Transpilation\")\n",
    "plt.plot(qubit_counts, right_times, label=\"Transpile Right\")\n",
    "\n",
    "plt.legend()\n",
    "\n",
    "plt.show()"
   ]
  },
  {
   "cell_type": "markdown",
   "id": "3949efde-eda1-46bc-ac4f-c7f50834988e",
   "metadata": {
    "id": "3949efde-eda1-46bc-ac4f-c7f50834988e"
   },
   "source": [
    "## Conclusions"
   ]
  },
  {
   "cell_type": "markdown",
   "id": "2367c627-36bc-4bfe-bead-117501ebea1a",
   "metadata": {
    "id": "2367c627-36bc-4bfe-bead-117501ebea1a",
    "tags": []
   },
   "source": [
    "For the shadow state tomography technique we reconstructed the density matrix of the “original circuit” and compared 2 types of transpilation: \n",
    "- **Basic Transpilation:** every “measurement circuit” is composed to “original circuit” – and then composed circuit is transpiled.\n",
    "- **Rivet transpilation** using the function `transpile_right`: we transpile “original circuit” only once – and then use `transpile_right` function of Rivet Transpiler – to transpile only “measurement circuit” part.\n",
    "\n",
    "Through this experiment, it was shown that using transpile_left is a faster approach."
   ]
  },
  {
   "cell_type": "markdown",
   "id": "b88312e7",
   "metadata": {
    "id": "b88312e7"
   },
   "source": [
    "\n",
    "## References\n",
    "\n",
    "[1] https://hongyehu.github.io/Hamiltonian-driven-shadow-tomography-page/\n",
    "\n",
    "[2] https://github.com/ryanlevy/shadow-tutorial/blob/main/Tutorial_Shadow_State_Tomography.ipynb\n",
    "\n",
    "[3] https://arxiv.org/pdf/2002.08953\n",
    "\n",
    "[4] Qiskit fake backends https://docs.quantum.ibm.com/api/qiskit/0.37/providers_fake_provider"
   ]
  },
  {
   "cell_type": "code",
   "execution_count": null,
   "id": "8f89afcc-4cbd-47f4-9929-d424d24ee7c4",
   "metadata": {},
   "outputs": [],
   "source": []
  }
 ],
 "metadata": {
  "colab": {
   "provenance": []
  },
  "kernelspec": {
   "display_name": "Qiskit_1.0",
   "language": "python",
   "name": "qiskit_1.0"
  },
  "language_info": {
   "codemirror_mode": {
    "name": "ipython",
    "version": 3
   },
   "file_extension": ".py",
   "mimetype": "text/x-python",
   "name": "python",
   "nbconvert_exporter": "python",
   "pygments_lexer": "ipython3",
   "version": "3.10.13"
  }
 },
 "nbformat": 4,
 "nbformat_minor": 5
}
