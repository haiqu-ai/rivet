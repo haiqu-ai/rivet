{
 "cells": [
  {
   "cell_type": "markdown",
   "id": "3ab8d635-377b-4e63-8309-3027badc7003",
   "metadata": {
    "id": "3ab8d635-377b-4e63-8309-3027badc7003"
   },
   "source": [
    "# Big Shadow State Tomography"
   ]
  },
  {
   "cell_type": "markdown",
   "id": "57be7600",
   "metadata": {},
   "source": [
    "Quantum computers can solve some problems exponentially faster than classical ones, but their possibilities are still limited by high levels of noise, so quantum advantage has not been reached yet. To compensate for the noise, quantum error correction techniques can be applied by encoding one logical qubit into many physical qubits. This, in turn, requires the availability of a large number of physical qubits. \n",
    "The quantum software and hardware are evolving at a surprising speed: IBM Quantum surpassed the 100-qubit processor milestone in 2021 and has ambitious plans through 2023 [1]. "
   ]
  },
  {
   "cell_type": "markdown",
   "id": "e2dc14a9",
   "metadata": {},
   "source": [
    "\n",
    "![image.png](Fig1_IBMdevolopment_roadmap.png) \n",
    "\n",
    "*Fig.1. IBM Development Roadmap. Image source [1].*"
   ]
  },
  {
   "cell_type": "markdown",
   "id": "4c80f7f4",
   "metadata": {},
   "source": [
    "In addition to advancements in software, significant improvements can also be made in quantum algorithms and processes, such as compilation. These enhancements are crucial for optimizing performance and making quantum computing more practical and efficient.\n",
    "\n",
    "Here, we compare the speed of standard Qiskit compilation with the compilation using the Rivet transpiler. As benchmark circuits, we selected the case of shadow state tomography (for more details, please check the notebook [Shadow State Tomography](../shadows/shadow_state_tomography.ipynb)). Except for error correction, estimating compilation for a large number of qubits has multiple purposes, such as scalability, effective resource management, and performance prediction."
   ]
  },
  {
   "cell_type": "markdown",
   "id": "58690a54",
   "metadata": {},
   "source": [
    "## 1. Installation and Imports\n",
    "To run the code below make sure you have followed and installed Rivet transpiler. Check the installation steps from   **Readme.md**."
   ]
  },
  {
   "cell_type": "markdown",
   "id": "8197249d",
   "metadata": {},
   "source": [
    "#### 1.1. Import Qiskit and Rivet Transpiler Functions Required to Run the Examples Below"
   ]
  },
  {
   "cell_type": "code",
   "execution_count": 1,
   "id": "97625d2b",
   "metadata": {},
   "outputs": [],
   "source": [
    "import numpy as np\n",
    "\n",
    "from time import time\n",
    "from tqdm import tqdm\n",
    "\n",
    "import qiskit\n",
    "\n",
    "from qiskit_aer import AerSimulator\n",
    "from qiskit.visualization import plot_gate_map \n",
    " \n",
    "from qiskit_ibm_runtime.fake_provider import FakeKyiv\n",
    "\n",
    "from qiskit.circuit.random import random_circuit\n",
    "\n",
    "import matplotlib.pyplot as plt\n",
    "\n",
    "# plt.style.use(\"dark_background\")\n",
    "\n",
    "%cd -q ../..\n",
    "\n",
    "from rivet_transpiler import transpile_right"
   ]
  },
  {
   "cell_type": "code",
   "execution_count": 2,
   "id": "1ef7c0a7-6b49-4da6-b8e5-082f72cc052b",
   "metadata": {
    "id": "1ef7c0a7-6b49-4da6-b8e5-082f72cc052b"
   },
   "outputs": [],
   "source": [
    "def build_bases_rotation_circuit(bases):\n",
    "\n",
    "    qubits_count = len(bases)\n",
    "\n",
    "    circuit = qiskit.QuantumCircuit(qubits_count)\n",
    "\n",
    "    for qubit, basis in enumerate(bases):\n",
    "\n",
    "        if basis == \"X\":\n",
    "            circuit.h(qubit)\n",
    "\n",
    "        elif basis == \"Y\":\n",
    "            circuit.sdg(qubit)\n",
    "            circuit.h(qubit)\n",
    "\n",
    "        elif basis == \"Z\":\n",
    "            pass\n",
    "\n",
    "    return circuit"
   ]
  },
  {
   "cell_type": "markdown",
   "id": "330031c8-1320-45ff-b0c2-6e1487a214a0",
   "metadata": {},
   "source": [
    "#### 1.2. Import Backend\n",
    "\n",
    "Available backends from IBM Qiskit are listed at [2].  To run this example we select the backend with 127 qubits:"
   ]
  },
  {
   "cell_type": "code",
   "execution_count": 3,
   "id": "44d41dd7-1696-47de-bb14-6273701d42bb",
   "metadata": {},
   "outputs": [],
   "source": [
    "FAKE_BACKEND = FakeKyiv()\n",
    "\n",
    "backend = AerSimulator.from_backend(FAKE_BACKEND)\n",
    "\n",
    "# backend.options.noise_model = None\n",
    "\n",
    "# qiskit.visualization.plot_gate_map(FAKE_BACKEND)"
   ]
  },
  {
   "cell_type": "markdown",
   "id": "41fbdfca",
   "metadata": {},
   "source": [
    "![image.png](Fig2_127qubit_IBMbackend_topology.png) \n",
    "\n",
    "*Fig.2. Schematic representation of FakeKyiv backend (127 qubits).*"
   ]
  },
  {
   "cell_type": "markdown",
   "id": "b3dbd0fd-3cb0-40c1-a764-0a843b884e53",
   "metadata": {
    "id": "b3dbd0fd-3cb0-40c1-a764-0a843b884e53",
    "tags": []
   },
   "source": [
    "### Circuit"
   ]
  },
  {
   "cell_type": "code",
   "execution_count": 24,
   "id": "25dcc1bb-aae5-45b5-9826-9049dd4ab96f",
   "metadata": {
    "id": "90eb621b-708b-4b95-8aae-5b505db8da5f"
   },
   "outputs": [],
   "source": [
    "# Parameters\n",
    "\n",
    "QUBITS_COUNT = 127\n",
    "CIRCUIT_DEPTH = 1\n",
    "MAX_GATE_SIZE = 4\n",
    "\n",
    "BASES_COUNT = 1\n",
    "\n",
    "OPTIMIZATION_LEVEL = 3\n",
    "\n",
    "SEED = 1234\n",
    "\n",
    "rng = np.random.default_rng(SEED) \n",
    "\n",
    "qubits = list(range(QUBITS_COUNT))\n",
    "\n",
    "## Random Circuit\n",
    "\n",
    "circuit = random_circuit(\n",
    "    num_qubits=QUBITS_COUNT, \n",
    "    depth=CIRCUIT_DEPTH,\n",
    "    max_operands=MAX_GATE_SIZE, \n",
    "    seed=SEED,\n",
    "    measure=False)\n",
    "\n",
    "# circuit.draw(fold=-1)\n",
    "# circuit.draw(fold=-1, output=\"mpl\")"
   ]
  },
  {
   "cell_type": "markdown",
   "id": "7f7ecdac-b2f3-4636-8747-1034eed2ee63",
   "metadata": {
    "id": "7f7ecdac-b2f3-4636-8747-1034eed2ee63"
   },
   "source": [
    "### Measurement Bases"
   ]
  },
  {
   "cell_type": "code",
   "execution_count": 5,
   "id": "159c1e11-b441-4d7a-93c7-1cfbb37e7ef0",
   "metadata": {
    "id": "159c1e11-b441-4d7a-93c7-1cfbb37e7ef0"
   },
   "outputs": [
    {
     "data": {
      "text/plain": [
       "(1, 127)"
      ]
     },
     "execution_count": 5,
     "metadata": {},
     "output_type": "execute_result"
    }
   ],
   "source": [
    "random_bases = rng.choice(['X','Y','Z'], size=(BASES_COUNT, QUBITS_COUNT))\n",
    "\n",
    "bases_list, shots_counts = np.unique(random_bases, axis=0, return_counts=True)\n",
    "\n",
    "bases_list.shape"
   ]
  },
  {
   "cell_type": "code",
   "execution_count": 6,
   "id": "8fb972e6-95f5-4ebd-8415-53b3f89b6150",
   "metadata": {
    "id": "8fb972e6-95f5-4ebd-8415-53b3f89b6150",
    "tags": []
   },
   "outputs": [
    {
     "data": {
      "text/plain": [
       "1"
      ]
     },
     "execution_count": 6,
     "metadata": {},
     "output_type": "execute_result"
    }
   ],
   "source": [
    "rotation_circuits = []\n",
    "\n",
    "for bases in bases_list:\n",
    "\n",
    "    rotation_circuit = build_bases_rotation_circuit(bases)\n",
    "\n",
    "    rotation_circuits.append(rotation_circuit)\n",
    "\n",
    "len(rotation_circuits)"
   ]
  },
  {
   "cell_type": "markdown",
   "id": "f6d7c756-bd16-4d1b-a4ea-a9b49b2224f3",
   "metadata": {
    "id": "f6d7c756-bd16-4d1b-a4ea-a9b49b2224f3"
   },
   "source": [
    "### Basic Transpilation - Slower Version!\n"
   ]
  },
  {
   "cell_type": "code",
   "execution_count": 7,
   "id": "e57ce961-e840-491d-8c1c-21310b4bd745",
   "metadata": {
    "id": "e57ce961-e840-491d-8c1c-21310b4bd745",
    "outputId": "bff4c7b5-30aa-4295-f29b-862e674a4380",
    "tags": []
   },
   "outputs": [
    {
     "name": "stderr",
     "output_type": "stream",
     "text": [
      "100%|███████████████████████████████████████████████████████████████████████| 1/1 [00:12<00:00, 12.49s/ basis]"
     ]
    },
    {
     "name": "stdout",
     "output_type": "stream",
     "text": [
      "estimated_time: 12.49\n"
     ]
    },
    {
     "name": "stderr",
     "output_type": "stream",
     "text": [
      "\n"
     ]
    }
   ],
   "source": [
    "start_time = time()\n",
    "\n",
    "# Compose and Transpile all Rotation Circuits\n",
    "\n",
    "shadow_circuits = []\n",
    "\n",
    "rotation_tracker = tqdm(rotation_circuits, unit=' basis', ncols=110)\n",
    "\n",
    "for rotation_circuit in rotation_tracker:\n",
    "\n",
    "    measurement_circuit = rotation_circuit.measure_all(inplace=False)\n",
    "\n",
    "    measured_circuit = circuit.compose(measurement_circuit)\n",
    "\n",
    "    # display(measured_circuit.draw(fold=-1))\n",
    "\n",
    "    shadow_circuit = qiskit.transpile(\n",
    "        measured_circuit,\n",
    "        backend,\n",
    "        seed_transpiler=SEED,\n",
    "        optimization_level=OPTIMIZATION_LEVEL)\n",
    "\n",
    "    shadow_circuits.append(shadow_circuit)\n",
    "\n",
    "estimated_time = time() - start_time\n",
    "\n",
    "print(f\"estimated_time: {estimated_time:.02f}\")"
   ]
  },
  {
   "cell_type": "markdown",
   "id": "9a792284-52a1-4d26-aff0-079fa71160a3",
   "metadata": {
    "id": "9a792284-52a1-4d26-aff0-079fa71160a3"
   },
   "source": [
    "### Transpile Right - Much Faster!"
   ]
  },
  {
   "cell_type": "code",
   "execution_count": 8,
   "id": "83f9d09c-e309-4c73-82b9-5861eec5aa40",
   "metadata": {
    "id": "83f9d09c-e309-4c73-82b9-5861eec5aa40",
    "outputId": "3a350493-23b1-4489-f5f9-7497f56e8a20"
   },
   "outputs": [
    {
     "name": "stderr",
     "output_type": "stream",
     "text": [
      "100%|███████████████████████████████████████████████████████████████████████| 1/1 [00:00<00:00, 11.94 basis/s]"
     ]
    },
    {
     "name": "stdout",
     "output_type": "stream",
     "text": [
      "estimated_time: 11.64\n"
     ]
    },
    {
     "name": "stderr",
     "output_type": "stream",
     "text": [
      "\n"
     ]
    }
   ],
   "source": [
    "start_time = time()\n",
    "\n",
    "# Transpile Central Part\n",
    "\n",
    "transpiled_central_circuit = qiskit.transpile(\n",
    "    circuit,\n",
    "    backend,\n",
    "    seed_transpiler=SEED,\n",
    "    optimization_level=OPTIMIZATION_LEVEL)\n",
    "\n",
    "\n",
    "# Transpile Right all Rotation Circuits\n",
    "\n",
    "shadow_circuits = []\n",
    "\n",
    "rotation_tracker = tqdm(rotation_circuits, unit=' basis', ncols=110)\n",
    "\n",
    "for rotation_circuit in rotation_tracker:\n",
    "\n",
    "    measurement_circuit = rotation_circuit.measure_all(inplace=False)\n",
    "\n",
    "    shadow_circuit = transpile_right(\n",
    "        transpiled_central_circuit,\n",
    "        measurement_circuit,\n",
    "        backend=backend,\n",
    "        seed_transpiler=SEED,\n",
    "        optimization_level=OPTIMIZATION_LEVEL)\n",
    "\n",
    "    shadow_circuits.append(shadow_circuit)\n",
    "\n",
    "\n",
    "estimated_time = time() - start_time\n",
    "\n",
    "print(f\"estimated_time: {estimated_time:.02f}\")"
   ]
  },
  {
   "cell_type": "markdown",
   "id": "92cf5ba6-99a4-4527-9c39-22dd25eed0ef",
   "metadata": {},
   "source": [
    "### Compare Transpilation Times"
   ]
  },
  {
   "cell_type": "code",
   "execution_count": 9,
   "id": "36b28595-d03d-462a-a164-d89534ab0f4c",
   "metadata": {},
   "outputs": [],
   "source": [
    "bases_counts = list(range(1, 1000))\n",
    "\n",
    "basic_transpile_time = 20\n",
    "transpile_central_time = 18\n",
    "transpile_right_time = 0.2"
   ]
  },
  {
   "cell_type": "code",
   "execution_count": 10,
   "id": "c9e6f27e-08aa-4890-a7d0-3d7610b9687a",
   "metadata": {},
   "outputs": [],
   "source": [
    "basic_transpile_totals = []\n",
    "transpile_right_totals = []\n",
    "\n",
    "for bases_count in bases_counts:\n",
    "\n",
    "    basic_transpile_total = bases_count * basic_transpile_time\n",
    "\n",
    "    transpile_right_total = transpile_central_time + bases_count * transpile_right_time\n",
    "    \n",
    "    basic_transpile_totals.append(basic_transpile_total)\n",
    "    transpile_right_totals.append(transpile_right_total)"
   ]
  },
  {
   "cell_type": "markdown",
   "id": "30d3aad0-ab12-49f9-a15d-c7cf07c3318f",
   "metadata": {},
   "source": [
    "### Plots"
   ]
  },
  {
   "cell_type": "code",
   "execution_count": 23,
   "id": "139ca91e-06e3-4774-9fb7-53d36d48a52a",
   "metadata": {},
   "outputs": [
    {
     "data": {
      "image/png": "[encoded data removed]",
      "text/plain": [
       "<Figure size 640x480 with 1 Axes>"
      ]
     },
     "metadata": {},
     "output_type": "display_data"
    }
   ],
   "source": [
    "# Plot Transpilation times\n",
    "\n",
    "plt.title(\"Transpilation time comparison\")\n",
    "plt.xlabel(\"Bases count\")\n",
    "plt.ylabel(\"Total transpilation time, seconds\")\n",
    "\n",
    "plt.plot(bases_counts, basic_transpile_totals, label=\"Basic Transpilation\")\n",
    "plt.plot(bases_counts, transpile_right_totals, label=\"Transpile Right\")\n",
    "\n",
    "plt.gca().set_yscale('log')\n",
    "\n",
    "plt.legend()\n",
    "plt.show()"
   ]
  },
  {
   "cell_type": "code",
   "execution_count": null,
   "id": "3e6c881c-9f45-4a54-bb4c-c530bfab3804",
   "metadata": {},
   "outputs": [],
   "source": []
  }
 ],
 "metadata": {
  "colab": {
   "provenance": []
  },
  "kernelspec": {
   "display_name": "Qiskit_1.0",
   "language": "python",
   "name": "qiskit_1.0"
  },
  "language_info": {
   "codemirror_mode": {
    "name": "ipython",
    "version": 3
   },
   "file_extension": ".py",
   "mimetype": "text/x-python",
   "name": "python",
   "nbconvert_exporter": "python",
   "pygments_lexer": "ipython3",
   "version": "3.10.13"
  }
 },
 "nbformat": 4,
 "nbformat_minor": 5
}
