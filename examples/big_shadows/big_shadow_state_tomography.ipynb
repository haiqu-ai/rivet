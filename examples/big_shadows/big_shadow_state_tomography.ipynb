{
 "cells": [
  {
   "cell_type": "markdown",
   "id": "3ab8d635-377b-4e63-8309-3027badc7003",
   "metadata": {
    "id": "3ab8d635-377b-4e63-8309-3027badc7003"
   },
   "source": [
    "# Big Shadow State Tomography"
   ]
  },
  {
   "cell_type": "code",
   "execution_count": 1,
   "id": "97625d2b",
   "metadata": {},
   "outputs": [],
   "source": [
    "import numpy as np\n",
    "\n",
    "from time import time\n",
    "from tqdm import tqdm\n",
    "\n",
    "import qiskit\n",
    "\n",
    "from qiskit_aer import AerSimulator\n",
    "from qiskit.visualization import plot_gate_map \n",
    "\n",
    "from qiskit_ibm_runtime.fake_provider import FakeLimaV2\n",
    "from qiskit_ibm_runtime.fake_provider import FakeMontrealV2\n",
    "from qiskit_ibm_runtime.fake_provider import FakeKyiv\n",
    "\n",
    "from qiskit.circuit.random import random_circuit\n",
    "\n",
    "import matplotlib.pyplot as plt\n",
    "\n",
    "plt.style.use(\"dark_background\")\n",
    "\n",
    "%cd -q ../..\n",
    "\n",
    "from rivet_transpiler import transpile_right"
   ]
  },
  {
   "cell_type": "code",
   "execution_count": 2,
   "id": "e111a1c4",
   "metadata": {
    "id": "e111a1c4"
   },
   "outputs": [],
   "source": [
    "FAKE_BACKEND = FakeKyiv()\n",
    "\n",
    "backend = AerSimulator.from_backend(FAKE_BACKEND)\n",
    "\n",
    "backend.options.noise_model = None\n",
    "\n",
    "# qiskit.visualization.plot_gate_map(FAKE_BACKEND)"
   ]
  },
  {
   "cell_type": "markdown",
   "id": "540efa24-4f39-43b8-8cc0-1fd1bfe86170",
   "metadata": {
    "id": "540efa24-4f39-43b8-8cc0-1fd1bfe86170"
   },
   "source": [
    "#### 3.3. Functions"
   ]
  },
  {
   "cell_type": "code",
   "execution_count": 3,
   "id": "9d683330-3925-404f-a408-635995f978f5",
   "metadata": {
    "id": "9d683330-3925-404f-a408-635995f978f5"
   },
   "outputs": [],
   "source": [
    "def get_ghz_circuit(qubits_count):\n",
    "\n",
    "    qubits = list(range(qubits_count))\n",
    "\n",
    "    circuit = qiskit.QuantumCircuit(qubits_count)\n",
    "\n",
    "    circuit.h(0)\n",
    "\n",
    "    for control, target in zip(qubits, qubits[1:]):\n",
    "\n",
    "        circuit.cx(control, target)\n",
    "\n",
    "    return circuit"
   ]
  },
  {
   "cell_type": "code",
   "execution_count": 4,
   "id": "133ceed5-a2b3-4133-9f31-3b7fe58f416c",
   "metadata": {
    "id": "133ceed5-a2b3-4133-9f31-3b7fe58f416c"
   },
   "outputs": [],
   "source": [
    "def rotate_qubit_to_basis(circuit, qubit, basis):\n",
    "\n",
    "    if basis == \"X\":\n",
    "        circuit.h(qubit)\n",
    "\n",
    "    elif basis == \"Y\":\n",
    "        circuit.sdg(qubit)\n",
    "        circuit.h(qubit)\n",
    "\n",
    "    elif basis == \"Z\":\n",
    "        pass"
   ]
  },
  {
   "cell_type": "code",
   "execution_count": 5,
   "id": "1ef7c0a7-6b49-4da6-b8e5-082f72cc052b",
   "metadata": {
    "id": "1ef7c0a7-6b49-4da6-b8e5-082f72cc052b"
   },
   "outputs": [],
   "source": [
    "def build_bases_rotation_circuit(bases):\n",
    "\n",
    "    qubits_count = len(bases)\n",
    "\n",
    "    circuit = qiskit.QuantumCircuit(qubits_count)\n",
    "\n",
    "    for qubit, basis in enumerate(bases):\n",
    "\n",
    "        if basis == \"X\":\n",
    "            circuit.h(qubit)\n",
    "\n",
    "        elif basis == \"Y\":\n",
    "            circuit.sdg(qubit)\n",
    "            circuit.h(qubit)\n",
    "\n",
    "        elif basis == \"Z\":\n",
    "            pass\n",
    "\n",
    "    return circuit"
   ]
  },
  {
   "cell_type": "code",
   "execution_count": 6,
   "id": "f4f09362-be50-4258-9099-509da33c3a95",
   "metadata": {
    "id": "f4f09362-be50-4258-9099-509da33c3a95"
   },
   "outputs": [],
   "source": [
    "def get_inverted_channel(channel, qubits_count):\n",
    "\n",
    "    identity = np.eye(2 ** qubits_count)\n",
    "\n",
    "    inverted_channel = (2 ** qubits_count + 1) * channel - identity\n",
    "\n",
    "    return inverted_channel"
   ]
  },
  {
   "cell_type": "code",
   "execution_count": 7,
   "id": "926c81fe-dcc9-4b40-9784-31bc98d1d411",
   "metadata": {
    "id": "926c81fe-dcc9-4b40-9784-31bc98d1d411"
   },
   "outputs": [],
   "source": [
    "def get_basis_unitary(basis):\n",
    "\n",
    "    if basis == \"X\":\n",
    "        unitary = 1/np.sqrt(2) * np.array([[1.,1.],\n",
    "                                           [1.,-1.]])\n",
    "    elif basis == \"Y\":\n",
    "        unitary = 1/np.sqrt(2) * np.array([[1.,-1.0j],\n",
    "                                           [1.,1.j]])\n",
    "    elif basis == \"Z\":\n",
    "        unitary = np.eye(2)\n",
    "\n",
    "    return unitary"
   ]
  },
  {
   "cell_type": "code",
   "execution_count": 8,
   "id": "12e78ecf-98b3-4e7d-ae79-946ab79dff05",
   "metadata": {
    "id": "12e78ecf-98b3-4e7d-ae79-946ab79dff05"
   },
   "outputs": [],
   "source": [
    "def get_mean_square_error(a, b):\n",
    "\n",
    "    mean_square_error = np.abs(((a - b) ** 2).mean())\n",
    "\n",
    "    return mean_square_error"
   ]
  },
  {
   "cell_type": "markdown",
   "id": "b3dbd0fd-3cb0-40c1-a764-0a843b884e53",
   "metadata": {
    "id": "b3dbd0fd-3cb0-40c1-a764-0a843b884e53"
   },
   "source": [
    "### Circuit"
   ]
  },
  {
   "cell_type": "code",
   "execution_count": 9,
   "id": "90eb621b-708b-4b95-8aae-5b505db8da5f",
   "metadata": {
    "id": "90eb621b-708b-4b95-8aae-5b505db8da5f"
   },
   "outputs": [],
   "source": [
    "QUBITS_COUNT = 3\n",
    "SU2_LAYERS_COUNT = 10\n",
    "PARAMETRIZATION_RATIO = 0.25\n",
    "\n",
    "OPTIMIZATION_LEVEL = 3\n",
    "\n",
    "SEED = 1234"
   ]
  },
  {
   "cell_type": "code",
   "execution_count": 10,
   "id": "a1e88da4-fe0c-4326-b167-a47075b4c939",
   "metadata": {
    "id": "a1e88da4-fe0c-4326-b167-a47075b4c939"
   },
   "outputs": [],
   "source": [
    "qubits = list(range(QUBITS_COUNT))\n",
    "\n",
    "rng = np.random.default_rng(SEED) "
   ]
  },
  {
   "cell_type": "markdown",
   "id": "cd5e4f25-7d2e-41ea-8f60-693a2976c1a6",
   "metadata": {
    "id": "cd5e4f25-7d2e-41ea-8f60-693a2976c1a6",
    "tags": []
   },
   "source": [
    "#### 4.1.2.  Parametrized SU2 Circuit"
   ]
  },
  {
   "cell_type": "code",
   "execution_count": 11,
   "id": "7ae1b32f-4006-4aec-b370-e3a59aec5cae",
   "metadata": {
    "id": "7ae1b32f-4006-4aec-b370-e3a59aec5cae",
    "tags": []
   },
   "outputs": [
    {
     "name": "stdout",
     "output_type": "stream",
     "text": [
      "circuit.depth(): 100\n"
     ]
    },
    {
     "data": {
      "text/html": [
       "<pre style=\"word-wrap: normal;white-space: pre;background: #fff0;line-height: 1.1;font-family: &quot;Courier New&quot;,Courier,monospace\">     ┌─────────┐┌─────────┐┌─────────┐┌─────────┐┌─────────┐┌─────────┐┌─────────┐┌─────────┐┌─────────┐┌─────────┐┌─────────┐┌─────────┐┌─────────┐┌─────────┐┌─────────┐┌─────────┐┌─────────┐┌─────────┐┌─────────┐┌─────────┐┌─────────┐┌─────────┐┌─────────┐┌─────────┐┌─────────┐┌─────────┐┌─────────┐┌─────────┐┌─────────┐┌─────────┐┌─────────────┐┌─────────────┐     ┌─────────────┐┌─────────────┐                    ┌─────────────┐┌─────────────┐                    ┌─────────────┐┌──────────────┐                    ┌─────────────┐┌─────────────┐                     ┌─────────────┐┌─────────────┐                    ┌─────────────┐┌─────────────┐                    ┌─────────────┐ ┌──────────────┐                     ┌─────────────┐ ┌────────────┐                     ┌────────────┐┌─────────────┐                      ┌─────────┐┌─────────┐┌─────────┐┌─────────┐┌─────────┐┌─────────┐┌─────────┐┌─────────┐┌─────────┐┌─────────┐┌─────────┐┌─────────┐┌─────────┐┌─────────┐┌─────────┐┌─────────┐┌─────────┐┌─────────┐┌─────────┐┌─────────┐┌─────────┐┌─────────┐┌─────────┐┌─────────┐┌─────────┐┌─────────┐┌─────────┐┌─────────┐┌─────────┐┌─────────┐           \n",
       "q_0: ┤ Rz(0.5) ├┤ Rz(0.5) ├┤ Rz(0.5) ├┤ Rz(0.5) ├┤ Rz(0.5) ├┤ Rz(0.5) ├┤ Rz(0.5) ├┤ Rz(0.5) ├┤ Rz(0.5) ├┤ Rz(0.5) ├┤ Rz(0.5) ├┤ Rz(0.5) ├┤ Rz(0.5) ├┤ Rz(0.5) ├┤ Rz(0.5) ├┤ Rz(0.5) ├┤ Rz(0.5) ├┤ Rz(0.5) ├┤ Rz(0.5) ├┤ Rz(0.5) ├┤ Rz(0.5) ├┤ Rz(0.5) ├┤ Rz(0.5) ├┤ Rz(0.5) ├┤ Rz(0.5) ├┤ Rz(0.5) ├┤ Rz(0.5) ├┤ Rz(0.5) ├┤ Rz(0.5) ├┤ Rz(0.5) ├┤ Ry(0.41862) ├┤ Rz(0.21205) ├──■──┤ Ry(0.69063) ├┤ Rz(0.31597) ├─────────────────■──┤ Ry(0.36943) ├┤ Rz(0.89856) ├─────────────────■──┤ Ry(0.15481) ├┤ Rz(0.090256) ├─────────────────■──┤ Ry(0.29977) ├┤ Rz(0.99744) ├──────────────────■──┤ Ry(0.52817) ├┤ Rz(0.76373) ├─────────────────■──┤ Ry(0.26761) ├┤ Rz(0.89474) ├─────────────────■──┤ Ry(0.44226) ├─┤ Rz(0.067488) ├──────────────────■──┤ Ry(0.83919) ├─┤ Rz(0.6634) ├──────────────────■──┤ Ry(0.1278) ├┤ Rz(0.95441) ├───────────────────■──┤ Rz(1.5) ├┤ Rz(1.5) ├┤ Rz(1.5) ├┤ Rz(1.5) ├┤ Rz(1.5) ├┤ Rz(1.5) ├┤ Rz(1.5) ├┤ Rz(1.5) ├┤ Rz(1.5) ├┤ Rz(1.5) ├┤ Rz(1.5) ├┤ Rz(1.5) ├┤ Rz(1.5) ├┤ Rz(1.5) ├┤ Rz(1.5) ├┤ Rz(1.5) ├┤ Rz(1.5) ├┤ Rz(1.5) ├┤ Rz(1.5) ├┤ Rz(1.5) ├┤ Rz(1.5) ├┤ Rz(1.5) ├┤ Rz(1.5) ├┤ Rz(1.5) ├┤ Rz(1.5) ├┤ Rz(1.5) ├┤ Rz(1.5) ├┤ Rz(1.5) ├┤ Rz(1.5) ├┤ Rz(1.5) ├───────────\n",
       "     ├─────────┤├─────────┤├─────────┤├─────────┤├─────────┤├─────────┤├─────────┤├─────────┤├─────────┤├─────────┤├─────────┤├─────────┤├─────────┤├─────────┤├─────────┤├─────────┤├─────────┤├─────────┤├─────────┤├─────────┤├─────────┤├─────────┤├─────────┤├─────────┤├─────────┤├─────────┤├─────────┤├─────────┤├─────────┤├─────────┤└┬───────────┬┘├─────────────┤┌─┴─┐└─────────────┘├─────────────┤ ┌────────────┐┌─┴─┐└─────────────┘├─────────────┤┌─────────────┐┌─┴─┐└─────────────┘├──────────────┤┌─────────────┐┌─┴─┐└─────────────┘├─────────────┤┌──────────────┐┌─┴─┐└─────────────┘├─────────────┤┌─────────────┐┌─┴─┐└─────────────┘├─────────────┤ ┌────────────┐┌─┴─┐└─────────────┘ └┬────────────┬┘┌─────────────┐ ┌─┴─┐└─────────────┘┌┴────────────┴┐┌─────────────┐┌─┴─┐└────────────┘├─────────────┤┌───────────────┐┌─┴─┐└─────────┘├─────────┤├─────────┤├─────────┤├─────────┤├─────────┤├─────────┤├─────────┤├─────────┤├─────────┤├─────────┤├─────────┤├─────────┤├─────────┤├─────────┤├─────────┤├─────────┤├─────────┤├─────────┤├─────────┤├─────────┤├─────────┤├─────────┤├─────────┤├─────────┤├─────────┤├─────────┤├─────────┤├─────────┤├─────────┤┌─────────┐\n",
       "q_1: ┤ Rz(0.5) ├┤ Rz(0.5) ├┤ Rz(0.5) ├┤ Rz(0.5) ├┤ Rz(0.5) ├┤ Rz(0.5) ├┤ Rz(0.5) ├┤ Rz(0.5) ├┤ Rz(0.5) ├┤ Rz(0.5) ├┤ Rz(0.5) ├┤ Rz(0.5) ├┤ Rz(0.5) ├┤ Rz(0.5) ├┤ Rz(0.5) ├┤ Rz(0.5) ├┤ Rz(0.5) ├┤ Rz(0.5) ├┤ Rz(0.5) ├┤ Rz(0.5) ├┤ Rz(0.5) ├┤ Rz(0.5) ├┤ Rz(0.5) ├┤ Rz(0.5) ├┤ Rz(0.5) ├┤ Rz(0.5) ├┤ Rz(0.5) ├┤ Rz(0.5) ├┤ Rz(0.5) ├┤ Rz(0.5) ├─┤ Ry(0.761) ├─┤ Rz(0.58715) ├┤ X ├───────■───────┤ Ry(0.64583) ├─┤ Rz(0.5493) ├┤ X ├───────■───────┤ Ry(0.45009) ├┤ Rz(0.38811) ├┤ X ├───────■───────┤ Ry(0.051073) ├┤ Rz(0.42664) ├┤ X ├───────■───────┤ Ry(0.22503) ├┤ Rz(0.086385) ├┤ X ├───────■───────┤ Ry(0.81144) ├┤ Rz(0.66385) ├┤ X ├───────■───────┤ Ry(0.72824) ├─┤ Rz(0.9913) ├┤ X ├───────■─────────┤ Ry(0.4466) ├─┤ Rz(0.66305) ├─┤ X ├───────■───────┤ Ry(0.048087) ├┤ Rz(0.83575) ├┤ X ├──────■───────┤ Ry(0.96988) ├┤ Rz(0.0039825) ├┤ X ├─────■─────┤ Rz(1.5) ├┤ Rz(1.5) ├┤ Rz(1.5) ├┤ Rz(1.5) ├┤ Rz(1.5) ├┤ Rz(1.5) ├┤ Rz(1.5) ├┤ Rz(1.5) ├┤ Rz(1.5) ├┤ Rz(1.5) ├┤ Rz(1.5) ├┤ Rz(1.5) ├┤ Rz(1.5) ├┤ Rz(1.5) ├┤ Rz(1.5) ├┤ Rz(1.5) ├┤ Rz(1.5) ├┤ Rz(1.5) ├┤ Rz(1.5) ├┤ Rz(1.5) ├┤ Rz(1.5) ├┤ Rz(1.5) ├┤ Rz(1.5) ├┤ Rz(1.5) ├┤ Rz(1.5) ├┤ Rz(1.5) ├┤ Rz(1.5) ├┤ Rz(1.5) ├┤ Rz(1.5) ├┤ Rz(1.5) ├\n",
       "     ├─────────┤├─────────┤├─────────┤├─────────┤├─────────┤├─────────┤├─────────┤├─────────┤├─────────┤├─────────┤├─────────┤├─────────┤├─────────┤├─────────┤├─────────┤├─────────┤├─────────┤├─────────┤├─────────┤├─────────┤├─────────┤├─────────┤├─────────┤├─────────┤├─────────┤├─────────┤├─────────┤├─────────┤├─────────┤├─────────┤┌┴───────────┴┐├─────────────┤└───┘     ┌─┴─┐     ├─────────────┤┌┴────────────┤└───┘     ┌─┴─┐     └┬────────────┤├─────────────┤└───┘     ┌─┴─┐     ├─────────────┬┘└┬────────────┤└───┘     ┌─┴─┐     └─┬──────────┬┘├─────────────┬┘└───┘     ┌─┴─┐     ├─────────────┤├─────────────┤└───┘     ┌─┴─┐     ├─────────────┤┌┴────────────┤└───┘     ┌─┴─┐     ┌─┴────────────┴┐├─────────────┴┐└───┘     ┌─┴─┐     ├─────────────┬┘├─────────────┤└───┘    ┌─┴─┐     ├─────────────┤└┬─────────────┬┘└───┘   ┌─┴─┐   ├─────────┤├─────────┤├─────────┤├─────────┤├─────────┤├─────────┤├─────────┤├─────────┤├─────────┤├─────────┤├─────────┤├─────────┤├─────────┤├─────────┤├─────────┤├─────────┤├─────────┤├─────────┤├─────────┤├─────────┤├─────────┤├─────────┤├─────────┤├─────────┤├─────────┤├─────────┤├─────────┤├─────────┤├─────────┤├─────────┤\n",
       "q_2: ┤ Rz(0.5) ├┤ Rz(0.5) ├┤ Rz(0.5) ├┤ Rz(0.5) ├┤ Rz(0.5) ├┤ Rz(0.5) ├┤ Rz(0.5) ├┤ Rz(0.5) ├┤ Rz(0.5) ├┤ Rz(0.5) ├┤ Rz(0.5) ├┤ Rz(0.5) ├┤ Rz(0.5) ├┤ Rz(0.5) ├┤ Rz(0.5) ├┤ Rz(0.5) ├┤ Rz(0.5) ├┤ Rz(0.5) ├┤ Rz(0.5) ├┤ Rz(0.5) ├┤ Rz(0.5) ├┤ Rz(0.5) ├┤ Rz(0.5) ├┤ Rz(0.5) ├┤ Rz(0.5) ├┤ Rz(0.5) ├┤ Rz(0.5) ├┤ Rz(0.5) ├┤ Rz(0.5) ├┤ Rz(0.5) ├┤ Ry(0.17258) ├┤ Rz(0.25706) ├──────────┤ X ├─────┤ Ry(0.61987) ├┤ Rz(0.95559) ├──────────┤ X ├──────┤ Ry(0.6063) ├┤ Rz(0.86671) ├──────────┤ X ├─────┤ Ry(0.79166) ├──┤ Rz(0.9904) ├──────────┤ X ├───────┤ Ry(0.68) ├─┤ Rz(0.91969) ├───────────┤ X ├─────┤ Ry(0.86582) ├┤ Rz(0.49984) ├──────────┤ X ├─────┤ Ry(0.21887) ├┤ Rz(0.47072) ├──────────┤ X ├─────┤ Ry(0.0066899) ├┤ Rz(0.097136) ├──────────┤ X ├─────┤ Ry(0.64112) ├─┤ Rz(0.99223) ├─────────┤ X ├─────┤ Ry(0.65951) ├─┤ Rz(0.93321) ├─────────┤ X ├───┤ Rz(1.5) ├┤ Rz(1.5) ├┤ Rz(1.5) ├┤ Rz(1.5) ├┤ Rz(1.5) ├┤ Rz(1.5) ├┤ Rz(1.5) ├┤ Rz(1.5) ├┤ Rz(1.5) ├┤ Rz(1.5) ├┤ Rz(1.5) ├┤ Rz(1.5) ├┤ Rz(1.5) ├┤ Rz(1.5) ├┤ Rz(1.5) ├┤ Rz(1.5) ├┤ Rz(1.5) ├┤ Rz(1.5) ├┤ Rz(1.5) ├┤ Rz(1.5) ├┤ Rz(1.5) ├┤ Rz(1.5) ├┤ Rz(1.5) ├┤ Rz(1.5) ├┤ Rz(1.5) ├┤ Rz(1.5) ├┤ Rz(1.5) ├┤ Rz(1.5) ├┤ Rz(1.5) ├┤ Rz(1.5) ├\n",
       "     └─────────┘└─────────┘└─────────┘└─────────┘└─────────┘└─────────┘└─────────┘└─────────┘└─────────┘└─────────┘└─────────┘└─────────┘└─────────┘└─────────┘└─────────┘└─────────┘└─────────┘└─────────┘└─────────┘└─────────┘└─────────┘└─────────┘└─────────┘└─────────┘└─────────┘└─────────┘└─────────┘└─────────┘└─────────┘└─────────┘└─────────────┘└─────────────┘          └───┘     └─────────────┘└─────────────┘          └───┘      └────────────┘└─────────────┘          └───┘     └─────────────┘  └────────────┘          └───┘       └──────────┘ └─────────────┘           └───┘     └─────────────┘└─────────────┘          └───┘     └─────────────┘└─────────────┘          └───┘     └───────────────┘└──────────────┘          └───┘     └─────────────┘ └─────────────┘         └───┘     └─────────────┘ └─────────────┘         └───┘   └─────────┘└─────────┘└─────────┘└─────────┘└─────────┘└─────────┘└─────────┘└─────────┘└─────────┘└─────────┘└─────────┘└─────────┘└─────────┘└─────────┘└─────────┘└─────────┘└─────────┘└─────────┘└─────────┘└─────────┘└─────────┘└─────────┘└─────────┘└─────────┘└─────────┘└─────────┘└─────────┘└─────────┘└─────────┘└─────────┘</pre>"
      ],
      "text/plain": [
       "     ┌─────────┐┌─────────┐┌─────────┐┌─────────┐┌─────────┐┌─────────┐┌─────────┐┌─────────┐┌─────────┐┌─────────┐┌─────────┐┌─────────┐┌─────────┐┌─────────┐┌─────────┐┌─────────┐┌─────────┐┌─────────┐┌─────────┐┌─────────┐┌─────────┐┌─────────┐┌─────────┐┌─────────┐┌─────────┐┌─────────┐┌─────────┐┌─────────┐┌─────────┐┌─────────┐┌─────────────┐┌─────────────┐     ┌─────────────┐┌─────────────┐                    ┌─────────────┐┌─────────────┐                    ┌─────────────┐┌──────────────┐                    ┌─────────────┐┌─────────────┐                     ┌─────────────┐┌─────────────┐                    ┌─────────────┐┌─────────────┐                    ┌─────────────┐ ┌──────────────┐                     ┌─────────────┐ ┌────────────┐                     ┌────────────┐┌─────────────┐                      ┌─────────┐┌─────────┐┌─────────┐┌─────────┐┌─────────┐┌─────────┐┌─────────┐┌─────────┐┌─────────┐┌─────────┐┌─────────┐┌─────────┐┌─────────┐┌─────────┐┌─────────┐┌─────────┐┌─────────┐┌─────────┐┌─────────┐┌─────────┐┌─────────┐┌─────────┐┌─────────┐┌─────────┐┌─────────┐┌─────────┐┌─────────┐┌─────────┐┌─────────┐┌─────────┐           \n",
       "q_0: ┤ Rz(0.5) ├┤ Rz(0.5) ├┤ Rz(0.5) ├┤ Rz(0.5) ├┤ Rz(0.5) ├┤ Rz(0.5) ├┤ Rz(0.5) ├┤ Rz(0.5) ├┤ Rz(0.5) ├┤ Rz(0.5) ├┤ Rz(0.5) ├┤ Rz(0.5) ├┤ Rz(0.5) ├┤ Rz(0.5) ├┤ Rz(0.5) ├┤ Rz(0.5) ├┤ Rz(0.5) ├┤ Rz(0.5) ├┤ Rz(0.5) ├┤ Rz(0.5) ├┤ Rz(0.5) ├┤ Rz(0.5) ├┤ Rz(0.5) ├┤ Rz(0.5) ├┤ Rz(0.5) ├┤ Rz(0.5) ├┤ Rz(0.5) ├┤ Rz(0.5) ├┤ Rz(0.5) ├┤ Rz(0.5) ├┤ Ry(0.41862) ├┤ Rz(0.21205) ├──■──┤ Ry(0.69063) ├┤ Rz(0.31597) ├─────────────────■──┤ Ry(0.36943) ├┤ Rz(0.89856) ├─────────────────■──┤ Ry(0.15481) ├┤ Rz(0.090256) ├─────────────────■──┤ Ry(0.29977) ├┤ Rz(0.99744) ├──────────────────■──┤ Ry(0.52817) ├┤ Rz(0.76373) ├─────────────────■──┤ Ry(0.26761) ├┤ Rz(0.89474) ├─────────────────■──┤ Ry(0.44226) ├─┤ Rz(0.067488) ├──────────────────■──┤ Ry(0.83919) ├─┤ Rz(0.6634) ├──────────────────■──┤ Ry(0.1278) ├┤ Rz(0.95441) ├───────────────────■──┤ Rz(1.5) ├┤ Rz(1.5) ├┤ Rz(1.5) ├┤ Rz(1.5) ├┤ Rz(1.5) ├┤ Rz(1.5) ├┤ Rz(1.5) ├┤ Rz(1.5) ├┤ Rz(1.5) ├┤ Rz(1.5) ├┤ Rz(1.5) ├┤ Rz(1.5) ├┤ Rz(1.5) ├┤ Rz(1.5) ├┤ Rz(1.5) ├┤ Rz(1.5) ├┤ Rz(1.5) ├┤ Rz(1.5) ├┤ Rz(1.5) ├┤ Rz(1.5) ├┤ Rz(1.5) ├┤ Rz(1.5) ├┤ Rz(1.5) ├┤ Rz(1.5) ├┤ Rz(1.5) ├┤ Rz(1.5) ├┤ Rz(1.5) ├┤ Rz(1.5) ├┤ Rz(1.5) ├┤ Rz(1.5) ├───────────\n",
       "     ├─────────┤├─────────┤├─────────┤├─────────┤├─────────┤├─────────┤├─────────┤├─────────┤├─────────┤├─────────┤├─────────┤├─────────┤├─────────┤├─────────┤├─────────┤├─────────┤├─────────┤├─────────┤├─────────┤├─────────┤├─────────┤├─────────┤├─────────┤├─────────┤├─────────┤├─────────┤├─────────┤├─────────┤├─────────┤├─────────┤└┬───────────┬┘├─────────────┤┌─┴─┐└─────────────┘├─────────────┤ ┌────────────┐┌─┴─┐└─────────────┘├─────────────┤┌─────────────┐┌─┴─┐└─────────────┘├──────────────┤┌─────────────┐┌─┴─┐└─────────────┘├─────────────┤┌──────────────┐┌─┴─┐└─────────────┘├─────────────┤┌─────────────┐┌─┴─┐└─────────────┘├─────────────┤ ┌────────────┐┌─┴─┐└─────────────┘ └┬────────────┬┘┌─────────────┐ ┌─┴─┐└─────────────┘┌┴────────────┴┐┌─────────────┐┌─┴─┐└────────────┘├─────────────┤┌───────────────┐┌─┴─┐└─────────┘├─────────┤├─────────┤├─────────┤├─────────┤├─────────┤├─────────┤├─────────┤├─────────┤├─────────┤├─────────┤├─────────┤├─────────┤├─────────┤├─────────┤├─────────┤├─────────┤├─────────┤├─────────┤├─────────┤├─────────┤├─────────┤├─────────┤├─────────┤├─────────┤├─────────┤├─────────┤├─────────┤├─────────┤├─────────┤┌─────────┐\n",
       "q_1: ┤ Rz(0.5) ├┤ Rz(0.5) ├┤ Rz(0.5) ├┤ Rz(0.5) ├┤ Rz(0.5) ├┤ Rz(0.5) ├┤ Rz(0.5) ├┤ Rz(0.5) ├┤ Rz(0.5) ├┤ Rz(0.5) ├┤ Rz(0.5) ├┤ Rz(0.5) ├┤ Rz(0.5) ├┤ Rz(0.5) ├┤ Rz(0.5) ├┤ Rz(0.5) ├┤ Rz(0.5) ├┤ Rz(0.5) ├┤ Rz(0.5) ├┤ Rz(0.5) ├┤ Rz(0.5) ├┤ Rz(0.5) ├┤ Rz(0.5) ├┤ Rz(0.5) ├┤ Rz(0.5) ├┤ Rz(0.5) ├┤ Rz(0.5) ├┤ Rz(0.5) ├┤ Rz(0.5) ├┤ Rz(0.5) ├─┤ Ry(0.761) ├─┤ Rz(0.58715) ├┤ X ├───────■───────┤ Ry(0.64583) ├─┤ Rz(0.5493) ├┤ X ├───────■───────┤ Ry(0.45009) ├┤ Rz(0.38811) ├┤ X ├───────■───────┤ Ry(0.051073) ├┤ Rz(0.42664) ├┤ X ├───────■───────┤ Ry(0.22503) ├┤ Rz(0.086385) ├┤ X ├───────■───────┤ Ry(0.81144) ├┤ Rz(0.66385) ├┤ X ├───────■───────┤ Ry(0.72824) ├─┤ Rz(0.9913) ├┤ X ├───────■─────────┤ Ry(0.4466) ├─┤ Rz(0.66305) ├─┤ X ├───────■───────┤ Ry(0.048087) ├┤ Rz(0.83575) ├┤ X ├──────■───────┤ Ry(0.96988) ├┤ Rz(0.0039825) ├┤ X ├─────■─────┤ Rz(1.5) ├┤ Rz(1.5) ├┤ Rz(1.5) ├┤ Rz(1.5) ├┤ Rz(1.5) ├┤ Rz(1.5) ├┤ Rz(1.5) ├┤ Rz(1.5) ├┤ Rz(1.5) ├┤ Rz(1.5) ├┤ Rz(1.5) ├┤ Rz(1.5) ├┤ Rz(1.5) ├┤ Rz(1.5) ├┤ Rz(1.5) ├┤ Rz(1.5) ├┤ Rz(1.5) ├┤ Rz(1.5) ├┤ Rz(1.5) ├┤ Rz(1.5) ├┤ Rz(1.5) ├┤ Rz(1.5) ├┤ Rz(1.5) ├┤ Rz(1.5) ├┤ Rz(1.5) ├┤ Rz(1.5) ├┤ Rz(1.5) ├┤ Rz(1.5) ├┤ Rz(1.5) ├┤ Rz(1.5) ├\n",
       "     ├─────────┤├─────────┤├─────────┤├─────────┤├─────────┤├─────────┤├─────────┤├─────────┤├─────────┤├─────────┤├─────────┤├─────────┤├─────────┤├─────────┤├─────────┤├─────────┤├─────────┤├─────────┤├─────────┤├─────────┤├─────────┤├─────────┤├─────────┤├─────────┤├─────────┤├─────────┤├─────────┤├─────────┤├─────────┤├─────────┤┌┴───────────┴┐├─────────────┤└───┘     ┌─┴─┐     ├─────────────┤┌┴────────────┤└───┘     ┌─┴─┐     └┬────────────┤├─────────────┤└───┘     ┌─┴─┐     ├─────────────┬┘└┬────────────┤└───┘     ┌─┴─┐     └─┬──────────┬┘├─────────────┬┘└───┘     ┌─┴─┐     ├─────────────┤├─────────────┤└───┘     ┌─┴─┐     ├─────────────┤┌┴────────────┤└───┘     ┌─┴─┐     ┌─┴────────────┴┐├─────────────┴┐└───┘     ┌─┴─┐     ├─────────────┬┘├─────────────┤└───┘    ┌─┴─┐     ├─────────────┤└┬─────────────┬┘└───┘   ┌─┴─┐   ├─────────┤├─────────┤├─────────┤├─────────┤├─────────┤├─────────┤├─────────┤├─────────┤├─────────┤├─────────┤├─────────┤├─────────┤├─────────┤├─────────┤├─────────┤├─────────┤├─────────┤├─────────┤├─────────┤├─────────┤├─────────┤├─────────┤├─────────┤├─────────┤├─────────┤├─────────┤├─────────┤├─────────┤├─────────┤├─────────┤\n",
       "q_2: ┤ Rz(0.5) ├┤ Rz(0.5) ├┤ Rz(0.5) ├┤ Rz(0.5) ├┤ Rz(0.5) ├┤ Rz(0.5) ├┤ Rz(0.5) ├┤ Rz(0.5) ├┤ Rz(0.5) ├┤ Rz(0.5) ├┤ Rz(0.5) ├┤ Rz(0.5) ├┤ Rz(0.5) ├┤ Rz(0.5) ├┤ Rz(0.5) ├┤ Rz(0.5) ├┤ Rz(0.5) ├┤ Rz(0.5) ├┤ Rz(0.5) ├┤ Rz(0.5) ├┤ Rz(0.5) ├┤ Rz(0.5) ├┤ Rz(0.5) ├┤ Rz(0.5) ├┤ Rz(0.5) ├┤ Rz(0.5) ├┤ Rz(0.5) ├┤ Rz(0.5) ├┤ Rz(0.5) ├┤ Rz(0.5) ├┤ Ry(0.17258) ├┤ Rz(0.25706) ├──────────┤ X ├─────┤ Ry(0.61987) ├┤ Rz(0.95559) ├──────────┤ X ├──────┤ Ry(0.6063) ├┤ Rz(0.86671) ├──────────┤ X ├─────┤ Ry(0.79166) ├──┤ Rz(0.9904) ├──────────┤ X ├───────┤ Ry(0.68) ├─┤ Rz(0.91969) ├───────────┤ X ├─────┤ Ry(0.86582) ├┤ Rz(0.49984) ├──────────┤ X ├─────┤ Ry(0.21887) ├┤ Rz(0.47072) ├──────────┤ X ├─────┤ Ry(0.0066899) ├┤ Rz(0.097136) ├──────────┤ X ├─────┤ Ry(0.64112) ├─┤ Rz(0.99223) ├─────────┤ X ├─────┤ Ry(0.65951) ├─┤ Rz(0.93321) ├─────────┤ X ├───┤ Rz(1.5) ├┤ Rz(1.5) ├┤ Rz(1.5) ├┤ Rz(1.5) ├┤ Rz(1.5) ├┤ Rz(1.5) ├┤ Rz(1.5) ├┤ Rz(1.5) ├┤ Rz(1.5) ├┤ Rz(1.5) ├┤ Rz(1.5) ├┤ Rz(1.5) ├┤ Rz(1.5) ├┤ Rz(1.5) ├┤ Rz(1.5) ├┤ Rz(1.5) ├┤ Rz(1.5) ├┤ Rz(1.5) ├┤ Rz(1.5) ├┤ Rz(1.5) ├┤ Rz(1.5) ├┤ Rz(1.5) ├┤ Rz(1.5) ├┤ Rz(1.5) ├┤ Rz(1.5) ├┤ Rz(1.5) ├┤ Rz(1.5) ├┤ Rz(1.5) ├┤ Rz(1.5) ├┤ Rz(1.5) ├\n",
       "     └─────────┘└─────────┘└─────────┘└─────────┘└─────────┘└─────────┘└─────────┘└─────────┘└─────────┘└─────────┘└─────────┘└─────────┘└─────────┘└─────────┘└─────────┘└─────────┘└─────────┘└─────────┘└─────────┘└─────────┘└─────────┘└─────────┘└─────────┘└─────────┘└─────────┘└─────────┘└─────────┘└─────────┘└─────────┘└─────────┘└─────────────┘└─────────────┘          └───┘     └─────────────┘└─────────────┘          └───┘      └────────────┘└─────────────┘          └───┘     └─────────────┘  └────────────┘          └───┘       └──────────┘ └─────────────┘           └───┘     └─────────────┘└─────────────┘          └───┘     └─────────────┘└─────────────┘          └───┘     └───────────────┘└──────────────┘          └───┘     └─────────────┘ └─────────────┘         └───┘     └─────────────┘ └─────────────┘         └───┘   └─────────┘└─────────┘└─────────┘└─────────┘└─────────┘└─────────┘└─────────┘└─────────┘└─────────┘└─────────┘└─────────┘└─────────┘└─────────┘└─────────┘└─────────┘└─────────┘└─────────┘└─────────┘└─────────┘└─────────┘└─────────┘└─────────┘└─────────┘└─────────┘└─────────┘└─────────┘└─────────┘└─────────┘└─────────┘└─────────┘"
      ]
     },
     "execution_count": 11,
     "metadata": {},
     "output_type": "execute_result"
    }
   ],
   "source": [
    "# Non-Parametrized Part\n",
    "\n",
    "left_part = qiskit.QuantumCircuit(QUBITS_COUNT)\n",
    "right_part = qiskit.QuantumCircuit(QUBITS_COUNT)\n",
    "\n",
    "non_parametrized_layers_count = SU2_LAYERS_COUNT * 2 * (1 / PARAMETRIZATION_RATIO - 1)\n",
    "\n",
    "non_parametrized_layers_count = int(non_parametrized_layers_count)\n",
    "\n",
    "for left_layer in range(non_parametrized_layers_count // 2):\n",
    "    left_part.rz(0.5, qubits)\n",
    "    \n",
    "for right_layer in range(non_parametrized_layers_count // 2):\n",
    "    right_part.rz(1.5, qubits)   \n",
    "    \n",
    "# Parametrized Part\n",
    "\n",
    "parametrized_part = qiskit.circuit.library.EfficientSU2(\n",
    "    num_qubits=QUBITS_COUNT,\n",
    "    reps=SU2_LAYERS_COUNT,\n",
    "    entanglement=\"linear\",\n",
    "    skip_final_rotation_layer=True\n",
    ")\n",
    "\n",
    "# Compose Parts\n",
    "\n",
    "parametrized_part = parametrized_part.decompose()\n",
    "\n",
    "parametrized_circuit = parametrized_part.compose(left_part, front=True)\n",
    "parametrized_circuit = parametrized_circuit.compose(right_part)\n",
    "\n",
    "# Bind Parameters\n",
    "\n",
    "random_parameters = np.random.rand(parametrized_circuit.num_parameters)\n",
    "\n",
    "circuit = parametrized_circuit.assign_parameters(random_parameters)\n",
    "\n",
    "print(\"circuit.depth():\", circuit.depth())\n",
    "\n",
    "circuit.draw(fold=-1)"
   ]
  },
  {
   "cell_type": "markdown",
   "id": "fc13ca06-3e64-4325-bc0b-6b2435757b61",
   "metadata": {
    "id": "fc13ca06-3e64-4325-bc0b-6b2435757b61"
   },
   "source": [
    "#### Other Circuits"
   ]
  },
  {
   "cell_type": "code",
   "execution_count": 12,
   "id": "f09b07a9-d1fc-49c5-8224-34414f30b934",
   "metadata": {
    "id": "f09b07a9-d1fc-49c5-8224-34414f30b934"
   },
   "outputs": [
    {
     "data": {
      "text/html": [
       "<pre style=\"word-wrap: normal;white-space: pre;background: #fff0;line-height: 1.1;font-family: &quot;Courier New&quot;,Courier,monospace\">     ┌───┐          \n",
       "q_0: ┤ H ├──■───────\n",
       "     └───┘┌─┴─┐     \n",
       "q_1: ─────┤ X ├──■──\n",
       "          └───┘┌─┴─┐\n",
       "q_2: ──────────┤ X ├\n",
       "               └───┘</pre>"
      ],
      "text/plain": [
       "     ┌───┐          \n",
       "q_0: ┤ H ├──■───────\n",
       "     └───┘┌─┴─┐     \n",
       "q_1: ─────┤ X ├──■──\n",
       "          └───┘┌─┴─┐\n",
       "q_2: ──────────┤ X ├\n",
       "               └───┘"
      ]
     },
     "execution_count": 12,
     "metadata": {},
     "output_type": "execute_result"
    }
   ],
   "source": [
    "## GHZ Circuit\n",
    "\n",
    "circuit = get_ghz_circuit(QUBITS_COUNT)\n",
    "circuit.draw(fold=-1)\n",
    "\n",
    "## Random Circuit\n",
    "\n",
    "# circuit = random_circuit(QUBITS_COUNT, depth=20, max_operands=1, measure=False)"
   ]
  },
  {
   "cell_type": "markdown",
   "id": "7f7ecdac-b2f3-4636-8747-1034eed2ee63",
   "metadata": {
    "id": "7f7ecdac-b2f3-4636-8747-1034eed2ee63"
   },
   "source": [
    "### 4.2.  Run Paulis Experiment"
   ]
  },
  {
   "cell_type": "code",
   "execution_count": 13,
   "id": "1859bcf4-545a-44dc-bdb8-e85b5d509ba7",
   "metadata": {
    "id": "1859bcf4-545a-44dc-bdb8-e85b5d509ba7"
   },
   "outputs": [],
   "source": [
    "TOTAL_SHOTS_COUNT = 1000"
   ]
  },
  {
   "cell_type": "code",
   "execution_count": 14,
   "id": "159c1e11-b441-4d7a-93c7-1cfbb37e7ef0",
   "metadata": {
    "id": "159c1e11-b441-4d7a-93c7-1cfbb37e7ef0"
   },
   "outputs": [
    {
     "data": {
      "text/plain": [
       "(27, 3)"
      ]
     },
     "execution_count": 14,
     "metadata": {},
     "output_type": "execute_result"
    }
   ],
   "source": [
    "random_bases = rng.choice(['X','Y','Z'], size=(TOTAL_SHOTS_COUNT, QUBITS_COUNT))\n",
    "\n",
    "bases_list, shots_counts = np.unique(random_bases, axis=0, return_counts=True)\n",
    "\n",
    "bases_list.shape"
   ]
  },
  {
   "cell_type": "code",
   "execution_count": 15,
   "id": "8fb972e6-95f5-4ebd-8415-53b3f89b6150",
   "metadata": {
    "id": "8fb972e6-95f5-4ebd-8415-53b3f89b6150",
    "tags": []
   },
   "outputs": [
    {
     "data": {
      "text/plain": [
       "27"
      ]
     },
     "execution_count": 15,
     "metadata": {},
     "output_type": "execute_result"
    }
   ],
   "source": [
    "rotation_circuits = []\n",
    "\n",
    "for bases in bases_list:\n",
    "\n",
    "    rotation_circuit = build_bases_rotation_circuit(bases)\n",
    "\n",
    "    rotation_circuits.append(rotation_circuit)\n",
    "\n",
    "len(rotation_circuits)"
   ]
  },
  {
   "cell_type": "markdown",
   "id": "f6d7c756-bd16-4d1b-a4ea-a9b49b2224f3",
   "metadata": {
    "id": "f6d7c756-bd16-4d1b-a4ea-a9b49b2224f3"
   },
   "source": [
    "#### Basic Transpilation - Slower Version!\n"
   ]
  },
  {
   "cell_type": "code",
   "execution_count": 16,
   "id": "e57ce961-e840-491d-8c1c-21310b4bd745",
   "metadata": {
    "id": "e57ce961-e840-491d-8c1c-21310b4bd745",
    "outputId": "bff4c7b5-30aa-4295-f29b-862e674a4380",
    "tags": []
   },
   "outputs": [
    {
     "name": "stderr",
     "output_type": "stream",
     "text": [
      "100%|█████████████████████████████████████████████████████████████████████| 27/27 [00:02<00:00, 13.20 basis/s]"
     ]
    },
    {
     "name": "stdout",
     "output_type": "stream",
     "text": [
      "estimated_time: 2.05\n"
     ]
    },
    {
     "name": "stderr",
     "output_type": "stream",
     "text": [
      "\n"
     ]
    }
   ],
   "source": [
    "start_time = time()\n",
    "\n",
    "# Compose and Transpile all Rotation Circuits\n",
    "\n",
    "shadow_circuits = []\n",
    "\n",
    "rotation_tracker = tqdm(rotation_circuits, unit=' basis', ncols=110)\n",
    "\n",
    "for rotation_circuit in rotation_tracker:\n",
    "\n",
    "    measurement_circuit = rotation_circuit.measure_all(inplace=False)\n",
    "\n",
    "    measured_circuit = circuit.compose(measurement_circuit)\n",
    "\n",
    "    # display(measured_circuit.draw(fold=-1))\n",
    "\n",
    "    shadow_circuit = qiskit.transpile(\n",
    "        measured_circuit,\n",
    "        backend,\n",
    "        seed_transpiler=SEED,\n",
    "        optimization_level=OPTIMIZATION_LEVEL)\n",
    "\n",
    "    shadow_circuits.append(shadow_circuit)\n",
    "\n",
    "estimated_time = time() - start_time\n",
    "\n",
    "print(f\"estimated_time: {estimated_time:.02f}\")"
   ]
  },
  {
   "cell_type": "markdown",
   "id": "9a792284-52a1-4d26-aff0-079fa71160a3",
   "metadata": {
    "id": "9a792284-52a1-4d26-aff0-079fa71160a3"
   },
   "source": [
    "#### Transpile Right - Much Faster!"
   ]
  },
  {
   "cell_type": "code",
   "execution_count": 17,
   "id": "83f9d09c-e309-4c73-82b9-5861eec5aa40",
   "metadata": {
    "id": "83f9d09c-e309-4c73-82b9-5861eec5aa40",
    "outputId": "3a350493-23b1-4489-f5f9-7497f56e8a20"
   },
   "outputs": [
    {
     "name": "stderr",
     "output_type": "stream",
     "text": [
      "100%|█████████████████████████████████████████████████████████████████████| 27/27 [00:00<00:00, 42.40 basis/s]"
     ]
    },
    {
     "name": "stdout",
     "output_type": "stream",
     "text": [
      "estimated_time: 0.76\n"
     ]
    },
    {
     "name": "stderr",
     "output_type": "stream",
     "text": [
      "\n"
     ]
    }
   ],
   "source": [
    "start_time = time()\n",
    "\n",
    "# Transpile Central Part\n",
    "\n",
    "transpiled_central_circuit = qiskit.transpile(\n",
    "    circuit,\n",
    "    backend,\n",
    "    seed_transpiler=SEED,\n",
    "    optimization_level=OPTIMIZATION_LEVEL)\n",
    "\n",
    "\n",
    "# Transpile Right all Rotation Circuits\n",
    "\n",
    "shadow_circuits = []\n",
    "\n",
    "rotation_tracker = tqdm(rotation_circuits, unit=' basis', ncols=110)\n",
    "\n",
    "for rotation_circuit in rotation_tracker:\n",
    "\n",
    "    measurement_circuit = rotation_circuit.measure_all(inplace=False)\n",
    "\n",
    "    shadow_circuit = transpile_right(\n",
    "        transpiled_central_circuit,\n",
    "        measurement_circuit,\n",
    "        backend=backend,\n",
    "        seed_transpiler=SEED,\n",
    "        optimization_level=OPTIMIZATION_LEVEL)\n",
    "\n",
    "    shadow_circuits.append(shadow_circuit)\n",
    "\n",
    "\n",
    "estimated_time = time() - start_time\n",
    "\n",
    "print(f\"estimated_time: {estimated_time:.02f}\")"
   ]
  },
  {
   "cell_type": "code",
   "execution_count": 18,
   "id": "df4c7601-92bf-4ee0-8fac-35930e4db1cd",
   "metadata": {},
   "outputs": [
    {
     "data": {
      "text/html": [
       "<pre style=\"word-wrap: normal;white-space: pre;background: #fff0;line-height: 1.1;font-family: &quot;Courier New&quot;,Courier,monospace\">global phase: 5π/4\n",
       "          ┌──────────┐┌────┐┌─────────────┐┌────┐┌─────────┐┌──────┐  ┌──────────┐ ┌────┐┌─────────────┐┌─────────┐   ┌────┐  ┌─────────┐                       ░ ┌─┐      \n",
       "q_0 -> 41 ┤ Rz(-π/2) ├┤ √X ├┤ Rz(-2.3446) ├┤ √X ├┤ Rz(π/2) ├┤1     ├──┤ Rz(-π/2) ├─┤ √X ├┤ Rz(-2.3446) ├┤ Rz(π/2) ├───┤ √X ├──┤ Rz(π/2) ├───────────────────────░─┤M├──────\n",
       "          ├─────────┬┘├────┤├─────────────┤└────┘└─────────┘│  Ecr │┌─┴──────────┴┐├────┤└──┬────────┬─┘└─┬──────┬┘   ├───┬┘  ├─────────┤   ┌────┐  ┌─────────┐ ░ └╥┘┌─┐   \n",
       "q_1 -> 53 ┤ Rz(π/2) ├─┤ √X ├┤ Rz(-1.1086) ├─────────────────┤0     ├┤ Rz(-2.6794) ├┤ √X ├───┤ Rz(-π) ├────┤0     ├────┤ X ├───┤ Rz(π/2) ├───┤ √X ├──┤ Rz(π/2) ├─░──╫─┤M├───\n",
       "          └┬────────┤ ├────┤└──┬────────┬─┘                 └──────┘└─────────────┘└────┘   └────────┘    │  Ecr │ ┌──┴───┴──┐└──┬────┬─┘┌──┴────┴─┐└─────────┘ ░  ║ └╥┘┌─┐\n",
       "q_2 -> 60 ─┤ Rz(-π) ├─┤ √X ├───┤ Rz(-π) ├─────────────────────────────────────────────────────────────────┤1     ├─┤ Rz(π/2) ├───┤ √X ├──┤ Rz(π/2) ├────────────░──╫──╫─┤M├\n",
       "           └────────┘ └────┘   └────────┘                                                                 └──────┘ └─────────┘   └────┘  └─────────┘            ░  ║  ║ └╥┘\n",
       "  meas: 3/═════════════════════════════════════════════════════════════════════════════════════════════════════════════════════════════════════════════════════════╩══╩══╩═\n",
       "                                                                                                                                                                   0  1  2 </pre>"
      ],
      "text/plain": [
       "global phase: 5π/4\n",
       "          ┌──────────┐┌────┐┌─────────────┐┌────┐┌─────────┐┌──────┐  ┌──────────┐ ┌────┐┌─────────────┐┌─────────┐   ┌────┐  ┌─────────┐                       ░ ┌─┐      \n",
       "q_0 -> 41 ┤ Rz(-π/2) ├┤ √X ├┤ Rz(-2.3446) ├┤ √X ├┤ Rz(π/2) ├┤1     ├──┤ Rz(-π/2) ├─┤ √X ├┤ Rz(-2.3446) ├┤ Rz(π/2) ├───┤ √X ├──┤ Rz(π/2) ├───────────────────────░─┤M├──────\n",
       "          ├─────────┬┘├────┤├─────────────┤└────┘└─────────┘│  Ecr │┌─┴──────────┴┐├────┤└──┬────────┬─┘└─┬──────┬┘   ├───┬┘  ├─────────┤   ┌────┐  ┌─────────┐ ░ └╥┘┌─┐   \n",
       "q_1 -> 53 ┤ Rz(π/2) ├─┤ √X ├┤ Rz(-1.1086) ├─────────────────┤0     ├┤ Rz(-2.6794) ├┤ √X ├───┤ Rz(-π) ├────┤0     ├────┤ X ├───┤ Rz(π/2) ├───┤ √X ├──┤ Rz(π/2) ├─░──╫─┤M├───\n",
       "          └┬────────┤ ├────┤└──┬────────┬─┘                 └──────┘└─────────────┘└────┘   └────────┘    │  Ecr │ ┌──┴───┴──┐└──┬────┬─┘┌──┴────┴─┐└─────────┘ ░  ║ └╥┘┌─┐\n",
       "q_2 -> 60 ─┤ Rz(-π) ├─┤ √X ├───┤ Rz(-π) ├─────────────────────────────────────────────────────────────────┤1     ├─┤ Rz(π/2) ├───┤ √X ├──┤ Rz(π/2) ├────────────░──╫──╫─┤M├\n",
       "           └────────┘ └────┘   └────────┘                                                                 └──────┘ └─────────┘   └────┘  └─────────┘            ░  ║  ║ └╥┘\n",
       "  meas: 3/═════════════════════════════════════════════════════════════════════════════════════════════════════════════════════════════════════════════════════════╩══╩══╩═\n",
       "                                                                                                                                                                   0  1  2 "
      ]
     },
     "execution_count": 18,
     "metadata": {},
     "output_type": "execute_result"
    }
   ],
   "source": [
    "shadow_circuits[0].draw(idle_wires=False, fold=-1)"
   ]
  },
  {
   "cell_type": "markdown",
   "id": "1d5de3aa-cc6b-4661-b36b-e756898be95e",
   "metadata": {
    "id": "1d5de3aa-cc6b-4661-b36b-e756898be95e",
    "tags": []
   },
   "source": [
    "#### 4.2.3. Run Shadow Circuits"
   ]
  },
  {
   "cell_type": "code",
   "execution_count": 19,
   "id": "a4adf49e-5570-4b5c-a88b-b27a762ee08b",
   "metadata": {
    "id": "a4adf49e-5570-4b5c-a88b-b27a762ee08b",
    "tags": []
   },
   "outputs": [],
   "source": [
    "counts_list = []\n",
    "\n",
    "for shadow_circuit, shots in zip(shadow_circuits, shots_counts):\n",
    "\n",
    "    job = backend.run(shadow_circuit, shots=shots)\n",
    "\n",
    "    counts = job.result().get_counts()\n",
    "\n",
    "    counts_list.append(counts)"
   ]
  },
  {
   "cell_type": "markdown",
   "id": "3428e17c-0dff-492c-81ba-54f609764375",
   "metadata": {
    "id": "3428e17c-0dff-492c-81ba-54f609764375"
   },
   "source": [
    "#### 4.2.4. Calculate Shadows\n",
    "\n",
    "Calculate the shadow matrices for a set of observed states used to estimate the quantum state of the system."
   ]
  },
  {
   "cell_type": "code",
   "execution_count": 20,
   "id": "55619603-1104-4165-a0ac-7019f72b786c",
   "metadata": {
    "id": "55619603-1104-4165-a0ac-7019f72b786c"
   },
   "outputs": [],
   "source": [
    "shadows = []\n",
    "\n",
    "for bases, counts in zip(bases_list, counts_list):\n",
    "\n",
    "    for state, count in counts.items():\n",
    "\n",
    "        shadow_part = 1\n",
    "\n",
    "        for bit_index, bit in enumerate(state[::-1]):\n",
    "\n",
    "            basis = bases[bit_index]\n",
    "\n",
    "            basis_unitary = get_basis_unitary(basis)\n",
    "\n",
    "            vector = basis_unitary[int(bit), :]\n",
    "\n",
    "            outer_product = np.outer(vector.conj(), vector)\n",
    "\n",
    "            inverted_channel = get_inverted_channel(outer_product, 1)\n",
    "\n",
    "            shadow_part = np.kron(inverted_channel, shadow_part)\n",
    "\n",
    "        shadow = shadow_part * count\n",
    "\n",
    "        shadows.append(shadow)"
   ]
  },
  {
   "cell_type": "markdown",
   "id": "f304c377-5251-4cdd-8d6a-fbc57db98afd",
   "metadata": {
    "id": "f304c377-5251-4cdd-8d6a-fbc57db98afd"
   },
   "source": [
    "#### 4.2.5. Analyze Density Matrices"
   ]
  },
  {
   "cell_type": "code",
   "execution_count": 21,
   "id": "7d74d489-9455-44d8-a855-1d29ce0ed890",
   "metadata": {
    "id": "7d74d489-9455-44d8-a855-1d29ce0ed890"
   },
   "outputs": [
    {
     "data": {
      "text/plain": [
       "(8, 8)"
      ]
     },
     "execution_count": 21,
     "metadata": {},
     "output_type": "execute_result"
    }
   ],
   "source": [
    "reconstructed_density_matrix = np.sum(shadows, axis=0) / TOTAL_SHOTS_COUNT\n",
    "\n",
    "reconstructed_density_matrix.shape"
   ]
  },
  {
   "cell_type": "code",
   "execution_count": 22,
   "id": "d9a05e75-a60f-4d91-b06b-fd218185c1b6",
   "metadata": {
    "id": "d9a05e75-a60f-4d91-b06b-fd218185c1b6"
   },
   "outputs": [
    {
     "data": {
      "text/plain": [
       "(8, 8)"
      ]
     },
     "execution_count": 22,
     "metadata": {},
     "output_type": "execute_result"
    }
   ],
   "source": [
    "original_density_matrix = qiskit.quantum_info.DensityMatrix(circuit).data\n",
    "\n",
    "original_density_matrix.shape"
   ]
  },
  {
   "cell_type": "markdown",
   "id": "e160b52b-edd4-44bc-8799-15da16a6ccc0",
   "metadata": {
    "id": "e160b52b-edd4-44bc-8799-15da16a6ccc0"
   },
   "source": [
    "Below we plot the visualization for **ORIGINAL** and **RECONSTRUCTED** Density Matrices:"
   ]
  },
  {
   "cell_type": "code",
   "execution_count": 23,
   "id": "c67a3e0b-9e4d-47eb-82d1-25a2aceb3c98",
   "metadata": {
    "id": "c67a3e0b-9e4d-47eb-82d1-25a2aceb3c98"
   },
   "outputs": [],
   "source": [
    "def plot_density_matrix(density_matrix, label=\"\"):\n",
    "\n",
    "    plt.suptitle(f\"{label} Density Matrix\", y=0.9)\n",
    "\n",
    "    real = plt.subplot(121)\n",
    "    real.set_title(\"Real part\")\n",
    "\n",
    "    real.imshow(density_matrix.real, vmin=-0.7, vmax=0.7)\n",
    "\n",
    "    real.axes.set_xticks(())\n",
    "    real.axes.set_yticks(())\n",
    "\n",
    "\n",
    "    imaginary = plt.subplot(122)\n",
    "    imaginary.set_title(\"Imaginary part\")\n",
    "    imaginary.imshow(density_matrix.imag, vmin=-0.7, vmax=0.7)\n",
    "\n",
    "    imaginary.axes.set_xticks(())\n",
    "    imaginary.axes.set_yticks(())\n",
    "\n",
    "    plt.show()"
   ]
  },
  {
   "cell_type": "code",
   "execution_count": 24,
   "id": "9125665b-25c4-46c3-b1a8-affeb894c99c",
   "metadata": {
    "id": "9125665b-25c4-46c3-b1a8-affeb894c99c",
    "outputId": "49f92ab2-d970-40b9-9d94-cd6c9f0aa3c4"
   },
   "outputs": [
    {
     "data": {
      "image/png": "[encoded data removed]",
      "text/plain": [
       "<Figure size 640x480 with 2 Axes>"
      ]
     },
     "metadata": {},
     "output_type": "display_data"
    }
   ],
   "source": [
    "plot_density_matrix(original_density_matrix, label=\"Original\")"
   ]
  },
  {
   "cell_type": "code",
   "execution_count": 25,
   "id": "349936c2-800d-4406-a858-c9776dc618d4",
   "metadata": {
    "id": "349936c2-800d-4406-a858-c9776dc618d4",
    "outputId": "491c83f2-a9a7-470c-853b-904a69369141"
   },
   "outputs": [
    {
     "data": {
      "image/png": "[encoded data removed]",
      "text/plain": [
       "<Figure size 640x480 with 2 Axes>"
      ]
     },
     "metadata": {},
     "output_type": "display_data"
    }
   ],
   "source": [
    "plot_density_matrix(reconstructed_density_matrix, label=\"Reconstructed\")"
   ]
  },
  {
   "cell_type": "markdown",
   "id": "89d0f272-c5dd-48aa-aa68-75eb14f37c71",
   "metadata": {
    "id": "89d0f272-c5dd-48aa-aa68-75eb14f37c71"
   },
   "source": [
    "To measure a Mean Square Error:"
   ]
  },
  {
   "cell_type": "code",
   "execution_count": 26,
   "id": "9dbe1265-7428-444b-98cf-b9473a68fe99",
   "metadata": {
    "id": "9dbe1265-7428-444b-98cf-b9473a68fe99",
    "outputId": "eb7b8fd5-2fde-4ce8-f123-ce043df09c15"
   },
   "outputs": [
    {
     "data": {
      "text/plain": [
       "1.792578124999949e-05"
      ]
     },
     "execution_count": 26,
     "metadata": {},
     "output_type": "execute_result"
    }
   ],
   "source": [
    "mean_square_error = np.abs(((original_density_matrix -\n",
    "                             reconstructed_density_matrix) ** 2).mean())\n",
    "\n",
    "mean_square_error"
   ]
  },
  {
   "cell_type": "markdown",
   "id": "bbf885ec-abcc-4082-89e7-5fc087a4390e",
   "metadata": {
    "id": "bbf885ec-abcc-4082-89e7-5fc087a4390e"
   },
   "source": [
    "### 4.3.  Run Cliffords Experiment"
   ]
  },
  {
   "cell_type": "code",
   "execution_count": 27,
   "id": "80b5cf53-d499-4d3f-88c1-2fa78b0f4b1d",
   "metadata": {
    "id": "80b5cf53-d499-4d3f-88c1-2fa78b0f4b1d"
   },
   "outputs": [],
   "source": [
    "SHADOWS_COUNT = 100\n",
    "SHOTS_COUNT = 100\n",
    "\n",
    "cliffords = [qiskit.quantum_info.random_clifford(QUBITS_COUNT, seed=rng)\n",
    "             for _ in range(SHADOWS_COUNT)]"
   ]
  },
  {
   "cell_type": "markdown",
   "id": "13e43242-63db-4ffb-b75e-2995829cdd97",
   "metadata": {
    "id": "13e43242-63db-4ffb-b75e-2995829cdd97"
   },
   "source": [
    "- Define Rotation Circuits:"
   ]
  },
  {
   "cell_type": "code",
   "execution_count": 28,
   "id": "63ddc265-0c3b-4098-a14b-f3fb318ec85d",
   "metadata": {
    "id": "63ddc265-0c3b-4098-a14b-f3fb318ec85d"
   },
   "outputs": [
    {
     "data": {
      "text/plain": [
       "100"
      ]
     },
     "execution_count": 28,
     "metadata": {},
     "output_type": "execute_result"
    }
   ],
   "source": [
    "rotation_circuits = []\n",
    "\n",
    "for clifford in cliffords:\n",
    "\n",
    "    rotation_circuit = clifford.to_circuit()\n",
    "\n",
    "    rotation_circuits.append(rotation_circuit)\n",
    "\n",
    "len(rotation_circuits)"
   ]
  },
  {
   "cell_type": "markdown",
   "id": "33cc9bcc-3cd4-4862-b8d5-9548c6ce763e",
   "metadata": {
    "id": "33cc9bcc-3cd4-4862-b8d5-9548c6ce763e"
   },
   "source": [
    "#### 4.3.1. Basic Transpilation - Slower Version!"
   ]
  },
  {
   "cell_type": "code",
   "execution_count": 29,
   "id": "1448fe24-412c-4995-90c2-3abd5244058d",
   "metadata": {
    "id": "1448fe24-412c-4995-90c2-3abd5244058d",
    "outputId": "f7476605-ecca-4aa3-f495-865864744a8d",
    "tags": []
   },
   "outputs": [
    {
     "name": "stderr",
     "output_type": "stream",
     "text": [
      "100%|███████████████████████████████████████████████████████████████████| 100/100 [00:16<00:00,  6.21 basis/s]"
     ]
    },
    {
     "name": "stdout",
     "output_type": "stream",
     "text": [
      "estimated_time: 16.11\n"
     ]
    },
    {
     "name": "stderr",
     "output_type": "stream",
     "text": [
      "\n"
     ]
    }
   ],
   "source": [
    "start_time = time()\n",
    "\n",
    "# Compose and Transpile all Rotation Circuits\n",
    "\n",
    "shadow_circuits = []\n",
    "\n",
    "rotation_tracker = tqdm(rotation_circuits, unit=' basis', ncols=110)\n",
    "\n",
    "for rotation_circuit in rotation_tracker:\n",
    "\n",
    "    measurement_circuit = rotation_circuit.measure_all(inplace=False)\n",
    "\n",
    "    measured_circuit = circuit.compose(measurement_circuit)\n",
    "\n",
    "    # display(measured_circuit.draw(fold=-1))\n",
    "\n",
    "    shadow_circuit = qiskit.transpile(\n",
    "        measured_circuit,\n",
    "        backend,\n",
    "        seed_transpiler=SEED,\n",
    "        optimization_level=OPTIMIZATION_LEVEL)\n",
    "\n",
    "    shadow_circuits.append(shadow_circuit)\n",
    "\n",
    "estimated_time = time() - start_time\n",
    "\n",
    "print(f\"estimated_time: {estimated_time:.02f}\")"
   ]
  },
  {
   "cell_type": "markdown",
   "id": "e581f9eb-5013-47c4-a9cf-e6a7c64d346f",
   "metadata": {
    "id": "e581f9eb-5013-47c4-a9cf-e6a7c64d346f"
   },
   "source": [
    "#### 4.3.2. Transpile Right - Much Faster!"
   ]
  },
  {
   "cell_type": "code",
   "execution_count": 30,
   "id": "40b29211-155b-4cee-af35-dfabedcb310e",
   "metadata": {
    "id": "40b29211-155b-4cee-af35-dfabedcb310e",
    "outputId": "7c8ede2c-6240-4483-a7a0-d75a6e3214fb",
    "scrolled": true
   },
   "outputs": [
    {
     "name": "stderr",
     "output_type": "stream",
     "text": [
      "100%|███████████████████████████████████████████████████████████████████| 100/100 [00:18<00:00,  5.48 basis/s]"
     ]
    },
    {
     "name": "stdout",
     "output_type": "stream",
     "text": [
      "estimated_time: 18.31\n"
     ]
    },
    {
     "name": "stderr",
     "output_type": "stream",
     "text": [
      "\n"
     ]
    }
   ],
   "source": [
    "start_time = time()\n",
    "\n",
    "# Transpile Central Part\n",
    "\n",
    "transpiled_central_circuit = qiskit.transpile(\n",
    "    circuit,\n",
    "    backend,\n",
    "    seed_transpiler=SEED,\n",
    "    optimization_level=OPTIMIZATION_LEVEL)\n",
    "\n",
    "\n",
    "# Transpile Right all Rotation Circuits\n",
    "\n",
    "shadow_circuits = []\n",
    "\n",
    "rotation_tracker = tqdm(rotation_circuits, unit=' basis', ncols=110)\n",
    "\n",
    "for rotation_circuit in rotation_tracker:\n",
    "\n",
    "    measurement_circuit = rotation_circuit.measure_all(inplace=False)\n",
    "\n",
    "    shadow_circuit = transpile_right(\n",
    "        transpiled_central_circuit,\n",
    "        measurement_circuit,\n",
    "        backend=backend,\n",
    "        seed_transpiler=SEED,\n",
    "        optimization_level=OPTIMIZATION_LEVEL)\n",
    "\n",
    "    shadow_circuits.append(shadow_circuit)\n",
    "\n",
    "\n",
    "estimated_time = time() - start_time\n",
    "\n",
    "print(f\"estimated_time: {estimated_time:.02f}\")"
   ]
  },
  {
   "cell_type": "markdown",
   "id": "93f62618-8020-4972-bbf0-6430ed2f331d",
   "metadata": {
    "id": "93f62618-8020-4972-bbf0-6430ed2f331d",
    "tags": []
   },
   "source": [
    "#### 4.3.3.  Run Shadow Circuits"
   ]
  },
  {
   "cell_type": "code",
   "execution_count": 31,
   "id": "c1d6cb4c-3b51-4e4c-a05c-5dc23ff37c8f",
   "metadata": {
    "id": "c1d6cb4c-3b51-4e4c-a05c-5dc23ff37c8f",
    "tags": []
   },
   "outputs": [],
   "source": [
    "counts_list = []\n",
    "\n",
    "for shadow_circuit in shadow_circuits:\n",
    "\n",
    "    job = backend.run(shadow_circuit, shots=SHOTS_COUNT)\n",
    "\n",
    "    counts = job.result().get_counts()\n",
    "\n",
    "    counts_list.append(counts)"
   ]
  },
  {
   "cell_type": "markdown",
   "id": "5d6933d5-febc-4f0e-ae0b-52441fdc8918",
   "metadata": {
    "id": "5d6933d5-febc-4f0e-ae0b-52441fdc8918"
   },
   "source": [
    "#### 4.3.4.  Calculate Shadows\n",
    "\n",
    "Calculate the shadow matrices for a set of observed states used to estimate the quantum state of the system."
   ]
  },
  {
   "cell_type": "code",
   "execution_count": 32,
   "id": "2c97882c-d8af-4bab-8107-a6c3d7e10791",
   "metadata": {
    "id": "2c97882c-d8af-4bab-8107-a6c3d7e10791"
   },
   "outputs": [],
   "source": [
    "shadows = []\n",
    "\n",
    "for clifford, counts in zip(cliffords, counts_list):\n",
    "\n",
    "    unitary = clifford.adjoint().to_matrix()\n",
    "\n",
    "    for state, count in counts.items():\n",
    "\n",
    "        state_index = int(state, 2)\n",
    "\n",
    "        vector = unitary[:, state_index]\n",
    "\n",
    "        outer_product = np.outer(vector, vector.conj())\n",
    "\n",
    "        inverted_channel = get_inverted_channel(outer_product, QUBITS_COUNT)\n",
    "\n",
    "        shadow = inverted_channel * count\n",
    "\n",
    "        shadows.append(shadow)"
   ]
  },
  {
   "cell_type": "markdown",
   "id": "93a74e4e-b6f8-433e-90d8-9d01cd0af7c6",
   "metadata": {
    "id": "93a74e4e-b6f8-433e-90d8-9d01cd0af7c6"
   },
   "source": [
    "#### 4.3.5.  Analyze Density Matrices"
   ]
  },
  {
   "cell_type": "code",
   "execution_count": 33,
   "id": "0de4a6e3-d29b-4d93-b208-1ef4c6b8d45b",
   "metadata": {
    "id": "0de4a6e3-d29b-4d93-b208-1ef4c6b8d45b"
   },
   "outputs": [
    {
     "data": {
      "text/plain": [
       "(8, 8)"
      ]
     },
     "execution_count": 33,
     "metadata": {},
     "output_type": "execute_result"
    }
   ],
   "source": [
    "TOTAL_SHOTS_COUNT = SHADOWS_COUNT * SHOTS_COUNT\n",
    "\n",
    "reconstructed_density_matrix = np.sum(shadows, axis=0) / TOTAL_SHOTS_COUNT\n",
    "\n",
    "reconstructed_density_matrix.shape"
   ]
  },
  {
   "cell_type": "code",
   "execution_count": 34,
   "id": "592c614d-f558-41ad-9d5b-e2a77c115111",
   "metadata": {
    "id": "592c614d-f558-41ad-9d5b-e2a77c115111"
   },
   "outputs": [
    {
     "data": {
      "text/plain": [
       "(8, 8)"
      ]
     },
     "execution_count": 34,
     "metadata": {},
     "output_type": "execute_result"
    }
   ],
   "source": [
    "original_density_matrix = qiskit.quantum_info.DensityMatrix(circuit).data\n",
    "\n",
    "original_density_matrix.shape"
   ]
  },
  {
   "cell_type": "markdown",
   "id": "8488f603-3582-44ce-babe-bb6367007f8f",
   "metadata": {
    "id": "8488f603-3582-44ce-babe-bb6367007f8f"
   },
   "source": [
    "Below we plot the visualization for **ORIGINAL** and **RECONSTRUCTED** Density Matrices:"
   ]
  },
  {
   "cell_type": "code",
   "execution_count": 35,
   "id": "337cf636-08d7-4fee-bb73-94da4cd49068",
   "metadata": {
    "id": "337cf636-08d7-4fee-bb73-94da4cd49068",
    "outputId": "f728560f-31aa-4357-c562-1bff6e1788a2"
   },
   "outputs": [
    {
     "data": {
      "image/png": "[encoded data removed]",
      "text/plain": [
       "<Figure size 640x480 with 2 Axes>"
      ]
     },
     "metadata": {},
     "output_type": "display_data"
    }
   ],
   "source": [
    "plot_density_matrix(original_density_matrix, label=\"Original\")"
   ]
  },
  {
   "cell_type": "code",
   "execution_count": 36,
   "id": "87ac42a8-b6f9-4421-9125-84f2442e0a95",
   "metadata": {
    "id": "87ac42a8-b6f9-4421-9125-84f2442e0a95",
    "outputId": "69a2c2cb-7fe6-4e61-8fab-0421f1da368c"
   },
   "outputs": [
    {
     "data": {
      "image/png": "[encoded data removed]",
      "text/plain": [
       "<Figure size 640x480 with 2 Axes>"
      ]
     },
     "metadata": {},
     "output_type": "display_data"
    }
   ],
   "source": [
    "plot_density_matrix(reconstructed_density_matrix, label=\"Reconstructed\")"
   ]
  },
  {
   "cell_type": "markdown",
   "id": "d15532a0",
   "metadata": {
    "id": "d15532a0"
   },
   "source": [
    "To measure a Mean Square Error:"
   ]
  },
  {
   "cell_type": "code",
   "execution_count": 37,
   "id": "bbe9795e-5695-4b04-af85-9d4c713bfb3c",
   "metadata": {
    "id": "bbe9795e-5695-4b04-af85-9d4c713bfb3c",
    "outputId": "8feaa616-1f02-4aaa-d0dc-34d823112e77"
   },
   "outputs": [
    {
     "data": {
      "text/plain": [
       "0.0007806532812499958"
      ]
     },
     "execution_count": 37,
     "metadata": {},
     "output_type": "execute_result"
    }
   ],
   "source": [
    "get_mean_square_error(original_density_matrix,\n",
    "                      reconstructed_density_matrix)"
   ]
  },
  {
   "cell_type": "code",
   "execution_count": null,
   "id": "d8ff2328-83a3-432a-804c-05f7f7ac1106",
   "metadata": {},
   "outputs": [],
   "source": []
  }
 ],
 "metadata": {
  "colab": {
   "provenance": []
  },
  "kernelspec": {
   "display_name": "Qiskit_1.0",
   "language": "python",
   "name": "qiskit_1.0"
  },
  "language_info": {
   "codemirror_mode": {
    "name": "ipython",
    "version": 3
   },
   "file_extension": ".py",
   "mimetype": "text/x-python",
   "name": "python",
   "nbconvert_exporter": "python",
   "pygments_lexer": "ipython3",
   "version": "3.10.13"
  }
 },
 "nbformat": 4,
 "nbformat_minor": 5
}
