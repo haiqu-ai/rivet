{
 "cells": [
  {
   "cell_type": "code",
   "execution_count": 1,
   "id": "f01999a7-6744-4dda-ac92-e61e664d01e4",
   "metadata": {},
   "outputs": [],
   "source": [
    "# https://gitlab.com/haiqu-ai/qml-transpiler/-/issues/5"
   ]
  },
  {
   "cell_type": "code",
   "execution_count": 1,
   "id": "f46a78da-ac7f-4642-b3d2-5a347477822b",
   "metadata": {},
   "outputs": [],
   "source": [
    "import qiskit\n",
    "\n",
    "from qiskit.circuit.library import QuantumVolume\n",
    "\n",
    "%cd -q ../..\n",
    "\n",
    "from rivet_transpiler import get_circuit_hash"
   ]
  },
  {
   "cell_type": "markdown",
   "id": "c272d93a-b838-4191-a778-545787620d58",
   "metadata": {},
   "source": [
    "### Circuits"
   ]
  },
  {
   "cell_type": "code",
   "execution_count": 2,
   "id": "0888e6d7-018e-4358-a468-ddd49dc5a7ee",
   "metadata": {},
   "outputs": [
    {
     "data": {
      "text/html": [
       "<pre style=\"word-wrap: normal;white-space: pre;background: #fff0;line-height: 1.1;font-family: &quot;Courier New&quot;,Courier,monospace\">     ┌─────────────────────────┐\n",
       "q_0: ┤0                        ├\n",
       "     │  quantum_volume_[2,1,1] │\n",
       "q_1: ┤1                        ├\n",
       "     └─────────────────────────┘</pre>"
      ],
      "text/plain": [
       "     ┌─────────────────────────┐\n",
       "q_0: ┤0                        ├\n",
       "     │  quantum_volume_[2,1,1] │\n",
       "q_1: ┤1                        ├\n",
       "     └─────────────────────────┘"
      ]
     },
     "execution_count": 2,
     "metadata": {},
     "output_type": "execute_result"
    }
   ],
   "source": [
    "qv_circuit_1 = QuantumVolume(num_qubits=2, depth=1, seed=1)\n",
    "\n",
    "qv_circuit_1.draw()"
   ]
  },
  {
   "cell_type": "code",
   "execution_count": 104,
   "id": "fe8304e9-eeac-4c1a-a897-08ead780ab46",
   "metadata": {},
   "outputs": [
    {
     "data": {
      "text/html": [
       "<pre style=\"word-wrap: normal;white-space: pre;background: #fff0;line-height: 1.1;font-family: &quot;Courier New&quot;,Courier,monospace\">global phase: 4.7181\n",
       "     ┌──────────────────────────┐         ┌──────────────────────┐            ┌──────────────────┐         ┌───────────────────────────┐\n",
       "q_0: ┤ U(1.0024,0.97963,2.9372) ├──■──────┤ U(0.50968,-π/2,-π/2) ├─────■──────┤ U(0.12562,0,π/2) ├──────■──┤ U(1.8645,-1.2663,-1.8282) ├\n",
       "     ├──────────────────────────┤┌─┴─┐┌───┴──────────────────────┴──┐┌─┴─┐┌───┴──────────────────┴───┐┌─┴─┐└┬──────────────────────────┤\n",
       "q_1: ┤ U(0.82902,2.3378,1.7888) ├┤ X ├┤ U(1.3313,-0.32827,-0.60827) ├┤ X ├┤ U(1.9404,-2.9753,2.0057) ├┤ X ├─┤ U(2.6566,-2.4584,1.0197) ├\n",
       "     └──────────────────────────┘└───┘└─────────────────────────────┘└───┘└──────────────────────────┘└───┘ └──────────────────────────┘</pre>"
      ],
      "text/plain": [
       "global phase: 4.7181\n",
       "     ┌──────────────────────────┐         ┌──────────────────────┐            ┌──────────────────┐         ┌───────────────────────────┐\n",
       "q_0: ┤ U(1.0024,0.97963,2.9372) ├──■──────┤ U(0.50968,-π/2,-π/2) ├─────■──────┤ U(0.12562,0,π/2) ├──────■──┤ U(1.8645,-1.2663,-1.8282) ├\n",
       "     ├──────────────────────────┤┌─┴─┐┌───┴──────────────────────┴──┐┌─┴─┐┌───┴──────────────────┴───┐┌─┴─┐└┬──────────────────────────┤\n",
       "q_1: ┤ U(0.82902,2.3378,1.7888) ├┤ X ├┤ U(1.3313,-0.32827,-0.60827) ├┤ X ├┤ U(1.9404,-2.9753,2.0057) ├┤ X ├─┤ U(2.6566,-2.4584,1.0197) ├\n",
       "     └──────────────────────────┘└───┘└─────────────────────────────┘└───┘└──────────────────────────┘└───┘ └──────────────────────────┘"
      ]
     },
     "execution_count": 104,
     "metadata": {},
     "output_type": "execute_result"
    }
   ],
   "source": [
    "qv_circuit_1.decompose(reps=2).draw(fold=-1)"
   ]
  },
  {
   "cell_type": "code",
   "execution_count": null,
   "id": "37fe8c89-b2c7-4234-8a91-8f75b88b04f8",
   "metadata": {},
   "outputs": [],
   "source": []
  },
  {
   "cell_type": "code",
   "execution_count": 4,
   "id": "62c00a00-5621-4de4-964f-43728fc269c3",
   "metadata": {},
   "outputs": [
    {
     "data": {
      "text/html": [
       "<pre style=\"word-wrap: normal;white-space: pre;background: #fff0;line-height: 1.1;font-family: &quot;Courier New&quot;,Courier,monospace\">     ┌─────────────────────────┐\n",
       "q_0: ┤0                        ├\n",
       "     │  quantum_volume_[2,1,2] │\n",
       "q_1: ┤1                        ├\n",
       "     └─────────────────────────┘</pre>"
      ],
      "text/plain": [
       "     ┌─────────────────────────┐\n",
       "q_0: ┤0                        ├\n",
       "     │  quantum_volume_[2,1,2] │\n",
       "q_1: ┤1                        ├\n",
       "     └─────────────────────────┘"
      ]
     },
     "execution_count": 4,
     "metadata": {},
     "output_type": "execute_result"
    }
   ],
   "source": [
    "qv_circuit_2 = QuantumVolume(num_qubits=2, depth=1, seed=2)\n",
    "\n",
    "qv_circuit_2.draw()"
   ]
  },
  {
   "cell_type": "code",
   "execution_count": 5,
   "id": "ddb68b5e-6010-42c5-9ada-e530ad7769af",
   "metadata": {
    "tags": []
   },
   "outputs": [
    {
     "data": {
      "text/html": [
       "<pre style=\"word-wrap: normal;white-space: pre;background: #fff0;line-height: 1.1;font-family: &quot;Courier New&quot;,Courier,monospace\">global phase: 4.242\n",
       "     ┌───────────────────────────┐┌───┐┌─────────────────────────────┐┌───┐┌──────────────────────────┐┌───┐  ┌─────────────────────────┐  \n",
       "q_0: ┤ U(0.42625,2.0777,-1.3067) ├┤ X ├┤ U(1.4041,-0.36948,-0.40469) ├┤ X ├┤ U(1.9404,-2.9753,2.0057) ├┤ X ├──┤ U(2.6464,3.0558,2.6067) ├──\n",
       "     └┬──────────────────────────┤└─┬─┘└───┬──────────────────────┬──┘└─┬─┘└──┬───────────────────┬───┘└─┬─┘┌─┴─────────────────────────┴─┐\n",
       "q_1: ─┤ U(0.22194,1.095,-2.3561) ├──■──────┤ U(0.90037,-π/2,-π/2) ├─────■─────┤ U(0.085471,0,π/2) ├──────■──┤ U(2.3676,-0.30944,-0.64982) ├\n",
       "      └──────────────────────────┘         └──────────────────────┘           └───────────────────┘         └─────────────────────────────┘</pre>"
      ],
      "text/plain": [
       "global phase: 4.242\n",
       "     ┌───────────────────────────┐┌───┐┌─────────────────────────────┐┌───┐┌──────────────────────────┐┌───┐  ┌─────────────────────────┐  \n",
       "q_0: ┤ U(0.42625,2.0777,-1.3067) ├┤ X ├┤ U(1.4041,-0.36948,-0.40469) ├┤ X ├┤ U(1.9404,-2.9753,2.0057) ├┤ X ├──┤ U(2.6464,3.0558,2.6067) ├──\n",
       "     └┬──────────────────────────┤└─┬─┘└───┬──────────────────────┬──┘└─┬─┘└──┬───────────────────┬───┘└─┬─┘┌─┴─────────────────────────┴─┐\n",
       "q_1: ─┤ U(0.22194,1.095,-2.3561) ├──■──────┤ U(0.90037,-π/2,-π/2) ├─────■─────┤ U(0.085471,0,π/2) ├──────■──┤ U(2.3676,-0.30944,-0.64982) ├\n",
       "      └──────────────────────────┘         └──────────────────────┘           └───────────────────┘         └─────────────────────────────┘"
      ]
     },
     "execution_count": 5,
     "metadata": {},
     "output_type": "execute_result"
    }
   ],
   "source": [
    "qv_circuit_2.decompose(reps=2).draw(fold=-1)"
   ]
  },
  {
   "cell_type": "code",
   "execution_count": null,
   "id": "f92511e5-d28a-4cad-8ba7-28eef03ab8eb",
   "metadata": {},
   "outputs": [],
   "source": []
  },
  {
   "cell_type": "markdown",
   "id": "9986ee1d-233e-4c41-8c4f-80c9ef0d0296",
   "metadata": {
    "tags": []
   },
   "source": [
    "### Hashes"
   ]
  },
  {
   "cell_type": "code",
   "execution_count": 6,
   "id": "ebda92fc-ac36-403e-9166-52fd68373006",
   "metadata": {},
   "outputs": [
    {
     "data": {
      "text/plain": [
       "106621143102783693860994104962307555573289504435922805188167120851058243504736"
      ]
     },
     "execution_count": 6,
     "metadata": {},
     "output_type": "execute_result"
    }
   ],
   "source": [
    "get_circuit_hash(qv_circuit_1)"
   ]
  },
  {
   "cell_type": "code",
   "execution_count": 7,
   "id": "fa2447d3-c01b-4203-83b5-38810eebace6",
   "metadata": {},
   "outputs": [
    {
     "data": {
      "text/plain": [
       "106621143102783693860994104962307555573289504435922805188167120851058243504736"
      ]
     },
     "execution_count": 7,
     "metadata": {},
     "output_type": "execute_result"
    }
   ],
   "source": [
    "get_circuit_hash(qv_circuit_2)"
   ]
  },
  {
   "cell_type": "code",
   "execution_count": 8,
   "id": "f258f44c-965d-497c-a357-8f09b0baeb2d",
   "metadata": {},
   "outputs": [
    {
     "data": {
      "text/plain": [
       "81494582331337268712486896751651397882263172419496569560316079018007347265399"
      ]
     },
     "execution_count": 8,
     "metadata": {},
     "output_type": "execute_result"
    }
   ],
   "source": [
    "get_circuit_hash(qv_circuit_1.decompose(reps=2))"
   ]
  },
  {
   "cell_type": "code",
   "execution_count": 9,
   "id": "758c749f-b8d7-4209-8b89-c12da12ad93e",
   "metadata": {},
   "outputs": [
    {
     "data": {
      "text/plain": [
       "67621646157843688507862837171594541376831134984340120138614568120639168982402"
      ]
     },
     "execution_count": 9,
     "metadata": {},
     "output_type": "execute_result"
    }
   ],
   "source": [
    "get_circuit_hash(qv_circuit_2.decompose(reps=2))"
   ]
  },
  {
   "cell_type": "code",
   "execution_count": null,
   "id": "a137ba8f-f6a9-4080-bfe0-739e00193e67",
   "metadata": {},
   "outputs": [],
   "source": []
  },
  {
   "cell_type": "markdown",
   "id": "07b340ee-d081-48c7-9a38-30b6a918c816",
   "metadata": {},
   "source": [
    "### Big Circuit"
   ]
  },
  {
   "cell_type": "code",
   "execution_count": 136,
   "id": "c2fb7729-7268-480d-be06-5bae2da5b1a9",
   "metadata": {},
   "outputs": [],
   "source": [
    "qv_circuit_3 = QuantumVolume(num_qubits=127, depth=3, seed=2)"
   ]
  },
  {
   "cell_type": "code",
   "execution_count": 137,
   "id": "a96278d3-ff2a-48d3-8c74-d024fd6a1edb",
   "metadata": {},
   "outputs": [],
   "source": [
    "# qv_circuit_3.draw(fold=-1)"
   ]
  },
  {
   "cell_type": "code",
   "execution_count": null,
   "id": "918d5886-7b8b-4d47-88be-b7226611c937",
   "metadata": {},
   "outputs": [],
   "source": []
  },
  {
   "cell_type": "markdown",
   "id": "be8edddc-9c76-4569-aaab-fb6fe74fe065",
   "metadata": {},
   "source": [
    "### Decompose Benchmarks"
   ]
  },
  {
   "cell_type": "code",
   "execution_count": 138,
   "id": "ba63f35f-3ee3-4d4b-95d9-67e1c107c3ce",
   "metadata": {},
   "outputs": [],
   "source": [
    "# QuantumCircuit.decompose code:\n",
    "\n",
    "# https://github.com/Qiskit/qiskit/blob/main/qiskit/circuit/quantumcircuit.py#L3147"
   ]
  },
  {
   "cell_type": "code",
   "execution_count": 139,
   "id": "96ddfc2b-ab27-4c41-aeeb-6d5439470088",
   "metadata": {},
   "outputs": [
    {
     "name": "stdout",
     "output_type": "stream",
     "text": [
      "15 ms ± 3.57 ms per loop (mean ± std. dev. of 10 runs, 1 loop each)\n"
     ]
    }
   ],
   "source": [
    "%%timeit -n 1 -r 10\n",
    "\n",
    "decomposed_circuit = qv_circuit_3.decompose(reps=1)"
   ]
  },
  {
   "cell_type": "code",
   "execution_count": 140,
   "id": "3eda9906-131b-45dc-9a19-92266807e941",
   "metadata": {},
   "outputs": [
    {
     "name": "stdout",
     "output_type": "stream",
     "text": [
      "406 ms ± 29.5 ms per loop (mean ± std. dev. of 10 runs, 1 loop each)\n"
     ]
    }
   ],
   "source": [
    "%%timeit -n 1 -r 10\n",
    "\n",
    "decomposed_circuit = qv_circuit_3.decompose(reps=2)"
   ]
  },
  {
   "cell_type": "code",
   "execution_count": 141,
   "id": "7ce42766-3b66-459f-bb54-23b2e48434cf",
   "metadata": {},
   "outputs": [
    {
     "name": "stdout",
     "output_type": "stream",
     "text": [
      "439 ms ± 53.4 ms per loop (mean ± std. dev. of 10 runs, 1 loop each)\n"
     ]
    }
   ],
   "source": [
    "%%timeit -n 1 -r 10\n",
    "\n",
    "decomposed_circuit =  qv_circuit_3.decompose(reps=10)"
   ]
  },
  {
   "cell_type": "code",
   "execution_count": 142,
   "id": "bb6982a8-3b7a-492f-a7a2-aa9ab2af3c0e",
   "metadata": {},
   "outputs": [
    {
     "name": "stdout",
     "output_type": "stream",
     "text": [
      "574 ms ± 49.3 ms per loop (mean ± std. dev. of 10 runs, 1 loop each)\n"
     ]
    }
   ],
   "source": [
    "%%timeit -n 1 -r 10\n",
    "\n",
    "decomposed_circuit =  qv_circuit_3.decompose(reps=100)"
   ]
  },
  {
   "cell_type": "code",
   "execution_count": null,
   "id": "46d8c1d6-f515-4403-9158-32d7516a9167",
   "metadata": {},
   "outputs": [],
   "source": []
  },
  {
   "cell_type": "markdown",
   "id": "fb31441f-8ede-4c16-b3d3-044a3a10c4c2",
   "metadata": {},
   "source": [
    "### Operation Comparison"
   ]
  },
  {
   "cell_type": "code",
   "execution_count": 93,
   "id": "7d39e001-bdf0-41be-8d4f-9f54bbf428ab",
   "metadata": {},
   "outputs": [],
   "source": [
    "dag = qiskit.converters.circuit_to_dag(qv_circuit_1)\n",
    "\n",
    "for node in dag.topological_op_nodes():\n",
    "\n",
    "    operation = node.op"
   ]
  },
  {
   "cell_type": "code",
   "execution_count": 94,
   "id": "abee09c1-7574-4ea3-a4a8-18a44cf3e01d",
   "metadata": {},
   "outputs": [
    {
     "data": {
      "text/html": [
       "<pre style=\"word-wrap: normal;white-space: pre;background: #fff0;line-height: 1.1;font-family: &quot;Courier New&quot;,Courier,monospace\">     ┌──────────┐\n",
       "q_0: ┤0         ├\n",
       "     │  su4_473 │\n",
       "q_1: ┤1         ├\n",
       "     └──────────┘</pre>"
      ],
      "text/plain": [
       "     ┌──────────┐\n",
       "q_0: ┤0         ├\n",
       "     │  su4_473 │\n",
       "q_1: ┤1         ├\n",
       "     └──────────┘"
      ]
     },
     "execution_count": 94,
     "metadata": {},
     "output_type": "execute_result"
    }
   ],
   "source": [
    "operation_circuit = operation.definition\n",
    "\n",
    "operation_circuit.draw()"
   ]
  },
  {
   "cell_type": "code",
   "execution_count": 95,
   "id": "a8c057a7-a47c-4471-acca-561eac7b4bba",
   "metadata": {},
   "outputs": [
    {
     "data": {
      "text/html": [
       "<pre style=\"word-wrap: normal;white-space: pre;background: #fff0;line-height: 1.1;font-family: &quot;Courier New&quot;,Courier,monospace\">global phase: 4.7181\n",
       "     ┌──────────────────────────┐         ┌──────────────────────┐            ┌──────────────────┐         ┌───────────────────────────┐\n",
       "q_0: ┤ U(1.0024,0.97963,2.9372) ├──■──────┤ U(0.50968,-π/2,-π/2) ├─────■──────┤ U(0.12562,0,π/2) ├──────■──┤ U(1.8645,-1.2663,-1.8282) ├\n",
       "     ├──────────────────────────┤┌─┴─┐┌───┴──────────────────────┴──┐┌─┴─┐┌───┴──────────────────┴───┐┌─┴─┐└┬──────────────────────────┤\n",
       "q_1: ┤ U(0.82902,2.3378,1.7888) ├┤ X ├┤ U(1.3313,-0.32827,-0.60827) ├┤ X ├┤ U(1.9404,-2.9753,2.0057) ├┤ X ├─┤ U(2.6566,-2.4584,1.0197) ├\n",
       "     └──────────────────────────┘└───┘└─────────────────────────────┘└───┘└──────────────────────────┘└───┘ └──────────────────────────┘</pre>"
      ],
      "text/plain": [
       "global phase: 4.7181\n",
       "     ┌──────────────────────────┐         ┌──────────────────────┐            ┌──────────────────┐         ┌───────────────────────────┐\n",
       "q_0: ┤ U(1.0024,0.97963,2.9372) ├──■──────┤ U(0.50968,-π/2,-π/2) ├─────■──────┤ U(0.12562,0,π/2) ├──────■──┤ U(1.8645,-1.2663,-1.8282) ├\n",
       "     ├──────────────────────────┤┌─┴─┐┌───┴──────────────────────┴──┐┌─┴─┐┌───┴──────────────────┴───┐┌─┴─┐└┬──────────────────────────┤\n",
       "q_1: ┤ U(0.82902,2.3378,1.7888) ├┤ X ├┤ U(1.3313,-0.32827,-0.60827) ├┤ X ├┤ U(1.9404,-2.9753,2.0057) ├┤ X ├─┤ U(2.6566,-2.4584,1.0197) ├\n",
       "     └──────────────────────────┘└───┘└─────────────────────────────┘└───┘└──────────────────────────┘└───┘ └──────────────────────────┘"
      ]
     },
     "execution_count": 95,
     "metadata": {},
     "output_type": "execute_result"
    }
   ],
   "source": [
    "operation_circuit.decompose(reps=1).draw(fold=-1)"
   ]
  },
  {
   "cell_type": "code",
   "execution_count": 96,
   "id": "cc2588c4-10f1-4021-bd77-7626b81c43c4",
   "metadata": {},
   "outputs": [
    {
     "data": {
      "text/plain": [
       "<qiskit.circuit.instructionset.InstructionSet at 0x7fbe159ee920>"
      ]
     },
     "execution_count": 96,
     "metadata": {},
     "output_type": "execute_result"
    }
   ],
   "source": [
    "circuit = qiskit.QuantumCircuit(1)\n",
    "circuit.h(0)"
   ]
  },
  {
   "cell_type": "code",
   "execution_count": 97,
   "id": "5591798f-7b97-473a-99e4-f69949b48b6d",
   "metadata": {},
   "outputs": [
    {
     "data": {
      "text/html": [
       "<pre style=\"word-wrap: normal;white-space: pre;background: #fff0;line-height: 1.1;font-family: &quot;Courier New&quot;,Courier,monospace\">   ┌────────────┐\n",
       "q: ┤ U(π/2,0,π) ├\n",
       "   └────────────┘</pre>"
      ],
      "text/plain": [
       "   ┌────────────┐\n",
       "q: ┤ U(π/2,0,π) ├\n",
       "   └────────────┘"
      ]
     },
     "execution_count": 97,
     "metadata": {},
     "output_type": "execute_result"
    }
   ],
   "source": [
    "circuit.decompose(reps=3).draw()"
   ]
  },
  {
   "cell_type": "code",
   "execution_count": 98,
   "id": "88ab37b3-e9d9-44fe-bf9f-4a0ad45826d2",
   "metadata": {},
   "outputs": [
    {
     "data": {
      "text/html": [
       "<pre style=\"word-wrap: normal;white-space: pre;background: #fff0;line-height: 1.1;font-family: &quot;Courier New&quot;,Courier,monospace\">   ┌────────────┐\n",
       "q: ┤ U(π/2,0,π) ├\n",
       "   └────────────┘</pre>"
      ],
      "text/plain": [
       "   ┌────────────┐\n",
       "q: ┤ U(π/2,0,π) ├\n",
       "   └────────────┘"
      ]
     },
     "execution_count": 98,
     "metadata": {},
     "output_type": "execute_result"
    }
   ],
   "source": [
    "circuit.decompose(reps=4).draw()"
   ]
  },
  {
   "cell_type": "code",
   "execution_count": 102,
   "id": "e00311bb-43e1-4629-bdd5-993975475e3e",
   "metadata": {},
   "outputs": [
    {
     "data": {
      "text/plain": [
       "False"
      ]
     },
     "execution_count": 102,
     "metadata": {},
     "output_type": "execute_result"
    }
   ],
   "source": [
    "COUNT = 1\n",
    "\n",
    "qv_circuit_1.decompose(reps=COUNT) == qv_circuit_1.decompose(reps=COUNT + 1)"
   ]
  },
  {
   "cell_type": "code",
   "execution_count": null,
   "id": "1a9ea722-1e41-4442-a21d-c0a700e4932b",
   "metadata": {},
   "outputs": [],
   "source": []
  },
  {
   "cell_type": "markdown",
   "id": "fdfcddf5-f234-4609-bd31-aeea3360c50b",
   "metadata": {},
   "source": [
    "### Get Circuit Hash Printouts"
   ]
  },
  {
   "cell_type": "code",
   "execution_count": 16,
   "id": "c31befa8-9009-405f-9a91-501721346540",
   "metadata": {},
   "outputs": [],
   "source": [
    "import hashlib\n",
    "\n",
    "def get_circuit_hash(circuit):\n",
    "\n",
    "    hash_object = hashlib.sha256(b'')\n",
    "\n",
    "    dag = qiskit.converters.circuit_to_dag(circuit)\n",
    "\n",
    "    for node in dag.topological_op_nodes():\n",
    "\n",
    "        operation = node.op\n",
    "\n",
    "        qubit_indices = [circuit.find_bit(qubit).index for qubit in node.qargs]\n",
    "\n",
    "        # Values\n",
    "\n",
    "        values = []\n",
    "\n",
    "        values.append(qubit_indices)\n",
    "        values.append(operation.__class__)\n",
    "        values.append(operation.num_qubits)\n",
    "        values.append(operation.num_clbits)\n",
    "        \n",
    "        print(\"qubit_indices:\", qubit_indices)\n",
    "        print(\"operation.__class__:\", operation.__class__)\n",
    "        print(\"operation.num_qubits:\", operation.num_qubits)\n",
    "        print(\"operation.num_clbits:\", operation.num_clbits)\n",
    "        \n",
    "\n",
    "        # Skip Parameters\n",
    "\n",
    "        for parameter in operation.params:\n",
    "\n",
    "            if isinstance(parameter, qiskit.circuit.parameter.ParameterExpression):\n",
    "\n",
    "                parameter = None\n",
    "\n",
    "            values.append(parameter)\n",
    "            \n",
    "            print(\"parameter:\", parameter)\n",
    "\n",
    "        # Update Hash\n",
    "\n",
    "        for value in values:\n",
    "\n",
    "            encoded_value = repr(value).encode('utf-8')\n",
    "\n",
    "            hash_object.update(encoded_value)\n",
    "\n",
    "    hash_bytes = hash_object.digest()\n",
    "\n",
    "    hash_value = int.from_bytes(hash_bytes, byteorder='little')\n",
    "\n",
    "    return hash_value"
   ]
  },
  {
   "cell_type": "code",
   "execution_count": 17,
   "id": "d67609d2-2875-4f44-a21d-4d51d4e2927b",
   "metadata": {},
   "outputs": [
    {
     "name": "stdout",
     "output_type": "stream",
     "text": [
      "qubit_indices: [0, 1]\n",
      "operation.__class__: <class 'qiskit.circuit.instruction.Instruction'>\n",
      "operation.num_qubits: 2\n",
      "operation.num_clbits: 0\n"
     ]
    },
    {
     "data": {
      "text/plain": [
       "106621143102783693860994104962307555573289504435922805188167120851058243504736"
      ]
     },
     "execution_count": 17,
     "metadata": {},
     "output_type": "execute_result"
    }
   ],
   "source": [
    "get_circuit_hash(qv_circuit_1)"
   ]
  },
  {
   "cell_type": "code",
   "execution_count": 18,
   "id": "eef1107f-8444-4dba-b5f3-4d8e26062fa4",
   "metadata": {},
   "outputs": [
    {
     "name": "stdout",
     "output_type": "stream",
     "text": [
      "qubit_indices: [0, 1]\n",
      "operation.__class__: <class 'qiskit.circuit.instruction.Instruction'>\n",
      "operation.num_qubits: 2\n",
      "operation.num_clbits: 0\n"
     ]
    },
    {
     "data": {
      "text/plain": [
       "106621143102783693860994104962307555573289504435922805188167120851058243504736"
      ]
     },
     "execution_count": 18,
     "metadata": {},
     "output_type": "execute_result"
    }
   ],
   "source": [
    "get_circuit_hash(qv_circuit_2)"
   ]
  },
  {
   "cell_type": "code",
   "execution_count": null,
   "id": "4b484fa7-40af-4e23-848f-a0c15489239b",
   "metadata": {},
   "outputs": [],
   "source": []
  }
 ],
 "metadata": {
  "kernelspec": {
   "display_name": "Qiskit_1.0",
   "language": "python",
   "name": "qiskit_1.0"
  },
  "language_info": {
   "codemirror_mode": {
    "name": "ipython",
    "version": 3
   },
   "file_extension": ".py",
   "mimetype": "text/x-python",
   "name": "python",
   "nbconvert_exporter": "python",
   "pygments_lexer": "ipython3",
   "version": "3.10.13"
  }
 },
 "nbformat": 4,
 "nbformat_minor": 5
}
