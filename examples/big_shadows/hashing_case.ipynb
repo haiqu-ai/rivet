{
 "cells": [
  {
   "cell_type": "code",
   "execution_count": 1,
   "id": "f01999a7-6744-4dda-ac92-e61e664d01e4",
   "metadata": {},
   "outputs": [],
   "source": [
    "# https://gitlab.com/haiqu-ai/qml-transpiler/-/issues/5"
   ]
  },
  {
   "cell_type": "code",
   "execution_count": 2,
   "id": "f46a78da-ac7f-4642-b3d2-5a347477822b",
   "metadata": {},
   "outputs": [],
   "source": [
    "import qiskit\n",
    "\n",
    "from qiskit.circuit.library import QuantumVolume\n",
    "\n",
    "%cd -q ../..\n",
    "\n",
    "from rivet_transpiler import transpile_right"
   ]
  },
  {
   "cell_type": "code",
   "execution_count": 3,
   "id": "0888e6d7-018e-4358-a468-ddd49dc5a7ee",
   "metadata": {},
   "outputs": [
    {
     "data": {
      "text/html": [
       "<pre style=\"word-wrap: normal;white-space: pre;background: #fff0;line-height: 1.1;font-family: &quot;Courier New&quot;,Courier,monospace\">   ┌────────────────────────┐\n",
       "q: ┤ quantum_volume_[1,1,1] ├\n",
       "   └────────────────────────┘</pre>"
      ],
      "text/plain": [
       "   ┌────────────────────────┐\n",
       "q: ┤ quantum_volume_[1,1,1] ├\n",
       "   └────────────────────────┘"
      ]
     },
     "execution_count": 3,
     "metadata": {},
     "output_type": "execute_result"
    }
   ],
   "source": [
    "qv_circuit_1 = QuantumVolume(num_qubits=1, depth=1, seed=1)\n",
    "\n",
    "qv_circuit_1.draw()"
   ]
  },
  {
   "cell_type": "code",
   "execution_count": 4,
   "id": "62c00a00-5621-4de4-964f-43728fc269c3",
   "metadata": {},
   "outputs": [
    {
     "data": {
      "text/html": [
       "<pre style=\"word-wrap: normal;white-space: pre;background: #fff0;line-height: 1.1;font-family: &quot;Courier New&quot;,Courier,monospace\">   ┌────────────────────────┐\n",
       "q: ┤ quantum_volume_[1,1,2] ├\n",
       "   └────────────────────────┘</pre>"
      ],
      "text/plain": [
       "   ┌────────────────────────┐\n",
       "q: ┤ quantum_volume_[1,1,2] ├\n",
       "   └────────────────────────┘"
      ]
     },
     "execution_count": 4,
     "metadata": {},
     "output_type": "execute_result"
    }
   ],
   "source": [
    "qv_circuit_2 = QuantumVolume(num_qubits=1, depth=1, seed=2)\n",
    "\n",
    "qv_circuit_2.draw()"
   ]
  },
  {
   "cell_type": "code",
   "execution_count": null,
   "id": "8b80e8bd-d6f1-43d0-bcd9-b654ac59a5cb",
   "metadata": {},
   "outputs": [],
   "source": []
  }
 ],
 "metadata": {
  "kernelspec": {
   "display_name": "Qiskit_1.0",
   "language": "python",
   "name": "qiskit_1.0"
  },
  "language_info": {
   "codemirror_mode": {
    "name": "ipython",
    "version": 3
   },
   "file_extension": ".py",
   "mimetype": "text/x-python",
   "name": "python",
   "nbconvert_exporter": "python",
   "pygments_lexer": "ipython3",
   "version": "3.10.13"
  }
 },
 "nbformat": 4,
 "nbformat_minor": 5
}
