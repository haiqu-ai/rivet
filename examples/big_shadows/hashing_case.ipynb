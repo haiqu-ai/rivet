{
 "cells": [
  {
   "cell_type": "code",
   "execution_count": 1,
   "id": "f01999a7-6744-4dda-ac92-e61e664d01e4",
   "metadata": {},
   "outputs": [],
   "source": [
    "# https://gitlab.com/haiqu-ai/qml-transpiler/-/issues/5"
   ]
  },
  {
   "cell_type": "code",
   "execution_count": 2,
   "id": "f46a78da-ac7f-4642-b3d2-5a347477822b",
   "metadata": {},
   "outputs": [],
   "source": [
    "import qiskit\n",
    "\n",
    "from qiskit.circuit.library import QuantumVolume\n",
    "\n",
    "%cd -q ../..\n",
    "\n",
    "from rivet_transpiler import get_circuit_hash"
   ]
  },
  {
   "cell_type": "code",
   "execution_count": 3,
   "id": "0888e6d7-018e-4358-a468-ddd49dc5a7ee",
   "metadata": {},
   "outputs": [
    {
     "data": {
      "text/html": [
       "<pre style=\"word-wrap: normal;white-space: pre;background: #fff0;line-height: 1.1;font-family: &quot;Courier New&quot;,Courier,monospace\">     ┌─────────────────────────┐\n",
       "q_0: ┤0                        ├\n",
       "     │  quantum_volume_[2,1,1] │\n",
       "q_1: ┤1                        ├\n",
       "     └─────────────────────────┘</pre>"
      ],
      "text/plain": [
       "     ┌─────────────────────────┐\n",
       "q_0: ┤0                        ├\n",
       "     │  quantum_volume_[2,1,1] │\n",
       "q_1: ┤1                        ├\n",
       "     └─────────────────────────┘"
      ]
     },
     "execution_count": 3,
     "metadata": {},
     "output_type": "execute_result"
    }
   ],
   "source": [
    "qv_circuit_1 = QuantumVolume(num_qubits=2, depth=1, seed=1)\n",
    "\n",
    "qv_circuit_1.draw()"
   ]
  },
  {
   "cell_type": "code",
   "execution_count": 4,
   "id": "fe8304e9-eeac-4c1a-a897-08ead780ab46",
   "metadata": {},
   "outputs": [
    {
     "data": {
      "text/html": [
       "<pre style=\"word-wrap: normal;white-space: pre;background: #fff0;line-height: 1.1;font-family: &quot;Courier New&quot;,Courier,monospace\">global phase: 4.7181\n",
       "     ┌──────────────────────────┐         ┌──────────────────────┐            ┌──────────────────┐         ┌───────────────────────────┐\n",
       "q_0: ┤ U(1.0024,0.97963,2.9372) ├──■──────┤ U(0.50968,-π/2,-π/2) ├─────■──────┤ U(0.12562,0,π/2) ├──────■──┤ U(1.8645,-1.2663,-1.8282) ├\n",
       "     ├──────────────────────────┤┌─┴─┐┌───┴──────────────────────┴──┐┌─┴─┐┌───┴──────────────────┴───┐┌─┴─┐└┬──────────────────────────┤\n",
       "q_1: ┤ U(0.82902,2.3378,1.7888) ├┤ X ├┤ U(1.3313,-0.32827,-0.60827) ├┤ X ├┤ U(1.9404,-2.9753,2.0057) ├┤ X ├─┤ U(2.6566,-2.4584,1.0197) ├\n",
       "     └──────────────────────────┘└───┘└─────────────────────────────┘└───┘└──────────────────────────┘└───┘ └──────────────────────────┘</pre>"
      ],
      "text/plain": [
       "global phase: 4.7181\n",
       "     ┌──────────────────────────┐         ┌──────────────────────┐            ┌──────────────────┐         ┌───────────────────────────┐\n",
       "q_0: ┤ U(1.0024,0.97963,2.9372) ├──■──────┤ U(0.50968,-π/2,-π/2) ├─────■──────┤ U(0.12562,0,π/2) ├──────■──┤ U(1.8645,-1.2663,-1.8282) ├\n",
       "     ├──────────────────────────┤┌─┴─┐┌───┴──────────────────────┴──┐┌─┴─┐┌───┴──────────────────┴───┐┌─┴─┐└┬──────────────────────────┤\n",
       "q_1: ┤ U(0.82902,2.3378,1.7888) ├┤ X ├┤ U(1.3313,-0.32827,-0.60827) ├┤ X ├┤ U(1.9404,-2.9753,2.0057) ├┤ X ├─┤ U(2.6566,-2.4584,1.0197) ├\n",
       "     └──────────────────────────┘└───┘└─────────────────────────────┘└───┘└──────────────────────────┘└───┘ └──────────────────────────┘"
      ]
     },
     "execution_count": 4,
     "metadata": {},
     "output_type": "execute_result"
    }
   ],
   "source": [
    "qv_circuit_1.decompose(reps=2).draw(fold=-1)"
   ]
  },
  {
   "cell_type": "code",
   "execution_count": null,
   "id": "37fe8c89-b2c7-4234-8a91-8f75b88b04f8",
   "metadata": {},
   "outputs": [],
   "source": []
  },
  {
   "cell_type": "code",
   "execution_count": 5,
   "id": "62c00a00-5621-4de4-964f-43728fc269c3",
   "metadata": {},
   "outputs": [
    {
     "data": {
      "text/html": [
       "<pre style=\"word-wrap: normal;white-space: pre;background: #fff0;line-height: 1.1;font-family: &quot;Courier New&quot;,Courier,monospace\">     ┌─────────────────────────┐\n",
       "q_0: ┤0                        ├\n",
       "     │  quantum_volume_[2,1,2] │\n",
       "q_1: ┤1                        ├\n",
       "     └─────────────────────────┘</pre>"
      ],
      "text/plain": [
       "     ┌─────────────────────────┐\n",
       "q_0: ┤0                        ├\n",
       "     │  quantum_volume_[2,1,2] │\n",
       "q_1: ┤1                        ├\n",
       "     └─────────────────────────┘"
      ]
     },
     "execution_count": 5,
     "metadata": {},
     "output_type": "execute_result"
    }
   ],
   "source": [
    "qv_circuit_2 = QuantumVolume(num_qubits=2, depth=1, seed=2)\n",
    "\n",
    "qv_circuit_2.draw()"
   ]
  },
  {
   "cell_type": "code",
   "execution_count": 6,
   "id": "ddb68b5e-6010-42c5-9ada-e530ad7769af",
   "metadata": {},
   "outputs": [
    {
     "data": {
      "text/html": [
       "<pre style=\"word-wrap: normal;white-space: pre;background: #fff0;line-height: 1.1;font-family: &quot;Courier New&quot;,Courier,monospace\">global phase: 4.242\n",
       "     ┌───────────────────────────┐┌───┐┌─────────────────────────────┐┌───┐┌──────────────────────────┐┌───┐  ┌─────────────────────────┐  \n",
       "q_0: ┤ U(0.42625,2.0777,-1.3067) ├┤ X ├┤ U(1.4041,-0.36948,-0.40469) ├┤ X ├┤ U(1.9404,-2.9753,2.0057) ├┤ X ├──┤ U(2.6464,3.0558,2.6067) ├──\n",
       "     └┬──────────────────────────┤└─┬─┘└───┬──────────────────────┬──┘└─┬─┘└──┬───────────────────┬───┘└─┬─┘┌─┴─────────────────────────┴─┐\n",
       "q_1: ─┤ U(0.22194,1.095,-2.3561) ├──■──────┤ U(0.90037,-π/2,-π/2) ├─────■─────┤ U(0.085471,0,π/2) ├──────■──┤ U(2.3676,-0.30944,-0.64982) ├\n",
       "      └──────────────────────────┘         └──────────────────────┘           └───────────────────┘         └─────────────────────────────┘</pre>"
      ],
      "text/plain": [
       "global phase: 4.242\n",
       "     ┌───────────────────────────┐┌───┐┌─────────────────────────────┐┌───┐┌──────────────────────────┐┌───┐  ┌─────────────────────────┐  \n",
       "q_0: ┤ U(0.42625,2.0777,-1.3067) ├┤ X ├┤ U(1.4041,-0.36948,-0.40469) ├┤ X ├┤ U(1.9404,-2.9753,2.0057) ├┤ X ├──┤ U(2.6464,3.0558,2.6067) ├──\n",
       "     └┬──────────────────────────┤└─┬─┘└───┬──────────────────────┬──┘└─┬─┘└──┬───────────────────┬───┘└─┬─┘┌─┴─────────────────────────┴─┐\n",
       "q_1: ─┤ U(0.22194,1.095,-2.3561) ├──■──────┤ U(0.90037,-π/2,-π/2) ├─────■─────┤ U(0.085471,0,π/2) ├──────■──┤ U(2.3676,-0.30944,-0.64982) ├\n",
       "      └──────────────────────────┘         └──────────────────────┘           └───────────────────┘         └─────────────────────────────┘"
      ]
     },
     "execution_count": 6,
     "metadata": {},
     "output_type": "execute_result"
    }
   ],
   "source": [
    "qv_circuit_2.decompose(reps=2).draw(fold=-1)"
   ]
  },
  {
   "cell_type": "code",
   "execution_count": null,
   "id": "9a215282-2e66-4c05-af67-ae7487dd5210",
   "metadata": {},
   "outputs": [],
   "source": []
  },
  {
   "cell_type": "code",
   "execution_count": 40,
   "id": "39e58928-150e-432e-a234-3c1b907f31e1",
   "metadata": {},
   "outputs": [],
   "source": [
    "import hashlib\n",
    "\n",
    "def get_circuit_hash(circuit):\n",
    "\n",
    "    hash_object = hashlib.sha256(b'')\n",
    "\n",
    "    dag = qiskit.converters.circuit_to_dag(circuit)\n",
    "\n",
    "    for node in dag.topological_op_nodes():\n",
    "\n",
    "        operation = node.op\n",
    "\n",
    "        qubit_indices = [circuit.find_bit(qubit).index for qubit in node.qargs]\n",
    "\n",
    "        # Values\n",
    "\n",
    "        values = []\n",
    "\n",
    "        values.append(qubit_indices)\n",
    "        values.append(operation.__class__)\n",
    "        values.append(operation.num_qubits)\n",
    "        values.append(operation.num_clbits)\n",
    "        \n",
    "        # print(\"qubit_indices:\", qubit_indices)\n",
    "        # print(\"operation.__class__:\", operation.__class__)\n",
    "        # print(\"operation.num_qubits:\", operation.num_qubits)\n",
    "        # print(\"operation.num_clbits:\", operation.num_clbits)\n",
    "        \n",
    "\n",
    "        # Skip Parameters\n",
    "\n",
    "        for parameter in operation.params:\n",
    "\n",
    "            if isinstance(parameter, qiskit.circuit.parameter.ParameterExpression):\n",
    "\n",
    "                parameter = None\n",
    "\n",
    "            values.append(parameter)\n",
    "            \n",
    "            # print(\"parameter:\", parameter)\n",
    "\n",
    "        # Update Hash\n",
    "\n",
    "        for value in values:\n",
    "\n",
    "            encoded_value = repr(value).encode('utf-8')\n",
    "\n",
    "            hash_object.update(encoded_value)\n",
    "\n",
    "    hash_bytes = hash_object.digest()\n",
    "\n",
    "    hash_value = int.from_bytes(hash_bytes, byteorder='little')\n",
    "\n",
    "    return hash_value"
   ]
  },
  {
   "cell_type": "code",
   "execution_count": 7,
   "id": "f258f44c-965d-497c-a357-8f09b0baeb2d",
   "metadata": {},
   "outputs": [
    {
     "data": {
      "text/plain": [
       "81494582331337268712486896751651397882263172419496569560316079018007347265399"
      ]
     },
     "execution_count": 7,
     "metadata": {},
     "output_type": "execute_result"
    }
   ],
   "source": [
    "get_circuit_hash(qv_circuit_1.decompose(reps=2))"
   ]
  },
  {
   "cell_type": "code",
   "execution_count": 8,
   "id": "758c749f-b8d7-4209-8b89-c12da12ad93e",
   "metadata": {},
   "outputs": [
    {
     "data": {
      "text/plain": [
       "67621646157843688507862837171594541376831134984340120138614568120639168982402"
      ]
     },
     "execution_count": 8,
     "metadata": {},
     "output_type": "execute_result"
    }
   ],
   "source": [
    "get_circuit_hash(qv_circuit_2.decompose(reps=2))"
   ]
  },
  {
   "cell_type": "code",
   "execution_count": null,
   "id": "a137ba8f-f6a9-4080-bfe0-739e00193e67",
   "metadata": {},
   "outputs": [],
   "source": []
  }
 ],
 "metadata": {
  "kernelspec": {
   "display_name": "Qiskit_1.0",
   "language": "python",
   "name": "qiskit_1.0"
  },
  "language_info": {
   "codemirror_mode": {
    "name": "ipython",
    "version": 3
   },
   "file_extension": ".py",
   "mimetype": "text/x-python",
   "name": "python",
   "nbconvert_exporter": "python",
   "pygments_lexer": "ipython3",
   "version": "3.10.13"
  }
 },
 "nbformat": 4,
 "nbformat_minor": 5
}
