{
 "cells": [
  {
   "cell_type": "markdown",
   "id": "cd7eb1cd-c230-4f35-bf10-17619a2b007f",
   "metadata": {},
   "source": [
    "### 1) Shadow State Tomography"
   ]
  },
  {
   "cell_type": "code",
   "execution_count": null,
   "id": "880203cf-d440-4f59-bb7b-675deb4b8ac9",
   "metadata": {},
   "outputs": [],
   "source": [
    "def get_basis_unitary(basis):\n",
    "    \n",
    "    if basis == \"X\":\n",
    "        unitary = 1/np.sqrt(2) * np.array([[1.,1.],\n",
    "                                           [1.,-1.]])\n",
    "    elif basis == \"Y\":\n",
    "        unitary = 1/np.sqrt(2) * np.array([[1.,-1.0j],\n",
    "                                           [1.,1.j]])\n",
    "    elif basis == \"Z\":\n",
    "        unitary = np.eye(2)\n",
    "        \n",
    "    return unitary"
   ]
  },
  {
   "cell_type": "code",
   "execution_count": null,
   "id": "468ec8d0-62e1-463a-b21b-1ffcb75e33e1",
   "metadata": {},
   "outputs": [],
   "source": [
    "def get_inverted_channel(channel, qubits_count):\n",
    "    \n",
    "    identity = np.eye(2 ** qubits_count)\n",
    "    \n",
    "    inverted_channel = (2 ** qubits_count + 1) * channel - identity\n",
    "    \n",
    "    return inverted_channel"
   ]
  },
  {
   "cell_type": "code",
   "execution_count": null,
   "id": "3e4d2ec9-042a-49a6-a495-b9d90c5cda2b",
   "metadata": {},
   "outputs": [],
   "source": [
    "def build_bases_rotation_circuit(bases):\n",
    "    \n",
    "    qubits_count = len(bases)\n",
    "    \n",
    "    circuit = qiskit.QuantumCircuit(qubits_count)\n",
    "    \n",
    "    for qubit, basis in enumerate(bases):\n",
    "        \n",
    "        if basis == \"X\":\n",
    "            circuit.h(qubit)\n",
    "        \n",
    "        elif basis == \"Y\":\n",
    "            circuit.sdg(qubit)\n",
    "            circuit.h(qubit)\n",
    "        \n",
    "        elif basis == \"Z\":\n",
    "            pass\n",
    "        \n",
    "    return circuit"
   ]
  },
  {
   "cell_type": "code",
   "execution_count": null,
   "id": "d235f880-5a7d-4c01-84fe-624379802115",
   "metadata": {},
   "outputs": [],
   "source": [
    "def run_shadow_circuits(shadow_circuits, backend, shots_counts):\n",
    "\n",
    "    counts_list = []\n",
    "\n",
    "    for shadow_circuit, shots in zip(shadow_circuits, shots_counts):\n",
    "\n",
    "        job = backend.run(shadow_circuit, shots=shots)\n",
    "\n",
    "        counts = job.result().get_counts()\n",
    "\n",
    "        counts_list.append(counts)\n",
    "        \n",
    "    return counts_list"
   ]
  },
  {
   "cell_type": "code",
   "execution_count": null,
   "id": "5088232e-0439-4e40-b727-76c59fd89f26",
   "metadata": {},
   "outputs": [],
   "source": [
    "def get_shadows(bases_list, counts_list):\n",
    "\n",
    "    shadows = []\n",
    "\n",
    "    for bases, counts in zip(bases_list, counts_list):\n",
    "\n",
    "        for state, count in counts.items():\n",
    "\n",
    "            shadow_part = 1\n",
    "\n",
    "            for bit_index, bit in enumerate(state[::-1]):\n",
    "\n",
    "                basis = bases[bit_index]\n",
    "\n",
    "                basis_unitary = get_basis_unitary(basis)\n",
    "\n",
    "                vector = basis_unitary[int(bit), :]\n",
    "\n",
    "                outer_product = np.outer(vector.conj(), vector)\n",
    "\n",
    "                inverted_channel = get_inverted_channel(outer_product, 1)\n",
    "\n",
    "                shadow_part = np.kron(inverted_channel, shadow_part)\n",
    "\n",
    "            shadow = shadow_part * count\n",
    "\n",
    "            shadows.append(shadow)\n",
    "            \n",
    "    return shadows"
   ]
  },
  {
   "cell_type": "code",
   "execution_count": null,
   "id": "09a902b0-6a74-40aa-9d59-5b94604763a4",
   "metadata": {},
   "outputs": [],
   "source": [
    "def plot_density_matrix(density_matrix, label=\"\"):\n",
    "\n",
    "    plt.suptitle(f\"{label} Density Matrix\", y=0.9)\n",
    "\n",
    "    real = plt.subplot(121)\n",
    "    real.set_title(\"Real part\")\n",
    "\n",
    "    real.imshow(density_matrix.real, vmin=-0.7, vmax=0.7)\n",
    "\n",
    "    real.axes.set_xticks(())\n",
    "    real.axes.set_yticks(())\n",
    "\n",
    "\n",
    "    imaginary = plt.subplot(122)\n",
    "    imaginary.set_title(\"Imaginary part\")\n",
    "    imaginary.imshow(density_matrix.imag, vmin=-0.7, vmax=0.7)\n",
    "\n",
    "    imaginary.axes.set_xticks(())\n",
    "    imaginary.axes.set_yticks(())\n",
    "\n",
    "    plt.show()"
   ]
  },
  {
   "cell_type": "code",
   "execution_count": null,
   "id": "6e58146b-52b0-4556-bcae-b5b89668a9b5",
   "metadata": {},
   "outputs": [],
   "source": [
    "def get_mean_square_error(a, b):\n",
    "\n",
    "    mean_square_error = np.abs(((a - b) ** 2).mean())\n",
    "    \n",
    "    return mean_square_error"
   ]
  },
  {
   "cell_type": "markdown",
   "id": "b71f44b1-5ef2-496f-a790-27801da27323",
   "metadata": {},
   "source": [
    "### 2) Quantum Fourier Transform"
   ]
  },
  {
   "cell_type": "code",
   "execution_count": 105,
   "id": "3ac196f7-5bbb-4c70-90b3-c36f2db47852",
   "metadata": {},
   "outputs": [],
   "source": [
    "def build_state_circuit(state):\n",
    "    \n",
    "    qubits_count = len(state)\n",
    "    \n",
    "    state_circuit = qiskit.QuantumCircuit(qubits_count)\n",
    "    \n",
    "    for index, bit in enumerate(state):\n",
    "        \n",
    "        if bit == \"1\":\n",
    "            position = qubits_count - index - 1\n",
    "            state_circuit.x(position)\n",
    "\n",
    "    state_circuit.barrier(label=\"State\")\n",
    "    \n",
    "    return state_circuit"
   ]
  },
  {
   "cell_type": "code",
   "execution_count": 106,
   "id": "5ad2b28c-92f1-44b3-891c-3db8d4a94c33",
   "metadata": {},
   "outputs": [],
   "source": [
    "def build_qft_circuit(qubits_count):\n",
    "    \n",
    "    qubits = list(range(qubits_count))\n",
    "    \n",
    "    circuit = qiskit.QuantumCircuit(qubits_count)\n",
    "    \n",
    "    for control_qubit in reversed(qubits):\n",
    "        \n",
    "        for target_qubit in reversed(range(control_qubit, qubits_count)):\n",
    "            \n",
    "            if control_qubit == target_qubit:\n",
    "                \n",
    "                circuit.h(control_qubit)\n",
    "                \n",
    "            else:\n",
    "                \n",
    "                theta = np.pi / 2 ** (target_qubit - control_qubit)\n",
    "                \n",
    "                circuit.crz(theta, control_qubit, target_qubit)\n",
    "                \n",
    "        circuit.barrier()\n",
    "        \n",
    "    return circuit"
   ]
  },
  {
   "cell_type": "code",
   "execution_count": 107,
   "id": "439bc528-db3d-4387-85a2-d533e4f69b05",
   "metadata": {},
   "outputs": [],
   "source": [
    "def build_fourrier_adder(qubits_count, number_to_add=1):\n",
    "    \n",
    "    circuit = qiskit.QuantumCircuit(qubits_count)\n",
    "    \n",
    "    for qubit in range(qubits_count):\n",
    "        \n",
    "        angle = number_to_add * (np.pi / 2 ** qubit)\n",
    "        \n",
    "        circuit.rz(angle, qubit)\n",
    "        \n",
    "    circuit.barrier(label=\"Adder\")\n",
    "    \n",
    "    return circuit"
   ]
  },
  {
   "cell_type": "code",
   "execution_count": null,
   "id": "214b66f1-70a8-4d3c-bb15-75180793f633",
   "metadata": {},
   "outputs": [],
   "source": [
    "def build_counts_figure(initial_states, measured_states, counts,\n",
    "                        elevation=10, initial_azimuth=230):\n",
    "\n",
    "    initial_states_grid, measured_states_grid = np.meshgrid(initial_states, measured_states)\n",
    "\n",
    "    figure, ax = plt.subplots(figsize=(5, 5),\n",
    "                              subplot_kw={\"projection\": \"3d\"})\n",
    "\n",
    "    surface = ax.plot_surface(initial_states_grid,\n",
    "                              measured_states_grid,\n",
    "                              counts.T,\n",
    "                              cmap='plasma',\n",
    "                              linewidth=30, \n",
    "                              antialiased=True)\n",
    "\n",
    "    ax.view_init(elev=elevation, azim=initial_azimuth)\n",
    "\n",
    "    ax.zaxis.set_rotate_label(False)\n",
    "    \n",
    "    ax.set_xlabel('Initial State Index')\n",
    "    ax.set_ylabel('Measured State Index')\n",
    "    ax.set_zlabel('Count', rotation=90)\n",
    "        \n",
    "    ax.patch.set_alpha(0)\n",
    "        \n",
    "    figure.patch.set_alpha(0)\n",
    "    \n",
    "    # figure.patch.set_facecolor('black')\n",
    "    \n",
    "    plt.close()\n",
    "    \n",
    "    return figure"
   ]
  }
 ],
 "metadata": {
  "kernelspec": {
   "display_name": "Python 3 (ipykernel)",
   "language": "python",
   "name": "python3"
  },
  "language_info": {
   "codemirror_mode": {
    "name": "ipython",
    "version": 3
   },
   "file_extension": ".py",
   "mimetype": "text/x-python",
   "name": "python",
   "nbconvert_exporter": "python",
   "pygments_lexer": "ipython3",
   "version": "3.8.10"
  }
 },
 "nbformat": 4,
 "nbformat_minor": 5
}
