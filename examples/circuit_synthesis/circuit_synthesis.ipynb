{
 "cells": [
  {
   "cell_type": "markdown",
   "id": "ca839a81-c496-4a4a-86f2-809ee5cb0b54",
   "metadata": {
    "id": "ca839a81-c496-4a4a-86f2-809ee5cb0b54"
   },
   "source": [
    "# Circuit synthesis\n",
    "\n",
    "**Quantum circuit synthesis** is the process of converting a mathematical description of a quantum transformation - often given as a unitary matrix - into a circuit composed of gates from a fixed gate set.\n",
    "\n",
    "**Search-based synthesis tools** are categorized by the discrete search for a desired circuit through a space of circuits. These techniques are usually bottom-up, they start with an empty circuit and grow out as they search through the space."
   ]
  },
  {
   "cell_type": "markdown",
   "id": "48640a89-e060-4d42-bb10-84fd0f899766",
   "metadata": {
    "id": "48640a89-e060-4d42-bb10-84fd0f899766"
   },
   "source": [
    "![image.jpg](Fig1_circuit_synthesis_schema.jpg) \n",
    "*Fig.1. Hierarchical synthesis or instantiation-based circuit optimization. Both the partitioning strategy and the quality of numerical optimization determine performance and final output quality. Image source [1].*"
   ]
  },
  {
   "cell_type": "markdown",
   "id": "0bf51d1f",
   "metadata": {
    "id": "0bf51d1f"
   },
   "source": [
    "## 1. QSearch\n",
    "\n",
    "**QSearch** is a powerful search-based synthesis tool, which phrases the problem of circuit synthesis as a search over circuit structures combined with numerical optimization to instantiate circuit parameters.\n",
    "\n",
    "1) The algorithm starts by placing single-qubit rotations on all qubits.\n",
    "\n",
    "2) The circuit is then instantiated by calling a numerical optimization subroutine to solve for the gate's parameters that minimize the distance between the circuit's unitary and the target unitary.\n",
    "\n",
    "3) After this, fixed building blocks composed of two-qubit gates followed by single-qubit rotations are placed on all pairs of qubits.\n",
    "\n",
    "This branching pattern forms the circuit tree, where at depth **n** in the tree, all possible circuit structures with **n** two-qubit gates exist.\n",
    "\n",
    "Each structure is a candidate solution and is evaluated using the same numerical optimization process, and the order of evaluations is determined by A-star search (starting from the most important node)."
   ]
  },
  {
   "cell_type": "markdown",
   "id": "WVfHgPsxv4jF",
   "metadata": {
    "id": "WVfHgPsxv4jF"
   },
   "source": [
    "\n",
    "The code below represents the default transpiler stack in Qiskit, which includes standard optimization techniques and transformations for quantum circuits. The transpiler applies optimizations such as gate decomposition, gate cancellation, and routing to adapt the circuit for execution on the target backend."
   ]
  },
  {
   "cell_type": "code",
   "execution_count": 1,
   "id": "8e5097fe-9347-4543-ae4f-fb285d81355f",
   "metadata": {},
   "outputs": [],
   "source": [
    "from rivet_transpiler import transpile"
   ]
  },
  {
   "cell_type": "markdown",
   "id": "08fe8c8d-28ca-445e-9e1e-a2098902caa4",
   "metadata": {},
   "source": [
    "To create a Bind Circuit we first have to define a litmus circuit.\n",
    "**Litmus circuit** is a minimal quantum circuit which consists of:\n",
    "\n",
    "- Parametrized RZ gate on each qubit (each parameter name matches the  index of the virtual qubit - to trace consequent permutations of qubits during layout and routing phases of transpilation).\n",
    "\n",
    "- Circular CNOT gates (necessary to introduce SWAPs during transpilation to not fully connected topology)."
   ]
  },
  {
   "cell_type": "code",
   "execution_count": 2,
   "id": "55f0fa9d-35bd-4019-b7c2-0670fe2203d5",
   "metadata": {},
   "outputs": [
    {
     "data": {
      "text/html": [
       "<pre style=\"word-wrap: normal;white-space: pre;background: #fff0;line-height: 1.1;font-family: &quot;Courier New&quot;,Courier,monospace\">            ┌──────────────┐          ┌───┐ Litmus \n",
       "Litmus_0_0: ┤ Rz(Litmus_0) ├──■───────┤ X ├───░────\n",
       "            ├──────────────┤┌─┴─┐     └─┬─┘   ░    \n",
       "Litmus_0_1: ┤ Rz(Litmus_1) ├┤ X ├──■────┼─────░────\n",
       "            ├──────────────┤└───┘┌─┴─┐  │     ░    \n",
       "Litmus_0_2: ┤ Rz(Litmus_2) ├─────┤ X ├──■─────░────\n",
       "            └──────────────┘     └───┘        ░    </pre>"
      ],
      "text/plain": [
       "            ┌──────────────┐          ┌───┐ Litmus \n",
       "Litmus_0_0: ┤ Rz(Litmus_0) ├──■───────┤ X ├───░────\n",
       "            ├──────────────┤┌─┴─┐     └─┬─┘   ░    \n",
       "Litmus_0_1: ┤ Rz(Litmus_1) ├┤ X ├──■────┼─────░────\n",
       "            ├──────────────┤└───┘┌─┴─┐  │     ░    \n",
       "Litmus_0_2: ┤ Rz(Litmus_2) ├─────┤ X ├──■─────░────\n",
       "            └──────────────┘     └───┘        ░    "
      ]
     },
     "execution_count": 2,
     "metadata": {},
     "output_type": "execute_result"
    }
   ],
   "source": [
    "from rivet_transpiler import get_litmus_circuit\n",
    "\n",
    "QUBITS_COUNT = 3\n",
    "litmus_circuit = get_litmus_circuit(QUBITS_COUNT, \"Litmus\")\n",
    "litmus_circuit.draw()"
   ]
  },
  {
   "cell_type": "code",
   "execution_count": 3,
   "id": "85f23e6b",
   "metadata": {
    "id": "85f23e6b"
   },
   "outputs": [],
   "source": [
    "# Bind Circuit Parameters\n",
    "bound_litmus_circuit = litmus_circuit.copy()\n",
    "\n",
    "for index, parameter in enumerate(litmus_circuit.parameters):\n",
    "\n",
    "    bound_litmus_circuit.assign_parameters(\n",
    "        {parameter: index},\n",
    "        inplace=True)"
   ]
  },
  {
   "cell_type": "markdown",
   "id": "55c97b38-dfd8-414e-b714-0856b8a639bd",
   "metadata": {},
   "source": [
    "To be able execute code below - matplotlib package should be installed:"
   ]
  },
  {
   "cell_type": "code",
   "execution_count": null,
   "id": "85f9e9c9-fb93-4785-ac51-b13c70b2072c",
   "metadata": {},
   "outputs": [],
   "source": [
    "# !pip install matplotlib"
   ]
  },
  {
   "cell_type": "markdown",
   "id": "2f0c17d2",
   "metadata": {},
   "source": [
    "As a minimal example to run, we select the simplest 5qubit backend:\n"
   ]
  },
  {
   "cell_type": "code",
   "execution_count": 4,
   "id": "480635f2-77f7-4629-8ada-a40dd17ede81",
   "metadata": {},
   "outputs": [
    {
     "data": {
      "image/png": "[encoded data removed]",
      "text/plain": [
       "<Figure size 271.4x271.4 with 1 Axes>"
      ]
     },
     "execution_count": 4,
     "metadata": {},
     "output_type": "execute_result"
    }
   ],
   "source": [
    "import qiskit\n",
    "from rivet_transpiler import transpile\n",
    "from qiskit_ibm_runtime.fake_provider import FakeLimaV2\n",
    "\n",
    "backend = FakeLimaV2() \n",
    "\n",
    "qiskit.visualization.plot_gate_map(backend)"
   ]
  },
  {
   "cell_type": "code",
   "execution_count": 5,
   "id": "1f93d344-e522-4c37-81e9-c283ee4648a1",
   "metadata": {},
   "outputs": [],
   "source": [
    "STACKS = [\"qiskit\",\n",
    "          \"qiskit_qsearch\",\n",
    "          \"qiskit_qfactor_qsearch\",\n",
    "          \"qiskit_pytket\"]"
   ]
  },
  {
   "cell_type": "code",
   "execution_count": 6,
   "id": "4dcccc03-b9f6-476e-ba8e-5e43a7598d23",
   "metadata": {},
   "outputs": [],
   "source": [
    "#FAKE_BACKEND = FakeLimaV2()\n",
    "#backend = qiskit.providers.aer.AerSimulator.from_backend(FAKE_BACKEND)\n",
    "\n",
    "#backend.options.noise_model = None"
   ]
  },
  {
   "cell_type": "markdown",
   "id": "f2285a7e-9d0c-4185-8d00-db0d78a49cfc",
   "metadata": {},
   "source": [
    "Run the circuit on a selected backend and `qiskit_qsearch` stack. Make sure you have installed all stacks: \n",
    "- `pip install .[stacks]`\n",
    "- for Mac OS `pip install .\"[stacks]\"`"
   ]
  },
  {
   "cell_type": "code",
   "execution_count": 7,
   "id": "d2648df0",
   "metadata": {
    "id": "d2648df0"
   },
   "outputs": [
    {
     "name": "stderr",
     "output_type": "stream",
     "text": [
      "Frontier emptied.\n",
      "Returning best known circuit with 0 layers and cost: 4.999996e-01.\n",
      "Frontier emptied.\n",
      "Returning best known circuit with 0 layers and cost: 4.999996e-01.\n"
     ]
    },
    {
     "data": {
      "text/html": [
       "<pre style=\"word-wrap: normal;white-space: pre;background: #fff0;line-height: 1.1;font-family: &quot;Courier New&quot;,Courier,monospace\">global phase: 3.1624\n",
       "                                                                          ┌────────────┐┌────┐    ┌──────────┐   ┌────┐┌────────────┐                                                              ░ \n",
       "      q_0 -> 0 ────────────────────────────────────────────────────────■──┤ Rz(3.1823) ├┤ √X ├────┤ Rz(6.28) ├───┤ √X ├┤ Rz(9.4673) ├──────────────────────────────────────────────────────────────░─\n",
       "               ┌────────────┐  ┌────┐  ┌────────┐┌────┐┌────────────┐┌─┴─┐├────────────┤├────┤┌───┴──────────┴──┐├────┤├────────────┤                                                              ░ \n",
       "      q_1 -> 1 ┤ Rz(2.0708) ├──┤ √X ├──┤ Rz(2π) ├┤ √X ├┤ Rz(13.637) ├┤ X ├┤ Rz(1.5708) ├┤ √X ├┤ Rz(-1.4919e-09) ├┤ √X ├┤ Rz(1.5708) ├──■───────────────────────────────────────────────────────────░─\n",
       "               └───┬───┬────┘┌─┴────┴─┐└────────┘└────┘└────────────┘└───┘└────────────┘└────┘└─────────────────┘└────┘└────────────┘┌─┴─┐┌────────────┐┌────┐┌────────────────┐┌────┐┌──────────┐ ░ \n",
       "      q_2 -> 2 ────┤ X ├─────┤ Rz(-2) ├──────────────────────────────────────────────────────────────────────────────────────────────┤ X ├┤ Rz(1.0516) ├┤ √X ├┤ Rz(-0.0012165) ├┤ √X ├┤ Rz(1.01) ├─░─\n",
       "                   └───┘     └────────┘                                                                                              └───┘└────────────┘└────┘└────────────────┘└────┘└──────────┘ ░ \n",
       "ancilla_0 -> 3 ──────────────────────────────────────────────────────────────────────────────────────────────────────────────────────────────────────────────────────────────────────────────────────\n",
       "                                                                                                                                                                                                     \n",
       "ancilla_1 -> 4 ──────────────────────────────────────────────────────────────────────────────────────────────────────────────────────────────────────────────────────────────────────────────────────\n",
       "                                                                                                                                                                                                     </pre>"
      ],
      "text/plain": [
       "global phase: 3.1624\n",
       "                                                                          ┌────────────┐┌────┐    ┌──────────┐   ┌────┐┌────────────┐                                                              ░ \n",
       "      q_0 -> 0 ────────────────────────────────────────────────────────■──┤ Rz(3.1823) ├┤ √X ├────┤ Rz(6.28) ├───┤ √X ├┤ Rz(9.4673) ├──────────────────────────────────────────────────────────────░─\n",
       "               ┌────────────┐  ┌────┐  ┌────────┐┌────┐┌────────────┐┌─┴─┐├────────────┤├────┤┌───┴──────────┴──┐├────┤├────────────┤                                                              ░ \n",
       "      q_1 -> 1 ┤ Rz(2.0708) ├──┤ √X ├──┤ Rz(2π) ├┤ √X ├┤ Rz(13.637) ├┤ X ├┤ Rz(1.5708) ├┤ √X ├┤ Rz(-1.4919e-09) ├┤ √X ├┤ Rz(1.5708) ├──■───────────────────────────────────────────────────────────░─\n",
       "               └───┬───┬────┘┌─┴────┴─┐└────────┘└────┘└────────────┘└───┘└────────────┘└────┘└─────────────────┘└────┘└────────────┘┌─┴─┐┌────────────┐┌────┐┌────────────────┐┌────┐┌──────────┐ ░ \n",
       "      q_2 -> 2 ────┤ X ├─────┤ Rz(-2) ├──────────────────────────────────────────────────────────────────────────────────────────────┤ X ├┤ Rz(1.0516) ├┤ √X ├┤ Rz(-0.0012165) ├┤ √X ├┤ Rz(1.01) ├─░─\n",
       "                   └───┘     └────────┘                                                                                              └───┘└────────────┘└────┘└────────────────┘└────┘└──────────┘ ░ \n",
       "ancilla_0 -> 3 ──────────────────────────────────────────────────────────────────────────────────────────────────────────────────────────────────────────────────────────────────────────────────────\n",
       "                                                                                                                                                                                                     \n",
       "ancilla_1 -> 4 ──────────────────────────────────────────────────────────────────────────────────────────────────────────────────────────────────────────────────────────────────────────────────────\n",
       "                                                                                                                                                                                                     "
      ]
     },
     "execution_count": 7,
     "metadata": {},
     "output_type": "execute_result"
    }
   ],
   "source": [
    "transpiled_circuit = transpile(\n",
    "    bound_litmus_circuit,\n",
    "    backend,\n",
    "    stack=\"qiskit_qsearch\",\n",
    "    qsearch_block_size=2,\n",
    "    seed_transpiler=1234)\n",
    "\n",
    "transpiled_circuit.draw(fold=-1)"
   ]
  },
  {
   "cell_type": "markdown",
   "id": "205b16d9",
   "metadata": {
    "id": "205b16d9"
   },
   "source": [
    "## 2. QFactor + QSearch\n",
    "\n",
    "This stack includes additional optimization techniques specific to factoring problems, such as techniques for factoring quantum circuits into smaller blocks or sub-circuits. Rivet can apply specialized optimizations aimed at improving performance or reducing errors for factoring-related quantum algorithms."
   ]
  },
  {
   "cell_type": "code",
   "execution_count": 8,
   "id": "78c181c1",
   "metadata": {
    "id": "78c181c1"
   },
   "outputs": [
    {
     "name": "stderr",
     "output_type": "stream",
     "text": [
      "Frontier emptied.\n",
      "Returning best known circuit with 0 layers and cost: 1.582640e-01.\n",
      "Frontier emptied.\n",
      "Returning best known circuit with 0 layers and cost: 1.582640e-01.\n"
     ]
    },
    {
     "data": {
      "text/html": [
       "<pre style=\"word-wrap: normal;white-space: pre;background: #fff0;line-height: 1.1;font-family: &quot;Courier New&quot;,Courier,monospace\">global phase: 1.8804\n",
       "                                                                            ┌──────────┐                                    ┌────┐    ┌─────────────┐     ┌────┐    ┌────────────┐                     ┌─────────────┐┌────┐┌─────────────┐┌────┐┌─────────────┐                                                                                                  \n",
       "      q_0 -> 0 ──────────────────────────────────────────────────────────■──┤ Rz(-π/2) ├────────────────────────────■───────┤ √X ├────┤ Rz(-1.3047) ├─────┤ √X ├────┤ Rz(2.8051) ├──────────────────■──┤ Rz(-2.8773) ├┤ √X ├┤ Rz(-1.4384) ├┤ √X ├┤ Rz(-2.1897) ├──────────────────────────────────────────────────────────────────────────────────────────────────\n",
       "               ┌────────────┐┌────┐  ┌──────────┐  ┌────┐ ┌──────────┐ ┌─┴─┐└┬────────┬┘┌────┐┌────────────┐┌────┐┌─┴─┐┌────┴────┴───┐└────┬────┬───┘┌────┴────┴───┐└───┬────┬───┘┌──────────────┐┌─┴─┐└┬────────────┤├────┤├─────────────┤├────┤└┬────────────┤     ┌────┐┌────────────┐┌────┐┌────────┐     ┌────────────┐                                      \n",
       "      q_1 -> 1 ┤ Rz(4.2169) ├┤ √X ├──┤ Rz(3π/2) ├──┤ √X ├─┤ Rz(7π/2) ├─┤ X ├─┤ Rz(-π) ├─┤ √X ├┤ Rz(1.1989) ├┤ √X ├┤ X ├┤ Rz(-1.5496) ├─────┤ √X ├────┤ Rz(-1.5724) ├────┤ √X ├────┤ Rz(0.075334) ├┤ X ├─┤ Rz(1.5708) ├┤ √X ├┤ Rz(-3.1204) ├┤ √X ├─┤ Rz(1.5708) ├──■──┤ √X ├┤ Rz(1.8368) ├┤ √X ├┤ Rz(-π) ├──■──┤ Rz(2.7697) ├──────────────────────────────────────\n",
       "               ├────────────┤├────┤┌─┴──────────┴─┐├────┤┌┴──────────┴┐└───┘ └────────┘ └────┘└────────────┘└────┘└───┘└─────────────┘     └────┘    └─────────────┘    └────┘    └──────────────┘└───┘ └────────────┘└────┘└─────────────┘└────┘ └────────────┘┌─┴─┐├────┤├────────────┤├────┤├────────┤┌─┴─┐└┬─────────┬─┘┌────┐┌────────────┐┌────┐┌──────────┐\n",
       "      q_2 -> 2 ┤ Rz(2.8451) ├┤ √X ├┤ Rz(-0.94922) ├┤ √X ├┤ Rz(2.7496) ├─────────────────────────────────────────────────────────────────────────────────────────────────────────────────────────────────────────────────────────────────────────────────────────┤ X ├┤ √X ├┤ Rz(1.3902) ├┤ √X ├┤ Rz(-π) ├┤ X ├─┤ Rz(π/2) ├──┤ √X ├┤ Rz(9.5882) ├┤ √X ├┤ Rz(5π/2) ├\n",
       "               └────────────┘└────┘└──────────────┘└────┘└────────────┘                                                                                                                                                                                         └───┘└────┘└────────────┘└────┘└────────┘└───┘ └─────────┘  └────┘└────────────┘└────┘└──────────┘\n",
       "ancilla_0 -> 3 ───────────────────────────────────────────────────────────────────────────────────────────────────────────────────────────────────────────────────────────────────────────────────────────────────────────────────────────────────────────────────────────────────────────────────────────────────────────────────────────────────────────────────\n",
       "                                                                                                                                                                                                                                                                                                                                                                  \n",
       "ancilla_1 -> 4 ───────────────────────────────────────────────────────────────────────────────────────────────────────────────────────────────────────────────────────────────────────────────────────────────────────────────────────────────────────────────────────────────────────────────────────────────────────────────────────────────────────────────────\n",
       "                                                                                                                                                                                                                                                                                                                                                                  </pre>"
      ],
      "text/plain": [
       "global phase: 1.8804\n",
       "                                                                            ┌──────────┐                                    ┌────┐    ┌─────────────┐     ┌────┐    ┌────────────┐                     ┌─────────────┐┌────┐┌─────────────┐┌────┐┌─────────────┐                                                                                                  \n",
       "      q_0 -> 0 ──────────────────────────────────────────────────────────■──┤ Rz(-π/2) ├────────────────────────────■───────┤ √X ├────┤ Rz(-1.3047) ├─────┤ √X ├────┤ Rz(2.8051) ├──────────────────■──┤ Rz(-2.8773) ├┤ √X ├┤ Rz(-1.4384) ├┤ √X ├┤ Rz(-2.1897) ├──────────────────────────────────────────────────────────────────────────────────────────────────\n",
       "               ┌────────────┐┌────┐  ┌──────────┐  ┌────┐ ┌──────────┐ ┌─┴─┐└┬────────┬┘┌────┐┌────────────┐┌────┐┌─┴─┐┌────┴────┴───┐└────┬────┬───┘┌────┴────┴───┐└───┬────┬───┘┌──────────────┐┌─┴─┐└┬────────────┤├────┤├─────────────┤├────┤└┬────────────┤     ┌────┐┌────────────┐┌────┐┌────────┐     ┌────────────┐                                      \n",
       "      q_1 -> 1 ┤ Rz(4.2169) ├┤ √X ├──┤ Rz(3π/2) ├──┤ √X ├─┤ Rz(7π/2) ├─┤ X ├─┤ Rz(-π) ├─┤ √X ├┤ Rz(1.1989) ├┤ √X ├┤ X ├┤ Rz(-1.5496) ├─────┤ √X ├────┤ Rz(-1.5724) ├────┤ √X ├────┤ Rz(0.075334) ├┤ X ├─┤ Rz(1.5708) ├┤ √X ├┤ Rz(-3.1204) ├┤ √X ├─┤ Rz(1.5708) ├──■──┤ √X ├┤ Rz(1.8368) ├┤ √X ├┤ Rz(-π) ├──■──┤ Rz(2.7697) ├──────────────────────────────────────\n",
       "               ├────────────┤├────┤┌─┴──────────┴─┐├────┤┌┴──────────┴┐└───┘ └────────┘ └────┘└────────────┘└────┘└───┘└─────────────┘     └────┘    └─────────────┘    └────┘    └──────────────┘└───┘ └────────────┘└────┘└─────────────┘└────┘ └────────────┘┌─┴─┐├────┤├────────────┤├────┤├────────┤┌─┴─┐└┬─────────┬─┘┌────┐┌────────────┐┌────┐┌──────────┐\n",
       "      q_2 -> 2 ┤ Rz(2.8451) ├┤ √X ├┤ Rz(-0.94922) ├┤ √X ├┤ Rz(2.7496) ├─────────────────────────────────────────────────────────────────────────────────────────────────────────────────────────────────────────────────────────────────────────────────────────┤ X ├┤ √X ├┤ Rz(1.3902) ├┤ √X ├┤ Rz(-π) ├┤ X ├─┤ Rz(π/2) ├──┤ √X ├┤ Rz(9.5882) ├┤ √X ├┤ Rz(5π/2) ├\n",
       "               └────────────┘└────┘└──────────────┘└────┘└────────────┘                                                                                                                                                                                         └───┘└────┘└────────────┘└────┘└────────┘└───┘ └─────────┘  └────┘└────────────┘└────┘└──────────┘\n",
       "ancilla_0 -> 3 ───────────────────────────────────────────────────────────────────────────────────────────────────────────────────────────────────────────────────────────────────────────────────────────────────────────────────────────────────────────────────────────────────────────────────────────────────────────────────────────────────────────────────\n",
       "                                                                                                                                                                                                                                                                                                                                                                  \n",
       "ancilla_1 -> 4 ───────────────────────────────────────────────────────────────────────────────────────────────────────────────────────────────────────────────────────────────────────────────────────────────────────────────────────────────────────────────────────────────────────────────────────────────────────────────────────────────────────────────────\n",
       "                                                                                                                                                                                                                                                                                                                                                                  "
      ]
     },
     "execution_count": 8,
     "metadata": {},
     "output_type": "execute_result"
    }
   ],
   "source": [
    "transpiled_circuit = transpile(\n",
    "    bound_litmus_circuit,\n",
    "    backend,\n",
    "    stack=\"qiskit_qfactor_qsearch\",\n",
    "    qsearch_block_size=2,\n",
    "    seed_transpiler=1234)\n",
    "\n",
    "transpiled_circuit.draw(fold=-1)"
   ]
  },
  {
   "cell_type": "markdown",
   "id": "c9df2636-6df0-4cc2-bcab-f82ca142a0c4",
   "metadata": {},
   "source": [
    "## Conclusions\n",
    "\n",
    "For circuit optimization, various techniques can be used. Here we presented the results for search-based synthesis tools, namely for QFactor and QSearch. Rivet transpiler is extendable with additional stacks and uses an open architecture.\n",
    "\n",
    "Rivet transpiler harnesses the full power of the Berkeley Quantum Synthesis Toolkit (BQSKit) [2], which is a powerful and portable quantum compiler framework."
   ]
  },
  {
   "cell_type": "markdown",
   "id": "0b5289ad-3d1a-46fa-88a5-f1c296a733fd",
   "metadata": {
    "id": "0b5289ad-3d1a-46fa-88a5-f1c296a733fd"
   },
   "source": [
    "### References\n",
    "[1] QFactor: A Domain-Specific Optimizer for Quantum Circuit Instantiation –https://arxiv.org/pdf/2306.08152.pdf\n",
    "\n",
    "[2] https://bqskit.lbl.gov"
   ]
  }
 ],
 "metadata": {
  "colab": {
   "provenance": []
  },
  "kernelspec": {
   "display_name": "Python 3 (ipykernel)",
   "language": "python",
   "name": "python3"
  },
  "language_info": {
   "codemirror_mode": {
    "name": "ipython",
    "version": 3
   },
   "file_extension": ".py",
   "mimetype": "text/x-python",
   "name": "python",
   "nbconvert_exporter": "python",
   "pygments_lexer": "ipython3",
   "version": "3.11.6"
  }
 },
 "nbformat": 4,
 "nbformat_minor": 5
}
