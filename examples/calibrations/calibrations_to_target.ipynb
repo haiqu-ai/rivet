{
 "cells": [
  {
   "cell_type": "markdown",
   "id": "d4b483f3-ddd0-4881-848f-4ad6ef9e2891",
   "metadata": {},
   "source": [
    "## AWS Calibrations to Qiskit Target"
   ]
  },
  {
   "cell_type": "markdown",
   "id": "052fa76f-7571-4074-89f6-bc31cb81f3ad",
   "metadata": {},
   "source": [
    "This notebook shows how to:\n",
    "\n",
    "* Download Calibrations for AWS Braket devices\n",
    "* Convert AWS Calibrations to Standard Calibrations\n",
    "* Convert Standard Calibrations to Qiskit Target\n",
    "* Use Target to Plot Error Map\n",
    "* Use Target for Noisy Simulation"
   ]
  },
  {
   "cell_type": "markdown",
   "id": "e228bee0-feeb-4a2b-bc62-ea14cacdd62a",
   "metadata": {
    "tags": []
   },
   "source": [
    "### Imports"
   ]
  },
  {
   "cell_type": "markdown",
   "id": "205dfb4d-0ee0-463a-bf14-cc207cda6f29",
   "metadata": {},
   "source": [
    "#### Qiskit"
   ]
  },
  {
   "cell_type": "code",
   "execution_count": 1,
   "id": "29ae3612-be2e-4aea-8ed1-c94b50590a76",
   "metadata": {},
   "outputs": [],
   "source": [
    "import qiskit\n",
    "\n",
    "from qiskit.providers.aer import AerSimulator\n",
    "from qiskit.visualization import plot_gate_map"
   ]
  },
  {
   "cell_type": "markdown",
   "id": "6868bd66-f374-47b9-afc3-2dfdf3cbd6c7",
   "metadata": {},
   "source": [
    "#### AWS"
   ]
  },
  {
   "cell_type": "code",
   "execution_count": 2,
   "id": "59a7db6b-d1c2-49bf-8714-2fe580a1284c",
   "metadata": {},
   "outputs": [],
   "source": [
    "# pip install amazon-braket-sdk\n",
    "# pip install qiskit-braket-provider"
   ]
  },
  {
   "cell_type": "code",
   "execution_count": 3,
   "id": "a0cfd931-cabd-4b47-94d3-9428503df5f2",
   "metadata": {},
   "outputs": [],
   "source": [
    "from braket.aws import AwsDevice\n",
    "from qiskit_braket_provider.providers import AWSBraketBackend"
   ]
  },
  {
   "cell_type": "markdown",
   "id": "7bf70a61-8c1a-4106-93b6-56772e8f5c82",
   "metadata": {},
   "source": [
    "#### General"
   ]
  },
  {
   "cell_type": "code",
   "execution_count": 4,
   "id": "25972d7c-cad9-4a1e-af6e-bccd7984d5fc",
   "metadata": {},
   "outputs": [],
   "source": [
    "import numpy as np\n",
    "\n",
    "from matplotlib import pyplot as plt\n",
    "\n",
    "plt.style.use(\"dark_background\")"
   ]
  },
  {
   "cell_type": "markdown",
   "id": "58310346-5e9e-4ea8-ad90-df40390b9ffd",
   "metadata": {},
   "source": [
    "#### Rivet"
   ]
  },
  {
   "cell_type": "code",
   "execution_count": 5,
   "id": "f235b4ef-57f6-4457-bdfc-2b04a474cdec",
   "metadata": {},
   "outputs": [
    {
     "name": "stdout",
     "output_type": "stream",
     "text": [
      "/mnt/c/Users/mohor/Jupyter/Haiqu/transpiler\n"
     ]
    }
   ],
   "source": [
    "%cd ../..\n",
    "\n",
    "from rivet_transpiler.calibrations import get_standard_calibrations\n",
    "from rivet_transpiler.calibrations import get_target_from_calibrations\n",
    "\n",
    "from rivet_transpiler.calibrations import ASPEN_M3_ARN\n",
    "from rivet_transpiler.calibrations import ASPEN_M3_SCHEME\n",
    "from rivet_transpiler.calibrations import ASPEN_M3_NATIVE_GATES\n",
    "from rivet_transpiler.calibrations import get_aspen_m3_coordinates\n",
    "\n",
    "from rivet_transpiler.calibrations import LUCY_ARN\n",
    "from rivet_transpiler.calibrations import LUCY_SCHEME\n",
    "from rivet_transpiler.calibrations import LUCY_NATIVE_GATES\n",
    "from rivet_transpiler.calibrations import LUCY_COORDINATES"
   ]
  },
  {
   "cell_type": "markdown",
   "id": "e38fc662-2260-42a7-8330-fbb6b989d629",
   "metadata": {},
   "source": [
    "### Load Calibrations"
   ]
  },
  {
   "cell_type": "markdown",
   "id": "55d310c1-a656-417b-817a-78dede948d34",
   "metadata": {},
   "source": [
    "#### OQC Lucy"
   ]
  },
  {
   "cell_type": "code",
   "execution_count": 6,
   "id": "249a8722-fd4e-41a3-94e3-6d82f1ffe6e5",
   "metadata": {},
   "outputs": [
    {
     "data": {
      "text/plain": [
       "BraketBackend[Lucy]"
      ]
     },
     "execution_count": 6,
     "metadata": {},
     "output_type": "execute_result"
    }
   ],
   "source": [
    "# AWS Braket Backend\n",
    "\n",
    "lucy_aws_device = AwsDevice(LUCY_ARN)\n",
    "\n",
    "lucy_backend = AWSBraketBackend(device=lucy_aws_device, name=\"Lucy\")\n",
    "\n",
    "lucy_backend"
   ]
  },
  {
   "cell_type": "code",
   "execution_count": 7,
   "id": "b63bf762-826e-4ab6-b879-8a5d008460f8",
   "metadata": {},
   "outputs": [],
   "source": [
    "# Calibrations\n",
    "\n",
    "lucy_calibrations = lucy_aws_device.properties.provider.properties"
   ]
  },
  {
   "cell_type": "code",
   "execution_count": 8,
   "id": "1038850c-7f77-4ae7-ab3f-30b52c62a02e",
   "metadata": {},
   "outputs": [
    {
     "data": {
      "text/plain": [
       "{'one_qubit': {'0': {'T1': 24.886750393070763,\n",
       "   'T2': 26.07078283012027,\n",
       "   'fRB': 0.9990355252411796,\n",
       "   'fRO': 0.9375,\n",
       "   'qubit': 0.0},\n",
       "  '1': {'T1': 40.44014476479826,\n",
       "   'T2': 55.91033444394357,\n",
       "   'fRB': 0.9975512733547407,\n",
       "   'fRO': 0.785,\n",
       "   'qubit': 1.0},\n",
       "  '2': {'T1': 68.39669261912181,\n",
       "   'T2': 47.79358122318605,\n",
       "   'fRB': 0.9983774960823968,\n",
       "   'fRO': 0.839,\n",
       "   'qubit': 2.0},\n",
       "  '3': {'T1': 38.35350091178702,\n",
       "   'T2': 48.79386221328369,\n",
       "   'fRB': 0.9995368869304959,\n",
       "   'fRO': 0.8855,\n",
       "   'qubit': 3.0},\n",
       "  '4': {'T1': 49.88266465156773,\n",
       "   'T2': 17.299593188743422,\n",
       "   'fRB': 0.999960994383878,\n",
       "   'fRO': 0.85,\n",
       "   'qubit': 4.0},\n",
       "  '5': {'T1': 29.788893032910853,\n",
       "   'T2': 36.41785637197371,\n",
       "   'fRB': 0.9992219561013342,\n",
       "   'fRO': 0.9365,\n",
       "   'qubit': 5.0},\n",
       "  '6': {'T1': 21.367425654930187,\n",
       "   'T2': 17.669532960879607,\n",
       "   'fRB': 0.999346085343995,\n",
       "   'fRO': 0.919,\n",
       "   'qubit': 6.0},\n",
       "  '7': {'T1': 36.12647844676217,\n",
       "   'T2': 32.35892320572333,\n",
       "   'fRB': 0.9836323789271717,\n",
       "   'fRO': 0.8675,\n",
       "   'qubit': 7.0}},\n",
       " 'two_qubit': {'0-1': {'coupling': {'control_qubit': 0.0, 'target_qubit': 1.0},\n",
       "   'fCX': 0.9215009652706455},\n",
       "  '0-7': {'coupling': {'control_qubit': 0.0, 'target_qubit': 7.0},\n",
       "   'fCX': 0.8129708482712718},\n",
       "  '1-2': {'coupling': {'control_qubit': 1.0, 'target_qubit': 2.0},\n",
       "   'fCX': 0.9450942433255412},\n",
       "  '2-3': {'coupling': {'control_qubit': 2.0, 'target_qubit': 3.0},\n",
       "   'fCX': 0.965645848608118},\n",
       "  '4-3': {'coupling': {'control_qubit': 4.0, 'target_qubit': 3.0},\n",
       "   'fCX': 0.9649781537197135},\n",
       "  '4-5': {'coupling': {'control_qubit': 4.0, 'target_qubit': 5.0},\n",
       "   'fCX': 0.9776582334933885},\n",
       "  '6-5': {'coupling': {'control_qubit': 6.0, 'target_qubit': 5.0},\n",
       "   'fCX': 0.9550978484069554},\n",
       "  '7-6': {'coupling': {'control_qubit': 7.0, 'target_qubit': 6.0},\n",
       "   'fCX': 0.9037128172526456}}}"
      ]
     },
     "execution_count": 8,
     "metadata": {},
     "output_type": "execute_result"
    }
   ],
   "source": [
    "# Save Calibrations\n",
    "\n",
    "np.save(\n",
    "    \"examples/calibrations/calibrations/lucy_calibrations.npy\",\n",
    "    lucy_calibrations)\n",
    "\n",
    "lucy_calibrations = np.load(\n",
    "    \"examples/calibrations/calibrations/lucy_calibrations.npy\",\n",
    "    allow_pickle=True).item()\n",
    "\n",
    "lucy_calibrations"
   ]
  },
  {
   "cell_type": "markdown",
   "id": "04b4bc41-aaba-40ca-a1fc-1f0f48d786e7",
   "metadata": {},
   "source": [
    "#### Rigetti Aspen-M-3"
   ]
  },
  {
   "cell_type": "code",
   "execution_count": 9,
   "id": "db37d992-70be-4079-8091-5e7a3e7655c1",
   "metadata": {},
   "outputs": [
    {
     "data": {
      "text/plain": [
       "BraketBackend[Aspen-M-3]"
      ]
     },
     "execution_count": 9,
     "metadata": {},
     "output_type": "execute_result"
    }
   ],
   "source": [
    "# AWS Braket Backend\n",
    "\n",
    "aspen_m3_aws_device = AwsDevice(ASPEN_M3_ARN)\n",
    "\n",
    "aspen_m3_backend = AWSBraketBackend(device=aspen_m3_aws_device, name=\"Aspen-M-3\")\n",
    "\n",
    "aspen_m3_backend"
   ]
  },
  {
   "cell_type": "code",
   "execution_count": 10,
   "id": "536b814d-213b-41e8-96a4-aa583a1e9d3c",
   "metadata": {},
   "outputs": [],
   "source": [
    "# Calibrations\n",
    "\n",
    "aspen_m3_calibrations = aspen_m3_aws_device.properties.provider.specs"
   ]
  },
  {
   "cell_type": "code",
   "execution_count": 11,
   "id": "daa3bbd2-6404-4912-9afe-00cc2943a9b4",
   "metadata": {
    "tags": []
   },
   "outputs": [],
   "source": [
    "# Save Calibrations\n",
    "\n",
    "np.save(\n",
    "    \"examples/calibrations/calibrations/aspen_m3_calibrations.npy\", \n",
    "    aspen_m3_calibrations)\n",
    "\n",
    "aspen_m3_calibrations = np.load(\n",
    "    \"examples/calibrations/calibrations/aspen_m3_calibrations.npy\", \n",
    "    allow_pickle=True).item()\n",
    "\n",
    "# aspen_m3_calibrations"
   ]
  },
  {
   "cell_type": "markdown",
   "id": "15419e2d-eaaf-44c2-b4a3-1794e777fefd",
   "metadata": {},
   "source": [
    "### Schemes"
   ]
  },
  {
   "cell_type": "markdown",
   "id": "3ef8869d-1a03-4487-99b1-bad82b0e56d7",
   "metadata": {},
   "source": [
    "Above Calibrations from AWS Braket contain device-specific key names and structure.\n",
    "\n",
    "For each device we can use particular scheme to parse AWS Calibrations into Standard Calibrations."
   ]
  },
  {
   "cell_type": "code",
   "execution_count": 12,
   "id": "54888b91-6a90-4eea-90bc-b42641e29c09",
   "metadata": {},
   "outputs": [
    {
     "data": {
      "text/plain": [
       "{'one_qubit_section_name': 'one_qubit',\n",
       " 'two_qubit_section_name': 'two_qubit',\n",
       " 'gate_fidelity_name': 'fRB',\n",
       " 'readout_fidelity_name': 'fRO',\n",
       " 'two_qubit_fidelities': {'fCX': 'cx'},\n",
       " 't1_name': 'T1',\n",
       " 't2_name': 'T2',\n",
       " 't1_time_unit': 1e-06,\n",
       " 't2_time_unit': 1e-06,\n",
       " 'duration_1q_seconds': 5.0000000000000004e-08,\n",
       " 'duration_2q_seconds': 1.0000000000000002e-06,\n",
       " 'qubit_frequency_hz': None}"
      ]
     },
     "execution_count": 12,
     "metadata": {},
     "output_type": "execute_result"
    }
   ],
   "source": [
    "LUCY_SCHEME"
   ]
  },
  {
   "cell_type": "code",
   "execution_count": 13,
   "id": "063a3b89-a701-4683-8560-753a0c226570",
   "metadata": {},
   "outputs": [
    {
     "data": {
      "text/plain": [
       "{'one_qubit_section_name': '1Q',\n",
       " 'two_qubit_section_name': '2Q',\n",
       " 'gate_fidelity_name': 'f1QRB',\n",
       " 'readout_fidelity_name': 'fRO',\n",
       " 'two_qubit_fidelities': {'fCZ': 'cz', 'fCPHASE': 'cphase', 'fXY': 'xy'},\n",
       " 't1_name': 'T1',\n",
       " 't2_name': 'T2',\n",
       " 't1_time_unit': 1,\n",
       " 't2_time_unit': 1,\n",
       " 'duration_1q_seconds': 4e-08,\n",
       " 'duration_2q_seconds': 2.4000000000000003e-07,\n",
       " 'qubit_frequency_hz': None}"
      ]
     },
     "execution_count": 13,
     "metadata": {},
     "output_type": "execute_result"
    }
   ],
   "source": [
    "ASPEN_M3_SCHEME"
   ]
  },
  {
   "cell_type": "markdown",
   "id": "f3476226-ce82-499b-81aa-296c08ca50db",
   "metadata": {
    "tags": []
   },
   "source": [
    "### Convert Calibrations to Target"
   ]
  },
  {
   "cell_type": "markdown",
   "id": "3642bec2-dce0-4912-8ecf-d05f2dba56fc",
   "metadata": {},
   "source": [
    "To convert AWS Calibrations to Qiskit Target - we first convert AWS Calibrations to Standard Calibrations:"
   ]
  },
  {
   "cell_type": "code",
   "execution_count": 14,
   "id": "81c166bf-928a-4474-a947-c63852d9c400",
   "metadata": {},
   "outputs": [],
   "source": [
    "lucy_standard_calibrations = get_standard_calibrations(\n",
    "    calibrations=lucy_calibrations, \n",
    "    scheme=LUCY_SCHEME)\n",
    "\n",
    "# lucy_standard_calibrations"
   ]
  },
  {
   "cell_type": "code",
   "execution_count": 15,
   "id": "5f98bb0c-d78a-4c7d-aa2c-7cf356e9e5b0",
   "metadata": {
    "tags": []
   },
   "outputs": [],
   "source": [
    "aspen_m3_standard_calibrations = get_standard_calibrations(\n",
    "    calibrations=aspen_m3_calibrations, \n",
    "    scheme=ASPEN_M3_SCHEME)\n",
    "\n",
    "# aspen_m3_standard_calibrations"
   ]
  },
  {
   "cell_type": "markdown",
   "id": "028ede5b-dcd2-488e-becb-529f987add3e",
   "metadata": {},
   "source": [
    "And then - Convert Standard Calibrations to Target:"
   ]
  },
  {
   "cell_type": "code",
   "execution_count": 16,
   "id": "7a35d732-a58d-40fd-979b-830e88df57b4",
   "metadata": {
    "tags": []
   },
   "outputs": [],
   "source": [
    "lucy_target = get_target_from_calibrations(\n",
    "    calibrations=lucy_standard_calibrations,\n",
    "    target_instructions=lucy_backend.operations\n",
    ")\n",
    "\n",
    "# print(lucy_target)"
   ]
  },
  {
   "cell_type": "code",
   "execution_count": 17,
   "id": "e7804e2e-ca69-43fa-b775-510e50cfdaf1",
   "metadata": {},
   "outputs": [],
   "source": [
    "aspen_m3_target = get_target_from_calibrations(\n",
    "    calibrations=aspen_m3_standard_calibrations,\n",
    "    target_instructions=aspen_m3_backend.operations\n",
    ")\n",
    "\n",
    "# print(aspen_m3_target)"
   ]
  },
  {
   "cell_type": "markdown",
   "id": "92dba972-1e7d-4d56-b711-0de4b7790137",
   "metadata": {},
   "source": [
    "### Plot Error Map"
   ]
  },
  {
   "cell_type": "markdown",
   "id": "96063b39-ab54-4dd7-8508-13d796f828a9",
   "metadata": {},
   "source": [
    "Target can be used to Plot Error Map for a Backend:"
   ]
  },
  {
   "cell_type": "markdown",
   "id": "04877f38-9f0d-4e87-8813-7f880a98fe64",
   "metadata": {},
   "source": [
    "#### Update Lucy Target"
   ]
  },
  {
   "cell_type": "code",
   "execution_count": 18,
   "id": "5f5d8f69-109a-40e5-8f3d-e8e6fcf11eae",
   "metadata": {},
   "outputs": [],
   "source": [
    "lucy_backend._target = lucy_target"
   ]
  },
  {
   "cell_type": "code",
   "execution_count": 19,
   "id": "7605ea44-00a9-4803-a031-19168418c979",
   "metadata": {},
   "outputs": [
    {
     "data": {
      "image/png": "[encoded data removed]",
      "text/plain": [
       "<Figure size 864x576 with 5 Axes>"
      ]
     },
     "execution_count": 19,
     "metadata": {},
     "output_type": "execute_result"
    }
   ],
   "source": [
    "qiskit.visualization.plot_error_map(\n",
    "    lucy_backend,\n",
    "    figsize=(12, 8),\n",
    "    # show_title=False,\n",
    "    qubit_coordinates=LUCY_COORDINATES\n",
    ")"
   ]
  },
  {
   "cell_type": "markdown",
   "id": "192b6b17-8b18-46c5-99b5-06c2809fdb02",
   "metadata": {},
   "source": [
    "#### Update Aspen-M-3 Target"
   ]
  },
  {
   "cell_type": "code",
   "execution_count": 20,
   "id": "c50419e5-a264-4300-9b19-88c0dd3567c3",
   "metadata": {},
   "outputs": [],
   "source": [
    "aspen_m3_backend._target = aspen_m3_target"
   ]
  },
  {
   "cell_type": "code",
   "execution_count": 21,
   "id": "0b485288-9837-4089-a440-3fbe7b35d95f",
   "metadata": {},
   "outputs": [],
   "source": [
    "aspen_m3_coordinates = get_aspen_m3_coordinates()"
   ]
  },
  {
   "cell_type": "code",
   "execution_count": 22,
   "id": "e784421d-e5c5-4997-ab97-9da94ad971ec",
   "metadata": {},
   "outputs": [
    {
     "data": {
      "image/png": "[encoded data removed]",
      "text/plain": [
       "<Figure size 864x576 with 5 Axes>"
      ]
     },
     "execution_count": 22,
     "metadata": {},
     "output_type": "execute_result"
    }
   ],
   "source": [
    "qiskit.visualization.plot_error_map(\n",
    "    aspen_m3_backend,\n",
    "    figsize=(12, 8),\n",
    "    # figsize=(18, 24),\n",
    "    # show_title=False,\n",
    "    qubit_coordinates=aspen_m3_coordinates\n",
    ")"
   ]
  },
  {
   "cell_type": "code",
   "execution_count": null,
   "id": "ca4b301d-2e87-43a1-97c7-e31b5eb1e204",
   "metadata": {},
   "outputs": [],
   "source": []
  },
  {
   "cell_type": "markdown",
   "id": "a4c1c202-7f85-424b-a124-547cd50e6e09",
   "metadata": {},
   "source": [
    "## Use Target for Noisy Simulators"
   ]
  },
  {
   "cell_type": "markdown",
   "id": "d42aa119-7727-4538-88ae-4006ee914627",
   "metadata": {},
   "source": [
    "Finally, we transpile and run 3-qubit GHZ circuit on noisy simulators of Lucy and Aspen-M-3 backends.\n",
    "\n",
    "Qiskit Noise Model is built under-the-hood by `AerSimulator.from_backend` function. "
   ]
  },
  {
   "cell_type": "markdown",
   "id": "48aec16a-16b7-4f44-8561-a8ea20f7dd30",
   "metadata": {},
   "source": [
    "#### GHZ Circuit"
   ]
  },
  {
   "cell_type": "code",
   "execution_count": 23,
   "id": "49de33b5-8a7c-4a05-8f5d-c2755c7e4c2d",
   "metadata": {},
   "outputs": [
    {
     "name": "stdout",
     "output_type": "stream",
     "text": [
      "        ┌───┐           ░ ┌─┐      \n",
      "   q_0: ┤ H ├──■────────░─┤M├──────\n",
      "        └───┘┌─┴─┐      ░ └╥┘┌─┐   \n",
      "   q_1: ─────┤ X ├──■───░──╫─┤M├───\n",
      "             └───┘┌─┴─┐ ░  ║ └╥┘┌─┐\n",
      "   q_2: ──────────┤ X ├─░──╫──╫─┤M├\n",
      "                  └───┘ ░  ║  ║ └╥┘\n",
      "meas: 3/═══════════════════╩══╩══╩═\n",
      "                           0  1  2 \n"
     ]
    }
   ],
   "source": [
    "QUBITS_COUNT = 3\n",
    "SHOTS_COUNT = 1000\n",
    "\n",
    "ghz_circuit = qiskit.QuantumCircuit(QUBITS_COUNT)\n",
    "\n",
    "ghz_circuit.h(0)\n",
    "\n",
    "for qubit in range(QUBITS_COUNT - 1):\n",
    "    ghz_circuit.cx(qubit, qubit + 1)\n",
    "    \n",
    "ghz_circuit.measure_all()\n",
    "\n",
    "print(ghz_circuit)"
   ]
  },
  {
   "cell_type": "markdown",
   "id": "35b327af-689a-4c11-81f0-e8d919687411",
   "metadata": {},
   "source": [
    "### Run on Lucy Simulator"
   ]
  },
  {
   "cell_type": "code",
   "execution_count": 24,
   "id": "77bdcccc-9cdf-4ea5-8655-65b9d35dff6b",
   "metadata": {},
   "outputs": [],
   "source": [
    "lucy_noisy_simulator = AerSimulator.from_backend(lucy_backend)"
   ]
  },
  {
   "cell_type": "markdown",
   "id": "baa436c1-fc1a-4d9f-94ec-6447ce46cfd0",
   "metadata": {},
   "source": [
    "#### Transpile"
   ]
  },
  {
   "cell_type": "code",
   "execution_count": 25,
   "id": "17dde568-4b53-4783-b8b7-55de230449a2",
   "metadata": {},
   "outputs": [
    {
     "data": {
      "text/html": [
       "<pre style=\"word-wrap: normal;white-space: pre;background: #fff0;line-height: 1.1;font-family: &quot;Courier New&quot;,Courier,monospace\">global phase: 5π/4\n",
       "         ┌─────────┐┌────┐          ┌──────┐   ┌───┐                  ░ ┌─┐      \n",
       "q_0 -> 0 ┤ Rz(π/2) ├┤ √X ├──────────┤0     ├───┤ X ├──────────────────░─┤M├──────\n",
       "         └┬────────┤├────┤┌────────┐│  Ecr │┌──┴───┴───┐┌──────┐┌───┐ ░ └╥┘┌─┐   \n",
       "q_1 -> 1 ─┤ Rz(-π) ├┤ √X ├┤ Rz(-π) ├┤1     ├┤ Rz(-π/2) ├┤0     ├┤ X ├─░──╫─┤M├───\n",
       "          ├────────┤├────┤├────────┤└──────┘└──────────┘│  Ecr │└───┘ ░  ║ └╥┘┌─┐\n",
       "q_2 -> 2 ─┤ Rz(-π) ├┤ √X ├┤ Rz(-π) ├────────────────────┤1     ├──────░──╫──╫─┤M├\n",
       "          └────────┘└────┘└────────┘                    └──────┘      ░  ║  ║ └╥┘\n",
       " meas: 3/════════════════════════════════════════════════════════════════╩══╩══╩═\n",
       "                                                                         0  1  2 </pre>"
      ],
      "text/plain": [
       "global phase: 5π/4\n",
       "         ┌─────────┐┌────┐          ┌──────┐   ┌───┐                  ░ ┌─┐      \n",
       "q_0 -> 0 ┤ Rz(π/2) ├┤ √X ├──────────┤0     ├───┤ X ├──────────────────░─┤M├──────\n",
       "         └┬────────┤├────┤┌────────┐│  Ecr │┌──┴───┴───┐┌──────┐┌───┐ ░ └╥┘┌─┐   \n",
       "q_1 -> 1 ─┤ Rz(-π) ├┤ √X ├┤ Rz(-π) ├┤1     ├┤ Rz(-π/2) ├┤0     ├┤ X ├─░──╫─┤M├───\n",
       "          ├────────┤├────┤├────────┤└──────┘└──────────┘│  Ecr │└───┘ ░  ║ └╥┘┌─┐\n",
       "q_2 -> 2 ─┤ Rz(-π) ├┤ √X ├┤ Rz(-π) ├────────────────────┤1     ├──────░──╫──╫─┤M├\n",
       "          └────────┘└────┘└────────┘                    └──────┘      ░  ║  ║ └╥┘\n",
       " meas: 3/════════════════════════════════════════════════════════════════╩══╩══╩═\n",
       "                                                                         0  1  2 "
      ]
     },
     "execution_count": 25,
     "metadata": {},
     "output_type": "execute_result"
    }
   ],
   "source": [
    "lucy_transpiled_ghz_circuit = qiskit.transpile(\n",
    "    ghz_circuit,\n",
    "    backend=lucy_noisy_simulator,\n",
    "    basis_gates=LUCY_NATIVE_GATES,\n",
    "    seed_transpiler=1234\n",
    ")\n",
    "\n",
    "lucy_transpiled_ghz_circuit.draw(fold=-1, idle_wires=False)"
   ]
  },
  {
   "cell_type": "markdown",
   "id": "d67de934-96c9-4e24-96f3-9de829e75ef0",
   "metadata": {},
   "source": [
    "#### Run"
   ]
  },
  {
   "cell_type": "code",
   "execution_count": 26,
   "id": "7b001f28-bf3c-4f7d-8235-32f01393033e",
   "metadata": {},
   "outputs": [],
   "source": [
    "job = lucy_noisy_simulator.run(\n",
    "    lucy_transpiled_ghz_circuit, \n",
    "    shots=SHOTS_COUNT, \n",
    "    seed_simulator=1234\n",
    ")\n",
    "\n",
    "lucy_counts = job.result().get_counts()"
   ]
  },
  {
   "cell_type": "markdown",
   "id": "1dcd9b5c-7c02-4ce5-8971-538b2804e0cd",
   "metadata": {},
   "source": [
    "#### Plot Results"
   ]
  },
  {
   "cell_type": "code",
   "execution_count": 27,
   "id": "a4d3ae77-6334-4b27-8940-29d4d0cd5dbf",
   "metadata": {},
   "outputs": [
    {
     "data": {
      "image/png": "[encoded data removed]",
      "text/plain": [
       "<Figure size 576x432 with 1 Axes>"
      ]
     },
     "execution_count": 27,
     "metadata": {},
     "output_type": "execute_result"
    }
   ],
   "source": [
    "qiskit.visualization.plot_histogram(\n",
    "    lucy_counts,\n",
    "    title=\"3-qubit GHZ on OQC Lucy topology\",\n",
    "    figsize=(8, 6))"
   ]
  },
  {
   "cell_type": "markdown",
   "id": "1bb4a8af-80f0-40e8-901c-6ee769878aeb",
   "metadata": {},
   "source": [
    "### Run on Aspen-M-3 Simulator"
   ]
  },
  {
   "cell_type": "code",
   "execution_count": 28,
   "id": "41ae89cc-154c-42d6-b380-6f471ed67ac9",
   "metadata": {},
   "outputs": [],
   "source": [
    "aspen_m3_noisy_simulator = AerSimulator.from_backend(aspen_m3_backend)"
   ]
  },
  {
   "cell_type": "markdown",
   "id": "c1f73db6-7317-410a-8ab0-6902f8363435",
   "metadata": {},
   "source": [
    "#### Transpile"
   ]
  },
  {
   "cell_type": "code",
   "execution_count": 29,
   "id": "c11af724-5fe6-4c0f-9f08-2fc5a883fe2f",
   "metadata": {},
   "outputs": [
    {
     "data": {
      "text/html": [
       "<pre style=\"word-wrap: normal;white-space: pre;background: #fff0;line-height: 1.1;font-family: &quot;Courier New&quot;,Courier,monospace\">global phase: 3π/2\n",
       "         ┌──────────┐┌──────────┐┌──────────┐                                                                               ░ ┌─┐      \n",
       "q_0 -> 0 ┤ Rz(-π/2) ├┤ Rx(-π/2) ├┤ Rz(-π/2) ├─■─────────────────────────────────────────────────────────────────────────────░─┤M├──────\n",
       "         ├──────────┤├──────────┤├──────────┤ │ ┌──────────┐┌──────────┐┌──────────┐                                        ░ └╥┘┌─┐   \n",
       "q_1 -> 1 ┤ Rz(-π/2) ├┤ Rx(-π/2) ├┤ Rz(-π/2) ├─■─┤ Rz(-π/2) ├┤ Rx(-π/2) ├┤ Rz(-π/2) ├─■──────────────────────────────────────░──╫─┤M├───\n",
       "         ├──────────┤├──────────┤├──────────┤   └──────────┘└──────────┘└──────────┘ │ ┌──────────┐┌──────────┐┌──────────┐ ░  ║ └╥┘┌─┐\n",
       "q_2 -> 2 ┤ Rz(-π/2) ├┤ Rx(-π/2) ├┤ Rz(-π/2) ├────────────────────────────────────────■─┤ Rz(-π/2) ├┤ Rx(-π/2) ├┤ Rz(-π/2) ├─░──╫──╫─┤M├\n",
       "         └──────────┘└──────────┘└──────────┘                                          └──────────┘└──────────┘└──────────┘ ░  ║  ║ └╥┘\n",
       " meas: 3/══════════════════════════════════════════════════════════════════════════════════════════════════════════════════════╩══╩══╩═\n",
       "                                                                                                                               0  1  2 </pre>"
      ],
      "text/plain": [
       "global phase: 3π/2\n",
       "         ┌──────────┐┌──────────┐┌──────────┐                                                                               ░ ┌─┐      \n",
       "q_0 -> 0 ┤ Rz(-π/2) ├┤ Rx(-π/2) ├┤ Rz(-π/2) ├─■─────────────────────────────────────────────────────────────────────────────░─┤M├──────\n",
       "         ├──────────┤├──────────┤├──────────┤ │ ┌──────────┐┌──────────┐┌──────────┐                                        ░ └╥┘┌─┐   \n",
       "q_1 -> 1 ┤ Rz(-π/2) ├┤ Rx(-π/2) ├┤ Rz(-π/2) ├─■─┤ Rz(-π/2) ├┤ Rx(-π/2) ├┤ Rz(-π/2) ├─■──────────────────────────────────────░──╫─┤M├───\n",
       "         ├──────────┤├──────────┤├──────────┤   └──────────┘└──────────┘└──────────┘ │ ┌──────────┐┌──────────┐┌──────────┐ ░  ║ └╥┘┌─┐\n",
       "q_2 -> 2 ┤ Rz(-π/2) ├┤ Rx(-π/2) ├┤ Rz(-π/2) ├────────────────────────────────────────■─┤ Rz(-π/2) ├┤ Rx(-π/2) ├┤ Rz(-π/2) ├─░──╫──╫─┤M├\n",
       "         └──────────┘└──────────┘└──────────┘                                          └──────────┘└──────────┘└──────────┘ ░  ║  ║ └╥┘\n",
       " meas: 3/══════════════════════════════════════════════════════════════════════════════════════════════════════════════════════╩══╩══╩═\n",
       "                                                                                                                               0  1  2 "
      ]
     },
     "execution_count": 29,
     "metadata": {},
     "output_type": "execute_result"
    }
   ],
   "source": [
    "aspen_m3_transpiled_ghz_circuit = qiskit.transpile(\n",
    "    ghz_circuit,\n",
    "    backend=aspen_m3_noisy_simulator,\n",
    "    basis_gates=ASPEN_M3_NATIVE_GATES,\n",
    "    seed_transpiler=1234\n",
    ")\n",
    "\n",
    "aspen_m3_transpiled_ghz_circuit.draw(fold=-1, idle_wires=False)"
   ]
  },
  {
   "cell_type": "markdown",
   "id": "9c02c9ff-1bf6-4d76-925f-fc3d39492604",
   "metadata": {},
   "source": [
    "#### Run"
   ]
  },
  {
   "cell_type": "code",
   "execution_count": 30,
   "id": "4bcda42c-8fa2-4cdc-9e38-45accdeccb90",
   "metadata": {},
   "outputs": [],
   "source": [
    "job = aspen_m3_noisy_simulator.run(\n",
    "    aspen_m3_transpiled_ghz_circuit, \n",
    "    shots=SHOTS_COUNT, \n",
    "    seed_simulator=1234\n",
    ")\n",
    "\n",
    "aspen_m3_counts = job.result().get_counts()"
   ]
  },
  {
   "cell_type": "markdown",
   "id": "96b39ae7-6aa2-4ea8-9577-34b27a1e82a5",
   "metadata": {},
   "source": [
    "#### Plot Results"
   ]
  },
  {
   "cell_type": "code",
   "execution_count": 31,
   "id": "fb6a862a-8c63-448a-b47b-66c168fbc9dd",
   "metadata": {},
   "outputs": [
    {
     "data": {
      "image/png": "[encoded data removed]",
      "text/plain": [
       "<Figure size 576x432 with 1 Axes>"
      ]
     },
     "execution_count": 31,
     "metadata": {},
     "output_type": "execute_result"
    }
   ],
   "source": [
    "qiskit.visualization.plot_histogram(\n",
    "    aspen_m3_counts,\n",
    "    title=\"3-qubit GHZ on Rigetti Aspen-M-3 topology\",\n",
    "    figsize=(8, 6))"
   ]
  },
  {
   "cell_type": "code",
   "execution_count": null,
   "id": "0bd592d7-5c94-4f29-8b7a-c1dd9f55d3fc",
   "metadata": {},
   "outputs": [],
   "source": []
  }
 ],
 "metadata": {
  "kernelspec": {
   "display_name": "Python 3 (ipykernel)",
   "language": "python",
   "name": "python3"
  },
  "language_info": {
   "codemirror_mode": {
    "name": "ipython",
    "version": 3
   },
   "file_extension": ".py",
   "mimetype": "text/x-python",
   "name": "python",
   "nbconvert_exporter": "python",
   "pygments_lexer": "ipython3",
   "version": "3.8.10"
  }
 },
 "nbformat": 4,
 "nbformat_minor": 5
}
