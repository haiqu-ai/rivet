{
 "cells": [
  {
   "cell_type": "markdown",
   "metadata": {
    "id": "d_IIrdnTD3Zv"
   },
   "source": [
    "# Quantum Fourier Transform (QFT) in Quantum Computation Theory: Fourier Adder"
   ]
  },
  {
   "cell_type": "markdown",
   "metadata": {
    "id": "JI1q6Uboh43r"
   },
   "source": [
    "Students often begin learning classical computing with the addition operation, let's take a look at the addition operation in the quantum world. In the context of the **Quantum Fourier Adder**, the QFT allows for the addition of a specified integer value to an arbitrary bitstring represented by a quantum state. This addition is performed efficiently in the Fourier basis, leveraging the principles of quantum mechanics to achieve computational advantages over classical algorithms for certain tasks."
   ]
  },
  {
   "cell_type": "markdown",
   "metadata": {
    "id": "GmjlxVXrDQvu"
   },
   "source": [
    "Testing the addition operation on a quantum device involves several stages:\n",
    "- Designing the quantum algorithm for addition  \n",
    "- Quantum circuit implementation  \n",
    "- Execution on quantum device\n",
    "- Analysis and results validation\n"
   ]
  },
  {
   "cell_type": "markdown",
   "metadata": {
    "id": "Fs0KXpTKbuMH"
   },
   "source": [
    "## 1. Purpose and Relevance\n",
    "\n",
    "The Fourier Transform is essential in signal processing. The classical Fourier transform is used to decompose a complex-valued function `f(x)` into its constituent frequencies and their amplitudes, and inverse Fourier recreates `f(x)` from its transform [1]. It helps analyze frequencies, filter data, compress information, perform convolution and correlation, and conduct spectral analysis.  \n",
    "\n",
    "Similarly, QFT holds great promise for signal processing when applied to quantum computing [2-5]. It opens new possibilities for applications in different fields in quantum information processing, for example:\n",
    "\n",
    "- **Quantum Algorithm Design**: can be used as building block for quantum algorithms (Shor's algorithm for integer factorization, phase estimation, etc.)\n",
    "\n",
    "- **Quantum Cryptography**: the method is used for quantum key distribution.\n",
    "\n",
    "- **Quantum Simulation**: facilitates the simulation to study quantum materials, chemical reactions, and other complex quantum processesin of physical systems.\n",
    "\n",
    "- **Error Correction**: QFT techniques are essential for developing quantum error correction codes, which are crucial for mitigating errors in quantum computations caused by noise and decoherence.  "
   ]
  },
  {
   "cell_type": "markdown",
   "metadata": {
    "id": "dUlCVeB7y1zG"
   },
   "source": [
    "## 2. Theory Behind Fourier Adder"
   ]
  },
  {
   "cell_type": "markdown",
   "metadata": {
    "id": "hjGInUbobwbS"
   },
   "source": [
    "**Quantum Fourier Transform (QFT)** is a quantum algorithm used to efficiently perform the Fourier transform on a quantum state. The default algorithm for benchmarking  quantum Fourier transform and inverse quantum Fourier transform when applying to the **Fourier Adder** operates as follows [2]:\n",
    "- Initializes qubits with arbitrary bitstring.\n",
    "- Converts to Fourier basis.\n",
    "- Adds specified integer value in Fourier basis (e.g. +1).\n",
    "- Converts back to measurement basis.\n",
    "- Measures initial state plus added integer (x+1).\n",
    "\n",
    "![image.png](images/Fig1_QFT_adder.png) \n",
    "*Fig.1. Circuit to benchmark Fourier Adder. Initialize inputs to a classical value , perform QFT, rotate the qubits to increase by 1 in the Fourier basis followed by the inverse QFT. It is expected that the measured output would match exactly the input value x+1 to the circuit. This method benchmarks the following circuit. Image sourse: [2]*"
   ]
  },
  {
   "cell_type": "markdown",
   "metadata": {},
   "source": [
    "To apply Fourier Adder to particular state - we heed to prepare necessary state using State Circuit, which applies X gates to corresponding qubits.\n",
    "State Circuit is visible on the right - green \"Encoding x\" part.\n",
    "\n",
    "If we need to apply Fourier Adder to some other state - we can change the left part - keeping the right part consisting of QFT, Fourier Adder Circuit, Inverse QFT and Measurements.\n",
    "\n",
    "Since only small left part changes for every particular state - we can efficiently apply Rivet Transpile Left function:"
   ]
  },
  {
   "cell_type": "markdown",
   "metadata": {},
   "source": [
    "![image.png](images/Fig2_transpilation_time_comparison.png) \n",
    "\n",
    "*Fig.2. Transpilation times comparison for the basic transpilation and transpilation with Rivet function `transpile_left`.*"
   ]
  },
  {
   "cell_type": "markdown",
   "metadata": {
    "id": "Vhk3ramgby9H"
   },
   "source": [
    "## 3. Installation and Imports\n",
    "\n",
    "\n",
    "The **Rivet Transpiler** package provides a family of functions for the efficient transpilation of quantum circuits.  To benchmark the QFT for the case of addition operation the functions `transpile`, `transpile_left` and  `transpile_right` can be used.   "
   ]
  },
  {
   "cell_type": "markdown",
   "metadata": {
    "id": "8ZgtZj4bhSuh"
   },
   "source": [
    "\n",
    "\n",
    "To run the code below make sure you have followed and installed Rivet transpiler. Check the installation steps from  **Readme.md**."
   ]
  },
  {
   "cell_type": "markdown",
   "metadata": {
    "id": "-OxLMF3xhUQv"
   },
   "source": [
    "\n",
    "#### 3.1. Import Qiskit and Rivet Transpiler Functions Required to Run the Examples Below\n",
    "\n",
    "To be able execute code below - `matplotlib` and `tqdm` packages should be installed:"
   ]
  },
  {
   "cell_type": "code",
   "execution_count": 1,
   "metadata": {},
   "outputs": [],
   "source": [
    "# !pip install matplotlib\n",
    "# !pip install tqdm"
   ]
  },
  {
   "cell_type": "code",
   "execution_count": 2,
   "metadata": {},
   "outputs": [
    {
     "ename": "ModuleNotFoundError",
     "evalue": "No module named 'matplotlib'",
     "output_type": "error",
     "traceback": [
      "\u001b[0;31m---------------------------------------------------------------------------\u001b[0m",
      "\u001b[0;31mModuleNotFoundError\u001b[0m                       Traceback (most recent call last)",
      "Cell \u001b[0;32mIn[2], line 13\u001b[0m\n\u001b[1;32m     10\u001b[0m \u001b[38;5;28;01mfrom\u001b[39;00m \u001b[38;5;21;01mtime\u001b[39;00m \u001b[38;5;28;01mimport\u001b[39;00m time\n\u001b[1;32m     11\u001b[0m \u001b[38;5;28;01mfrom\u001b[39;00m \u001b[38;5;21;01mtqdm\u001b[39;00m \u001b[38;5;28;01mimport\u001b[39;00m tqdm\n\u001b[0;32m---> 13\u001b[0m \u001b[38;5;28;01mimport\u001b[39;00m \u001b[38;5;21;01mmatplotlib\u001b[39;00m\u001b[38;5;21;01m.\u001b[39;00m\u001b[38;5;21;01mpyplot\u001b[39;00m \u001b[38;5;28;01mas\u001b[39;00m \u001b[38;5;21;01mplt\u001b[39;00m\n\u001b[1;32m     14\u001b[0m plt\u001b[38;5;241m.\u001b[39mstyle\u001b[38;5;241m.\u001b[39muse(\u001b[38;5;124m\"\u001b[39m\u001b[38;5;124mdark_background\u001b[39m\u001b[38;5;124m\"\u001b[39m) \u001b[38;5;66;03m# optional, sets dark_background\u001b[39;00m\n\u001b[1;32m     16\u001b[0m \u001b[38;5;66;03m### Import Rivet transpiler functions\u001b[39;00m\n",
      "\u001b[0;31mModuleNotFoundError\u001b[0m: No module named 'matplotlib'"
     ]
    }
   ],
   "source": [
    "### Import Qiskit\n",
    "\n",
    "import qiskit\n",
    "from qiskit.visualization import plot_gate_map\n",
    "from qiskit_ibm_runtime.fake_provider import FakeMontrealV2\n",
    "\n",
    "# General Imports\n",
    "\n",
    "import numpy as np\n",
    "from time import time\n",
    "from tqdm import tqdm\n",
    "\n",
    "import matplotlib.pyplot as plt\n",
    "plt.style.use(\"dark_background\") # optional, sets dark_background\n",
    "\n",
    "### Import Rivet transpiler functions\n",
    "\n",
    "%cd -q ../..\n",
    "from rivet_transpiler import transpile, transpile_left"
   ]
  },
  {
   "cell_type": "markdown",
   "metadata": {
    "id": "ulu8Lq6Ob3r6"
   },
   "source": [
    "#### 3.2. Backend\n",
    "Available backends from IBM Qiskit are listed at [6]. Some backend examples:\n",
    "- 5-qubit backend with noise: `FakeLimaV2`\n",
    "- 32-qubit backend with noise: `FakeMontrealV2` "
   ]
  },
  {
   "cell_type": "code",
   "execution_count": null,
   "metadata": {
    "scrolled": true
   },
   "outputs": [],
   "source": [
    "backend = FakeMontrealV2() \n",
    "\n",
    "# qiskit.visualization.plot_gate_map(backend)"
   ]
  },
  {
   "cell_type": "markdown",
   "metadata": {},
   "source": [
    "![image.png](images/Fig3_FakeMonrealV2_backend.png)\n",
    "\n",
    "*Fig.3. Schematic representation of the FakeMonrealV2 backend.*"
   ]
  },
  {
   "cell_type": "markdown",
   "metadata": {
    "id": "COVxHklqb76D"
   },
   "source": [
    "#### 3.3. Define Functions\n",
    "We define here the functions that will be used below.\n",
    "\n",
    "- `build_state_circuit(state)` - constructs a quantum circuit that prepares a specific binary state.\n",
    "\n",
    "- `build_qft_circuit(qubits_count)` - generates QFT circuit of a specified number of qubits.\n",
    "\n",
    "- `build_fourrier_adder(qubits_count, number_to_add=1)` -  constructs a quantum circuit for a Fourier Adder operation.\n"
   ]
  },
  {
   "cell_type": "code",
   "execution_count": null,
   "metadata": {
    "id": "PtZtEe0bb8E3"
   },
   "outputs": [],
   "source": [
    "def build_state_circuit(state):\n",
    "\n",
    "    qubits_count = len(state)\n",
    "\n",
    "    state_circuit = qiskit.QuantumCircuit(qubits_count)\n",
    "\n",
    "    for index, bit in enumerate(state):\n",
    "\n",
    "        if bit == \"1\":\n",
    "            position = qubits_count - index - 1\n",
    "            state_circuit.x(position)\n",
    "\n",
    "    state_circuit.barrier(label=\"State\")\n",
    "\n",
    "    return state_circuit"
   ]
  },
  {
   "cell_type": "code",
   "execution_count": null,
   "metadata": {
    "id": "154Q93rPcA52"
   },
   "outputs": [],
   "source": [
    "def build_qft_circuit(qubits_count):\n",
    "\n",
    "    qubits = list(range(qubits_count))\n",
    "\n",
    "    circuit = qiskit.QuantumCircuit(qubits_count)\n",
    "\n",
    "    for control_qubit in reversed(qubits):\n",
    "\n",
    "        for target_qubit in reversed(range(control_qubit, qubits_count)):\n",
    "\n",
    "            if control_qubit == target_qubit:\n",
    "\n",
    "                circuit.h(control_qubit)\n",
    "\n",
    "            else:\n",
    "\n",
    "                theta = np.pi / 2 ** (target_qubit - control_qubit)\n",
    "\n",
    "                circuit.crz(theta, control_qubit, target_qubit)\n",
    "\n",
    "        circuit.barrier()\n",
    "\n",
    "    return circuit"
   ]
  },
  {
   "cell_type": "code",
   "execution_count": null,
   "metadata": {
    "id": "yzfSDJoHcDAY"
   },
   "outputs": [],
   "source": [
    "def build_fourier_adder(qubits_count, number_to_add=1):\n",
    "\n",
    "    circuit = qiskit.QuantumCircuit(qubits_count)\n",
    "\n",
    "    for qubit in range(qubits_count):\n",
    "\n",
    "        angle = number_to_add * (np.pi / 2 ** qubit)\n",
    "\n",
    "        circuit.rz(angle, qubit)\n",
    "\n",
    "    circuit.barrier(label=\"Adder\")\n",
    "\n",
    "    return circuit"
   ]
  },
  {
   "cell_type": "markdown",
   "metadata": {
    "id": "5kdKL2DacFU0"
   },
   "source": [
    "## 4. Implementation  \n"
   ]
  },
  {
   "cell_type": "markdown",
   "metadata": {
    "id": "cgj8daoTcFeR"
   },
   "source": [
    "### 4.1. Set up Circuits"
   ]
  },
  {
   "cell_type": "code",
   "execution_count": null,
   "metadata": {
    "id": "O-2vhR5RcIjD"
   },
   "outputs": [],
   "source": [
    "# Set up parameters\n",
    "\n",
    "QUBITS_COUNT = 5\n",
    "NUMBER_TO_ADD = 2     #  number for addition operation, can set up any integer N\n",
    "\n",
    "EXPERIMENTS_COUNT = 10\n",
    "SHOTS_COUNT = 1000\n",
    "\n",
    "OPTIMIZATION_LEVEL = 3\n",
    "SEED = 1234\n",
    "\n",
    "# States preparation\n",
    "\n",
    "states_count = 2 ** QUBITS_COUNT\n",
    "state_pattern = f\">0{QUBITS_COUNT}b\"\n",
    "\n",
    "states = [f\"{state:{state_pattern}}\" for state in range(states_count)]\n",
    "initial_states = states[:EXPERIMENTS_COUNT]"
   ]
  },
  {
   "cell_type": "markdown",
   "metadata": {
    "id": "a4h_BjQDcKTB"
   },
   "source": [
    "Prepares 3 quantum circuits: QFT circuit, inverse QFT circuit and a Fourier adder circuit (with a given `NUMBER_TO_ADD`)."
   ]
  },
  {
   "cell_type": "code",
   "execution_count": null,
   "metadata": {
    "id": "sKkTciYVcNzj"
   },
   "outputs": [],
   "source": [
    "qft_circuit = build_qft_circuit(QUBITS_COUNT)\n",
    "\n",
    "inverted_qft_circuit = qft_circuit.inverse()\n",
    "\n",
    "fourrier_adder = build_fourier_adder(QUBITS_COUNT, NUMBER_TO_ADD)"
   ]
  },
  {
   "cell_type": "markdown",
   "metadata": {
    "id": "KAjq1gmycVLB"
   },
   "source": [
    "### 4.2. Transpilation Speed up with Rivet\n",
    "\n",
    "Here the results for basic transpilation with Qiskit and Rivet compiler are compared. We demonstrate the significant speed up (number of experiments executed per second) in case of Rivet transpilation imprementation."
   ]
  },
  {
   "cell_type": "markdown",
   "metadata": {
    "id": "WD38UJrscVaf"
   },
   "source": [
    "#### 4.2.1. Basic Transpilation with Qiskit"
   ]
  },
  {
   "cell_type": "code",
   "execution_count": null,
   "metadata": {
    "id": "9q095AqScSWJ"
   },
   "outputs": [],
   "source": [
    "start_time = time()\n",
    "\n",
    "# Compose and Transpile\n",
    "\n",
    "transpiled_circuits = []\n",
    "\n",
    "states_tracker = tqdm(initial_states, unit=' experiment', ncols=110)\n",
    "\n",
    "for initial_state in states_tracker:\n",
    "\n",
    "    state_circuit = build_state_circuit(initial_state)\n",
    "\n",
    "    circuit = state_circuit.compose(qft_circuit)\n",
    "    circuit = circuit.compose(fourrier_adder)\n",
    "    circuit = circuit.compose(inverted_qft_circuit)\n",
    "\n",
    "    circuit.measure_all()\n",
    "\n",
    "    # display(circuit.draw(fold=-1))\n",
    "\n",
    "    transpiled_circuit = qiskit.transpile(\n",
    "        circuit,\n",
    "        backend,\n",
    "        seed_transpiler=SEED,\n",
    "        optimization_level=OPTIMIZATION_LEVEL)\n",
    "\n",
    "    transpiled_circuits.append(transpiled_circuit)\n",
    "\n",
    "estimated_time = time() - start_time\n",
    "\n",
    "print(f\"estimated_time: {estimated_time:.02f}\")"
   ]
  },
  {
   "cell_type": "markdown",
   "metadata": {
    "id": "oXLZ4bTscbnY"
   },
   "source": [
    "#### 4.2.2. Rivet Transpilation Using `transpile_left`"
   ]
  },
  {
   "cell_type": "code",
   "execution_count": null,
   "metadata": {
    "id": "CqAjo2hEccTN"
   },
   "outputs": [],
   "source": [
    "start_time = time()\n",
    "\n",
    "# Transpile Central Part\n",
    "\n",
    "central_circuit = qft_circuit.compose(fourrier_adder)\n",
    "central_circuit = central_circuit.compose(inverted_qft_circuit)\n",
    "\n",
    "central_circuit.measure_all()\n",
    "\n",
    "transpiled_central_circuit = qiskit.transpile(\n",
    "    central_circuit,\n",
    "    backend,\n",
    "    seed_transpiler=SEED,\n",
    "    optimization_level=OPTIMIZATION_LEVEL)\n",
    "\n",
    "# Transpile Left\n",
    "\n",
    "transpiled_circuits = []\n",
    "\n",
    "states_tracker = tqdm(initial_states, unit=' experiment', ncols=110)\n",
    "\n",
    "for initial_state in states_tracker:\n",
    "\n",
    "    state_circuit = build_state_circuit(initial_state)\n",
    "\n",
    "    # display(circuit.draw(fold=-1))\n",
    "\n",
    "    transpiled_circuit = transpile_left(\n",
    "        transpiled_central_circuit,\n",
    "        left_circuit=state_circuit,\n",
    "        backend=backend,\n",
    "        seed_transpiler=SEED,\n",
    "        optimization_level=OPTIMIZATION_LEVEL)\n",
    "\n",
    "    transpiled_circuits.append(transpiled_circuit)\n",
    "\n",
    "estimated_time = time() - start_time\n",
    "\n",
    "print(f\"estimated_time: {estimated_time:.02f}\")"
   ]
  },
  {
   "cell_type": "markdown",
   "metadata": {
    "id": "o-Z6-l_ccgqB"
   },
   "source": [
    "#### 4.2.3. Comparative Analysis of Transpilation Times"
   ]
  },
  {
   "cell_type": "markdown",
   "metadata": {
    "id": "K8zINrftcjLf"
   },
   "source": [
    "Here we use the `results` dataset to demonstrate how the transpilation time scales with the number of qubits in cases of basic **Qiskit** transpilation and **Rivet** transpilation using the `transpile_left` function."
   ]
  },
  {
   "cell_type": "code",
   "execution_count": null,
   "metadata": {
    "id": "wTPZe1h4cjUD"
   },
   "outputs": [],
   "source": [
    "results = {8: {'basic_transpilation': 389.1, 'transpile_left': 19.8},\n",
    "           7: {'basic_transpilation': 231.29, 'transpile_left': 16.27},\n",
    "           6: {'basic_transpilation': 169.55, 'transpile_left': 13.77},\n",
    "           5: {'basic_transpilation': 123.55, 'transpile_left': 13.11},\n",
    "           4: {'basic_transpilation': 88.25, 'transpile_left': 13.62},\n",
    "           3: {'basic_transpilation': 55.11, 'transpile_left': 12.04},\n",
    "           2: {'basic_transpilation': 25.7, 'transpile_left': 11.75}}\n",
    "\n",
    "basic_times = [results[qubit_count]['basic_transpilation'] for qubit_count in results]  # with Qiskit\n",
    "left_times = [results[qubit_count]['transpile_left'] for qubit_count in results]    # with Rivet\n",
    "\n",
    "results"
   ]
  },
  {
   "cell_type": "code",
   "execution_count": null,
   "metadata": {
    "id": "pP9jlIW-d65P"
   },
   "outputs": [],
   "source": [
    "# Plot Transpilation times\n",
    "\n",
    "qubit_counts = list(results.keys())\n",
    "\n",
    "plt.title(\"Transpilation time comparison\")\n",
    "plt.xlabel(\"Qubits\")\n",
    "plt.ylabel(\"Transpilation time, seconds\")\n",
    "\n",
    "plt.plot(qubit_counts, basic_times, label=\"Basic Transpilation\")   #with Qiskit\n",
    "plt.plot(qubit_counts, left_times, label=\"Transpile Left\")         #with Rivet\n",
    "\n",
    "plt.legend()\n",
    "plt.show()"
   ]
  },
  {
   "cell_type": "markdown",
   "metadata": {
    "id": "zsq3SWZ2d7Xr"
   },
   "source": [
    "### 4.3. Quantum Fourier Adder Results Verification"
   ]
  },
  {
   "cell_type": "markdown",
   "metadata": {
    "id": "aAIpplsQd7fX"
   },
   "source": [
    "#### 4.3.1. Run the Circuit and Collect Measurements\n",
    "We have to execute a set of transpiled quantum circuits, collects the measurement outcomes for each circuit, and stores them in `counts_list` for further analysis."
   ]
  },
  {
   "cell_type": "code",
   "execution_count": null,
   "metadata": {
    "id": "Fy3YbMvveH4L"
   },
   "outputs": [],
   "source": [
    "counts_list = []\n",
    "transpiled_circuit_tracker = tqdm(transpiled_circuits, unit=' circuit', ncols=110)\n",
    "\n",
    "for transpiled_circuit in transpiled_circuit_tracker:\n",
    "    \n",
    "    job = backend.run(transpiled_circuit, shots=SHOTS_COUNT)\n",
    "    counts = job.result().get_counts()\n",
    "    counts_list.append(counts)"
   ]
  },
  {
   "cell_type": "markdown",
   "metadata": {
    "id": "S9EU8-lVeE1D"
   },
   "source": [
    "#### 4.3.2. Compare Quantum States\n",
    "To compare quantum states, store data for visualization we  define:"
   ]
  },
  {
   "cell_type": "code",
   "execution_count": null,
   "metadata": {
    "id": "3X9ms7U-eKMF"
   },
   "outputs": [],
   "source": [
    "# Initial State Indices: Converts binary initial states into their corresponding integer indices\n",
    "initial_state_indices = [int(initial_state, 2) for initial_state in initial_states]\n",
    "\n",
    "# Top State Indices: Converts the binary representation of the top measured state into its integer index\n",
    "top_state_indices = [int(max(counts, key=counts.get), 2) for counts in counts_list]\n",
    "\n",
    "# Check that Addition works: Verifies that the addition operation on initial state indices and the specified number is correctly reflected in the top measured state indices\n",
    "assert all((top_state_index == (initial_state_index + NUMBER_TO_ADD) % states_count)\n",
    "           for initial_state_index, top_state_index in zip(initial_state_indices, top_state_indices))\n",
    "\n",
    "# Global Counts: Constructs a 2D array (global_counts) to store counts data for each experiment and state index.\n",
    "global_counts = np.array([[counts[state] if state in counts else 0\n",
    "                           for state in states]\n",
    "                          for counts in counts_list], dtype=int)"
   ]
  },
  {
   "cell_type": "markdown",
   "metadata": {
    "id": "zkM853vFeM85"
   },
   "source": [
    "#### 4.3.3. Visualize Results"
   ]
  },
  {
   "cell_type": "markdown",
   "metadata": {
    "id": "2kErWJO4eROc"
   },
   "source": [
    "Visualize the counts obtained from the last iteration or experiment. The plot helps in analyzing the distribution of measurement outcomes and understanding the behavior of the quantum system."
   ]
  },
  {
   "cell_type": "code",
   "execution_count": null,
   "metadata": {
    "id": "vyTMjWmqeNId"
   },
   "outputs": [],
   "source": [
    "# Plot Last Counts\n",
    "\n",
    "last_counts = global_counts[-1]\n",
    "\n",
    "plt.title(\"Counts\")\n",
    "plt.xlabel(\"State Index\")\n",
    "plt.ylabel(\"Count\")\n",
    "plt.plot(last_counts, label=\"Initial States\")\n",
    "plt.legend()\n",
    "plt.show()"
   ]
  },
  {
   "cell_type": "markdown",
   "metadata": {
    "id": "jR8tTgeWeV4w"
   },
   "source": [
    "\n",
    "Compare the initial and measured state (affter addition operation implementation) values.\n",
    "**Expectations**: For the addition operation we set up `NUMBER_TO_ADD=2` so the different in state value should be 2."
   ]
  },
  {
   "cell_type": "code",
   "execution_count": null,
   "metadata": {
    "id": "z4tiMXHKeWbg"
   },
   "outputs": [],
   "source": [
    "# Plot State Comparison\n",
    "\n",
    "plt.title(\"State Comparison\")\n",
    "plt.xlabel(\"State Index\")\n",
    "plt.ylabel(\"State Value\")\n",
    "\n",
    "plt.plot(initial_state_indices, label=\"Initial States\")\n",
    "plt.plot(top_state_indices, label=\"Measured States\")\n",
    "\n",
    "plt.legend()\n",
    "\n",
    "# plt.show()\n",
    "plt.close()"
   ]
  },
  {
   "cell_type": "markdown",
   "metadata": {},
   "source": [
    "![image.png](images/Fig4_states_comparison.png) \n",
    "\n",
    "*Fig.4. States comparison for the initial and measured state (after addition operation implementation) values.*"
   ]
  },
  {
   "cell_type": "markdown",
   "metadata": {
    "id": "I97vg2NneZJN"
   },
   "source": [
    "Function `build_counts_figure` creates a 3D surface plot for visualizing state measurement results:"
   ]
  },
  {
   "cell_type": "code",
   "execution_count": null,
   "metadata": {
    "id": "e_rvIz3yebX6"
   },
   "outputs": [],
   "source": [
    "def build_counts_figure(initial_states, measured_states, counts,\n",
    "                        elevation=10, initial_azimuth=230):\n",
    "\n",
    "    initial_states_grid, measured_states_grid = np.meshgrid(initial_states, measured_states)\n",
    "\n",
    "    figure, ax = plt.subplots(figsize=(5, 5),\n",
    "                              subplot_kw={\"projection\": \"3d\"})\n",
    "\n",
    "    surface = ax.plot_surface(initial_states_grid,\n",
    "                              measured_states_grid,\n",
    "                              counts.T,\n",
    "                              cmap='plasma',\n",
    "                              linewidth=30,\n",
    "                              antialiased=True)\n",
    "\n",
    "    ax.view_init(elev=elevation, azim=initial_azimuth)\n",
    "\n",
    "    ax.zaxis.set_rotate_label(False)\n",
    "\n",
    "    ax.set_xlabel('Initial State Index')\n",
    "    ax.set_ylabel('Measured State Index')\n",
    "    ax.set_zlabel('Count', rotation=90)\n",
    "\n",
    "    ax.patch.set_alpha(0)\n",
    "\n",
    "    figure.patch.set_alpha(0)\n",
    "\n",
    "    # figure.patch.set_facecolor('black')\n",
    "\n",
    "    plt.close()\n",
    "\n",
    "    return figure"
   ]
  },
  {
   "cell_type": "markdown",
   "metadata": {
    "id": "7C1xXNswecLP"
   },
   "source": [
    "Plot 3D surface for a subset of experiments:"
   ]
  },
  {
   "cell_type": "code",
   "execution_count": null,
   "metadata": {
    "id": "VlLv8f54kEdr"
   },
   "outputs": [],
   "source": [
    "counts_figure = build_counts_figure(\n",
    "    initial_states=range(EXPERIMENTS_COUNT),\n",
    "    measured_states=range(EXPERIMENTS_COUNT),\n",
    "    counts=global_counts[:,:EXPERIMENTS_COUNT],\n",
    "    elevation=30,\n",
    "    initial_azimuth=160+180\n",
    ")\n",
    "\n",
    "counts_figure"
   ]
  },
  {
   "cell_type": "markdown",
   "metadata": {
    "id": "AwgDIUSIelFC"
   },
   "source": [
    "## 4. Conclusions\n",
    "\n",
    "The implementation of the Quantum Fourier Adder algorithm was demonstrated, and significant speed enhancements were evident when using Rivet."
   ]
  },
  {
   "cell_type": "markdown",
   "metadata": {
    "id": "5DmIJOZNWv_l"
   },
   "source": [
    "## References\n",
    "\n",
    "[1] https://en.wikipedia.org/wiki/Fourier_transform\n",
    "\n",
    "[2] https://github.com/SRI-International/QC-App-Oriented-Benchmarks/tree/master/quantum-fourier-transform\n",
    "\n",
    "[3] IBM Research Report: An Approximate Fourier Transform Useful in Quantum Factoring https://arxiv.org/pdf/quant-ph/0201067.pdf\n",
    "\n",
    "[4] https://github.com/Qiskit/textbook/blob/main/notebooks/ch-algorithms/quantum-fourier-transform.ipynb\n",
    "\n",
    "[5] Michael A. Nielsen and Isaac L. Chuang. (2011). Quantum Computation and Quantum Information: 10th Anniversary Edition (10th ed.). Cambridge University Press, New York, NY, USA.\n",
    "\n",
    "[6] Qiskit fake backends https://docs.quantum.ibm.com/api/qiskit/0.37/providers_fake_provider"
   ]
  }
 ],
 "metadata": {
  "colab": {
   "provenance": []
  },
  "kernelspec": {
   "display_name": "Rivet_Release",
   "language": "python",
   "name": "rivet_release"
  },
  "language_info": {
   "codemirror_mode": {
    "name": "ipython",
    "version": 3
   },
   "file_extension": ".py",
   "mimetype": "text/x-python",
   "name": "python",
   "nbconvert_exporter": "python",
   "pygments_lexer": "ipython3",
   "version": "3.10.13"
  }
 },
 "nbformat": 4,
 "nbformat_minor": 4
}
