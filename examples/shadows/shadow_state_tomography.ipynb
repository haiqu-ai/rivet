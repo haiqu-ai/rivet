{
 "cells": [
  {
   "cell_type": "markdown",
   "id": "3ab8d635-377b-4e63-8309-3027badc7003",
   "metadata": {},
   "source": [
    "### Shadow State Tomography"
   ]
  },
  {
   "cell_type": "code",
   "execution_count": 1,
   "id": "2980a2a3-8f8b-4f7c-9008-2576192949db",
   "metadata": {},
   "outputs": [],
   "source": [
    "# https://github.com/ryanlevy/shadow-tutorial/blob/main/Tutorial_Shadow_State_Tomography.ipynb"
   ]
  },
  {
   "cell_type": "code",
   "execution_count": 2,
   "id": "ba432d46-90e2-4417-a81e-8a62518207d5",
   "metadata": {},
   "outputs": [
    {
     "name": "stdout",
     "output_type": "stream",
     "text": [
      "/mnt/c/Users/mohor/Jupyter/Haiqu/transpiler\n"
     ]
    }
   ],
   "source": [
    "import numpy as np\n",
    "\n",
    "from time import time\n",
    "from tqdm import tqdm\n",
    "\n",
    "import qiskit\n",
    "\n",
    "from qiskit.providers.aer import AerSimulator\n",
    "\n",
    "from qiskit.providers.fake_provider import FakeBackend5QV2\n",
    "from qiskit.providers.fake_provider import FakeLimaV2\n",
    "from qiskit.providers.fake_provider import FakeMontrealV2\n",
    "from qiskit.providers.fake_provider import FakeGuadalupeV2\n",
    "from qiskit.providers.fake_provider import FakeBoeblingenV2\n",
    "\n",
    "from qiskit.circuit.random import random_circuit\n",
    "\n",
    "import matplotlib.pyplot as plt\n",
    "\n",
    "plt.style.use(\"dark_background\")\n",
    "\n",
    "%cd ../..\n",
    "\n",
    "from qml_transpiler import transpile_right"
   ]
  },
  {
   "cell_type": "markdown",
   "id": "540efa24-4f39-43b8-8cc0-1fd1bfe86170",
   "metadata": {},
   "source": [
    "### Functions"
   ]
  },
  {
   "cell_type": "code",
   "execution_count": 3,
   "id": "9d683330-3925-404f-a408-635995f978f5",
   "metadata": {},
   "outputs": [],
   "source": [
    "def get_ghz_circuit(qubits_count):\n",
    "    \n",
    "    qubits = list(range(qubits_count))\n",
    "    \n",
    "    circuit = qiskit.QuantumCircuit(qubits_count)\n",
    "    \n",
    "    circuit.h(0)\n",
    "    \n",
    "    for control, target in zip(qubits, qubits[1:]):\n",
    "    \n",
    "        circuit.cx(control, target)\n",
    "        \n",
    "    return circuit"
   ]
  },
  {
   "cell_type": "code",
   "execution_count": 4,
   "id": "133ceed5-a2b3-4133-9f31-3b7fe58f416c",
   "metadata": {},
   "outputs": [],
   "source": [
    "def rotate_qubit_to_basis(circuit, qubit, basis):\n",
    "    \n",
    "    if basis == \"X\":\n",
    "        circuit.h(qubit)\n",
    "        \n",
    "    elif basis == \"Y\":\n",
    "        circuit.sdg(qubit)\n",
    "        circuit.h(qubit)\n",
    "        \n",
    "    elif basis == \"Z\":\n",
    "        pass"
   ]
  },
  {
   "cell_type": "code",
   "execution_count": 5,
   "id": "1ef7c0a7-6b49-4da6-b8e5-082f72cc052b",
   "metadata": {},
   "outputs": [],
   "source": [
    "def build_bases_rotation_circuit(bases):\n",
    "    \n",
    "    qubits_count = len(bases)\n",
    "    \n",
    "    circuit = qiskit.QuantumCircuit(qubits_count)\n",
    "    \n",
    "    for qubit, basis in enumerate(bases):\n",
    "        \n",
    "        if basis == \"X\":\n",
    "            circuit.h(qubit)\n",
    "        \n",
    "        elif basis == \"Y\":\n",
    "            circuit.sdg(qubit)\n",
    "            circuit.h(qubit)\n",
    "        \n",
    "        elif basis == \"Z\":\n",
    "            pass\n",
    "        \n",
    "    return circuit"
   ]
  },
  {
   "cell_type": "code",
   "execution_count": 6,
   "id": "f4f09362-be50-4258-9099-509da33c3a95",
   "metadata": {},
   "outputs": [],
   "source": [
    "def get_inverted_channel(channel, qubits_count):\n",
    "    \n",
    "    identity = np.eye(2 ** qubits_count)\n",
    "    \n",
    "    inverted_channel = (2 ** qubits_count + 1) * channel - identity\n",
    "    \n",
    "    return inverted_channel"
   ]
  },
  {
   "cell_type": "code",
   "execution_count": 7,
   "id": "926c81fe-dcc9-4b40-9784-31bc98d1d411",
   "metadata": {},
   "outputs": [],
   "source": [
    "def get_basis_unitary(basis):\n",
    "    \n",
    "    if basis == \"X\":\n",
    "        unitary = 1/np.sqrt(2) * np.array([[1.,1.],\n",
    "                                           [1.,-1.]])\n",
    "    elif basis == \"Y\":\n",
    "        unitary = 1/np.sqrt(2) * np.array([[1.,-1.0j],\n",
    "                                           [1.,1.j]])\n",
    "    elif basis == \"Z\":\n",
    "        unitary = np.eye(2)\n",
    "        \n",
    "    return unitary"
   ]
  },
  {
   "cell_type": "markdown",
   "id": "97d18813-814f-4d78-b287-745f27d2aa86",
   "metadata": {
    "tags": []
   },
   "source": [
    "### Backend"
   ]
  },
  {
   "cell_type": "code",
   "execution_count": 8,
   "id": "dbd15eac-0c30-4d1c-a531-0f7efb228bc1",
   "metadata": {},
   "outputs": [],
   "source": [
    "# FAKE_BACKEND = FakeBackend5QV2()\n",
    "# FAKE_BACKEND = FakeLimaV2()\n",
    "# FAKE_BACKEND = FakeGuadalupeV2()\n",
    "# FAKE_BACKEND = FakeBoeblingenV2()\n",
    "FAKE_BACKEND = FakeMontrealV2()\n",
    "\n",
    "backend = AerSimulator.from_backend(FAKE_BACKEND)\n",
    "\n",
    "backend.options.noise_model = None\n",
    "\n",
    "# qiskit.visualization.plot_gate_map(FAKE_BACKEND)"
   ]
  },
  {
   "cell_type": "markdown",
   "id": "b3dbd0fd-3cb0-40c1-a764-0a843b884e53",
   "metadata": {},
   "source": [
    "### Parameters"
   ]
  },
  {
   "cell_type": "code",
   "execution_count": 9,
   "id": "90eb621b-708b-4b95-8aae-5b505db8da5f",
   "metadata": {},
   "outputs": [],
   "source": [
    "QUBITS_COUNT = 3\n",
    "SU2_LAYERS_COUNT = 10\n",
    "PARAMETRIZATION_RATIO = 0.25\n",
    "\n",
    "OPTIMIZATION_LEVEL = 3\n",
    "\n",
    "SEED = 1234"
   ]
  },
  {
   "cell_type": "code",
   "execution_count": 10,
   "id": "a1e88da4-fe0c-4326-b167-a47075b4c939",
   "metadata": {},
   "outputs": [],
   "source": [
    "qubits = list(range(QUBITS_COUNT))\n",
    "\n",
    "rng = np.random.default_rng(SEED)"
   ]
  },
  {
   "cell_type": "markdown",
   "id": "cd5e4f25-7d2e-41ea-8f60-693a2976c1a6",
   "metadata": {
    "tags": []
   },
   "source": [
    "### Parametrized SU2 Circuit"
   ]
  },
  {
   "cell_type": "code",
   "execution_count": 11,
   "id": "7ae1b32f-4006-4aec-b370-e3a59aec5cae",
   "metadata": {
    "tags": []
   },
   "outputs": [
    {
     "name": "stdout",
     "output_type": "stream",
     "text": [
      "circuit.depth(): 100\n"
     ]
    }
   ],
   "source": [
    "# Non-Parametrized Part\n",
    "\n",
    "left_part = qiskit.QuantumCircuit(QUBITS_COUNT)\n",
    "right_part = qiskit.QuantumCircuit(QUBITS_COUNT)\n",
    "\n",
    "non_parametrized_layers_count = SU2_LAYERS_COUNT * 2 * (1 / PARAMETRIZATION_RATIO - 1)\n",
    "\n",
    "non_parametrized_layers_count = int(non_parametrized_layers_count)\n",
    "\n",
    "for left_layer in range(non_parametrized_layers_count // 2):\n",
    "    left_part.rz(0.5, qubits)\n",
    "    \n",
    "for right_layer in range(non_parametrized_layers_count // 2):\n",
    "    right_part.rz(1.5, qubits)   \n",
    "    \n",
    "# Parametrized Part\n",
    "\n",
    "parametrized_part = qiskit.circuit.library.EfficientSU2(\n",
    "    num_qubits=QUBITS_COUNT,\n",
    "    reps=SU2_LAYERS_COUNT,\n",
    "    entanglement=\"linear\",\n",
    "    skip_final_rotation_layer=True\n",
    ")\n",
    "\n",
    "# Compose Parts\n",
    "\n",
    "parametrized_part = parametrized_part.decompose()\n",
    "\n",
    "parametrized_circuit = parametrized_part.compose(left_part, front=True)\n",
    "parametrized_circuit = parametrized_circuit.compose(right_part)\n",
    "\n",
    "# parametrized_circuit.measure_all()\n",
    "\n",
    "# display(parametrized_circuit.draw(fold=-1))\n",
    "\n",
    "# Bind Parameters\n",
    "\n",
    "random_parameters = np.random.rand(parametrized_circuit.num_parameters)\n",
    "\n",
    "circuit = parametrized_circuit.bind_parameters(random_parameters)\n",
    "\n",
    "print(\"circuit.depth():\", circuit.depth())\n",
    "\n",
    "# circuit.draw(fold=-1)"
   ]
  },
  {
   "cell_type": "markdown",
   "id": "fc13ca06-3e64-4325-bc0b-6b2435757b61",
   "metadata": {},
   "source": [
    "### Other Circuits"
   ]
  },
  {
   "cell_type": "code",
   "execution_count": 12,
   "id": "f09b07a9-d1fc-49c5-8224-34414f30b934",
   "metadata": {},
   "outputs": [],
   "source": [
    "# # GHZ Circuit\n",
    "\n",
    "# circuit = get_ghz_circuit(QUBITS_COUNT)\n",
    "\n",
    "# # Random Circuit\n",
    "\n",
    "# circuit = random_circuit(QUBITS_COUNT, depth=20, max_operands=1, measure=False)\n",
    "\n",
    "# # circuit.draw(fold=-1)"
   ]
  },
  {
   "cell_type": "markdown",
   "id": "7f7ecdac-b2f3-4636-8747-1034eed2ee63",
   "metadata": {},
   "source": [
    "## 1) Paulis"
   ]
  },
  {
   "cell_type": "code",
   "execution_count": 13,
   "id": "1859bcf4-545a-44dc-bdb8-e85b5d509ba7",
   "metadata": {},
   "outputs": [],
   "source": [
    "TOTAL_SHOTS_COUNT = 1000"
   ]
  },
  {
   "cell_type": "markdown",
   "id": "0e74aff5-ec51-401d-957b-6c5ff9aacef7",
   "metadata": {
    "tags": []
   },
   "source": [
    "### Bases"
   ]
  },
  {
   "cell_type": "code",
   "execution_count": 14,
   "id": "159c1e11-b441-4d7a-93c7-1cfbb37e7ef0",
   "metadata": {},
   "outputs": [
    {
     "data": {
      "text/plain": [
       "(27, 3)"
      ]
     },
     "execution_count": 14,
     "metadata": {},
     "output_type": "execute_result"
    }
   ],
   "source": [
    "random_bases = rng.choice(['X','Y','Z'], size=(TOTAL_SHOTS_COUNT, QUBITS_COUNT))\n",
    "          \n",
    "bases_list, shots_counts = np.unique(random_bases, axis=0, return_counts=True)\n",
    "\n",
    "bases_list.shape"
   ]
  },
  {
   "cell_type": "markdown",
   "id": "800aafde-2043-4de2-abf3-717cc4798c2c",
   "metadata": {},
   "source": [
    "### Rotation Circuits"
   ]
  },
  {
   "cell_type": "code",
   "execution_count": 15,
   "id": "8fb972e6-95f5-4ebd-8415-53b3f89b6150",
   "metadata": {
    "tags": []
   },
   "outputs": [
    {
     "data": {
      "text/plain": [
       "27"
      ]
     },
     "execution_count": 15,
     "metadata": {},
     "output_type": "execute_result"
    }
   ],
   "source": [
    "rotation_circuits = []\n",
    "\n",
    "for bases in bases_list:\n",
    "        \n",
    "    rotation_circuit = build_bases_rotation_circuit(bases)\n",
    "    \n",
    "    rotation_circuits.append(rotation_circuit)\n",
    "\n",
    "len(rotation_circuits)"
   ]
  },
  {
   "cell_type": "markdown",
   "id": "f6d7c756-bd16-4d1b-a4ea-a9b49b2224f3",
   "metadata": {},
   "source": [
    "### Basic Transpilation - Slower one!"
   ]
  },
  {
   "cell_type": "code",
   "execution_count": 16,
   "id": "e57ce961-e840-491d-8c1c-21310b4bd745",
   "metadata": {
    "tags": []
   },
   "outputs": [
    {
     "name": "stderr",
     "output_type": "stream",
     "text": [
      "100%|█████████████████████████████████████████████████████████████████████| 27/27 [00:03<00:00,  8.91 basis/s]"
     ]
    },
    {
     "name": "stdout",
     "output_type": "stream",
     "text": [
      "estimated_time: 3.03\n"
     ]
    },
    {
     "name": "stderr",
     "output_type": "stream",
     "text": [
      "\n"
     ]
    }
   ],
   "source": [
    "start_time = time()\n",
    "\n",
    "\n",
    "# Compose and Transpile all Rotation Circuits\n",
    "\n",
    "shadow_circuits = []\n",
    "\n",
    "rotation_tracker = tqdm(rotation_circuits, unit=' basis', ncols=110)\n",
    "\n",
    "for rotation_circuit in rotation_tracker:\n",
    "    \n",
    "    measurement_circuit = rotation_circuit.measure_all(inplace=False)\n",
    "    \n",
    "    measured_circuit = circuit.compose(measurement_circuit)\n",
    "    \n",
    "    # display(measured_circuit.draw(fold=-1))\n",
    "    \n",
    "    shadow_circuit = qiskit.transpile(\n",
    "        measured_circuit, \n",
    "        backend,\n",
    "        seed_transpiler=SEED,\n",
    "        optimization_level=OPTIMIZATION_LEVEL)\n",
    "    \n",
    "    shadow_circuits.append(shadow_circuit)\n",
    "    \n",
    "estimated_time = time() - start_time\n",
    "\n",
    "print(f\"estimated_time: {estimated_time:.02f}\")"
   ]
  },
  {
   "cell_type": "markdown",
   "id": "9a792284-52a1-4d26-aff0-079fa71160a3",
   "metadata": {},
   "source": [
    "### Transpile Right - Much faster!"
   ]
  },
  {
   "cell_type": "code",
   "execution_count": 17,
   "id": "83f9d09c-e309-4c73-82b9-5861eec5aa40",
   "metadata": {},
   "outputs": [
    {
     "name": "stderr",
     "output_type": "stream",
     "text": [
      "100%|████████████████████████████████████████████████████████████████████| 27/27 [00:00<00:00, 126.08 basis/s]"
     ]
    },
    {
     "name": "stdout",
     "output_type": "stream",
     "text": [
      "estimated_time: 0.33\n"
     ]
    },
    {
     "name": "stderr",
     "output_type": "stream",
     "text": [
      "\n"
     ]
    }
   ],
   "source": [
    "start_time = time()\n",
    "\n",
    "# Transpile Central Part\n",
    "\n",
    "transpiled_central_circuit = qiskit.transpile(\n",
    "    circuit, \n",
    "    backend,\n",
    "    seed_transpiler=SEED,\n",
    "    optimization_level=OPTIMIZATION_LEVEL)\n",
    "\n",
    "\n",
    "# Transpile Right all Rotation Circuits\n",
    "\n",
    "shadow_circuits = []\n",
    "    \n",
    "rotation_tracker = tqdm(rotation_circuits, unit=' basis', ncols=110)\n",
    "\n",
    "for rotation_circuit in rotation_tracker:\n",
    "    \n",
    "    measurement_circuit = rotation_circuit.measure_all(inplace=False)\n",
    "    \n",
    "    shadow_circuit = transpile_right(\n",
    "        transpiled_central_circuit, \n",
    "        measurement_circuit,\n",
    "        seed_transpiler=SEED,\n",
    "        optimization_level=OPTIMIZATION_LEVEL)    \n",
    "    \n",
    "    shadow_circuits.append(shadow_circuit)\n",
    "    \n",
    "\n",
    "estimated_time = time() - start_time\n",
    "\n",
    "print(f\"estimated_time: {estimated_time:.02f}\")"
   ]
  },
  {
   "cell_type": "markdown",
   "id": "1d5de3aa-cc6b-4661-b36b-e756898be95e",
   "metadata": {
    "tags": []
   },
   "source": [
    "### Run Shadow Circuits"
   ]
  },
  {
   "cell_type": "code",
   "execution_count": 18,
   "id": "a4adf49e-5570-4b5c-a88b-b27a762ee08b",
   "metadata": {
    "tags": []
   },
   "outputs": [],
   "source": [
    "counts_list = []\n",
    "\n",
    "for shadow_circuit, shots in zip(shadow_circuits, shots_counts):\n",
    "\n",
    "    job = backend.run(shadow_circuit, shots=shots)\n",
    "\n",
    "    counts = job.result().get_counts()\n",
    "\n",
    "    counts_list.append(counts)"
   ]
  },
  {
   "cell_type": "markdown",
   "id": "3428e17c-0dff-492c-81ba-54f609764375",
   "metadata": {},
   "source": [
    "### Calculate Shadows"
   ]
  },
  {
   "cell_type": "code",
   "execution_count": 19,
   "id": "55619603-1104-4165-a0ac-7019f72b786c",
   "metadata": {},
   "outputs": [],
   "source": [
    "shadows = []\n",
    "\n",
    "for bases, counts in zip(bases_list, counts_list):\n",
    "    \n",
    "    for state, count in counts.items():\n",
    "            \n",
    "        shadow_part = 1\n",
    "        \n",
    "        for bit_index, bit in enumerate(state[::-1]):\n",
    "            \n",
    "            basis = bases[bit_index]\n",
    "            \n",
    "            basis_unitary = get_basis_unitary(basis)\n",
    "            \n",
    "            vector = basis_unitary[int(bit), :]\n",
    "            \n",
    "            outer_product = np.outer(vector.conj(), vector)\n",
    "            \n",
    "            inverted_channel = get_inverted_channel(outer_product, 1)\n",
    "            \n",
    "            shadow_part = np.kron(inverted_channel, shadow_part)\n",
    "            \n",
    "        shadow = shadow_part * count\n",
    "            \n",
    "        shadows.append(shadow)"
   ]
  },
  {
   "cell_type": "markdown",
   "id": "f304c377-5251-4cdd-8d6a-fbc57db98afd",
   "metadata": {},
   "source": [
    "### Density Matrices"
   ]
  },
  {
   "cell_type": "code",
   "execution_count": 20,
   "id": "7d74d489-9455-44d8-a855-1d29ce0ed890",
   "metadata": {},
   "outputs": [
    {
     "data": {
      "text/plain": [
       "(8, 8)"
      ]
     },
     "execution_count": 20,
     "metadata": {},
     "output_type": "execute_result"
    }
   ],
   "source": [
    "reconstructed_density_matrix = np.sum(shadows, axis=0) / TOTAL_SHOTS_COUNT\n",
    "\n",
    "reconstructed_density_matrix.shape"
   ]
  },
  {
   "cell_type": "code",
   "execution_count": 21,
   "id": "d9a05e75-a60f-4d91-b06b-fd218185c1b6",
   "metadata": {},
   "outputs": [
    {
     "data": {
      "text/plain": [
       "(8, 8)"
      ]
     },
     "execution_count": 21,
     "metadata": {},
     "output_type": "execute_result"
    }
   ],
   "source": [
    "original_density_matrix = qiskit.quantum_info.DensityMatrix(circuit).data\n",
    "\n",
    "original_density_matrix.shape"
   ]
  },
  {
   "cell_type": "markdown",
   "id": "e160b52b-edd4-44bc-8799-15da16a6ccc0",
   "metadata": {},
   "source": [
    "### Plot Density Matrices"
   ]
  },
  {
   "cell_type": "code",
   "execution_count": 22,
   "id": "c67a3e0b-9e4d-47eb-82d1-25a2aceb3c98",
   "metadata": {},
   "outputs": [],
   "source": [
    "def plot_density_matrix(density_matrix, label=\"\"):\n",
    "\n",
    "    plt.suptitle(f\"{label} Density Matrix\", y=0.9)\n",
    "\n",
    "    real = plt.subplot(121)\n",
    "    real.set_title(\"Real part\")\n",
    "\n",
    "    real.imshow(density_matrix.real, vmin=-0.7, vmax=0.7)\n",
    "\n",
    "    real.axes.set_xticks(())\n",
    "    real.axes.set_yticks(())\n",
    "\n",
    "\n",
    "    imaginary = plt.subplot(122)\n",
    "    imaginary.set_title(\"Imaginary part\")\n",
    "    imaginary.imshow(density_matrix.imag, vmin=-0.7, vmax=0.7)\n",
    "\n",
    "    imaginary.axes.set_xticks(())\n",
    "    imaginary.axes.set_yticks(())\n",
    "\n",
    "    plt.show()"
   ]
  },
  {
   "cell_type": "code",
   "execution_count": 23,
   "id": "9125665b-25c4-46c3-b1a8-affeb894c99c",
   "metadata": {},
   "outputs": [
    {
     "data": {
      "image/png": "[encoded data removed]",
      "text/plain": [
       "<Figure size 432x288 with 2 Axes>"
      ]
     },
     "metadata": {},
     "output_type": "display_data"
    }
   ],
   "source": [
    "plot_density_matrix(original_density_matrix, label=\"Original\")"
   ]
  },
  {
   "cell_type": "code",
   "execution_count": 24,
   "id": "349936c2-800d-4406-a858-c9776dc618d4",
   "metadata": {},
   "outputs": [
    {
     "data": {
      "image/png": "[encoded data removed]",
      "text/plain": [
       "<Figure size 432x288 with 2 Axes>"
      ]
     },
     "metadata": {},
     "output_type": "display_data"
    }
   ],
   "source": [
    "plot_density_matrix(reconstructed_density_matrix, label=\"Reconstructed\")"
   ]
  },
  {
   "cell_type": "markdown",
   "id": "89d0f272-c5dd-48aa-aa68-75eb14f37c71",
   "metadata": {},
   "source": [
    "### Mean Square Error"
   ]
  },
  {
   "cell_type": "code",
   "execution_count": 25,
   "id": "9dbe1265-7428-444b-98cf-b9473a68fe99",
   "metadata": {},
   "outputs": [
    {
     "data": {
      "text/plain": [
       "0.0005405243339107014"
      ]
     },
     "execution_count": 25,
     "metadata": {},
     "output_type": "execute_result"
    }
   ],
   "source": [
    "mean_square_error = np.abs(((original_density_matrix - \n",
    "                             reconstructed_density_matrix) ** 2).mean())\n",
    "\n",
    "mean_square_error"
   ]
  },
  {
   "cell_type": "markdown",
   "id": "bbf885ec-abcc-4082-89e7-5fc087a4390e",
   "metadata": {},
   "source": [
    "## 2) Cliffords"
   ]
  },
  {
   "cell_type": "code",
   "execution_count": 26,
   "id": "80b5cf53-d499-4d3f-88c1-2fa78b0f4b1d",
   "metadata": {},
   "outputs": [],
   "source": [
    "SHADOWS_COUNT = 100\n",
    "SHOTS_COUNT = 100\n",
    "\n",
    "cliffords = [qiskit.quantum_info.random_clifford(QUBITS_COUNT, seed=rng) \n",
    "             for _ in range(SHADOWS_COUNT)]"
   ]
  },
  {
   "cell_type": "markdown",
   "id": "13e43242-63db-4ffb-b75e-2995829cdd97",
   "metadata": {},
   "source": [
    "### Rotation Circuits"
   ]
  },
  {
   "cell_type": "code",
   "execution_count": 27,
   "id": "63ddc265-0c3b-4098-a14b-f3fb318ec85d",
   "metadata": {},
   "outputs": [
    {
     "data": {
      "text/plain": [
       "100"
      ]
     },
     "execution_count": 27,
     "metadata": {},
     "output_type": "execute_result"
    }
   ],
   "source": [
    "rotation_circuits = []\n",
    "\n",
    "for clifford in cliffords:\n",
    "        \n",
    "    rotation_circuit = clifford.to_circuit()\n",
    "    \n",
    "    rotation_circuits.append(rotation_circuit)\n",
    "\n",
    "len(rotation_circuits)"
   ]
  },
  {
   "cell_type": "markdown",
   "id": "33cc9bcc-3cd4-4862-b8d5-9548c6ce763e",
   "metadata": {},
   "source": [
    "### Basic Transpilation - Slower one!"
   ]
  },
  {
   "cell_type": "code",
   "execution_count": 28,
   "id": "1448fe24-412c-4995-90c2-3abd5244058d",
   "metadata": {
    "tags": []
   },
   "outputs": [
    {
     "name": "stderr",
     "output_type": "stream",
     "text": [
      "100%|███████████████████████████████████████████████████████████████████| 100/100 [00:15<00:00,  6.32 basis/s]"
     ]
    },
    {
     "name": "stdout",
     "output_type": "stream",
     "text": [
      "estimated_time: 15.83\n"
     ]
    },
    {
     "name": "stderr",
     "output_type": "stream",
     "text": [
      "\n"
     ]
    }
   ],
   "source": [
    "start_time = time()\n",
    "\n",
    "\n",
    "# Compose and Transpile all Rotation Circuits\n",
    "\n",
    "shadow_circuits = []\n",
    "\n",
    "rotation_tracker = tqdm(rotation_circuits, unit=' basis', ncols=110)\n",
    "\n",
    "for rotation_circuit in rotation_tracker:\n",
    "    \n",
    "    measurement_circuit = rotation_circuit.measure_all(inplace=False)\n",
    "    \n",
    "    measured_circuit = circuit.compose(measurement_circuit)\n",
    "    \n",
    "    # display(measured_circuit.draw(fold=-1))\n",
    "    \n",
    "    shadow_circuit = qiskit.transpile(\n",
    "        measured_circuit, \n",
    "        backend,\n",
    "        seed_transpiler=SEED,\n",
    "        optimization_level=OPTIMIZATION_LEVEL)\n",
    "    \n",
    "    shadow_circuits.append(shadow_circuit)\n",
    "    \n",
    "estimated_time = time() - start_time\n",
    "\n",
    "print(f\"estimated_time: {estimated_time:.02f}\")"
   ]
  },
  {
   "cell_type": "markdown",
   "id": "e581f9eb-5013-47c4-a9cf-e6a7c64d346f",
   "metadata": {},
   "source": [
    "### Transpile Right - Much faster!"
   ]
  },
  {
   "cell_type": "code",
   "execution_count": 29,
   "id": "40b29211-155b-4cee-af35-dfabedcb310e",
   "metadata": {},
   "outputs": [
    {
     "name": "stderr",
     "output_type": "stream",
     "text": [
      "100%|███████████████████████████████████████████████████████████████████| 100/100 [00:01<00:00, 67.35 basis/s]"
     ]
    },
    {
     "name": "stdout",
     "output_type": "stream",
     "text": [
      "estimated_time: 1.60\n"
     ]
    },
    {
     "name": "stderr",
     "output_type": "stream",
     "text": [
      "\n"
     ]
    }
   ],
   "source": [
    "start_time = time()\n",
    "\n",
    "# Transpile Central Part\n",
    "\n",
    "transpiled_central_circuit = qiskit.transpile(\n",
    "    circuit, \n",
    "    backend,\n",
    "    seed_transpiler=SEED,\n",
    "    optimization_level=OPTIMIZATION_LEVEL)\n",
    "\n",
    "\n",
    "# Transpile Right all Rotation Circuits\n",
    "\n",
    "shadow_circuits = []\n",
    "    \n",
    "rotation_tracker = tqdm(rotation_circuits, unit=' basis', ncols=110)\n",
    "\n",
    "for rotation_circuit in rotation_tracker:\n",
    "    \n",
    "    measurement_circuit = rotation_circuit.measure_all(inplace=False)\n",
    "    \n",
    "    shadow_circuit = transpile_right(\n",
    "        transpiled_central_circuit, \n",
    "        measurement_circuit,\n",
    "        seed_transpiler=SEED,\n",
    "        optimization_level=OPTIMIZATION_LEVEL)    \n",
    "    \n",
    "    shadow_circuits.append(shadow_circuit)\n",
    "    \n",
    "\n",
    "estimated_time = time() - start_time\n",
    "\n",
    "print(f\"estimated_time: {estimated_time:.02f}\")"
   ]
  },
  {
   "cell_type": "markdown",
   "id": "93f62618-8020-4972-bbf0-6430ed2f331d",
   "metadata": {
    "tags": []
   },
   "source": [
    "### Run Shadow Circuits"
   ]
  },
  {
   "cell_type": "code",
   "execution_count": 30,
   "id": "c1d6cb4c-3b51-4e4c-a05c-5dc23ff37c8f",
   "metadata": {
    "tags": []
   },
   "outputs": [],
   "source": [
    "counts_list = []\n",
    "\n",
    "for shadow_circuit in shadow_circuits:\n",
    "\n",
    "    job = backend.run(shadow_circuit, shots=SHOTS_COUNT)\n",
    "\n",
    "    counts = job.result().get_counts()\n",
    "\n",
    "    counts_list.append(counts)"
   ]
  },
  {
   "cell_type": "markdown",
   "id": "5d6933d5-febc-4f0e-ae0b-52441fdc8918",
   "metadata": {},
   "source": [
    "### Calculate Shadows"
   ]
  },
  {
   "cell_type": "code",
   "execution_count": 31,
   "id": "2c97882c-d8af-4bab-8107-a6c3d7e10791",
   "metadata": {},
   "outputs": [],
   "source": [
    "shadows = []\n",
    "\n",
    "for clifford, counts in zip(cliffords, counts_list):\n",
    "    \n",
    "    unitary = clifford.adjoint().to_matrix()\n",
    "    \n",
    "    for state, count in counts.items():\n",
    "        \n",
    "        state_index = int(state, 2)\n",
    "        \n",
    "        vector = unitary[:, state_index]\n",
    "        \n",
    "        outer_product = np.outer(vector, vector.conj())\n",
    "        \n",
    "        inverted_channel = get_inverted_channel(outer_product, QUBITS_COUNT)\n",
    "        \n",
    "        shadow = inverted_channel * count\n",
    "        \n",
    "        shadows.append(shadow)"
   ]
  },
  {
   "cell_type": "markdown",
   "id": "93a74e4e-b6f8-433e-90d8-9d01cd0af7c6",
   "metadata": {},
   "source": [
    "### Density Matrices"
   ]
  },
  {
   "cell_type": "code",
   "execution_count": 32,
   "id": "0de4a6e3-d29b-4d93-b208-1ef4c6b8d45b",
   "metadata": {},
   "outputs": [
    {
     "data": {
      "text/plain": [
       "(8, 8)"
      ]
     },
     "execution_count": 32,
     "metadata": {},
     "output_type": "execute_result"
    }
   ],
   "source": [
    "TOTAL_SHOTS_COUNT = SHADOWS_COUNT * SHOTS_COUNT\n",
    "\n",
    "reconstructed_density_matrix = np.sum(shadows, axis=0) / TOTAL_SHOTS_COUNT\n",
    "\n",
    "reconstructed_density_matrix.shape"
   ]
  },
  {
   "cell_type": "code",
   "execution_count": 33,
   "id": "592c614d-f558-41ad-9d5b-e2a77c115111",
   "metadata": {},
   "outputs": [
    {
     "data": {
      "text/plain": [
       "(8, 8)"
      ]
     },
     "execution_count": 33,
     "metadata": {},
     "output_type": "execute_result"
    }
   ],
   "source": [
    "original_density_matrix = qiskit.quantum_info.DensityMatrix(circuit).data\n",
    "\n",
    "original_density_matrix.shape"
   ]
  },
  {
   "cell_type": "markdown",
   "id": "8488f603-3582-44ce-babe-bb6367007f8f",
   "metadata": {},
   "source": [
    "### Plot Density Matrices"
   ]
  },
  {
   "cell_type": "code",
   "execution_count": 34,
   "id": "337cf636-08d7-4fee-bb73-94da4cd49068",
   "metadata": {},
   "outputs": [
    {
     "data": {
      "image/png": "[encoded data removed]",
      "text/plain": [
       "<Figure size 432x288 with 2 Axes>"
      ]
     },
     "metadata": {},
     "output_type": "display_data"
    }
   ],
   "source": [
    "plot_density_matrix(original_density_matrix, label=\"Original\")"
   ]
  },
  {
   "cell_type": "code",
   "execution_count": 35,
   "id": "87ac42a8-b6f9-4421-9125-84f2442e0a95",
   "metadata": {},
   "outputs": [
    {
     "data": {
      "image/png": "[encoded data removed]",
      "text/plain": [
       "<Figure size 432x288 with 2 Axes>"
      ]
     },
     "metadata": {},
     "output_type": "display_data"
    }
   ],
   "source": [
    "plot_density_matrix(reconstructed_density_matrix, label=\"Reconstructed\")"
   ]
  },
  {
   "cell_type": "markdown",
   "id": "adf5c7cd-e363-4d6f-9114-a20dd61f52f2",
   "metadata": {
    "tags": []
   },
   "source": [
    "## 3) Plot Transpilation Times"
   ]
  },
  {
   "cell_type": "code",
   "execution_count": 36,
   "id": "5ce0068c-6b14-47da-a1ee-10cd14255368",
   "metadata": {},
   "outputs": [
    {
     "data": {
      "text/plain": [
       "{2: {'bases': 9, 'basic_transpilation': 2.15, 'transpile_right': 0.27},\n",
       " 3: {'bases': 27, 'basic_transpilation': 20.03, 'transpile_right': 1.14},\n",
       " 4: {'bases': 81, 'basic_transpilation': 82.06, 'transpile_right': 2.74},\n",
       " 5: {'bases': 243, 'basic_transpilation': 312.58, 'transpile_right': 7.39},\n",
       " 6: {'bases': 729, 'basic_transpilation': 1150.28, 'transpile_right': 23.47},\n",
       " 7: {'bases': 2167, 'basic_transpilation': 3939.58, 'transpile_right': 121.01},\n",
       " 8: {'bases': 5127,\n",
       "  'basic_transpilation': 10018.36,\n",
       "  'transpile_right': 271.09}}"
      ]
     },
     "execution_count": 36,
     "metadata": {},
     "output_type": "execute_result"
    }
   ],
   "source": [
    "results = np.load(\"/mnt/c/Users/mohor/Jupyter/Haiqu/transpiler/examples/shadows/results.npy\",\n",
    "                  allow_pickle=True).item()\n",
    "results"
   ]
  },
  {
   "cell_type": "code",
   "execution_count": 37,
   "id": "f1ebb1af-9e3a-45b6-b1fe-a0f4c6b82b0d",
   "metadata": {},
   "outputs": [
    {
     "data": {
      "text/plain": [
       "[2.15, 20.03, 82.06, 312.58, 1150.28, 3939.58, 10018.36]"
      ]
     },
     "execution_count": 37,
     "metadata": {},
     "output_type": "execute_result"
    }
   ],
   "source": [
    "basic_times = [results[qubit_count]['basic_transpilation'] for qubit_count in results]\n",
    "\n",
    "basic_times"
   ]
  },
  {
   "cell_type": "code",
   "execution_count": 38,
   "id": "c45a4df4-8feb-4c66-adeb-efd4737e92e3",
   "metadata": {},
   "outputs": [
    {
     "data": {
      "text/plain": [
       "[0.27, 1.14, 2.74, 7.39, 23.47, 121.01, 271.09]"
      ]
     },
     "execution_count": 38,
     "metadata": {},
     "output_type": "execute_result"
    }
   ],
   "source": [
    "right_times = [results[qubit_count]['transpile_right'] for qubit_count in results]\n",
    "\n",
    "right_times"
   ]
  },
  {
   "cell_type": "code",
   "execution_count": 39,
   "id": "00ad3048-8bb6-4ab3-8d0b-915a2068a2fb",
   "metadata": {},
   "outputs": [
    {
     "data": {
      "image/png": "[encoded data removed]",
      "text/plain": [
       "<Figure size 432x288 with 1 Axes>"
      ]
     },
     "metadata": {
      "needs_background": "dark"
     },
     "output_type": "display_data"
    }
   ],
   "source": [
    "# Plot Transpilation times\n",
    "\n",
    "qubit_counts = list(results.keys())\n",
    "\n",
    "plt.title(\"Transpilation time comparison\")\n",
    "plt.xlabel(\"Qubits\")\n",
    "plt.ylabel(\"Transpilation time, seconds\")\n",
    "\n",
    "plt.plot(qubit_counts, basic_times, label=\"Basic Transpilation\")\n",
    "plt.plot(qubit_counts, right_times, label=\"Transpile Right\")\n",
    "\n",
    "plt.legend()\n",
    "\n",
    "plt.show()"
   ]
  },
  {
   "cell_type": "code",
   "execution_count": null,
   "id": "7fc32194-9082-46a4-81c6-5cd68efe720e",
   "metadata": {},
   "outputs": [],
   "source": []
  }
 ],
 "metadata": {
  "kernelspec": {
   "display_name": "Python 3 (ipykernel)",
   "language": "python",
   "name": "python3"
  },
  "language_info": {
   "codemirror_mode": {
    "name": "ipython",
    "version": 3
   },
   "file_extension": ".py",
   "mimetype": "text/x-python",
   "name": "python",
   "nbconvert_exporter": "python",
   "pygments_lexer": "ipython3",
   "version": "3.8.10"
  }
 },
 "nbformat": 4,
 "nbformat_minor": 5
}
