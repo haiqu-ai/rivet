{
 "cells": [
  {
   "cell_type": "markdown",
   "id": "58e5e0ba-35e8-43e4-b18d-f2c407ec6537",
   "metadata": {},
   "source": [
    "### SXDG Case"
   ]
  },
  {
   "cell_type": "code",
   "execution_count": 1,
   "id": "fd1132b6-9ceb-4317-9a7d-10b6698f7c8b",
   "metadata": {},
   "outputs": [],
   "source": [
    "import qiskit\n",
    "\n",
    "from qiskit_aer import AerSimulator\n",
    "\n",
    "from rivet_transpiler import transpile\n",
    "from rivet_transpiler import get_full_map\n",
    "from rivet_transpiler import get_sinusoids\n",
    "from rivet_transpiler import get_litmus_circuit\n",
    "\n",
    "from qiskit_ibm_runtime.fake_provider import fake_backend\n",
    "\n",
    "from qiskit_ibm_runtime.fake_provider import FakeLimaV2\n",
    "from qiskit_ibm_runtime.fake_provider import FakeGuadalupeV2\n",
    "from qiskit_ibm_runtime.fake_provider import FakeMontrealV2"
   ]
  },
  {
   "cell_type": "code",
   "execution_count": 2,
   "id": "1a5f4ab7-1a30-4118-a4f1-c351ecdb3fe9",
   "metadata": {},
   "outputs": [],
   "source": [
    "# Parameters\n",
    "\n",
    "OPTIMIZATION_LEVEL = 3\n",
    "\n",
    "SHOTS_COUNT = 1000\n",
    "SEED_TRANSPILER = 1234\n",
    "\n",
    "LAYOUT_METHOD = None\n",
    "ROUTING_METHOD = None"
   ]
  },
  {
   "cell_type": "code",
   "execution_count": 3,
   "id": "b269c7cd-d072-4d93-8c70-83aa472d90ae",
   "metadata": {},
   "outputs": [
    {
     "data": {
      "text/html": [
       "<pre style=\"word-wrap: normal;white-space: pre;background: #fff0;line-height: 1.1;font-family: &quot;Courier New&quot;,Courier,monospace\">            ┌──────────────┐                    ┌───┐ Litmus \n",
       "Litmus_0_0: ┤ Rz(Litmus_0) ├──■─────────────────┤ X ├───░────\n",
       "            ├──────────────┤┌─┴─┐               └─┬─┘   ░    \n",
       "Litmus_0_1: ┤ Rz(Litmus_1) ├┤ X ├──■──────────────┼─────░────\n",
       "            ├──────────────┤└───┘┌─┴─┐            │     ░    \n",
       "Litmus_0_2: ┤ Rz(Litmus_2) ├─────┤ X ├──■─────────┼─────░────\n",
       "            ├──────────────┤     └───┘┌─┴─┐       │     ░    \n",
       "Litmus_0_3: ┤ Rz(Litmus_3) ├──────────┤ X ├──■────┼─────░────\n",
       "            ├──────────────┤          └───┘┌─┴─┐  │     ░    \n",
       "Litmus_0_4: ┤ Rz(Litmus_4) ├───────────────┤ X ├──■─────░────\n",
       "            └──────────────┘               └───┘        ░    </pre>"
      ],
      "text/plain": [
       "            ┌──────────────┐                    ┌───┐ Litmus \n",
       "Litmus_0_0: ┤ Rz(Litmus_0) ├──■─────────────────┤ X ├───░────\n",
       "            ├──────────────┤┌─┴─┐               └─┬─┘   ░    \n",
       "Litmus_0_1: ┤ Rz(Litmus_1) ├┤ X ├──■──────────────┼─────░────\n",
       "            ├──────────────┤└───┘┌─┴─┐            │     ░    \n",
       "Litmus_0_2: ┤ Rz(Litmus_2) ├─────┤ X ├──■─────────┼─────░────\n",
       "            ├──────────────┤     └───┘┌─┴─┐       │     ░    \n",
       "Litmus_0_3: ┤ Rz(Litmus_3) ├──────────┤ X ├──■────┼─────░────\n",
       "            ├──────────────┤          └───┘┌─┴─┐  │     ░    \n",
       "Litmus_0_4: ┤ Rz(Litmus_4) ├───────────────┤ X ├──■─────░────\n",
       "            └──────────────┘               └───┘        ░    "
      ]
     },
     "execution_count": 3,
     "metadata": {},
     "output_type": "execute_result"
    }
   ],
   "source": [
    "QUBITS_COUNT = 5\n",
    "\n",
    "litmus_circuit = get_litmus_circuit(QUBITS_COUNT, \"Litmus\")\n",
    "\n",
    "litmus_circuit.draw()"
   ]
  },
  {
   "cell_type": "code",
   "execution_count": 4,
   "id": "0febf920-0380-4460-bef1-501c641f6384",
   "metadata": {},
   "outputs": [
    {
     "data": {
      "text/plain": [
       "AerSimulator('aer_simulator_from(fake_montreal)'\n",
       "             noise_model=<NoiseModel on ['x', 'cx', 'measure', 'id', 'sx', 'reset']>)"
      ]
     },
     "execution_count": 4,
     "metadata": {},
     "output_type": "execute_result"
    }
   ],
   "source": [
    "fake_backend = FakeMontrealV2()\n",
    "# fake_backend = FakeGuadalupeV2()\n",
    "# fake_backend = FakeLimaV2()\n",
    "\n",
    "\n",
    "backend = AerSimulator.from_backend(fake_backend)\n",
    "\n",
    "backend"
   ]
  },
  {
   "cell_type": "code",
   "execution_count": 5,
   "id": "5ae830df-952e-4207-aed5-8cc88087b080",
   "metadata": {},
   "outputs": [],
   "source": [
    "backend.options.noise_model = None"
   ]
  },
  {
   "cell_type": "markdown",
   "id": "c37b75d8-79ae-4006-b98d-412ec29a71f8",
   "metadata": {},
   "source": [
    "### Transpile Left"
   ]
  },
  {
   "cell_type": "code",
   "execution_count": 6,
   "id": "e2d70ba2-056c-4e36-9820-c183b136a6ae",
   "metadata": {},
   "outputs": [],
   "source": [
    "def transpile_left(central_circuit, left_circuit,\n",
    "                   backend=None, **key_arguments):\n",
    "\n",
    "    # Left Initial Layout\n",
    "\n",
    "    if central_circuit.layout is None:\n",
    "\n",
    "        left_initial_layout = list(range(left_circuit.num_qubits))\n",
    "\n",
    "    else:\n",
    "\n",
    "        initial_layout = central_circuit.layout.initial_layout\n",
    "        input_qubit_mapping = central_circuit.layout.input_qubit_mapping\n",
    "\n",
    "        initial_map = [initial_layout[qubit] for qubit in input_qubit_mapping]\n",
    "\n",
    "        left_initial_layout = initial_map[:left_circuit.num_qubits]\n",
    "\n",
    "    # Transpile and Compose\n",
    "\n",
    "    key_arguments['initial_layout'] = left_initial_layout\n",
    "\n",
    "    inverted_left_circuit = left_circuit.inverse()\n",
    "\n",
    "    transpiled_inverted_left_circuit = transpile(\n",
    "        inverted_left_circuit,\n",
    "        backend,\n",
    "        **key_arguments)\n",
    "\n",
    "    transpiled_left_circuit = transpiled_inverted_left_circuit.inverse()\n",
    "\n",
    "    transpiled_left_circuit._layout = transpiled_inverted_left_circuit.layout\n",
    "\n",
    "    resulting_circuit = central_circuit.compose(transpiled_left_circuit,\n",
    "                                                front=True)\n",
    "\n",
    "    # No Layout\n",
    "\n",
    "    if transpiled_left_circuit.layout is None:\n",
    "\n",
    "        return resulting_circuit\n",
    "\n",
    "    # Left Routing\n",
    "\n",
    "    if transpiled_left_circuit.layout.final_layout is None:\n",
    "\n",
    "        left_routing = list(range(transpiled_left_circuit.num_qubits))\n",
    "\n",
    "    else:\n",
    "        left_routing = [transpiled_left_circuit.layout.final_layout[qubit]\n",
    "                        for qubit in transpiled_left_circuit.qubits]\n",
    "\n",
    "    # Central Routing\n",
    "\n",
    "    if (central_circuit.layout is None or\n",
    "            central_circuit.layout.final_layout is None):\n",
    "\n",
    "        central_routing = list(range(central_circuit.num_qubits))\n",
    "\n",
    "    else:\n",
    "        central_routing = [central_circuit.layout.final_layout[qubit]\n",
    "                           for qubit in central_circuit.qubits]\n",
    "\n",
    "    # Final Routing\n",
    "\n",
    "    final_routing = [central_routing[qubit] for qubit in left_routing]\n",
    "\n",
    "    # Final Layout\n",
    "\n",
    "    final_layout = qiskit.transpiler.Layout.from_intlist(final_routing, *resulting_circuit.qregs)\n",
    "\n",
    "    # Initial Layout\n",
    "\n",
    "    input_qubit_mapping = transpiled_left_circuit.layout.input_qubit_mapping\n",
    "\n",
    "    initial_map = get_full_map(transpiled_left_circuit)\n",
    "\n",
    "    initial_layout = transpiled_left_circuit.layout.initial_layout.copy()\n",
    "\n",
    "    for virtual, physical in zip(input_qubit_mapping, initial_map):\n",
    "\n",
    "        initial_layout[virtual] = physical\n",
    "\n",
    "    # Transpile Layout\n",
    "\n",
    "    transpile_layout = qiskit.transpiler.TranspileLayout(\n",
    "        input_qubit_mapping=input_qubit_mapping,\n",
    "        initial_layout=initial_layout,\n",
    "        final_layout=final_layout\n",
    "    )\n",
    "\n",
    "    resulting_circuit._layout = transpile_layout\n",
    "\n",
    "    # Printouts\n",
    "\n",
    "    # print(\"left_routing:\", left_routing)\n",
    "    # print(\"central_routing:\", central_routing)\n",
    "    # print(\"final_routing:\", final_routing)\n",
    "    # print(\"final_layout:\", final_layout)\n",
    "\n",
    "    return resulting_circuit"
   ]
  },
  {
   "cell_type": "markdown",
   "id": "cea13fd8-4534-4cd4-b94c-b97e6a462f7a",
   "metadata": {},
   "source": [
    "### Run"
   ]
  },
  {
   "cell_type": "code",
   "execution_count": 7,
   "id": "13a00430-1713-4f00-b5d6-f18649b492cc",
   "metadata": {},
   "outputs": [],
   "source": [
    "QUBITS_COUNT = litmus_circuit.num_qubits\n",
    "\n",
    "qubits = list(range(QUBITS_COUNT))\n",
    "\n",
    "# Measurement Part\n",
    "\n",
    "measurement_circuit = qiskit.QuantumCircuit(QUBITS_COUNT, QUBITS_COUNT)\n",
    "measurement_circuit.measure(qubits, qubits)\n",
    "\n",
    "# Transpile Left\n",
    "\n",
    "transpiled_measurement_circuit = transpile(\n",
    "    measurement_circuit,\n",
    "    backend,\n",
    "    layout_method=LAYOUT_METHOD,\n",
    "    routing_method=ROUTING_METHOD,\n",
    "    seed_transpiler=SEED_TRANSPILER,\n",
    "    optimization_level=OPTIMIZATION_LEVEL\n",
    ")"
   ]
  },
  {
   "cell_type": "code",
   "execution_count": 27,
   "id": "cbe71125-3270-4364-8af2-71cd23b2849f",
   "metadata": {},
   "outputs": [],
   "source": [
    "key_arguments = {\n",
    "    'layout_method': LAYOUT_METHOD,\n",
    "    'routing_method': ROUTING_METHOD,\n",
    "    'seed_transpiler': SEED_TRANSPILER,\n",
    "    'optimization_level': OPTIMIZATION_LEVEL\n",
    "}\n",
    "\n",
    "central_circuit = transpiled_measurement_circuit\n",
    "left_circuit = litmus_circuit\n",
    "\n",
    "# Left Initial Layout\n",
    "\n",
    "if central_circuit.layout is None:\n",
    "\n",
    "    left_initial_layout = list(range(left_circuit.num_qubits))\n",
    "\n",
    "else:\n",
    "\n",
    "    initial_layout = central_circuit.layout.initial_layout\n",
    "    input_qubit_mapping = central_circuit.layout.input_qubit_mapping\n",
    "\n",
    "    initial_map = [initial_layout[qubit] for qubit in input_qubit_mapping]\n",
    "\n",
    "    left_initial_layout = initial_map[:left_circuit.num_qubits]\n",
    "\n",
    "# Transpile and Compose\n",
    "\n",
    "key_arguments['initial_layout'] = left_initial_layout\n",
    "\n",
    "inverted_left_circuit = left_circuit.inverse()\n",
    "\n",
    "transpiled_inverted_left_circuit = transpile(\n",
    "    inverted_left_circuit,\n",
    "    backend,\n",
    "    **key_arguments\n",
    "    # layout_method=LAYOUT_METHOD,\n",
    "    # routing_method=ROUTING_METHOD,\n",
    "    # seed_transpiler=SEED_TRANSPILER,\n",
    "    # optimization_level=OPTIMIZATION_LEVEL\n",
    ")"
   ]
  },
  {
   "cell_type": "code",
   "execution_count": 28,
   "id": "3d5793f9-935b-4f11-b8f0-7c261225f849",
   "metadata": {},
   "outputs": [
    {
     "data": {
      "text/html": [
       "<pre style=\"word-wrap: normal;white-space: pre;background: #fff0;line-height: 1.1;font-family: &quot;Courier New&quot;,Courier,monospace\">                  ░             ┌───┐                                                                                                                                                                                                                                                                                                                                                                   \n",
       " Litmus_0_3 -> 4 ─░──────■──────┤ X ├─────■─────────────────────────────────────────────────────────────────────────────────────────────────────────────────────────────────────────────────────────────────────────────────────────────────────────────────────────────────────────────────────────────────────────────────────────────────────────────────────────────────────────────────────────────\n",
       "                  ░    ┌─┴─┐    └─┬─┘   ┌─┴─┐        ┌───┐                                                                                                                                                                                                                                                                                                                                              \n",
       "  ancilla_6 -> 7 ──────┤ X ├──────■─────┤ X ├─────■──┤ X ├──■───────────────────────────────────────────────────────────────────────────────────────────────────────────────────────────────────────────────────────────────────────────────────────────────────────────────────────────────────────────────────────────────────────────────────────────────────────────────────────────────────────────\n",
       "                       └───┘            └───┘   ┌─┴─┐└─┬─┘┌─┴─┐     ┌───┐                                                                                                                                                                                                                                                                                                                               \n",
       " ancilla_9 -> 10 ───────────────────────────────┤ X ├──■──┤ X ├──■──┤ X ├──■────────────────────────────────────────────────────────────────────────────────────────────────────────────────────────────────────────────────────────────────────────────────────────────────────────────────────────────────────────────────────────────────────────────────────────────────────────────────────────────\n",
       "                                                └───┘     └───┘┌─┴─┐└─┬─┘┌─┴─┐     ┌───┐                                                                                                                                                                                           ┌───┐                                                                                                                \n",
       "ancilla_11 -> 12 ──────────────────────────────────────────────┤ X ├──■──┤ X ├──■──┤ X ├──■───────────────────────────────────────────────────────────────────────────────────────────────────────────────────────────────────────────────────■─────────────────────────────────■──┤ X ├──■─────────────────────────────────────────────────────────────────────────────────────────────────────────────\n",
       "                  ░             ┌───┐                          └───┘     └───┘┌─┴─┐└─┬─┘┌─┴─┐                                                                                                                                               ┌─┴─┐        ┌───────────────────┐┌─┴─┐└─┬─┘┌─┴─┐     ┌───┐                                                                                                 \n",
       "Litmus_0_0 -> 13 ─░──────■──────┤ X ├─────■───────────────────────────────────┤ X ├──■──┤ X ├────────────────────────────────────────────────────────────────────────────────────────────────────────────────────────────────────■──────────┤ X ├────────┤ Rz(-1.0*Litmus_3) ├┤ X ├──■──┤ X ├──■──┤ X ├──■──────────────────────────────────────────────────────────────────────────────────────────────\n",
       "                  ░    ┌─┴─┐    └─┬─┘   ┌─┴─┐        ┌───┐                    └───┘     └───┘                                                                                                                   ┌───┐     ┌───┐┌─┴─┐┌───────┴───┴───────┐└───────────────────┘└───┘     └───┘┌─┴─┐└─┬─┘┌─┴─┐     ┌───┐                                                                                  \n",
       "Litmus_0_2 -> 14 ─░────┤ X ├──────■─────┤ X ├─────■──┤ X ├──■───────────────────────────────────────────────────────────────────────────────────────────────────────────────────────────────────────────────────┤ X ├──■──┤ X ├┤ X ├┤ Rz(-1.0*Litmus_4) ├────────────────────────────────────┤ X ├──■──┤ X ├──■──┤ X ├──■───────────────────────────────────────────────────────────────────────────────\n",
       "                  ░    └───┘            └───┘   ┌─┴─┐└─┬─┘┌─┴─┐     ┌───┐                                                                                                                        ┌───┐     ┌───┐└─┬─┘┌─┴─┐└─┬─┘└───┘└───────────────────┘                                    └───┘     └───┘┌─┴─┐└─┬─┘┌─┴─┐     ┌───┐                                                                   \n",
       "ancilla_13 -> 16 ───────────────────────────────┤ X ├──■──┤ X ├──■──┤ X ├──■─────────────────────────────────────────────────────────────────────────────────────────────────────────────────────┤ X ├──■──┤ X ├──■──┤ X ├──■───────────────────────────────────────────────────────────────────────────────┤ X ├──■──┤ X ├──■──┤ X ├──■────────────────────────────────────────────────────────────────\n",
       "                                                └───┘     └───┘┌─┴─┐└─┬─┘┌─┴─┐     ┌───┐                                                                                          ┌───┐     ┌───┐└─┬─┘┌─┴─┐└─┬─┘     └───┘                                                                                  └───┘     └───┘┌─┴─┐└─┬─┘┌─┴─┐     ┌───┐                                                    \n",
       "ancilla_16 -> 19 ──────────────────────────────────────────────┤ X ├──■──┤ X ├──■──┤ X ├──■───────────────────────────────────────────────────────────────────────────────────────┤ X ├──■──┤ X ├──■──┤ X ├──■─────────────────────────────────────────────────────────────────────────────────────────────────────────────┤ X ├──■──┤ X ├──■──┤ X ├──■─────────────────────────────────────────────────\n",
       "                                                               └───┘     └───┘┌─┴─┐└─┬─┘┌─┴─┐     ┌───┐                                                         ┌───┐        ┌───┐└─┬─┘┌─┴─┐└─┬─┘     └───┘                                                                                                                └───┘     └───┘┌─┴─┐└─┬─┘┌─┴─┐┌───┐┌───────────────────┐                     \n",
       "ancilla_19 -> 22 ─────────────────────────────────────────────────────────────┤ X ├──■──┤ X ├──■──┤ X ├──■──────────────────────────────────────────────────────┤ X ├─────■──┤ X ├──■──┤ X ├──■───────────────────────────────────────────────────────────────────────────────────────────────────────────────────────────────────────────┤ X ├──■──┤ X ├┤ X ├┤ Rz(-1.0*Litmus_2) ├─────────────────────\n",
       "                  ░                                                           └───┘     └───┘┌─┴─┐└─┬─┘┌─┴─┐     ┌──────────┐┌────┐        ┌────┐   ┌────────┐  └─┬─┘   ┌─┴─┐└─┬─┘     └───┘                                                                                                                                              └───┘     └───┘└─┬─┘└───────┬───┬───────┘┌───────────────────┐\n",
       "Litmus_0_1 -> 25 ─░──────────────────────────────────────────────────────────────────────────┤ X ├──■──┤ X ├──■──┤ Rz(-π/2) ├┤ √X ├──■─────┤ √X ├───┤ Rz(-π) ├────■─────┤ X ├──■───────────────────────────────────────────────────────────────────────────────────────────────────────────────────────────────────────────────────────────────────────────■──────────┤ X ├────────┤ Rz(-1.0*Litmus_1) ├\n",
       "                  ░ ┌──────────┐┌────┐┌────────┐                                             └───┘     └───┘┌─┴─┐├─────────┬┘└────┘┌─┴─┐┌──┴────┴──┐└─┬────┬─┘┌────────┐└───┘                                                                                                                                                                                         └─┬─┘        ├───────────────────┤\n",
       "Litmus_0_4 -> 26 ─░─┤ Rz(-π/2) ├┤ √X ├┤ Rz(-π) ├────────────────────────────────────────────────────────────┤ X ├┤ Rz(π/2) ├───────┤ X ├┤ Rz(-π/2) ├──┤ √X ├──┤ Rz(-π) ├────────────────────────────────────────────────────────────────────────────────────────────────────────────────────────────────────────────────────────────────────────────────────────────────■──────────┤ Rz(-1.0*Litmus_0) ├\n",
       "                  ░ └──────────┘└────┘└────────┘                                                            └───┘└─────────┘       └───┘└──────────┘  └────┘  └────────┘                                                                                                                                                                                                           └───────────────────┘</pre>"
      ],
      "text/plain": [
       "                  ░             ┌───┐                                                                                                                                                                                                                                                                                                                                                                   \n",
       " Litmus_0_3 -> 4 ─░──────■──────┤ X ├─────■─────────────────────────────────────────────────────────────────────────────────────────────────────────────────────────────────────────────────────────────────────────────────────────────────────────────────────────────────────────────────────────────────────────────────────────────────────────────────────────────────────────────────────────────\n",
       "                  ░    ┌─┴─┐    └─┬─┘   ┌─┴─┐        ┌───┐                                                                                                                                                                                                                                                                                                                                              \n",
       "  ancilla_6 -> 7 ──────┤ X ├──────■─────┤ X ├─────■──┤ X ├──■───────────────────────────────────────────────────────────────────────────────────────────────────────────────────────────────────────────────────────────────────────────────────────────────────────────────────────────────────────────────────────────────────────────────────────────────────────────────────────────────────────────\n",
       "                       └───┘            └───┘   ┌─┴─┐└─┬─┘┌─┴─┐     ┌───┐                                                                                                                                                                                                                                                                                                                               \n",
       " ancilla_9 -> 10 ───────────────────────────────┤ X ├──■──┤ X ├──■──┤ X ├──■────────────────────────────────────────────────────────────────────────────────────────────────────────────────────────────────────────────────────────────────────────────────────────────────────────────────────────────────────────────────────────────────────────────────────────────────────────────────────────────\n",
       "                                                └───┘     └───┘┌─┴─┐└─┬─┘┌─┴─┐     ┌───┐                                                                                                                                                                                           ┌───┐                                                                                                                \n",
       "ancilla_11 -> 12 ──────────────────────────────────────────────┤ X ├──■──┤ X ├──■──┤ X ├──■───────────────────────────────────────────────────────────────────────────────────────────────────────────────────────────────────────────────────■─────────────────────────────────■──┤ X ├──■─────────────────────────────────────────────────────────────────────────────────────────────────────────────\n",
       "                  ░             ┌───┐                          └───┘     └───┘┌─┴─┐└─┬─┘┌─┴─┐                                                                                                                                               ┌─┴─┐        ┌───────────────────┐┌─┴─┐└─┬─┘┌─┴─┐     ┌───┐                                                                                                 \n",
       "Litmus_0_0 -> 13 ─░──────■──────┤ X ├─────■───────────────────────────────────┤ X ├──■──┤ X ├────────────────────────────────────────────────────────────────────────────────────────────────────────────────────────────────────■──────────┤ X ├────────┤ Rz(-1.0*Litmus_3) ├┤ X ├──■──┤ X ├──■──┤ X ├──■──────────────────────────────────────────────────────────────────────────────────────────────\n",
       "                  ░    ┌─┴─┐    └─┬─┘   ┌─┴─┐        ┌───┐                    └───┘     └───┘                                                                                                                   ┌───┐     ┌───┐┌─┴─┐┌───────┴───┴───────┐└───────────────────┘└───┘     └───┘┌─┴─┐└─┬─┘┌─┴─┐     ┌───┐                                                                                  \n",
       "Litmus_0_2 -> 14 ─░────┤ X ├──────■─────┤ X ├─────■──┤ X ├──■───────────────────────────────────────────────────────────────────────────────────────────────────────────────────────────────────────────────────┤ X ├──■──┤ X ├┤ X ├┤ Rz(-1.0*Litmus_4) ├────────────────────────────────────┤ X ├──■──┤ X ├──■──┤ X ├──■───────────────────────────────────────────────────────────────────────────────\n",
       "                  ░    └───┘            └───┘   ┌─┴─┐└─┬─┘┌─┴─┐     ┌───┐                                                                                                                        ┌───┐     ┌───┐└─┬─┘┌─┴─┐└─┬─┘└───┘└───────────────────┘                                    └───┘     └───┘┌─┴─┐└─┬─┘┌─┴─┐     ┌───┐                                                                   \n",
       "ancilla_13 -> 16 ───────────────────────────────┤ X ├──■──┤ X ├──■──┤ X ├──■─────────────────────────────────────────────────────────────────────────────────────────────────────────────────────┤ X ├──■──┤ X ├──■──┤ X ├──■───────────────────────────────────────────────────────────────────────────────┤ X ├──■──┤ X ├──■──┤ X ├──■────────────────────────────────────────────────────────────────\n",
       "                                                └───┘     └───┘┌─┴─┐└─┬─┘┌─┴─┐     ┌───┐                                                                                          ┌───┐     ┌───┐└─┬─┘┌─┴─┐└─┬─┘     └───┘                                                                                  └───┘     └───┘┌─┴─┐└─┬─┘┌─┴─┐     ┌───┐                                                    \n",
       "ancilla_16 -> 19 ──────────────────────────────────────────────┤ X ├──■──┤ X ├──■──┤ X ├──■───────────────────────────────────────────────────────────────────────────────────────┤ X ├──■──┤ X ├──■──┤ X ├──■─────────────────────────────────────────────────────────────────────────────────────────────────────────────┤ X ├──■──┤ X ├──■──┤ X ├──■─────────────────────────────────────────────────\n",
       "                                                               └───┘     └───┘┌─┴─┐└─┬─┘┌─┴─┐     ┌───┐                                                         ┌───┐        ┌───┐└─┬─┘┌─┴─┐└─┬─┘     └───┘                                                                                                                └───┘     └───┘┌─┴─┐└─┬─┘┌─┴─┐┌───┐┌───────────────────┐                     \n",
       "ancilla_19 -> 22 ─────────────────────────────────────────────────────────────┤ X ├──■──┤ X ├──■──┤ X ├──■──────────────────────────────────────────────────────┤ X ├─────■──┤ X ├──■──┤ X ├──■───────────────────────────────────────────────────────────────────────────────────────────────────────────────────────────────────────────┤ X ├──■──┤ X ├┤ X ├┤ Rz(-1.0*Litmus_2) ├─────────────────────\n",
       "                  ░                                                           └───┘     └───┘┌─┴─┐└─┬─┘┌─┴─┐     ┌──────────┐┌────┐        ┌────┐   ┌────────┐  └─┬─┘   ┌─┴─┐└─┬─┘     └───┘                                                                                                                                              └───┘     └───┘└─┬─┘└───────┬───┬───────┘┌───────────────────┐\n",
       "Litmus_0_1 -> 25 ─░──────────────────────────────────────────────────────────────────────────┤ X ├──■──┤ X ├──■──┤ Rz(-π/2) ├┤ √X ├──■─────┤ √X ├───┤ Rz(-π) ├────■─────┤ X ├──■───────────────────────────────────────────────────────────────────────────────────────────────────────────────────────────────────────────────────────────────────────────■──────────┤ X ├────────┤ Rz(-1.0*Litmus_1) ├\n",
       "                  ░ ┌──────────┐┌────┐┌────────┐                                             └───┘     └───┘┌─┴─┐├─────────┬┘└────┘┌─┴─┐┌──┴────┴──┐└─┬────┬─┘┌────────┐└───┘                                                                                                                                                                                         └─┬─┘        ├───────────────────┤\n",
       "Litmus_0_4 -> 26 ─░─┤ Rz(-π/2) ├┤ √X ├┤ Rz(-π) ├────────────────────────────────────────────────────────────┤ X ├┤ Rz(π/2) ├───────┤ X ├┤ Rz(-π/2) ├──┤ √X ├──┤ Rz(-π) ├────────────────────────────────────────────────────────────────────────────────────────────────────────────────────────────────────────────────────────────────────────────────────────────────■──────────┤ Rz(-1.0*Litmus_0) ├\n",
       "                  ░ └──────────┘└────┘└────────┘                                                            └───┘└─────────┘       └───┘└──────────┘  └────┘  └────────┘                                                                                                                                                                                                           └───────────────────┘"
      ]
     },
     "execution_count": 28,
     "metadata": {},
     "output_type": "execute_result"
    }
   ],
   "source": [
    "transpiled_inverted_left_circuit.draw(fold=-1, idle_wires=False)"
   ]
  },
  {
   "cell_type": "code",
   "execution_count": 20,
   "id": "3448cc4f-e363-4a46-b979-293dbfb3b4c1",
   "metadata": {},
   "outputs": [],
   "source": [
    "# # Assign Parameters\n",
    "\n",
    "# for index, parameter in enumerate(transpiled_left_circuit.parameters):\n",
    "\n",
    "#     transpiled_left_circuit.assign_parameters({parameter: index}, inplace=True)\n",
    "\n",
    "# # Run\n",
    "\n",
    "# job = backend.run(transpiled_left_circuit, shots=SHOTS_COUNT)\n",
    "\n",
    "# counts = job.result().get_counts()\n",
    "\n",
    "# counts"
   ]
  },
  {
   "cell_type": "code",
   "execution_count": null,
   "id": "9c1a6d14-34ed-48c9-a226-644e69827809",
   "metadata": {},
   "outputs": [],
   "source": []
  },
  {
   "cell_type": "code",
   "execution_count": null,
   "id": "57a85672-2cca-46cf-b8ea-88a004add43b",
   "metadata": {},
   "outputs": [],
   "source": []
  }
 ],
 "metadata": {
  "kernelspec": {
   "display_name": "Rivet_Release",
   "language": "python",
   "name": "rivet_release"
  },
  "language_info": {
   "codemirror_mode": {
    "name": "ipython",
    "version": 3
   },
   "file_extension": ".py",
   "mimetype": "text/x-python",
   "name": "python",
   "nbconvert_exporter": "python",
   "pygments_lexer": "ipython3",
   "version": "3.10.13"
  }
 },
 "nbformat": 4,
 "nbformat_minor": 5
}
