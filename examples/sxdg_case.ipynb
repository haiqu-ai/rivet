{
 "cells": [
  {
   "cell_type": "markdown",
   "id": "58e5e0ba-35e8-43e4-b18d-f2c407ec6537",
   "metadata": {},
   "source": [
    "### SXDG Case"
   ]
  },
  {
   "cell_type": "code",
   "execution_count": 1,
   "id": "fd1132b6-9ceb-4317-9a7d-10b6698f7c8b",
   "metadata": {},
   "outputs": [],
   "source": [
    "import qiskit\n",
    "\n",
    "from qiskit_aer import AerSimulator\n",
    "\n",
    "from rivet_transpiler import get_sinusoids\n",
    "from rivet_transpiler import get_litmus_circuit\n",
    "\n",
    "from qiskit_ibm_runtime.fake_provider import fake_backend\n",
    "from qiskit_ibm_runtime.fake_provider import FakeMontrealV2"
   ]
  },
  {
   "cell_type": "code",
   "execution_count": 2,
   "id": "ac44dbb3-6643-410e-8739-95cc79608eea",
   "metadata": {},
   "outputs": [
    {
     "name": "stdout",
     "output_type": "stream",
     "text": [
      "/mnt/c/Users/mohor/Jupyter/haiqu\n"
     ]
    }
   ],
   "source": [
    "cd .."
   ]
  },
  {
   "cell_type": "code",
   "execution_count": 3,
   "id": "66f93826-67ed-494b-a7b5-c4d668e967f4",
   "metadata": {},
   "outputs": [],
   "source": [
    "from tests.integration import get_circuits_to_compare\n",
    "from tests.integration import run_circuits_to_compare\n",
    "from tests.integration import plot_results_to_compare\n",
    "from tests.integration import check_delta"
   ]
  },
  {
   "cell_type": "code",
   "execution_count": 4,
   "id": "1a5f4ab7-1a30-4118-a4f1-c351ecdb3fe9",
   "metadata": {},
   "outputs": [],
   "source": [
    "# Parameters\n",
    "\n",
    "AE_QFT_QUBIT_COUNT = 5\n",
    "\n",
    "OPTIMIZATION_LEVEL = 3\n",
    "\n",
    "SHOTS_COUNT = 1000\n",
    "SEED_TRANSPILER = 1234\n",
    "\n",
    "LAYOUT_METHOD = None\n",
    "ROUTING_METHOD = None"
   ]
  },
  {
   "cell_type": "code",
   "execution_count": 5,
   "id": "25b7fd31-2a43-4d9e-ba54-a9fbdc973b77",
   "metadata": {},
   "outputs": [],
   "source": [
    "def test_transpilation_types_litmus(litmus_circuit, backend):\n",
    "\n",
    "    QUBITS_COUNT = litmus_circuit.num_qubits\n",
    "\n",
    "    qubits = list(range(QUBITS_COUNT))\n",
    "\n",
    "    # Initial State Part\n",
    "\n",
    "    initial_state_circuit = qiskit.QuantumCircuit(QUBITS_COUNT)\n",
    "\n",
    "    initial_state_circuit.x(0)\n",
    "    initial_state_circuit.barrier()\n",
    "\n",
    "    # Measurement Part\n",
    "\n",
    "    measurement_circuit = qiskit.QuantumCircuit(QUBITS_COUNT, QUBITS_COUNT)\n",
    "    measurement_circuit.measure(qubits, qubits)\n",
    "\n",
    "    # Circuit Parts\n",
    "\n",
    "    CIRCUIT_PARTS = [\n",
    "        initial_state_circuit,\n",
    "        litmus_circuit,\n",
    "        litmus_circuit,\n",
    "        measurement_circuit\n",
    "    ]\n",
    "\n",
    "    # Compare Transpilation Types\n",
    "\n",
    "    circuits_to_compare = get_circuits_to_compare(\n",
    "        circuit_parts=CIRCUIT_PARTS,\n",
    "        backend=backend,\n",
    "        layout_method=LAYOUT_METHOD,\n",
    "        routing_method=ROUTING_METHOD,\n",
    "        seed_transpiler=SEED_TRANSPILER,\n",
    "        optimization_level=OPTIMIZATION_LEVEL\n",
    "    )\n",
    "\n",
    "    results = run_circuits_to_compare(\n",
    "        circuits_to_compare=circuits_to_compare,\n",
    "        backend=backend,\n",
    "        shots_count=SHOTS_COUNT\n",
    "    )\n",
    "\n",
    "    plot_results_to_compare(results)\n",
    "\n",
    "    assert check_delta(results, 0.2), (\"Delta Check shows that \"\n",
    "                                       \"counts between transpilation types \"\n",
    "                                       \"differ by more then 20%\")"
   ]
  },
  {
   "cell_type": "code",
   "execution_count": 6,
   "id": "b269c7cd-d072-4d93-8c70-83aa472d90ae",
   "metadata": {},
   "outputs": [
    {
     "data": {
      "text/html": [
       "<pre style=\"word-wrap: normal;white-space: pre;background: #fff0;line-height: 1.1;font-family: &quot;Courier New&quot;,Courier,monospace\">            ┌──────────────┐                    ┌───┐ Litmus \n",
       "Litmus_0_0: ┤ Rz(Litmus_0) ├──■─────────────────┤ X ├───░────\n",
       "            ├──────────────┤┌─┴─┐               └─┬─┘   ░    \n",
       "Litmus_0_1: ┤ Rz(Litmus_1) ├┤ X ├──■──────────────┼─────░────\n",
       "            ├──────────────┤└───┘┌─┴─┐            │     ░    \n",
       "Litmus_0_2: ┤ Rz(Litmus_2) ├─────┤ X ├──■─────────┼─────░────\n",
       "            ├──────────────┤     └───┘┌─┴─┐       │     ░    \n",
       "Litmus_0_3: ┤ Rz(Litmus_3) ├──────────┤ X ├──■────┼─────░────\n",
       "            ├──────────────┤          └───┘┌─┴─┐  │     ░    \n",
       "Litmus_0_4: ┤ Rz(Litmus_4) ├───────────────┤ X ├──■─────░────\n",
       "            └──────────────┘               └───┘        ░    </pre>"
      ],
      "text/plain": [
       "            ┌──────────────┐                    ┌───┐ Litmus \n",
       "Litmus_0_0: ┤ Rz(Litmus_0) ├──■─────────────────┤ X ├───░────\n",
       "            ├──────────────┤┌─┴─┐               └─┬─┘   ░    \n",
       "Litmus_0_1: ┤ Rz(Litmus_1) ├┤ X ├──■──────────────┼─────░────\n",
       "            ├──────────────┤└───┘┌─┴─┐            │     ░    \n",
       "Litmus_0_2: ┤ Rz(Litmus_2) ├─────┤ X ├──■─────────┼─────░────\n",
       "            ├──────────────┤     └───┘┌─┴─┐       │     ░    \n",
       "Litmus_0_3: ┤ Rz(Litmus_3) ├──────────┤ X ├──■────┼─────░────\n",
       "            ├──────────────┤          └───┘┌─┴─┐  │     ░    \n",
       "Litmus_0_4: ┤ Rz(Litmus_4) ├───────────────┤ X ├──■─────░────\n",
       "            └──────────────┘               └───┘        ░    "
      ]
     },
     "execution_count": 6,
     "metadata": {},
     "output_type": "execute_result"
    }
   ],
   "source": [
    "litmus_circuit = get_litmus_circuit(5, \"Litmus\")\n",
    "\n",
    "litmus_circuit.draw()"
   ]
  },
  {
   "cell_type": "code",
   "execution_count": 7,
   "id": "0febf920-0380-4460-bef1-501c641f6384",
   "metadata": {},
   "outputs": [
    {
     "data": {
      "text/plain": [
       "AerSimulator('aer_simulator_from(fake_montreal)'\n",
       "             noise_model=<NoiseModel on ['reset', 'x', 'cx', 'sx', 'id', 'measure']>)"
      ]
     },
     "execution_count": 7,
     "metadata": {},
     "output_type": "execute_result"
    }
   ],
   "source": [
    "# backend = None\n",
    "# backend = FakeMontrealV2()\n",
    "\n",
    "backend = AerSimulator.from_backend(FakeMontrealV2())\n",
    "\n",
    "backend"
   ]
  },
  {
   "cell_type": "code",
   "execution_count": 8,
   "id": "5ae830df-952e-4207-aed5-8cc88087b080",
   "metadata": {},
   "outputs": [],
   "source": [
    "backend.options.noise_model = None"
   ]
  },
  {
   "cell_type": "code",
   "execution_count": 10,
   "id": "104ac68f-a41d-4348-8ab4-75fcb226af4f",
   "metadata": {},
   "outputs": [],
   "source": [
    "# test_transpilation_types_litmus(\n",
    "#     litmus_circuit,\n",
    "#     backend)"
   ]
  },
  {
   "cell_type": "markdown",
   "id": "6bc6ff55-f7cb-4289-b74a-9678707be77e",
   "metadata": {},
   "source": [
    "### Disassemble"
   ]
  },
  {
   "cell_type": "code",
   "execution_count": 26,
   "id": "ae8eb7ce-86e4-43ea-b16b-2c13612eca75",
   "metadata": {},
   "outputs": [],
   "source": [
    "QUBITS_COUNT = litmus_circuit.num_qubits\n",
    "\n",
    "qubits = list(range(QUBITS_COUNT))\n",
    "\n",
    "# Initial State Part\n",
    "\n",
    "initial_state_circuit = qiskit.QuantumCircuit(QUBITS_COUNT)\n",
    "\n",
    "initial_state_circuit.x(0)\n",
    "initial_state_circuit.barrier()\n",
    "\n",
    "# Measurement Part\n",
    "\n",
    "measurement_circuit = qiskit.QuantumCircuit(QUBITS_COUNT, QUBITS_COUNT)\n",
    "measurement_circuit.measure(qubits, qubits)\n",
    "\n",
    "# Circuit Parts\n",
    "\n",
    "CIRCUIT_PARTS = [\n",
    "    initial_state_circuit,\n",
    "    litmus_circuit,\n",
    "    litmus_circuit,\n",
    "    measurement_circuit\n",
    "]\n",
    "\n",
    "# Compare Transpilation Types\n",
    "\n",
    "circuits_to_compare = get_circuits_to_compare(\n",
    "    circuit_parts=CIRCUIT_PARTS,\n",
    "    backend=backend,\n",
    "    layout_method=LAYOUT_METHOD,\n",
    "    routing_method=ROUTING_METHOD,\n",
    "    seed_transpiler=SEED_TRANSPILER,\n",
    "    optimization_level=OPTIMIZATION_LEVEL\n",
    ")\n",
    "\n",
    "# results = run_circuits_to_compare(\n",
    "#     circuits_to_compare=circuits_to_compare,\n",
    "#     backend=backend,\n",
    "#     shots_count=SHOTS_COUNT\n",
    "# )"
   ]
  },
  {
   "cell_type": "code",
   "execution_count": 27,
   "id": "f9724742-edeb-4d04-963a-cc470d8f8234",
   "metadata": {},
   "outputs": [
    {
     "data": {
      "text/plain": [
       "{'Combined': <qiskit.circuit.quantumcircuit.QuantumCircuit at 0x7ff9f967e6e0>,\n",
       " 'Blocks': <qiskit.circuit.quantumcircuit.QuantumCircuit at 0x7ff9f98c73a0>,\n",
       " 'Chain': <qiskit.circuit.quantumcircuit.QuantumCircuit at 0x7ff9f96da290>,\n",
       " 'Right': <qiskit.circuit.quantumcircuit.QuantumCircuit at 0x7ff9f9a12e90>,\n",
       " 'Left': <qiskit.circuit.quantumcircuit.QuantumCircuit at 0x7ff9f9b71630>}"
      ]
     },
     "execution_count": 27,
     "metadata": {},
     "output_type": "execute_result"
    }
   ],
   "source": [
    "circuits_to_compare"
   ]
  },
  {
   "cell_type": "code",
   "execution_count": 28,
   "id": "fe1b00bc-2d03-4ad0-8989-2d2287d30b40",
   "metadata": {},
   "outputs": [
    {
     "data": {
      "text/plain": [
       "{'Combined': <qiskit.circuit.quantumcircuit.QuantumCircuit at 0x7ff9f967e6e0>,\n",
       " 'Blocks': <qiskit.circuit.quantumcircuit.QuantumCircuit at 0x7ff9f98c73a0>,\n",
       " 'Chain': <qiskit.circuit.quantumcircuit.QuantumCircuit at 0x7ff9f96da290>,\n",
       " 'Right': <qiskit.circuit.quantumcircuit.QuantumCircuit at 0x7ff9f9a12e90>}"
      ]
     },
     "execution_count": 28,
     "metadata": {},
     "output_type": "execute_result"
    }
   ],
   "source": [
    "# circuits_to_compare = {'Left': circuits_to_compare['Left']}\n",
    "# circuits_to_compare = {'Combined': circuits_to_compare['Combined']}\n",
    "\n",
    "circuits_to_compare.pop('Left')\n",
    "\n",
    "circuits_to_compare"
   ]
  },
  {
   "cell_type": "code",
   "execution_count": 29,
   "id": "3448cc4f-e363-4a46-b979-293dbfb3b4c1",
   "metadata": {},
   "outputs": [
    {
     "name": "stdout",
     "output_type": "stream",
     "text": [
      "circuit_name: Combined\n",
      "circuit_name: Blocks\n",
      "circuit_name: Chain\n",
      "circuit_name: Right\n"
     ]
    },
    {
     "data": {
      "text/plain": [
       "{'Combined': {'01010': 1000},\n",
       " 'Blocks': {'01010': 1000},\n",
       " 'Chain': {'01010': 1000},\n",
       " 'Right': {'01010': 1000}}"
      ]
     },
     "execution_count": 29,
     "metadata": {},
     "output_type": "execute_result"
    }
   ],
   "source": [
    "results = {}\n",
    "\n",
    "for circuit_name, circuit in circuits_to_compare.items():\n",
    "    \n",
    "    print(\"circuit_name:\", circuit_name)\n",
    "\n",
    "    # Assign Parameters\n",
    "\n",
    "    for index, parameter in enumerate(circuit.parameters):\n",
    "\n",
    "        circuit.assign_parameters({parameter: index}, inplace=True)\n",
    "\n",
    "    # Backend\n",
    "\n",
    "    if backend is None:\n",
    "        run_backend = AerSimulator()\n",
    "        run_circuit = transpile(circuit, run_backend)\n",
    "    else:\n",
    "        run_backend = backend\n",
    "        run_circuit = circuit\n",
    "\n",
    "    # Run\n",
    "\n",
    "    job = run_backend.run(run_circuit, shots=SHOTS_COUNT)\n",
    "\n",
    "    counts = job.result().get_counts()\n",
    "\n",
    "    results[circuit_name] = counts\n",
    "\n",
    "results"
   ]
  },
  {
   "cell_type": "code",
   "execution_count": null,
   "id": "9c1a6d14-34ed-48c9-a226-644e69827809",
   "metadata": {},
   "outputs": [],
   "source": []
  }
 ],
 "metadata": {
  "kernelspec": {
   "display_name": "Rivet_Release",
   "language": "python",
   "name": "rivet_release"
  },
  "language_info": {
   "codemirror_mode": {
    "name": "ipython",
    "version": 3
   },
   "file_extension": ".py",
   "mimetype": "text/x-python",
   "name": "python",
   "nbconvert_exporter": "python",
   "pygments_lexer": "ipython3",
   "version": "3.10.13"
  }
 },
 "nbformat": 4,
 "nbformat_minor": 5
}
