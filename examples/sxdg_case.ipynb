{
 "cells": [
  {
   "cell_type": "markdown",
   "id": "58e5e0ba-35e8-43e4-b18d-f2c407ec6537",
   "metadata": {},
   "source": [
    "### SXDG Case"
   ]
  },
  {
   "cell_type": "code",
   "execution_count": 1,
   "id": "fd1132b6-9ceb-4317-9a7d-10b6698f7c8b",
   "metadata": {},
   "outputs": [],
   "source": [
    "import qiskit\n",
    "\n",
    "from qiskit_aer import AerSimulator\n",
    "\n",
    "from rivet_transpiler import get_sinusoids\n",
    "from rivet_transpiler import get_litmus_circuit\n",
    "\n",
    "from qiskit_ibm_runtime.fake_provider import fake_backend\n",
    "from qiskit_ibm_runtime.fake_provider import FakeMontrealV2"
   ]
  },
  {
   "cell_type": "code",
   "execution_count": 2,
   "id": "ac44dbb3-6643-410e-8739-95cc79608eea",
   "metadata": {},
   "outputs": [
    {
     "name": "stdout",
     "output_type": "stream",
     "text": [
      "/mnt/c/Users/mohor/Jupyter/haiqu\n"
     ]
    }
   ],
   "source": [
    "cd .."
   ]
  },
  {
   "cell_type": "code",
   "execution_count": 3,
   "id": "66f93826-67ed-494b-a7b5-c4d668e967f4",
   "metadata": {},
   "outputs": [],
   "source": [
    "from tests.integration import get_circuits_to_compare\n",
    "from tests.integration import run_circuits_to_compare\n",
    "from tests.integration import plot_results_to_compare\n",
    "from tests.integration import check_delta"
   ]
  },
  {
   "cell_type": "code",
   "execution_count": 4,
   "id": "1a5f4ab7-1a30-4118-a4f1-c351ecdb3fe9",
   "metadata": {},
   "outputs": [],
   "source": [
    "# Parameters\n",
    "\n",
    "AE_QFT_QUBIT_COUNT = 5\n",
    "\n",
    "OPTIMIZATION_LEVEL = 3\n",
    "\n",
    "SHOTS_COUNT = 1000\n",
    "SEED_TRANSPILER = 1234\n",
    "\n",
    "LAYOUT_METHOD = None\n",
    "ROUTING_METHOD = None"
   ]
  },
  {
   "cell_type": "code",
   "execution_count": 5,
   "id": "25b7fd31-2a43-4d9e-ba54-a9fbdc973b77",
   "metadata": {},
   "outputs": [],
   "source": [
    "def test_transpilation_types_litmus(litmus_circuit, backend):\n",
    "\n",
    "    QUBITS_COUNT = litmus_circuit.num_qubits\n",
    "\n",
    "    qubits = list(range(QUBITS_COUNT))\n",
    "\n",
    "    # Initial State Part\n",
    "\n",
    "    initial_state_circuit = qiskit.QuantumCircuit(QUBITS_COUNT)\n",
    "\n",
    "    initial_state_circuit.x(0)\n",
    "    initial_state_circuit.barrier()\n",
    "\n",
    "    # Measurement Part\n",
    "\n",
    "    measurement_circuit = qiskit.QuantumCircuit(QUBITS_COUNT, QUBITS_COUNT)\n",
    "    measurement_circuit.measure(qubits, qubits)\n",
    "\n",
    "    # Circuit Parts\n",
    "\n",
    "    CIRCUIT_PARTS = [\n",
    "        initial_state_circuit,\n",
    "        litmus_circuit,\n",
    "        litmus_circuit,\n",
    "        measurement_circuit\n",
    "    ]\n",
    "\n",
    "    # Compare Transpilation Types\n",
    "\n",
    "    circuits_to_compare = get_circuits_to_compare(\n",
    "        circuit_parts=CIRCUIT_PARTS,\n",
    "        backend=backend,\n",
    "        layout_method=LAYOUT_METHOD,\n",
    "        routing_method=ROUTING_METHOD,\n",
    "        seed_transpiler=SEED_TRANSPILER,\n",
    "        optimization_level=OPTIMIZATION_LEVEL\n",
    "    )\n",
    "\n",
    "    results = run_circuits_to_compare(\n",
    "        circuits_to_compare=circuits_to_compare,\n",
    "        backend=backend,\n",
    "        shots_count=SHOTS_COUNT\n",
    "    )\n",
    "\n",
    "    plot_results_to_compare(results)\n",
    "\n",
    "    assert check_delta(results, 0.2), (\"Delta Check shows that \"\n",
    "                                       \"counts between transpilation types \"\n",
    "                                       \"differ by more then 20%\")"
   ]
  },
  {
   "cell_type": "code",
   "execution_count": 6,
   "id": "b269c7cd-d072-4d93-8c70-83aa472d90ae",
   "metadata": {},
   "outputs": [
    {
     "data": {
      "text/html": [
       "<pre style=\"word-wrap: normal;white-space: pre;background: #fff0;line-height: 1.1;font-family: &quot;Courier New&quot;,Courier,monospace\">            ┌──────────────┐                    ┌───┐ Litmus \n",
       "Litmus_0_0: ┤ Rz(Litmus_0) ├──■─────────────────┤ X ├───░────\n",
       "            ├──────────────┤┌─┴─┐               └─┬─┘   ░    \n",
       "Litmus_0_1: ┤ Rz(Litmus_1) ├┤ X ├──■──────────────┼─────░────\n",
       "            ├──────────────┤└───┘┌─┴─┐            │     ░    \n",
       "Litmus_0_2: ┤ Rz(Litmus_2) ├─────┤ X ├──■─────────┼─────░────\n",
       "            ├──────────────┤     └───┘┌─┴─┐       │     ░    \n",
       "Litmus_0_3: ┤ Rz(Litmus_3) ├──────────┤ X ├──■────┼─────░────\n",
       "            ├──────────────┤          └───┘┌─┴─┐  │     ░    \n",
       "Litmus_0_4: ┤ Rz(Litmus_4) ├───────────────┤ X ├──■─────░────\n",
       "            └──────────────┘               └───┘        ░    </pre>"
      ],
      "text/plain": [
       "            ┌──────────────┐                    ┌───┐ Litmus \n",
       "Litmus_0_0: ┤ Rz(Litmus_0) ├──■─────────────────┤ X ├───░────\n",
       "            ├──────────────┤┌─┴─┐               └─┬─┘   ░    \n",
       "Litmus_0_1: ┤ Rz(Litmus_1) ├┤ X ├──■──────────────┼─────░────\n",
       "            ├──────────────┤└───┘┌─┴─┐            │     ░    \n",
       "Litmus_0_2: ┤ Rz(Litmus_2) ├─────┤ X ├──■─────────┼─────░────\n",
       "            ├──────────────┤     └───┘┌─┴─┐       │     ░    \n",
       "Litmus_0_3: ┤ Rz(Litmus_3) ├──────────┤ X ├──■────┼─────░────\n",
       "            ├──────────────┤          └───┘┌─┴─┐  │     ░    \n",
       "Litmus_0_4: ┤ Rz(Litmus_4) ├───────────────┤ X ├──■─────░────\n",
       "            └──────────────┘               └───┘        ░    "
      ]
     },
     "execution_count": 6,
     "metadata": {},
     "output_type": "execute_result"
    }
   ],
   "source": [
    "litmus_circuit = get_litmus_circuit(5, \"Litmus\")\n",
    "\n",
    "litmus_circuit.draw()"
   ]
  },
  {
   "cell_type": "code",
   "execution_count": 7,
   "id": "0febf920-0380-4460-bef1-501c641f6384",
   "metadata": {},
   "outputs": [
    {
     "data": {
      "text/plain": [
       "AerSimulator('aer_simulator_from(fake_montreal)'\n",
       "             noise_model=<NoiseModel on ['reset', 'x', 'cx', 'sx', 'id', 'measure']>)"
      ]
     },
     "execution_count": 7,
     "metadata": {},
     "output_type": "execute_result"
    }
   ],
   "source": [
    "# backend = None\n",
    "# backend = FakeMontrealV2()\n",
    "\n",
    "backend = AerSimulator.from_backend(FakeMontrealV2())\n",
    "\n",
    "backend"
   ]
  },
  {
   "cell_type": "code",
   "execution_count": 8,
   "id": "5ae830df-952e-4207-aed5-8cc88087b080",
   "metadata": {},
   "outputs": [],
   "source": [
    "backend.options.noise_model = None"
   ]
  },
  {
   "cell_type": "code",
   "execution_count": 10,
   "id": "104ac68f-a41d-4348-8ab4-75fcb226af4f",
   "metadata": {},
   "outputs": [],
   "source": [
    "# test_transpilation_types_litmus(\n",
    "#     litmus_circuit,\n",
    "#     backend)"
   ]
  },
  {
   "cell_type": "markdown",
   "id": "6bc6ff55-f7cb-4289-b74a-9678707be77e",
   "metadata": {},
   "source": [
    "### Disassemble"
   ]
  },
  {
   "cell_type": "code",
   "execution_count": 42,
   "id": "ae8eb7ce-86e4-43ea-b16b-2c13612eca75",
   "metadata": {},
   "outputs": [],
   "source": [
    "QUBITS_COUNT = litmus_circuit.num_qubits\n",
    "\n",
    "qubits = list(range(QUBITS_COUNT))\n",
    "\n",
    "# Initial State Part\n",
    "\n",
    "initial_state_circuit = qiskit.QuantumCircuit(QUBITS_COUNT)\n",
    "\n",
    "initial_state_circuit.x(0)\n",
    "initial_state_circuit.barrier()\n",
    "\n",
    "# Measurement Part\n",
    "\n",
    "measurement_circuit = qiskit.QuantumCircuit(QUBITS_COUNT, QUBITS_COUNT)\n",
    "measurement_circuit.measure(qubits, qubits)\n",
    "\n",
    "# Circuit Parts\n",
    "\n",
    "CIRCUIT_PARTS = [\n",
    "    initial_state_circuit,\n",
    "    litmus_circuit,\n",
    "    litmus_circuit,\n",
    "    measurement_circuit\n",
    "]\n",
    "\n",
    "# Compare Transpilation Types\n",
    "\n",
    "circuits_to_compare = get_circuits_to_compare(\n",
    "    circuit_parts=CIRCUIT_PARTS,\n",
    "    backend=backend,\n",
    "    layout_method=LAYOUT_METHOD,\n",
    "    routing_method=ROUTING_METHOD,\n",
    "    seed_transpiler=SEED_TRANSPILER,\n",
    "    optimization_level=OPTIMIZATION_LEVEL\n",
    ")\n",
    "\n",
    "# results = run_circuits_to_compare(\n",
    "#     circuits_to_compare=circuits_to_compare,\n",
    "#     backend=backend,\n",
    "#     shots_count=SHOTS_COUNT\n",
    "# )"
   ]
  },
  {
   "cell_type": "code",
   "execution_count": 43,
   "id": "f9724742-edeb-4d04-963a-cc470d8f8234",
   "metadata": {},
   "outputs": [
    {
     "data": {
      "text/plain": [
       "{'Combined': <qiskit.circuit.quantumcircuit.QuantumCircuit at 0x7ff9bcbf1450>,\n",
       " 'Blocks': <qiskit.circuit.quantumcircuit.QuantumCircuit at 0x7ff9bcabadd0>,\n",
       " 'Chain': <qiskit.circuit.quantumcircuit.QuantumCircuit at 0x7ff9f9e5ce80>,\n",
       " 'Right': <qiskit.circuit.quantumcircuit.QuantumCircuit at 0x7ff9bc975c90>,\n",
       " 'Left': <qiskit.circuit.quantumcircuit.QuantumCircuit at 0x7ff9bcbf33d0>}"
      ]
     },
     "execution_count": 43,
     "metadata": {},
     "output_type": "execute_result"
    }
   ],
   "source": [
    "circuits_to_compare"
   ]
  },
  {
   "cell_type": "code",
   "execution_count": 44,
   "id": "fe1b00bc-2d03-4ad0-8989-2d2287d30b40",
   "metadata": {},
   "outputs": [],
   "source": [
    "left_circuit = circuits_to_compare['Left']"
   ]
  },
  {
   "cell_type": "code",
   "execution_count": 45,
   "id": "3448cc4f-e363-4a46-b979-293dbfb3b4c1",
   "metadata": {},
   "outputs": [
    {
     "ename": "AerError",
     "evalue": "'unknown instruction: sxdg'",
     "output_type": "error",
     "traceback": [
      "\u001b[0;31m---------------------------------------------------------------------------\u001b[0m",
      "\u001b[0;31mAerError\u001b[0m                                  Traceback (most recent call last)",
      "Cell \u001b[0;32mIn[45], line 20\u001b[0m\n\u001b[1;32m     16\u001b[0m \u001b[38;5;66;03m# Run\u001b[39;00m\n\u001b[1;32m     18\u001b[0m job \u001b[38;5;241m=\u001b[39m run_backend\u001b[38;5;241m.\u001b[39mrun(run_circuit, shots\u001b[38;5;241m=\u001b[39mSHOTS_COUNT)\n\u001b[0;32m---> 20\u001b[0m counts \u001b[38;5;241m=\u001b[39m \u001b[43mjob\u001b[49m\u001b[38;5;241;43m.\u001b[39;49m\u001b[43mresult\u001b[49m\u001b[43m(\u001b[49m\u001b[43m)\u001b[49m\u001b[38;5;241m.\u001b[39mget_counts()\n\u001b[1;32m     22\u001b[0m counts\n",
      "File \u001b[0;32m~/rivet_release/lib/python3.10/site-packages/qiskit_aer/jobs/utils.py:42\u001b[0m, in \u001b[0;36mrequires_submit.<locals>._wrapper\u001b[0;34m(self, *args, **kwargs)\u001b[0m\n\u001b[1;32m     40\u001b[0m \u001b[38;5;28;01mif\u001b[39;00m \u001b[38;5;28mself\u001b[39m\u001b[38;5;241m.\u001b[39m_future \u001b[38;5;129;01mis\u001b[39;00m \u001b[38;5;28;01mNone\u001b[39;00m:\n\u001b[1;32m     41\u001b[0m     \u001b[38;5;28;01mraise\u001b[39;00m JobError(\u001b[38;5;124m\"\u001b[39m\u001b[38;5;124mJob not submitted yet!. You have to .submit() first!\u001b[39m\u001b[38;5;124m\"\u001b[39m)\n\u001b[0;32m---> 42\u001b[0m \u001b[38;5;28;01mreturn\u001b[39;00m \u001b[43mfunc\u001b[49m\u001b[43m(\u001b[49m\u001b[38;5;28;43mself\u001b[39;49m\u001b[43m,\u001b[49m\u001b[43m \u001b[49m\u001b[38;5;241;43m*\u001b[39;49m\u001b[43margs\u001b[49m\u001b[43m,\u001b[49m\u001b[43m \u001b[49m\u001b[38;5;241;43m*\u001b[39;49m\u001b[38;5;241;43m*\u001b[39;49m\u001b[43mkwargs\u001b[49m\u001b[43m)\u001b[49m\n",
      "File \u001b[0;32m~/rivet_release/lib/python3.10/site-packages/qiskit_aer/jobs/aerjob.py:114\u001b[0m, in \u001b[0;36mAerJob.result\u001b[0;34m(self, timeout)\u001b[0m\n\u001b[1;32m     96\u001b[0m \u001b[38;5;129m@requires_submit\u001b[39m\n\u001b[1;32m     97\u001b[0m \u001b[38;5;28;01mdef\u001b[39;00m \u001b[38;5;21mresult\u001b[39m(\u001b[38;5;28mself\u001b[39m, timeout\u001b[38;5;241m=\u001b[39m\u001b[38;5;28;01mNone\u001b[39;00m):\n\u001b[1;32m     98\u001b[0m     \u001b[38;5;66;03m# pylint: disable=arguments-differ\u001b[39;00m\n\u001b[1;32m     99\u001b[0m \u001b[38;5;250m    \u001b[39m\u001b[38;5;124;03m\"\"\"Get job result. The behavior is the same as the underlying\u001b[39;00m\n\u001b[1;32m    100\u001b[0m \u001b[38;5;124;03m    concurrent Future objects,\u001b[39;00m\n\u001b[1;32m    101\u001b[0m \n\u001b[0;32m   (...)\u001b[0m\n\u001b[1;32m    112\u001b[0m \u001b[38;5;124;03m        concurrent.futures.CancelledError: if job cancelled before completed.\u001b[39;00m\n\u001b[1;32m    113\u001b[0m \u001b[38;5;124;03m    \"\"\"\u001b[39;00m\n\u001b[0;32m--> 114\u001b[0m     \u001b[38;5;28;01mreturn\u001b[39;00m \u001b[38;5;28;43mself\u001b[39;49m\u001b[38;5;241;43m.\u001b[39;49m\u001b[43m_future\u001b[49m\u001b[38;5;241;43m.\u001b[39;49m\u001b[43mresult\u001b[49m\u001b[43m(\u001b[49m\u001b[43mtimeout\u001b[49m\u001b[38;5;241;43m=\u001b[39;49m\u001b[43mtimeout\u001b[49m\u001b[43m)\u001b[49m\n",
      "File \u001b[0;32m/usr/lib/python3.10/concurrent/futures/_base.py:458\u001b[0m, in \u001b[0;36mFuture.result\u001b[0;34m(self, timeout)\u001b[0m\n\u001b[1;32m    456\u001b[0m     \u001b[38;5;28;01mraise\u001b[39;00m CancelledError()\n\u001b[1;32m    457\u001b[0m \u001b[38;5;28;01melif\u001b[39;00m \u001b[38;5;28mself\u001b[39m\u001b[38;5;241m.\u001b[39m_state \u001b[38;5;241m==\u001b[39m FINISHED:\n\u001b[0;32m--> 458\u001b[0m     \u001b[38;5;28;01mreturn\u001b[39;00m \u001b[38;5;28;43mself\u001b[39;49m\u001b[38;5;241;43m.\u001b[39;49m\u001b[43m__get_result\u001b[49m\u001b[43m(\u001b[49m\u001b[43m)\u001b[49m\n\u001b[1;32m    459\u001b[0m \u001b[38;5;28;01melse\u001b[39;00m:\n\u001b[1;32m    460\u001b[0m     \u001b[38;5;28;01mraise\u001b[39;00m \u001b[38;5;167;01mTimeoutError\u001b[39;00m()\n",
      "File \u001b[0;32m/usr/lib/python3.10/concurrent/futures/_base.py:403\u001b[0m, in \u001b[0;36mFuture.__get_result\u001b[0;34m(self)\u001b[0m\n\u001b[1;32m    401\u001b[0m \u001b[38;5;28;01mif\u001b[39;00m \u001b[38;5;28mself\u001b[39m\u001b[38;5;241m.\u001b[39m_exception:\n\u001b[1;32m    402\u001b[0m     \u001b[38;5;28;01mtry\u001b[39;00m:\n\u001b[0;32m--> 403\u001b[0m         \u001b[38;5;28;01mraise\u001b[39;00m \u001b[38;5;28mself\u001b[39m\u001b[38;5;241m.\u001b[39m_exception\n\u001b[1;32m    404\u001b[0m     \u001b[38;5;28;01mfinally\u001b[39;00m:\n\u001b[1;32m    405\u001b[0m         \u001b[38;5;66;03m# Break a reference cycle with the exception in self._exception\u001b[39;00m\n\u001b[1;32m    406\u001b[0m         \u001b[38;5;28mself\u001b[39m \u001b[38;5;241m=\u001b[39m \u001b[38;5;28;01mNone\u001b[39;00m\n",
      "File \u001b[0;32m/usr/lib/python3.10/concurrent/futures/thread.py:58\u001b[0m, in \u001b[0;36m_WorkItem.run\u001b[0;34m(self)\u001b[0m\n\u001b[1;32m     55\u001b[0m     \u001b[38;5;28;01mreturn\u001b[39;00m\n\u001b[1;32m     57\u001b[0m \u001b[38;5;28;01mtry\u001b[39;00m:\n\u001b[0;32m---> 58\u001b[0m     result \u001b[38;5;241m=\u001b[39m \u001b[38;5;28;43mself\u001b[39;49m\u001b[38;5;241;43m.\u001b[39;49m\u001b[43mfn\u001b[49m\u001b[43m(\u001b[49m\u001b[38;5;241;43m*\u001b[39;49m\u001b[38;5;28;43mself\u001b[39;49m\u001b[38;5;241;43m.\u001b[39;49m\u001b[43margs\u001b[49m\u001b[43m,\u001b[49m\u001b[43m \u001b[49m\u001b[38;5;241;43m*\u001b[39;49m\u001b[38;5;241;43m*\u001b[39;49m\u001b[38;5;28;43mself\u001b[39;49m\u001b[38;5;241;43m.\u001b[39;49m\u001b[43mkwargs\u001b[49m\u001b[43m)\u001b[49m\n\u001b[1;32m     59\u001b[0m \u001b[38;5;28;01mexcept\u001b[39;00m \u001b[38;5;167;01mBaseException\u001b[39;00m \u001b[38;5;28;01mas\u001b[39;00m exc:\n\u001b[1;32m     60\u001b[0m     \u001b[38;5;28mself\u001b[39m\u001b[38;5;241m.\u001b[39mfuture\u001b[38;5;241m.\u001b[39mset_exception(exc)\n",
      "File \u001b[0;32m~/rivet_release/lib/python3.10/site-packages/qiskit_aer/backends/aerbackend.py:454\u001b[0m, in \u001b[0;36mAerBackend._execute_circuits_job\u001b[0;34m(self, circuits, parameter_binds, run_options, job_id, format_result)\u001b[0m\n\u001b[1;32m    451\u001b[0m circuits, noise_model \u001b[38;5;241m=\u001b[39m \u001b[38;5;28mself\u001b[39m\u001b[38;5;241m.\u001b[39m_compile(circuits, \u001b[38;5;241m*\u001b[39m\u001b[38;5;241m*\u001b[39mrun_options)\n\u001b[1;32m    453\u001b[0m \u001b[38;5;28;01mif\u001b[39;00m \u001b[38;5;28mself\u001b[39m\u001b[38;5;241m.\u001b[39m_target \u001b[38;5;129;01mis\u001b[39;00m \u001b[38;5;129;01mnot\u001b[39;00m \u001b[38;5;28;01mNone\u001b[39;00m:\n\u001b[0;32m--> 454\u001b[0m     aer_circuits, idx_maps \u001b[38;5;241m=\u001b[39m \u001b[43massemble_circuits\u001b[49m\u001b[43m(\u001b[49m\u001b[43mcircuits\u001b[49m\u001b[43m,\u001b[49m\u001b[43m \u001b[49m\u001b[38;5;28;43mself\u001b[39;49m\u001b[38;5;241;43m.\u001b[39;49m\u001b[43mconfiguration\u001b[49m\u001b[43m(\u001b[49m\u001b[43m)\u001b[49m\u001b[38;5;241;43m.\u001b[39;49m\u001b[43mbasis_gates\u001b[49m\u001b[43m)\u001b[49m\n\u001b[1;32m    455\u001b[0m \u001b[38;5;28;01melse\u001b[39;00m:\n\u001b[1;32m    456\u001b[0m     aer_circuits, idx_maps \u001b[38;5;241m=\u001b[39m assemble_circuits(circuits)\n",
      "File \u001b[0;32m~/rivet_release/lib/python3.10/site-packages/qiskit_aer/backends/aer_compiler.py:982\u001b[0m, in \u001b[0;36massemble_circuits\u001b[0;34m(circuits, basis_gates)\u001b[0m\n\u001b[1;32m    979\u001b[0m \u001b[38;5;28;01mif\u001b[39;00m basis_gates \u001b[38;5;129;01mis\u001b[39;00m \u001b[38;5;129;01mnot\u001b[39;00m \u001b[38;5;28;01mNone\u001b[39;00m:\n\u001b[1;32m    980\u001b[0m     basis_gates_set \u001b[38;5;241m=\u001b[39m \u001b[38;5;28mset\u001b[39m(basis_gates)\n\u001b[1;32m    981\u001b[0m     aer_circuits, idx_maps \u001b[38;5;241m=\u001b[39m \u001b[38;5;28mzip\u001b[39m(\n\u001b[0;32m--> 982\u001b[0m         \u001b[38;5;241m*\u001b[39m[assemble_circuit(circuit, basis_gates_set) \u001b[38;5;28;01mfor\u001b[39;00m circuit \u001b[38;5;129;01min\u001b[39;00m circuits]\n\u001b[1;32m    983\u001b[0m     )\n\u001b[1;32m    984\u001b[0m \u001b[38;5;28;01melse\u001b[39;00m:\n\u001b[1;32m    985\u001b[0m     aer_circuits, idx_maps \u001b[38;5;241m=\u001b[39m \u001b[38;5;28mzip\u001b[39m(\u001b[38;5;241m*\u001b[39m[assemble_circuit(circuit) \u001b[38;5;28;01mfor\u001b[39;00m circuit \u001b[38;5;129;01min\u001b[39;00m circuits])\n",
      "File \u001b[0;32m~/rivet_release/lib/python3.10/site-packages/qiskit_aer/backends/aer_compiler.py:982\u001b[0m, in \u001b[0;36m<listcomp>\u001b[0;34m(.0)\u001b[0m\n\u001b[1;32m    979\u001b[0m \u001b[38;5;28;01mif\u001b[39;00m basis_gates \u001b[38;5;129;01mis\u001b[39;00m \u001b[38;5;129;01mnot\u001b[39;00m \u001b[38;5;28;01mNone\u001b[39;00m:\n\u001b[1;32m    980\u001b[0m     basis_gates_set \u001b[38;5;241m=\u001b[39m \u001b[38;5;28mset\u001b[39m(basis_gates)\n\u001b[1;32m    981\u001b[0m     aer_circuits, idx_maps \u001b[38;5;241m=\u001b[39m \u001b[38;5;28mzip\u001b[39m(\n\u001b[0;32m--> 982\u001b[0m         \u001b[38;5;241m*\u001b[39m[\u001b[43massemble_circuit\u001b[49m\u001b[43m(\u001b[49m\u001b[43mcircuit\u001b[49m\u001b[43m,\u001b[49m\u001b[43m \u001b[49m\u001b[43mbasis_gates_set\u001b[49m\u001b[43m)\u001b[49m \u001b[38;5;28;01mfor\u001b[39;00m circuit \u001b[38;5;129;01min\u001b[39;00m circuits]\n\u001b[1;32m    983\u001b[0m     )\n\u001b[1;32m    984\u001b[0m \u001b[38;5;28;01melse\u001b[39;00m:\n\u001b[1;32m    985\u001b[0m     aer_circuits, idx_maps \u001b[38;5;241m=\u001b[39m \u001b[38;5;28mzip\u001b[39m(\u001b[38;5;241m*\u001b[39m[assemble_circuit(circuit) \u001b[38;5;28;01mfor\u001b[39;00m circuit \u001b[38;5;129;01min\u001b[39;00m circuits])\n",
      "File \u001b[0;32m~/rivet_release/lib/python3.10/site-packages/qiskit_aer/backends/aer_compiler.py:681\u001b[0m, in \u001b[0;36massemble_circuit\u001b[0;34m(circuit, basis_gates)\u001b[0m\n\u001b[1;32m    678\u001b[0m     \u001b[38;5;28;01melif\u001b[39;00m \u001b[38;5;28mhasattr\u001b[39m(inst\u001b[38;5;241m.\u001b[39moperation, \u001b[38;5;124m\"\u001b[39m\u001b[38;5;124mcondition_expr\u001b[39m\u001b[38;5;124m\"\u001b[39m) \u001b[38;5;129;01mand\u001b[39;00m inst\u001b[38;5;241m.\u001b[39moperation\u001b[38;5;241m.\u001b[39mcondition_expr:\n\u001b[1;32m    679\u001b[0m         conditional_expr \u001b[38;5;241m=\u001b[39m inst\u001b[38;5;241m.\u001b[39moperation\u001b[38;5;241m.\u001b[39mcondition_expr\n\u001b[0;32m--> 681\u001b[0m     num_of_aer_ops \u001b[38;5;241m+\u001b[39m\u001b[38;5;241m=\u001b[39m \u001b[43m_assemble_op\u001b[49m\u001b[43m(\u001b[49m\n\u001b[1;32m    682\u001b[0m \u001b[43m        \u001b[49m\u001b[43mcircuit\u001b[49m\u001b[43m,\u001b[49m\n\u001b[1;32m    683\u001b[0m \u001b[43m        \u001b[49m\u001b[43maer_circ\u001b[49m\u001b[43m,\u001b[49m\n\u001b[1;32m    684\u001b[0m \u001b[43m        \u001b[49m\u001b[43minst\u001b[49m\u001b[43m,\u001b[49m\n\u001b[1;32m    685\u001b[0m \u001b[43m        \u001b[49m\u001b[43mqubit_indices\u001b[49m\u001b[43m,\u001b[49m\n\u001b[1;32m    686\u001b[0m \u001b[43m        \u001b[49m\u001b[43mclbit_indices\u001b[49m\u001b[43m,\u001b[49m\n\u001b[1;32m    687\u001b[0m \u001b[43m        \u001b[49m\u001b[43mis_conditional\u001b[49m\u001b[43m,\u001b[49m\n\u001b[1;32m    688\u001b[0m \u001b[43m        \u001b[49m\u001b[43mconditional_reg\u001b[49m\u001b[43m,\u001b[49m\n\u001b[1;32m    689\u001b[0m \u001b[43m        \u001b[49m\u001b[43mconditional_expr\u001b[49m\u001b[43m,\u001b[49m\n\u001b[1;32m    690\u001b[0m \u001b[43m        \u001b[49m\u001b[43mbasis_gates\u001b[49m\u001b[43m,\u001b[49m\n\u001b[1;32m    691\u001b[0m \u001b[43m    \u001b[49m\u001b[43m)\u001b[49m\n\u001b[1;32m    692\u001b[0m     index_map\u001b[38;5;241m.\u001b[39mappend(num_of_aer_ops \u001b[38;5;241m-\u001b[39m \u001b[38;5;241m1\u001b[39m)\n\u001b[1;32m    694\u001b[0m \u001b[38;5;28;01mreturn\u001b[39;00m aer_circ, index_map\n",
      "File \u001b[0;32m~/rivet_release/lib/python3.10/site-packages/qiskit_aer/backends/aer_compiler.py:949\u001b[0m, in \u001b[0;36m_assemble_op\u001b[0;34m(circ, aer_circ, inst, qubit_indices, clbit_indices, is_conditional, conditional_reg, conditional_expr, basis_gates)\u001b[0m\n\u001b[1;32m    944\u001b[0m     \u001b[38;5;28;01mraise\u001b[39;00m AerError(\n\u001b[1;32m    945\u001b[0m         \u001b[38;5;124m\"\u001b[39m\u001b[38;5;124mcontrol-flow instructions must be converted \u001b[39m\u001b[38;5;124m\"\u001b[39m \u001b[38;5;124mf\u001b[39m\u001b[38;5;124m\"\u001b[39m\u001b[38;5;124mto jump and mark instructions: \u001b[39m\u001b[38;5;132;01m{\u001b[39;00mname\u001b[38;5;132;01m}\u001b[39;00m\u001b[38;5;124m\"\u001b[39m\n\u001b[1;32m    946\u001b[0m     )\n\u001b[1;32m    948\u001b[0m \u001b[38;5;28;01melse\u001b[39;00m:\n\u001b[0;32m--> 949\u001b[0m     \u001b[38;5;28;01mraise\u001b[39;00m AerError(\u001b[38;5;124mf\u001b[39m\u001b[38;5;124m\"\u001b[39m\u001b[38;5;124munknown instruction: \u001b[39m\u001b[38;5;132;01m{\u001b[39;00mname\u001b[38;5;132;01m}\u001b[39;00m\u001b[38;5;124m\"\u001b[39m)\n\u001b[1;32m    951\u001b[0m \u001b[38;5;28;01mreturn\u001b[39;00m num_of_aer_ops\n",
      "\u001b[0;31mAerError\u001b[0m: 'unknown instruction: sxdg'"
     ]
    }
   ],
   "source": [
    "\n",
    "# Assign Parameters\n",
    "\n",
    "for index, parameter in enumerate(left_circuit.parameters):\n",
    "\n",
    "    left_circuit.assign_parameters({parameter: index}, inplace=True)\n",
    "\n",
    "# Backend\n",
    "\n",
    "if backend is None:\n",
    "    run_backend = AerSimulator()\n",
    "    run_circuit = transpile(left_circuit, run_backend)\n",
    "else:\n",
    "    run_backend = backend\n",
    "    run_circuit = left_circuit\n",
    "\n",
    "# Run\n",
    "\n",
    "job = run_backend.run(run_circuit, shots=SHOTS_COUNT)\n",
    "\n",
    "counts = job.result().get_counts()\n",
    "\n",
    "counts"
   ]
  },
  {
   "cell_type": "code",
   "execution_count": null,
   "id": "9c1a6d14-34ed-48c9-a226-644e69827809",
   "metadata": {},
   "outputs": [],
   "source": []
  }
 ],
 "metadata": {
  "kernelspec": {
   "display_name": "Rivet_Release",
   "language": "python",
   "name": "rivet_release"
  },
  "language_info": {
   "codemirror_mode": {
    "name": "ipython",
    "version": 3
   },
   "file_extension": ".py",
   "mimetype": "text/x-python",
   "name": "python",
   "nbconvert_exporter": "python",
   "pygments_lexer": "ipython3",
   "version": "3.10.13"
  }
 },
 "nbformat": 4,
 "nbformat_minor": 5
}
