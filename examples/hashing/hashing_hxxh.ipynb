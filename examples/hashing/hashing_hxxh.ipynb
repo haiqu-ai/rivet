{
 "cells": [
  {
   "cell_type": "markdown",
   "metadata": {
    "id": "K2yU6HPYZWT9"
   },
   "source": [
    "# Hashing HXXH"
   ]
  },
  {
   "cell_type": "code",
   "execution_count": 1,
   "metadata": {
    "id": "A6JkxxpYZ2gF"
   },
   "outputs": [],
   "source": [
    "import qiskit\n",
    "\n",
    "import hashlib\n",
    "\n",
    "from collections import deque"
   ]
  },
  {
   "cell_type": "code",
   "execution_count": 2,
   "metadata": {},
   "outputs": [],
   "source": [
    "def old_get_circuit_hash(circuit, decomposition_level=None):\n",
    "\n",
    "    hash_object = hashlib.sha256(b'')\n",
    "\n",
    "    # Circuit Traversal\n",
    "\n",
    "    initial_level = 0\n",
    "    initial_qubit_base = list(range(circuit.num_qubits))\n",
    "    initial_bit_base = list(range(circuit.num_clbits))\n",
    "\n",
    "    initial_record = (initial_level,\n",
    "                      initial_qubit_base,\n",
    "                      initial_bit_base,\n",
    "                      circuit)\n",
    "\n",
    "    queue = deque([initial_record])\n",
    "\n",
    "    while queue:\n",
    "\n",
    "        current_record = queue.popleft()\n",
    "\n",
    "        level, qubit_base, bit_base, current_circuit = current_record\n",
    "\n",
    "        current_dag = qiskit.converters.circuit_to_dag(current_circuit)\n",
    "\n",
    "        for node in current_dag.topological_op_nodes():\n",
    "\n",
    "            # Relative Indices\n",
    "\n",
    "            relative_qubits = [current_circuit.find_bit(qubit).index\n",
    "                               for qubit in node.qargs]\n",
    "\n",
    "            relative_bits = [current_circuit.find_bit(bit).index\n",
    "                             for bit in node.cargs]\n",
    "\n",
    "            # Absolute Indices\n",
    "\n",
    "            absolute_qubits = [qubit_base[qubit] for qubit in relative_qubits]\n",
    "            absolute_bits = [bit_base[bit] for bit in relative_bits]\n",
    "\n",
    "            # Sub Circuit\n",
    "\n",
    "            operation = node.op\n",
    "\n",
    "            sub_circuit = operation.definition\n",
    "\n",
    "            if level == decomposition_level or sub_circuit is None:\n",
    "\n",
    "                # Calculate Hash of Leaf Node\n",
    "\n",
    "                # Collect Values\n",
    "\n",
    "                values = [absolute_qubits,\n",
    "                          absolute_bits,\n",
    "                          operation.name]\n",
    "\n",
    "                # Collect Parameters\n",
    "\n",
    "                for parameter in operation.params:\n",
    "\n",
    "                    if isinstance(parameter, qiskit.circuit.parameter.ParameterExpression):\n",
    "\n",
    "                        parameter = None\n",
    "\n",
    "                    values.append(parameter)\n",
    "\n",
    "                # Update Hash\n",
    "\n",
    "                print(\"values:\", values)\n",
    "\n",
    "                for value in values:\n",
    "\n",
    "                    encoded_value = repr(value).encode('utf-8')\n",
    "\n",
    "                    hash_object.update(encoded_value)\n",
    "\n",
    "            else:\n",
    "\n",
    "                # Add new Record to the Queue\n",
    "\n",
    "                new_record = (level + 1,\n",
    "                              absolute_qubits, absolute_bits,\n",
    "                              sub_circuit)\n",
    "\n",
    "                queue.append(new_record)\n",
    "\n",
    "    # Digest Hash\n",
    "\n",
    "    hash_bytes = hash_object.digest()\n",
    "\n",
    "    hash_value = int.from_bytes(hash_bytes, byteorder='little')\n",
    "\n",
    "    return hash_value"
   ]
  },
  {
   "cell_type": "code",
   "execution_count": 3,
   "metadata": {},
   "outputs": [],
   "source": [
    "def new_get_circuit_hash(circuit, decomposition_level=None):\n",
    "\n",
    "    hash_object = hashlib.sha256(b'')\n",
    "\n",
    "    # Circuit Traversal\n",
    "\n",
    "    initial_level = 0\n",
    "    initial_qubit_base = list(range(circuit.num_qubits))\n",
    "    initial_bit_base = list(range(circuit.num_clbits))\n",
    "\n",
    "    initial_record = (initial_level,\n",
    "                      initial_qubit_base,\n",
    "                      initial_bit_base,\n",
    "                      circuit)\n",
    "\n",
    "    stack = deque([initial_record])\n",
    "\n",
    "    while stack:\n",
    "\n",
    "        current_record = stack.pop()\n",
    "\n",
    "        level, qubit_base, bit_base, current_circuit = current_record\n",
    "\n",
    "        current_dag = qiskit.converters.circuit_to_dag(current_circuit)\n",
    "\n",
    "        for node in current_dag.topological_op_nodes():\n",
    "\n",
    "            # Relative Indices\n",
    "\n",
    "            relative_qubits = [current_circuit.find_bit(qubit).index\n",
    "                               for qubit in node.qargs]\n",
    "\n",
    "            relative_bits = [current_circuit.find_bit(bit).index\n",
    "                             for bit in node.cargs]\n",
    "\n",
    "            # Absolute Indices\n",
    "\n",
    "            absolute_qubits = [qubit_base[qubit] for qubit in relative_qubits]\n",
    "            absolute_bits = [bit_base[bit] for bit in relative_bits]\n",
    "\n",
    "            # Sub Circuit\n",
    "\n",
    "            operation = node.op\n",
    "\n",
    "            sub_circuit = operation.definition\n",
    "\n",
    "            if level == decomposition_level or sub_circuit is None:\n",
    "\n",
    "                # Calculate Hash of Leaf Node\n",
    "\n",
    "                # Collect Values\n",
    "\n",
    "                values = [absolute_qubits,\n",
    "                          absolute_bits,\n",
    "                          operation.name]\n",
    "\n",
    "                # Collect Parameters\n",
    "\n",
    "                for parameter in operation.params:\n",
    "\n",
    "                    if isinstance(parameter, qiskit.circuit.parameter.ParameterExpression):\n",
    "\n",
    "                        parameter = None\n",
    "\n",
    "                    values.append(parameter)\n",
    "\n",
    "                # Update Hash\n",
    "\n",
    "                for value in values:\n",
    "\n",
    "                    encoded_value = repr(value).encode('utf-8')\n",
    "\n",
    "                    hash_object.update(encoded_value)\n",
    "\n",
    "            else:\n",
    "\n",
    "                # Add new Record to the Stack\n",
    "\n",
    "                new_record = (level + 1,\n",
    "                              absolute_qubits, absolute_bits,\n",
    "                              sub_circuit)\n",
    "\n",
    "                stack.append(new_record)\n",
    "\n",
    "    # Digest Hash\n",
    "\n",
    "    hash_bytes = hash_object.digest()\n",
    "\n",
    "    hash_value = int.from_bytes(hash_bytes, byteorder='little')\n",
    "\n",
    "    return hash_value"
   ]
  },
  {
   "cell_type": "markdown",
   "metadata": {},
   "source": [
    "### Old Get Circuit Hash"
   ]
  },
  {
   "cell_type": "code",
   "execution_count": 4,
   "metadata": {},
   "outputs": [],
   "source": [
    "get_circuit_hash = old_get_circuit_hash"
   ]
  },
  {
   "cell_type": "code",
   "execution_count": 5,
   "metadata": {
    "id": "6hPLvcmPaPH-"
   },
   "outputs": [
    {
     "name": "stdout",
     "output_type": "stream",
     "text": [
      "HX circuit:\n",
      "               \n",
      "q_0: ──────────\n",
      "     ┌───┐┌───┐\n",
      "q_1: ┤ H ├┤ X ├\n",
      "     └───┘└───┘\n",
      "\n",
      "values: [[1], [], 'u', 3.141592653589793, 0.0, 3.141592653589793]\n",
      "values: [[1], [], 'u', 1.5707963267948966, 0.0, 3.141592653589793]\n"
     ]
    },
    {
     "data": {
      "text/plain": [
       "8895418907420795653914132157143967161278273931489570184451554769513788291599"
      ]
     },
     "execution_count": 5,
     "metadata": {},
     "output_type": "execute_result"
    }
   ],
   "source": [
    "hx_circuit = qiskit.QuantumCircuit(2)\n",
    "hx_circuit.h(1)\n",
    "hx_circuit.x(1)\n",
    "\n",
    "print(\"HX circuit:\")\n",
    "print(hx_circuit.draw())\n",
    "print()\n",
    "\n",
    "hash_hx_circuit = get_circuit_hash(hx_circuit)\n",
    "\n",
    "hash_hx_circuit"
   ]
  },
  {
   "cell_type": "code",
   "execution_count": 6,
   "metadata": {
    "id": "6hPLvcmPaPH-"
   },
   "outputs": [
    {
     "name": "stdout",
     "output_type": "stream",
     "text": [
      "XH circuit:\n",
      "               \n",
      "q_0: ──────────\n",
      "     ┌───┐┌───┐\n",
      "q_1: ┤ X ├┤ H ├\n",
      "     └───┘└───┘\n",
      "\n",
      "values: [[1], [], 'u', 3.141592653589793, 0.0, 3.141592653589793]\n",
      "values: [[1], [], 'u', 1.5707963267948966, 0.0, 3.141592653589793]\n"
     ]
    },
    {
     "data": {
      "text/plain": [
       "8895418907420795653914132157143967161278273931489570184451554769513788291599"
      ]
     },
     "execution_count": 6,
     "metadata": {},
     "output_type": "execute_result"
    }
   ],
   "source": [
    "xh_circuit = qiskit.QuantumCircuit(2)\n",
    "xh_circuit.x(1)\n",
    "xh_circuit.h(1)\n",
    "\n",
    "print(\"XH circuit:\")\n",
    "print(xh_circuit.draw())\n",
    "print()\n",
    "\n",
    "hash_xh_circuit = get_circuit_hash(xh_circuit)\n",
    "\n",
    "hash_xh_circuit"
   ]
  },
  {
   "cell_type": "code",
   "execution_count": 7,
   "metadata": {
    "id": "6hPLvcmPaPH-"
   },
   "outputs": [
    {
     "name": "stdout",
     "output_type": "stream",
     "text": [
      "The circuits have the same hash value.\n",
      "values: [[1], [], 'u', 3.141592653589793, 0.0, 3.141592653589793]\n",
      "values: [[1], [], 'u', 1.5707963267948966, 0.0, 3.141592653589793]\n",
      "8895418907420795653914132157143967161278273931489570184451554769513788291599\n",
      "values: [[1], [], 'u', 3.141592653589793, 0.0, 3.141592653589793]\n",
      "values: [[1], [], 'u', 1.5707963267948966, 0.0, 3.141592653589793]\n",
      "8895418907420795653914132157143967161278273931489570184451554769513788291599\n"
     ]
    }
   ],
   "source": [
    "if hash_hx_circuit == hash_xh_circuit:\n",
    "    print(\"The circuits have the same hash value.\")\n",
    "else:\n",
    "    print(\"The circuits have different hash values.\")\n",
    "\n",
    "print(get_circuit_hash(hx_circuit))\n",
    "print(get_circuit_hash(xh_circuit))"
   ]
  },
  {
   "cell_type": "markdown",
   "metadata": {},
   "source": [
    "### New Get Circuit Hash"
   ]
  },
  {
   "cell_type": "code",
   "execution_count": 8,
   "metadata": {},
   "outputs": [],
   "source": [
    "get_circuit_hash = new_get_circuit_hash"
   ]
  },
  {
   "cell_type": "code",
   "execution_count": 9,
   "metadata": {
    "id": "6hPLvcmPaPH-"
   },
   "outputs": [
    {
     "name": "stdout",
     "output_type": "stream",
     "text": [
      "HX circuit:\n",
      "               \n",
      "q_0: ──────────\n",
      "     ┌───┐┌───┐\n",
      "q_1: ┤ H ├┤ X ├\n",
      "     └───┘└───┘\n",
      "\n"
     ]
    },
    {
     "data": {
      "text/plain": [
       "8895418907420795653914132157143967161278273931489570184451554769513788291599"
      ]
     },
     "execution_count": 9,
     "metadata": {},
     "output_type": "execute_result"
    }
   ],
   "source": [
    "hx_circuit = qiskit.QuantumCircuit(2)\n",
    "hx_circuit.h(1)\n",
    "hx_circuit.x(1)\n",
    "\n",
    "print(\"HX circuit:\")\n",
    "print(hx_circuit.draw())\n",
    "print()\n",
    "\n",
    "hash_hx_circuit = get_circuit_hash(hx_circuit)\n",
    "\n",
    "hash_hx_circuit"
   ]
  },
  {
   "cell_type": "code",
   "execution_count": 10,
   "metadata": {
    "id": "6hPLvcmPaPH-"
   },
   "outputs": [
    {
     "name": "stdout",
     "output_type": "stream",
     "text": [
      "XH circuit:\n",
      "               \n",
      "q_0: ──────────\n",
      "     ┌───┐┌───┐\n",
      "q_1: ┤ X ├┤ H ├\n",
      "     └───┘└───┘\n",
      "\n"
     ]
    },
    {
     "data": {
      "text/plain": [
       "13745032090551206655011846936491227366863944402211228876193755914927240176279"
      ]
     },
     "execution_count": 10,
     "metadata": {},
     "output_type": "execute_result"
    }
   ],
   "source": [
    "xh_circuit = qiskit.QuantumCircuit(2)\n",
    "xh_circuit.x(1)\n",
    "xh_circuit.h(1)\n",
    "\n",
    "print(\"XH circuit:\")\n",
    "print(xh_circuit.draw())\n",
    "print()\n",
    "\n",
    "hash_xh_circuit = get_circuit_hash(xh_circuit)\n",
    "\n",
    "hash_xh_circuit"
   ]
  },
  {
   "cell_type": "code",
   "execution_count": 11,
   "metadata": {
    "id": "6hPLvcmPaPH-"
   },
   "outputs": [
    {
     "name": "stdout",
     "output_type": "stream",
     "text": [
      "The circuits have different hash values.\n",
      "8895418907420795653914132157143967161278273931489570184451554769513788291599\n",
      "13745032090551206655011846936491227366863944402211228876193755914927240176279\n"
     ]
    }
   ],
   "source": [
    "if hash_hx_circuit == hash_xh_circuit:\n",
    "    print(\"The circuits have the same hash value.\")\n",
    "else:\n",
    "    print(\"The circuits have different hash values.\")\n",
    "\n",
    "print(get_circuit_hash(hx_circuit))\n",
    "print(get_circuit_hash(xh_circuit))"
   ]
  },
  {
   "cell_type": "code",
   "execution_count": 12,
   "metadata": {
    "id": "UdFK3FNraTGc"
   },
   "outputs": [],
   "source": [
    "def bind_parameters_with_offset(circuit, offset=0):\n",
    "\n",
    "    bound_circuit = circuit.copy()\n",
    "\n",
    "    for index, parameter in enumerate(bound_circuit.parameters):\n",
    "\n",
    "        bound_circuit.assign_parameters(\n",
    "            {parameter: index + offset},\n",
    "            inplace=True)\n",
    "\n",
    "    return bound_circuit"
   ]
  },
  {
   "cell_type": "code",
   "execution_count": 13,
   "metadata": {
    "id": "73zpN483aU0T"
   },
   "outputs": [
    {
     "ename": "NameError",
     "evalue": "name 'litmus_circuit' is not defined",
     "output_type": "error",
     "traceback": [
      "\u001b[0;31m---------------------------------------------------------------------------\u001b[0m",
      "\u001b[0;31mNameError\u001b[0m                                 Traceback (most recent call last)",
      "Cell \u001b[0;32mIn[13], line 2\u001b[0m\n\u001b[1;32m      1\u001b[0m \u001b[38;5;66;03m# Define Bound Circuits\u001b[39;00m\n\u001b[0;32m----> 2\u001b[0m bound_circuit \u001b[38;5;241m=\u001b[39m bind_parameters_with_offset(\u001b[43mlitmus_circuit\u001b[49m, offset\u001b[38;5;241m=\u001b[39m\u001b[38;5;241m0\u001b[39m)\n\u001b[1;32m      3\u001b[0m bound_circuit_same_parameters \u001b[38;5;241m=\u001b[39m bind_parameters_with_offset(litmus_circuit, offset\u001b[38;5;241m=\u001b[39m\u001b[38;5;241m0\u001b[39m)\n\u001b[1;32m      4\u001b[0m bound_circuit_other_parameters \u001b[38;5;241m=\u001b[39m bind_parameters_with_offset(litmus_circuit, offset\u001b[38;5;241m=\u001b[39m\u001b[38;5;241m1\u001b[39m)\n",
      "\u001b[0;31mNameError\u001b[0m: name 'litmus_circuit' is not defined"
     ]
    }
   ],
   "source": [
    "# Define Bound Circuits\n",
    "bound_circuit = bind_parameters_with_offset(litmus_circuit, offset=0)\n",
    "bound_circuit_same_parameters = bind_parameters_with_offset(litmus_circuit, offset=0)\n",
    "bound_circuit_other_parameters = bind_parameters_with_offset(litmus_circuit, offset=1)"
   ]
  },
  {
   "cell_type": "code",
   "execution_count": null,
   "metadata": {
    "id": "GtHS6Oj2aU3K"
   },
   "outputs": [],
   "source": [
    "# Display Circuits\n",
    "display(bound_circuit.draw(fold=-1))\n",
    "display(bound_circuit_same_parameters.draw(fold=-1))\n",
    "display(bound_circuit_other_parameters.draw(fold=-1))"
   ]
  },
  {
   "cell_type": "code",
   "execution_count": null,
   "metadata": {
    "id": "CRiXo6hkaY7d"
   },
   "outputs": [],
   "source": [
    "# Display Hashes\n",
    "display(get_circuit_hash(bound_circuit))\n",
    "display(get_circuit_hash(bound_circuit_same_parameters))\n",
    "display(get_circuit_hash(bound_circuit_other_parameters))"
   ]
  },
  {
   "cell_type": "code",
   "execution_count": null,
   "metadata": {
    "id": "NEcFZpXCac_e"
   },
   "outputs": [],
   "source": [
    "# Define 3 circuits\n",
    "#for each circuit different properties can be added. For example:\n",
    "    # optimization_level=3,\n",
    "    # initial_layout=[1, 2, 3]\n",
    "\n",
    "transpiled_litmus_circuit = transpile(\n",
    "    litmus_circuit,\n",
    "    backend,\n",
    "    seed_transpiler=1234,\n",
    ")\n",
    "\n",
    "transpiled_litmus_circuit_same_seed = transpile(\n",
    "    litmus_circuit,\n",
    "    backend,\n",
    "    seed_transpiler=1234,\n",
    ")\n",
    "\n",
    "transpiled_litmus_circuit_other_seed = transpile(\n",
    "    litmus_circuit,\n",
    "    backend,\n",
    "    seed_transpiler=777,\n",
    ")"
   ]
  },
  {
   "cell_type": "code",
   "execution_count": null,
   "metadata": {
    "id": "dcI1dsAKahPm"
   },
   "outputs": [],
   "source": [
    "# Display Circuits\n",
    "\n",
    "display(transpiled_litmus_circuit.draw(fold=-1))\n",
    "display(transpiled_litmus_circuit_same_seed.draw(fold=-1))\n",
    "display(transpiled_litmus_circuit_other_seed.draw(fold=-1))"
   ]
  },
  {
   "cell_type": "code",
   "execution_count": null,
   "metadata": {
    "id": "oTquckWRahSe"
   },
   "outputs": [],
   "source": [
    "# Display Hashes\n",
    "\n",
    "display(get_circuit_hash(transpiled_litmus_circuit))\n",
    "display(get_circuit_hash(transpiled_litmus_circuit_same_seed))\n",
    "display(get_circuit_hash(transpiled_litmus_circuit_other_seed))"
   ]
  },
  {
   "cell_type": "code",
   "execution_count": null,
   "metadata": {
    "id": "4KEjDKRuam40"
   },
   "outputs": [],
   "source": [
    "QUBITS_COUNT = 100\n",
    "MAX_LAYERS_COUNT = 5\n",
    "\n",
    "GATES = ['x', 'y', 'z',\n",
    "         'rx', 'ry', 'rz',\n",
    "         'rxx', 'ryy', 'rzz',\n",
    "         'swap', 'id']\n",
    "\n",
    "gates_counts = []\n",
    "layers_counts = []\n",
    "elapsed_times = []\n",
    "\n",
    "for layers_count in range(MAX_LAYERS_COUNT):\n",
    "\n",
    "    circuit = qiskit.circuit.library.EfficientSU2(QUBITS_COUNT,\n",
    "                                                  reps=layers_count,\n",
    "                                                  su2_gates=GATES,\n",
    "                                                  entanglement=\"circular\",\n",
    "                                                  skip_final_rotation_layer=True)\n",
    "\n",
    "\n",
    "    circuit_decomposed = circuit.decompose(None, 1)\n",
    "    gates_count = len(circuit_decomposed.data)\n",
    "    print(\"gates_count:\", gates_count)\n",
    "\n",
    "    start_time = time()\n",
    "    circuit_hash = get_circuit_hash(circuit_decomposed)\n",
    "    elapsed_time = time() - start_time\n",
    "    gates_counts.append(gates_count)\n",
    "    layers_counts.append(layers_count)\n",
    "    elapsed_times.append(elapsed_time)\n",
    "    print(f\"elapsed_time:{elapsed_time:.5f}\")\n",
    "\n",
    "    # circuit_decomposed.draw(fold=-1)"
   ]
  },
  {
   "cell_type": "markdown",
   "metadata": {
    "id": "uw_GAvu3aqIo"
   },
   "source": [
    "From the plot  for the hashing time as a function of gate counts **a linear dependency is observed**:"
   ]
  },
  {
   "cell_type": "code",
   "execution_count": null,
   "metadata": {
    "id": "eK3FiVqvao4r",
    "scrolled": true
   },
   "outputs": [],
   "source": [
    "#Plot Hashing Time as a function of the number of gates\n",
    "\n",
    "# plt.title(\"Hashing Time\")\n",
    "\n",
    "# plt.xlabel(\"Gates count\")\n",
    "# plt.ylabel(\"Time, seconds\")\n",
    "\n",
    "# plt.plot(gates_counts, elapsed_times);"
   ]
  },
  {
   "cell_type": "markdown",
   "metadata": {},
   "source": [
    "![image.png](Fig3_timehashing.png) \n",
    "\n",
    "*Fig.3. Hashing time as a function of gate counts for the circuit above.*"
   ]
  }
 ],
 "metadata": {
  "colab": {
   "provenance": []
  },
  "kernelspec": {
   "display_name": "Qiskit_1_2",
   "language": "python",
   "name": "qiskit_1_2"
  },
  "language_info": {
   "codemirror_mode": {
    "name": "ipython",
    "version": 3
   },
   "file_extension": ".py",
   "mimetype": "text/x-python",
   "name": "python",
   "nbconvert_exporter": "python",
   "pygments_lexer": "ipython3",
   "version": "3.12.3"
  }
 },
 "nbformat": 4,
 "nbformat_minor": 4
}
