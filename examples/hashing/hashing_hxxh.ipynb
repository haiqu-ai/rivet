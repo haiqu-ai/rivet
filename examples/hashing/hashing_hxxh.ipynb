{
 "cells": [
  {
   "cell_type": "markdown",
   "metadata": {
    "id": "K2yU6HPYZWT9"
   },
   "source": [
    "# Hashing HXXH"
   ]
  },
  {
   "cell_type": "code",
   "execution_count": 3,
   "metadata": {
    "id": "A6JkxxpYZ2gF"
   },
   "outputs": [],
   "source": [
    "import qiskit\n",
    "\n",
    "%cd -q ../..\n",
    "\n",
    "from rivet_transpiler import get_circuit_hash\n",
    "from rivet_transpiler import transpile\n",
    "\n",
    "from qiskit_ibm_runtime.fake_provider import FakeLimaV2"
   ]
  },
  {
   "cell_type": "code",
   "execution_count": 6,
   "metadata": {
    "id": "A6JkxxpYZ2gF"
   },
   "outputs": [],
   "source": [
    "backend = FakeLimaV2() \n",
    "\n",
    "# qiskit.visualization.plot_gate_map(backend)"
   ]
  },
  {
   "cell_type": "code",
   "execution_count": 8,
   "metadata": {
    "id": "6hPLvcmPaPH-"
   },
   "outputs": [
    {
     "name": "stdout",
     "output_type": "stream",
     "text": [
      "HX circuit:\n",
      "               \n",
      "q_0: ──────────\n",
      "     ┌───┐┌───┐\n",
      "q_1: ┤ H ├┤ X ├\n",
      "     └───┘└───┘\n",
      "\n"
     ]
    },
    {
     "data": {
      "text/plain": [
       "8895418907420795653914132157143967161278273931489570184451554769513788291599"
      ]
     },
     "execution_count": 8,
     "metadata": {},
     "output_type": "execute_result"
    }
   ],
   "source": [
    "hx_circuit = qiskit.QuantumCircuit(2)\n",
    "hx_circuit.h(1)\n",
    "hx_circuit.x(1)\n",
    "\n",
    "print(\"HX circuit:\")\n",
    "print(hx_circuit.draw())\n",
    "print()\n",
    "\n",
    "hash_hx_circuit = get_circuit_hash(hx_circuit)\n",
    "\n",
    "hash_hx_circuit"
   ]
  },
  {
   "cell_type": "code",
   "execution_count": 9,
   "metadata": {
    "id": "6hPLvcmPaPH-"
   },
   "outputs": [
    {
     "name": "stdout",
     "output_type": "stream",
     "text": [
      "XH circuit:\n",
      "               \n",
      "q_0: ──────────\n",
      "     ┌───┐┌───┐\n",
      "q_1: ┤ X ├┤ H ├\n",
      "     └───┘└───┘\n",
      "\n"
     ]
    },
    {
     "data": {
      "text/plain": [
       "13745032090551206655011846936491227366863944402211228876193755914927240176279"
      ]
     },
     "execution_count": 9,
     "metadata": {},
     "output_type": "execute_result"
    }
   ],
   "source": [
    "xh_circuit = qiskit.QuantumCircuit(2)\n",
    "xh_circuit.x(1)\n",
    "xh_circuit.h(1)\n",
    "\n",
    "print(\"XH circuit:\")\n",
    "print(xh_circuit.draw())\n",
    "print()\n",
    "\n",
    "hash_xh_circuit = get_circuit_hash(xh_circuit)\n",
    "\n",
    "hash_xh_circuit"
   ]
  },
  {
   "cell_type": "code",
   "execution_count": 11,
   "metadata": {
    "id": "6hPLvcmPaPH-"
   },
   "outputs": [
    {
     "name": "stdout",
     "output_type": "stream",
     "text": [
      "The circuits have different hash values.\n",
      "8895418907420795653914132157143967161278273931489570184451554769513788291599\n",
      "13745032090551206655011846936491227366863944402211228876193755914927240176279\n"
     ]
    }
   ],
   "source": [
    "if hash_hx_circuit == hash_xh_circuit:\n",
    "    print(\"The circuits have the same hash value.\")\n",
    "else:\n",
    "    print(\"The circuits have different hash values.\")\n",
    "\n",
    "print(get_circuit_hash(hx_circuit))\n",
    "print(get_circuit_hash(xh_circuit))"
   ]
  },
  {
   "cell_type": "code",
   "execution_count": 7,
   "metadata": {
    "id": "UdFK3FNraTGc"
   },
   "outputs": [],
   "source": [
    "def bind_parameters_with_offset(circuit, offset=0):\n",
    "\n",
    "    bound_circuit = circuit.copy()\n",
    "\n",
    "    for index, parameter in enumerate(bound_circuit.parameters):\n",
    "\n",
    "        bound_circuit.assign_parameters(\n",
    "            {parameter: index + offset},\n",
    "            inplace=True)\n",
    "\n",
    "    return bound_circuit"
   ]
  },
  {
   "cell_type": "code",
   "execution_count": 8,
   "metadata": {
    "id": "73zpN483aU0T"
   },
   "outputs": [],
   "source": [
    "# Define Bound Circuits\n",
    "bound_circuit = bind_parameters_with_offset(litmus_circuit, offset=0)\n",
    "bound_circuit_same_parameters = bind_parameters_with_offset(litmus_circuit, offset=0)\n",
    "bound_circuit_other_parameters = bind_parameters_with_offset(litmus_circuit, offset=1)"
   ]
  },
  {
   "cell_type": "code",
   "execution_count": 9,
   "metadata": {
    "id": "GtHS6Oj2aU3K"
   },
   "outputs": [
    {
     "data": {
      "text/html": [
       "<pre style=\"word-wrap: normal;white-space: pre;background: #fff0;line-height: 1.1;font-family: &quot;Courier New&quot;,Courier,monospace\">            ┌───────┐          ┌───┐ Litmus \n",
       "Litmus_0_0: ┤ Rz(0) ├──■───────┤ X ├───░────\n",
       "            ├───────┤┌─┴─┐     └─┬─┘   ░    \n",
       "Litmus_0_1: ┤ Rz(1) ├┤ X ├──■────┼─────░────\n",
       "            ├───────┤└───┘┌─┴─┐  │     ░    \n",
       "Litmus_0_2: ┤ Rz(2) ├─────┤ X ├──■─────░────\n",
       "            └───────┘     └───┘        ░    </pre>"
      ],
      "text/plain": [
       "            ┌───────┐          ┌───┐ Litmus \n",
       "Litmus_0_0: ┤ Rz(0) ├──■───────┤ X ├───░────\n",
       "            ├───────┤┌─┴─┐     └─┬─┘   ░    \n",
       "Litmus_0_1: ┤ Rz(1) ├┤ X ├──■────┼─────░────\n",
       "            ├───────┤└───┘┌─┴─┐  │     ░    \n",
       "Litmus_0_2: ┤ Rz(2) ├─────┤ X ├──■─────░────\n",
       "            └───────┘     └───┘        ░    "
      ]
     },
     "metadata": {},
     "output_type": "display_data"
    },
    {
     "data": {
      "text/html": [
       "<pre style=\"word-wrap: normal;white-space: pre;background: #fff0;line-height: 1.1;font-family: &quot;Courier New&quot;,Courier,monospace\">            ┌───────┐          ┌───┐ Litmus \n",
       "Litmus_0_0: ┤ Rz(0) ├──■───────┤ X ├───░────\n",
       "            ├───────┤┌─┴─┐     └─┬─┘   ░    \n",
       "Litmus_0_1: ┤ Rz(1) ├┤ X ├──■────┼─────░────\n",
       "            ├───────┤└───┘┌─┴─┐  │     ░    \n",
       "Litmus_0_2: ┤ Rz(2) ├─────┤ X ├──■─────░────\n",
       "            └───────┘     └───┘        ░    </pre>"
      ],
      "text/plain": [
       "            ┌───────┐          ┌───┐ Litmus \n",
       "Litmus_0_0: ┤ Rz(0) ├──■───────┤ X ├───░────\n",
       "            ├───────┤┌─┴─┐     └─┬─┘   ░    \n",
       "Litmus_0_1: ┤ Rz(1) ├┤ X ├──■────┼─────░────\n",
       "            ├───────┤└───┘┌─┴─┐  │     ░    \n",
       "Litmus_0_2: ┤ Rz(2) ├─────┤ X ├──■─────░────\n",
       "            └───────┘     └───┘        ░    "
      ]
     },
     "metadata": {},
     "output_type": "display_data"
    },
    {
     "data": {
      "text/html": [
       "<pre style=\"word-wrap: normal;white-space: pre;background: #fff0;line-height: 1.1;font-family: &quot;Courier New&quot;,Courier,monospace\">            ┌───────┐          ┌───┐ Litmus \n",
       "Litmus_0_0: ┤ Rz(1) ├──■───────┤ X ├───░────\n",
       "            ├───────┤┌─┴─┐     └─┬─┘   ░    \n",
       "Litmus_0_1: ┤ Rz(2) ├┤ X ├──■────┼─────░────\n",
       "            ├───────┤└───┘┌─┴─┐  │     ░    \n",
       "Litmus_0_2: ┤ Rz(3) ├─────┤ X ├──■─────░────\n",
       "            └───────┘     └───┘        ░    </pre>"
      ],
      "text/plain": [
       "            ┌───────┐          ┌───┐ Litmus \n",
       "Litmus_0_0: ┤ Rz(1) ├──■───────┤ X ├───░────\n",
       "            ├───────┤┌─┴─┐     └─┬─┘   ░    \n",
       "Litmus_0_1: ┤ Rz(2) ├┤ X ├──■────┼─────░────\n",
       "            ├───────┤└───┘┌─┴─┐  │     ░    \n",
       "Litmus_0_2: ┤ Rz(3) ├─────┤ X ├──■─────░────\n",
       "            └───────┘     └───┘        ░    "
      ]
     },
     "metadata": {},
     "output_type": "display_data"
    }
   ],
   "source": [
    "# Display Circuits\n",
    "display(bound_circuit.draw(fold=-1))\n",
    "display(bound_circuit_same_parameters.draw(fold=-1))\n",
    "display(bound_circuit_other_parameters.draw(fold=-1))"
   ]
  },
  {
   "cell_type": "code",
   "execution_count": 10,
   "metadata": {
    "id": "CRiXo6hkaY7d"
   },
   "outputs": [
    {
     "data": {
      "text/plain": [
       "64409077824029668028239311688647418237442796507979302561569167897928616433286"
      ]
     },
     "metadata": {},
     "output_type": "display_data"
    },
    {
     "data": {
      "text/plain": [
       "64409077824029668028239311688647418237442796507979302561569167897928616433286"
      ]
     },
     "metadata": {},
     "output_type": "display_data"
    },
    {
     "data": {
      "text/plain": [
       "49146857853148014873065169400610474609017800429749393590319342929057395408014"
      ]
     },
     "metadata": {},
     "output_type": "display_data"
    }
   ],
   "source": [
    "# Display Hashes\n",
    "display(get_circuit_hash(bound_circuit))\n",
    "display(get_circuit_hash(bound_circuit_same_parameters))\n",
    "display(get_circuit_hash(bound_circuit_other_parameters))"
   ]
  },
  {
   "cell_type": "code",
   "execution_count": 11,
   "metadata": {
    "id": "NEcFZpXCac_e"
   },
   "outputs": [],
   "source": [
    "# Define 3 circuits\n",
    "#for each circuit different properties can be added. For example:\n",
    "    # optimization_level=3,\n",
    "    # initial_layout=[1, 2, 3]\n",
    "\n",
    "transpiled_litmus_circuit = transpile(\n",
    "    litmus_circuit,\n",
    "    backend,\n",
    "    seed_transpiler=1234,\n",
    ")\n",
    "\n",
    "transpiled_litmus_circuit_same_seed = transpile(\n",
    "    litmus_circuit,\n",
    "    backend,\n",
    "    seed_transpiler=1234,\n",
    ")\n",
    "\n",
    "transpiled_litmus_circuit_other_seed = transpile(\n",
    "    litmus_circuit,\n",
    "    backend,\n",
    "    seed_transpiler=777,\n",
    ")"
   ]
  },
  {
   "cell_type": "code",
   "execution_count": 12,
   "metadata": {
    "id": "dcI1dsAKahPm"
   },
   "outputs": [
    {
     "data": {
      "text/html": [
       "<pre style=\"word-wrap: normal;white-space: pre;background: #fff0;line-height: 1.1;font-family: &quot;Courier New&quot;,Courier,monospace\">                ┌──────────────┐          ┌───┐          ┌───┐ Litmus \n",
       "Litmus_0_2 -> 0 ┤ Rz(Litmus_2) ├───────■──┤ X ├──■───────┤ X ├───░────\n",
       "                ├──────────────┤     ┌─┴─┐└─┬─┘┌─┴─┐┌───┐└─┬─┘   ░    \n",
       "Litmus_0_0 -> 1 ┤ Rz(Litmus_0) ├──■──┤ X ├──■──┤ X ├┤ X ├──■─────░────\n",
       "                ├──────────────┤┌─┴─┐└───┘     └───┘└─┬─┘        ░    \n",
       "Litmus_0_1 -> 2 ┤ Rz(Litmus_1) ├┤ X ├─────────────────■──────────░────\n",
       "                └──────────────┘└───┘                            ░    \n",
       " ancilla_0 -> 3 ──────────────────────────────────────────────────────\n",
       "                                                                      \n",
       " ancilla_1 -> 4 ──────────────────────────────────────────────────────\n",
       "                                                                      </pre>"
      ],
      "text/plain": [
       "                ┌──────────────┐          ┌───┐          ┌───┐ Litmus \n",
       "Litmus_0_2 -> 0 ┤ Rz(Litmus_2) ├───────■──┤ X ├──■───────┤ X ├───░────\n",
       "                ├──────────────┤     ┌─┴─┐└─┬─┘┌─┴─┐┌───┐└─┬─┘   ░    \n",
       "Litmus_0_0 -> 1 ┤ Rz(Litmus_0) ├──■──┤ X ├──■──┤ X ├┤ X ├──■─────░────\n",
       "                ├──────────────┤┌─┴─┐└───┘     └───┘└─┬─┘        ░    \n",
       "Litmus_0_1 -> 2 ┤ Rz(Litmus_1) ├┤ X ├─────────────────■──────────░────\n",
       "                └──────────────┘└───┘                            ░    \n",
       " ancilla_0 -> 3 ──────────────────────────────────────────────────────\n",
       "                                                                      \n",
       " ancilla_1 -> 4 ──────────────────────────────────────────────────────\n",
       "                                                                      "
      ]
     },
     "metadata": {},
     "output_type": "display_data"
    },
    {
     "data": {
      "text/html": [
       "<pre style=\"word-wrap: normal;white-space: pre;background: #fff0;line-height: 1.1;font-family: &quot;Courier New&quot;,Courier,monospace\">                ┌──────────────┐          ┌───┐          ┌───┐ Litmus \n",
       "Litmus_0_2 -> 0 ┤ Rz(Litmus_2) ├───────■──┤ X ├──■───────┤ X ├───░────\n",
       "                ├──────────────┤     ┌─┴─┐└─┬─┘┌─┴─┐┌───┐└─┬─┘   ░    \n",
       "Litmus_0_0 -> 1 ┤ Rz(Litmus_0) ├──■──┤ X ├──■──┤ X ├┤ X ├──■─────░────\n",
       "                ├──────────────┤┌─┴─┐└───┘     └───┘└─┬─┘        ░    \n",
       "Litmus_0_1 -> 2 ┤ Rz(Litmus_1) ├┤ X ├─────────────────■──────────░────\n",
       "                └──────────────┘└───┘                            ░    \n",
       " ancilla_0 -> 3 ──────────────────────────────────────────────────────\n",
       "                                                                      \n",
       " ancilla_1 -> 4 ──────────────────────────────────────────────────────\n",
       "                                                                      </pre>"
      ],
      "text/plain": [
       "                ┌──────────────┐          ┌───┐          ┌───┐ Litmus \n",
       "Litmus_0_2 -> 0 ┤ Rz(Litmus_2) ├───────■──┤ X ├──■───────┤ X ├───░────\n",
       "                ├──────────────┤     ┌─┴─┐└─┬─┘┌─┴─┐┌───┐└─┬─┘   ░    \n",
       "Litmus_0_0 -> 1 ┤ Rz(Litmus_0) ├──■──┤ X ├──■──┤ X ├┤ X ├──■─────░────\n",
       "                ├──────────────┤┌─┴─┐└───┘     └───┘└─┬─┘        ░    \n",
       "Litmus_0_1 -> 2 ┤ Rz(Litmus_1) ├┤ X ├─────────────────■──────────░────\n",
       "                └──────────────┘└───┘                            ░    \n",
       " ancilla_0 -> 3 ──────────────────────────────────────────────────────\n",
       "                                                                      \n",
       " ancilla_1 -> 4 ──────────────────────────────────────────────────────\n",
       "                                                                      "
      ]
     },
     "metadata": {},
     "output_type": "display_data"
    },
    {
     "data": {
      "text/html": [
       "<pre style=\"word-wrap: normal;white-space: pre;background: #fff0;line-height: 1.1;font-family: &quot;Courier New&quot;,Courier,monospace\">                ┌──────────────┐     ┌───┐                       ░    \n",
       "Litmus_0_2 -> 0 ┤ Rz(Litmus_2) ├─────┤ X ├─────────────────■─────░────\n",
       "                └──────────────┘     └─┬─┘                 │     ░    \n",
       "                ┌──────────────┐┌───┐  │  ┌───┐     ┌───┐┌─┴─┐ Litmus \n",
       "Litmus_0_1 -> 1 ┤ Rz(Litmus_1) ├┤ X ├──■──┤ X ├──■──┤ X ├┤ X ├───░────\n",
       "                ├──────────────┤└─┬─┘     └─┬─┘┌─┴─┐└─┬─┘└───┘   ░    \n",
       "Litmus_0_0 -> 2 ┤ Rz(Litmus_0) ├──■─────────■──┤ X ├──■──────────░────\n",
       "                └──────────────┘               └───┘             ░    \n",
       " ancilla_0 -> 3 ──────────────────────────────────────────────────────\n",
       "                                                                      \n",
       " ancilla_1 -> 4 ──────────────────────────────────────────────────────\n",
       "                                                                      </pre>"
      ],
      "text/plain": [
       "                ┌──────────────┐     ┌───┐                       ░    \n",
       "Litmus_0_2 -> 0 ┤ Rz(Litmus_2) ├─────┤ X ├─────────────────■─────░────\n",
       "                └──────────────┘     └─┬─┘                 │     ░    \n",
       "                ┌──────────────┐┌───┐  │  ┌───┐     ┌───┐┌─┴─┐ Litmus \n",
       "Litmus_0_1 -> 1 ┤ Rz(Litmus_1) ├┤ X ├──■──┤ X ├──■──┤ X ├┤ X ├───░────\n",
       "                ├──────────────┤└─┬─┘     └─┬─┘┌─┴─┐└─┬─┘└───┘   ░    \n",
       "Litmus_0_0 -> 2 ┤ Rz(Litmus_0) ├──■─────────■──┤ X ├──■──────────░────\n",
       "                └──────────────┘               └───┘             ░    \n",
       " ancilla_0 -> 3 ──────────────────────────────────────────────────────\n",
       "                                                                      \n",
       " ancilla_1 -> 4 ──────────────────────────────────────────────────────\n",
       "                                                                      "
      ]
     },
     "metadata": {},
     "output_type": "display_data"
    }
   ],
   "source": [
    "# Display Circuits\n",
    "\n",
    "display(transpiled_litmus_circuit.draw(fold=-1))\n",
    "display(transpiled_litmus_circuit_same_seed.draw(fold=-1))\n",
    "display(transpiled_litmus_circuit_other_seed.draw(fold=-1))"
   ]
  },
  {
   "cell_type": "code",
   "execution_count": 13,
   "metadata": {
    "id": "oTquckWRahSe"
   },
   "outputs": [
    {
     "data": {
      "text/plain": [
       "53917699254062553287735835084446225408834725910758070812350368677283212102985"
      ]
     },
     "metadata": {},
     "output_type": "display_data"
    },
    {
     "data": {
      "text/plain": [
       "53917699254062553287735835084446225408834725910758070812350368677283212102985"
      ]
     },
     "metadata": {},
     "output_type": "display_data"
    },
    {
     "data": {
      "text/plain": [
       "58942053007377106266998516815207512147048211035462556228034425281922438593770"
      ]
     },
     "metadata": {},
     "output_type": "display_data"
    }
   ],
   "source": [
    "# Display Hashes\n",
    "\n",
    "display(get_circuit_hash(transpiled_litmus_circuit))\n",
    "display(get_circuit_hash(transpiled_litmus_circuit_same_seed))\n",
    "display(get_circuit_hash(transpiled_litmus_circuit_other_seed))"
   ]
  },
  {
   "cell_type": "code",
   "execution_count": 14,
   "metadata": {
    "id": "4KEjDKRuam40"
   },
   "outputs": [
    {
     "name": "stdout",
     "output_type": "stream",
     "text": [
      "gates_count: 0\n",
      "elapsed_time:0.00023\n",
      "gates_count: 1000\n",
      "elapsed_time:0.11667\n",
      "gates_count: 2000\n",
      "elapsed_time:0.23836\n",
      "gates_count: 3000\n",
      "elapsed_time:0.43414\n",
      "gates_count: 4000\n",
      "elapsed_time:0.57078\n"
     ]
    }
   ],
   "source": [
    "QUBITS_COUNT = 100\n",
    "MAX_LAYERS_COUNT = 5\n",
    "\n",
    "GATES = ['x', 'y', 'z',\n",
    "         'rx', 'ry', 'rz',\n",
    "         'rxx', 'ryy', 'rzz',\n",
    "         'swap', 'id']\n",
    "\n",
    "gates_counts = []\n",
    "layers_counts = []\n",
    "elapsed_times = []\n",
    "\n",
    "for layers_count in range(MAX_LAYERS_COUNT):\n",
    "\n",
    "    circuit = qiskit.circuit.library.EfficientSU2(QUBITS_COUNT,\n",
    "                                                  reps=layers_count,\n",
    "                                                  su2_gates=GATES,\n",
    "                                                  entanglement=\"circular\",\n",
    "                                                  skip_final_rotation_layer=True)\n",
    "\n",
    "\n",
    "    circuit_decomposed = circuit.decompose(None, 1)\n",
    "    gates_count = len(circuit_decomposed.data)\n",
    "    print(\"gates_count:\", gates_count)\n",
    "\n",
    "    start_time = time()\n",
    "    circuit_hash = get_circuit_hash(circuit_decomposed)\n",
    "    elapsed_time = time() - start_time\n",
    "    gates_counts.append(gates_count)\n",
    "    layers_counts.append(layers_count)\n",
    "    elapsed_times.append(elapsed_time)\n",
    "    print(f\"elapsed_time:{elapsed_time:.5f}\")\n",
    "\n",
    "    # circuit_decomposed.draw(fold=-1)"
   ]
  },
  {
   "cell_type": "markdown",
   "metadata": {
    "id": "uw_GAvu3aqIo"
   },
   "source": [
    "From the plot  for the hashing time as a function of gate counts **a linear dependency is observed**:"
   ]
  },
  {
   "cell_type": "code",
   "execution_count": 15,
   "metadata": {
    "id": "eK3FiVqvao4r",
    "scrolled": true
   },
   "outputs": [],
   "source": [
    "#Plot Hashing Time as a function of the number of gates\n",
    "\n",
    "# plt.title(\"Hashing Time\")\n",
    "\n",
    "# plt.xlabel(\"Gates count\")\n",
    "# plt.ylabel(\"Time, seconds\")\n",
    "\n",
    "# plt.plot(gates_counts, elapsed_times);"
   ]
  },
  {
   "cell_type": "markdown",
   "metadata": {},
   "source": [
    "![image.png](Fig3_timehashing.png) \n",
    "\n",
    "*Fig.3. Hashing time as a function of gate counts for the circuit above.*"
   ]
  }
 ],
 "metadata": {
  "colab": {
   "provenance": []
  },
  "kernelspec": {
   "display_name": "Qiskit_1_2",
   "language": "python",
   "name": "qiskit_1_2"
  },
  "language_info": {
   "codemirror_mode": {
    "name": "ipython",
    "version": 3
   },
   "file_extension": ".py",
   "mimetype": "text/x-python",
   "name": "python",
   "nbconvert_exporter": "python",
   "pygments_lexer": "ipython3",
   "version": "3.12.3"
  }
 },
 "nbformat": 4,
 "nbformat_minor": 4
}
