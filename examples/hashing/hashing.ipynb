{
 "cells": [
  {
   "cell_type": "markdown",
   "id": "d32179e1-381a-45b8-9ac1-fa20e246c680",
   "metadata": {},
   "source": [
    "# Hashing"
   ]
  },
  {
   "cell_type": "markdown",
   "id": "2a12ba87-a197-4177-8f26-62d09b0e2319",
   "metadata": {},
   "source": [
    "Function `get_circuit_hash` calculates SHA256 hash for given quantum circuit.\n",
    "\n",
    "Hash is based on properties of circuit gates:\n",
    "\n",
    "- Instruction class (RX, CNOT, CRZ, etc.)\n",
    "- Parameter values (angles)\n",
    "- Used qubits\n",
    "- Used classical bits\n",
    "\n",
    "Parameter names are ignored - circuits with not-bound RZ(\"theta_1\") and RZ(\"theta_2\") will have equal hashes.\n",
    "\n",
    "Inspired by Qiskit `soft_compare` gate function:\n",
    "\n",
    "https://github.com/Qiskit/qiskit/blob/main/qiskit/circuit/instruction.py#L227"
   ]
  },
  {
   "cell_type": "markdown",
   "id": "82b01fe3-8c11-4c68-a28a-7129b654d004",
   "metadata": {},
   "source": [
    "### Imports"
   ]
  },
  {
   "cell_type": "code",
   "execution_count": 1,
   "id": "af9592af-2603-4a2c-8ac4-0fff83526ff5",
   "metadata": {},
   "outputs": [
    {
     "name": "stdout",
     "output_type": "stream",
     "text": [
      "/mnt/c/Users/mohor/Jupyter/Haiqu/transpiler\n"
     ]
    }
   ],
   "source": [
    "import qiskit\n",
    "\n",
    "from qiskit.providers.fake_provider import FakeBackend5QV2\n",
    "from qiskit.providers.fake_provider import FakeLimaV2\n",
    "from qiskit.providers.fake_provider import FakeMontrealV2\n",
    "from qiskit.providers.fake_provider import FakeGuadalupeV2\n",
    "from qiskit.providers.fake_provider import FakeBoeblingenV2\n",
    "\n",
    "from time import time\n",
    "from matplotlib import pyplot as plt\n",
    "\n",
    "plt.style.use(\"dark_background\")\n",
    "\n",
    "%cd ../..\n",
    "\n",
    "from rivet_transpiler import get_circuit_hash\n",
    "\n",
    "from rivet_transpiler import get_litmus_circuit\n",
    "from rivet_transpiler import transpile"
   ]
  },
  {
   "cell_type": "markdown",
   "id": "a71ecc7f-b4fc-457c-9611-ff5441ad29bb",
   "metadata": {},
   "source": [
    "### Backend"
   ]
  },
  {
   "cell_type": "code",
   "execution_count": 2,
   "id": "df4e1f2d-132b-44de-9d8e-2c85f75b9829",
   "metadata": {},
   "outputs": [],
   "source": [
    "FAKE_BACKEND = FakeBackend5QV2()\n",
    "# FAKE_BACKEND = FakeLimaV2()\n",
    "# FAKE_BACKEND = FakeGuadalupeV2()\n",
    "# FAKE_BACKEND = FakeBoeblingenV2()\n",
    "# FAKE_BACKEND = FakeMontrealV2()\n",
    "\n",
    "backend = qiskit.providers.aer.AerSimulator.from_backend(FAKE_BACKEND)\n",
    "\n",
    "# backend.options.noise_model = None\n",
    "\n",
    "# qiskit.visualization.plot_gate_map(FAKE_BACKEND)"
   ]
  },
  {
   "cell_type": "markdown",
   "id": "d3a74d41-8138-485c-a116-d36fc1309c48",
   "metadata": {},
   "source": [
    "### Circuit"
   ]
  },
  {
   "cell_type": "code",
   "execution_count": 3,
   "id": "c3dd1efa-82c8-4bf6-8ccc-1098fbebd392",
   "metadata": {},
   "outputs": [],
   "source": [
    "QUBITS_COUNT = 3\n",
    "\n",
    "litmus_circuit = get_litmus_circuit(QUBITS_COUNT, \"Litmus\")"
   ]
  },
  {
   "cell_type": "markdown",
   "id": "aeb4db8c-1435-4ff3-a873-86c74f6ed541",
   "metadata": {},
   "source": [
    "### Compare Simple Hashes"
   ]
  },
  {
   "cell_type": "code",
   "execution_count": 4,
   "id": "867769a8-b19a-4e3d-af71-e5f623267981",
   "metadata": {},
   "outputs": [
    {
     "data": {
      "text/plain": [
       "35195386635468474207423849615131271890563224714466150433435732026163027928954"
      ]
     },
     "execution_count": 4,
     "metadata": {},
     "output_type": "execute_result"
    }
   ],
   "source": [
    "xh_circuit = qiskit.QuantumCircuit(2)\n",
    "\n",
    "xh_circuit.x(0)\n",
    "xh_circuit.h(1)\n",
    "\n",
    "xh_circuit.draw()\n",
    "\n",
    "get_circuit_hash(xh_circuit)"
   ]
  },
  {
   "cell_type": "code",
   "execution_count": 5,
   "id": "4478c903-64a9-40d7-9ae6-04f68bffb0dd",
   "metadata": {},
   "outputs": [
    {
     "data": {
      "text/plain": [
       "35195386635468474207423849615131271890563224714466150433435732026163027928954"
      ]
     },
     "execution_count": 5,
     "metadata": {},
     "output_type": "execute_result"
    }
   ],
   "source": [
    "hx_circuit = qiskit.QuantumCircuit(2)\n",
    "\n",
    "hx_circuit.h(1)\n",
    "hx_circuit.x(0)\n",
    "\n",
    "hx_circuit.draw()\n",
    "\n",
    "get_circuit_hash(hx_circuit)"
   ]
  },
  {
   "cell_type": "markdown",
   "id": "e1da2735-e73d-4371-a1ff-231077aa4cc0",
   "metadata": {},
   "source": [
    "### Compare Parameters Hashes"
   ]
  },
  {
   "cell_type": "code",
   "execution_count": 6,
   "id": "7bfaf942-5655-4695-85a0-2791cd54efbe",
   "metadata": {},
   "outputs": [],
   "source": [
    "def bind_parameters_with_offset(circuit, offset=0):\n",
    "\n",
    "    bound_circuit = circuit.copy()\n",
    "\n",
    "    for index, parameter in enumerate(bound_circuit.parameters):\n",
    "\n",
    "        bound_circuit.assign_parameters(\n",
    "            {parameter: index + offset},\n",
    "            inplace=True)\n",
    "\n",
    "    return bound_circuit"
   ]
  },
  {
   "cell_type": "code",
   "execution_count": 7,
   "id": "f0000022-a3c3-44e0-9c54-598c3bf8f9cc",
   "metadata": {},
   "outputs": [],
   "source": [
    "# Bound Circuits\n",
    "\n",
    "bound_circuit = bind_parameters_with_offset(litmus_circuit, offset=0)\n",
    "bound_circuit_same_parameters = bind_parameters_with_offset(litmus_circuit, offset=0)\n",
    "bound_circuit_other_parameters = bind_parameters_with_offset(litmus_circuit, offset=1)\n",
    "\n",
    "# Hashes\n",
    "\n",
    "circuit_hash = get_circuit_hash(bound_circuit)\n",
    "circuit_same_parameters_hash = get_circuit_hash(bound_circuit_same_parameters)\n",
    "circuit_other_parameters_hash = get_circuit_hash(bound_circuit_other_parameters)"
   ]
  },
  {
   "cell_type": "code",
   "execution_count": 8,
   "id": "7a492e1c-dec5-4c2e-b711-2b62a38f7440",
   "metadata": {},
   "outputs": [
    {
     "data": {
      "text/html": [
       "<pre style=\"word-wrap: normal;white-space: pre;background: #fff0;line-height: 1.1;font-family: &quot;Courier New&quot;,Courier,monospace\">            ┌───────┐          ┌───┐ Litmus \n",
       "Litmus_0_0: ┤ Rz(0) ├──■───────┤ X ├───░────\n",
       "            ├───────┤┌─┴─┐     └─┬─┘   ░    \n",
       "Litmus_0_1: ┤ Rz(1) ├┤ X ├──■────┼─────░────\n",
       "            ├───────┤└───┘┌─┴─┐  │     ░    \n",
       "Litmus_0_2: ┤ Rz(2) ├─────┤ X ├──■─────░────\n",
       "            └───────┘     └───┘        ░    </pre>"
      ],
      "text/plain": [
       "            ┌───────┐          ┌───┐ Litmus \n",
       "Litmus_0_0: ┤ Rz(0) ├──■───────┤ X ├───░────\n",
       "            ├───────┤┌─┴─┐     └─┬─┘   ░    \n",
       "Litmus_0_1: ┤ Rz(1) ├┤ X ├──■────┼─────░────\n",
       "            ├───────┤└───┘┌─┴─┐  │     ░    \n",
       "Litmus_0_2: ┤ Rz(2) ├─────┤ X ├──■─────░────\n",
       "            └───────┘     └───┘        ░    "
      ]
     },
     "metadata": {},
     "output_type": "display_data"
    },
    {
     "data": {
      "text/html": [
       "<pre style=\"word-wrap: normal;white-space: pre;background: #fff0;line-height: 1.1;font-family: &quot;Courier New&quot;,Courier,monospace\">            ┌───────┐          ┌───┐ Litmus \n",
       "Litmus_0_0: ┤ Rz(0) ├──■───────┤ X ├───░────\n",
       "            ├───────┤┌─┴─┐     └─┬─┘   ░    \n",
       "Litmus_0_1: ┤ Rz(1) ├┤ X ├──■────┼─────░────\n",
       "            ├───────┤└───┘┌─┴─┐  │     ░    \n",
       "Litmus_0_2: ┤ Rz(2) ├─────┤ X ├──■─────░────\n",
       "            └───────┘     └───┘        ░    </pre>"
      ],
      "text/plain": [
       "            ┌───────┐          ┌───┐ Litmus \n",
       "Litmus_0_0: ┤ Rz(0) ├──■───────┤ X ├───░────\n",
       "            ├───────┤┌─┴─┐     └─┬─┘   ░    \n",
       "Litmus_0_1: ┤ Rz(1) ├┤ X ├──■────┼─────░────\n",
       "            ├───────┤└───┘┌─┴─┐  │     ░    \n",
       "Litmus_0_2: ┤ Rz(2) ├─────┤ X ├──■─────░────\n",
       "            └───────┘     └───┘        ░    "
      ]
     },
     "metadata": {},
     "output_type": "display_data"
    },
    {
     "data": {
      "text/html": [
       "<pre style=\"word-wrap: normal;white-space: pre;background: #fff0;line-height: 1.1;font-family: &quot;Courier New&quot;,Courier,monospace\">            ┌───────┐          ┌───┐ Litmus \n",
       "Litmus_0_0: ┤ Rz(1) ├──■───────┤ X ├───░────\n",
       "            ├───────┤┌─┴─┐     └─┬─┘   ░    \n",
       "Litmus_0_1: ┤ Rz(2) ├┤ X ├──■────┼─────░────\n",
       "            ├───────┤└───┘┌─┴─┐  │     ░    \n",
       "Litmus_0_2: ┤ Rz(3) ├─────┤ X ├──■─────░────\n",
       "            └───────┘     └───┘        ░    </pre>"
      ],
      "text/plain": [
       "            ┌───────┐          ┌───┐ Litmus \n",
       "Litmus_0_0: ┤ Rz(1) ├──■───────┤ X ├───░────\n",
       "            ├───────┤┌─┴─┐     └─┬─┘   ░    \n",
       "Litmus_0_1: ┤ Rz(2) ├┤ X ├──■────┼─────░────\n",
       "            ├───────┤└───┘┌─┴─┐  │     ░    \n",
       "Litmus_0_2: ┤ Rz(3) ├─────┤ X ├──■─────░────\n",
       "            └───────┘     └───┘        ░    "
      ]
     },
     "metadata": {},
     "output_type": "display_data"
    }
   ],
   "source": [
    "# Display Circuits\n",
    "\n",
    "display(bound_circuit.draw(fold=-1))\n",
    "display(bound_circuit_same_parameters.draw(fold=-1))\n",
    "display(bound_circuit_other_parameters.draw(fold=-1))"
   ]
  },
  {
   "cell_type": "code",
   "execution_count": 9,
   "id": "f982ab10-82f8-47be-9a16-bbc8b06f3413",
   "metadata": {},
   "outputs": [
    {
     "data": {
      "text/plain": [
       "4642944103533911329615372877721660124307866704205570878861194786535286835885"
      ]
     },
     "metadata": {},
     "output_type": "display_data"
    },
    {
     "data": {
      "text/plain": [
       "4642944103533911329615372877721660124307866704205570878861194786535286835885"
      ]
     },
     "metadata": {},
     "output_type": "display_data"
    },
    {
     "data": {
      "text/plain": [
       "74930998930434162224983456988634605681299729030239498712364267790879520955291"
      ]
     },
     "metadata": {},
     "output_type": "display_data"
    }
   ],
   "source": [
    "# Display Hashes\n",
    "\n",
    "display(get_circuit_hash(bound_circuit))\n",
    "display(get_circuit_hash(bound_circuit_same_parameters))\n",
    "display(get_circuit_hash(bound_circuit_other_parameters))"
   ]
  },
  {
   "cell_type": "markdown",
   "id": "7040bb91-4326-43dd-a090-6bf26d18bc38",
   "metadata": {},
   "source": [
    "### Compare Structure Hashes"
   ]
  },
  {
   "cell_type": "code",
   "execution_count": 10,
   "id": "e0b975be-7f6e-44a2-990f-a771ecc91610",
   "metadata": {},
   "outputs": [],
   "source": [
    "# Circuits\n",
    "\n",
    "transpiled_litmus_circuit = transpile(\n",
    "    litmus_circuit, \n",
    "    backend,\n",
    "    # optimization_level=3,\n",
    "    # initial_layout=[1, 2, 3],\n",
    "    seed_transpiler=1234,\n",
    ")\n",
    "\n",
    "transpiled_litmus_circuit_same_seed = transpile(\n",
    "    litmus_circuit, \n",
    "    backend,\n",
    "    # optimization_level=3,\n",
    "    # initial_layout=[1, 2, 3],\n",
    "    seed_transpiler=1234,\n",
    ")\n",
    "\n",
    "transpiled_litmus_circuit_other_seed = transpile(\n",
    "    litmus_circuit, \n",
    "    backend,\n",
    "    # optimization_level=3,\n",
    "    # initial_layout=[1, 2, 3],\n",
    "    seed_transpiler=777,\n",
    ")"
   ]
  },
  {
   "cell_type": "code",
   "execution_count": 11,
   "id": "1246dfc8-ad15-4fe7-baa2-70ad8aac05ca",
   "metadata": {},
   "outputs": [
    {
     "data": {
      "text/html": [
       "<pre style=\"word-wrap: normal;white-space: pre;background: #fff0;line-height: 1.1;font-family: &quot;Courier New&quot;,Courier,monospace\">global phase: -0.5*Litmus_0 - 0.5*Litmus_1 - 0.5*Litmus_2\n",
       "                                                                    \n",
       " ancilla_0 -> 0 ────────────────────────────────────────────────────\n",
       "                ┌─────────────────┐          ┌───┐          ┌───┐ ░ \n",
       "Litmus_0_2 -> 1 ┤ U(0,0,Litmus_2) ├───────■──┤ X ├──■───────┤ X ├─░─\n",
       "                ├─────────────────┤     ┌─┴─┐└─┬─┘┌─┴─┐┌───┐└─┬─┘ ░ \n",
       "Litmus_0_0 -> 2 ┤ U(0,0,Litmus_0) ├──■──┤ X ├──■──┤ X ├┤ X ├──■───░─\n",
       "                ├─────────────────┤┌─┴─┐└───┘     └───┘└─┬─┘      ░ \n",
       "Litmus_0_1 -> 3 ┤ U(0,0,Litmus_1) ├┤ X ├─────────────────■────────░─\n",
       "                └─────────────────┘└───┘                          ░ \n",
       " ancilla_1 -> 4 ────────────────────────────────────────────────────\n",
       "                                                                    </pre>"
      ],
      "text/plain": [
       "global phase: -0.5*Litmus_0 - 0.5*Litmus_1 - 0.5*Litmus_2\n",
       "                                                                    \n",
       " ancilla_0 -> 0 ────────────────────────────────────────────────────\n",
       "                ┌─────────────────┐          ┌───┐          ┌───┐ ░ \n",
       "Litmus_0_2 -> 1 ┤ U(0,0,Litmus_2) ├───────■──┤ X ├──■───────┤ X ├─░─\n",
       "                ├─────────────────┤     ┌─┴─┐└─┬─┘┌─┴─┐┌───┐└─┬─┘ ░ \n",
       "Litmus_0_0 -> 2 ┤ U(0,0,Litmus_0) ├──■──┤ X ├──■──┤ X ├┤ X ├──■───░─\n",
       "                ├─────────────────┤┌─┴─┐└───┘     └───┘└─┬─┘      ░ \n",
       "Litmus_0_1 -> 3 ┤ U(0,0,Litmus_1) ├┤ X ├─────────────────■────────░─\n",
       "                └─────────────────┘└───┘                          ░ \n",
       " ancilla_1 -> 4 ────────────────────────────────────────────────────\n",
       "                                                                    "
      ]
     },
     "metadata": {},
     "output_type": "display_data"
    },
    {
     "data": {
      "text/html": [
       "<pre style=\"word-wrap: normal;white-space: pre;background: #fff0;line-height: 1.1;font-family: &quot;Courier New&quot;,Courier,monospace\">global phase: -0.5*Litmus_0 - 0.5*Litmus_1 - 0.5*Litmus_2\n",
       "                                                                    \n",
       " ancilla_0 -> 0 ────────────────────────────────────────────────────\n",
       "                ┌─────────────────┐          ┌───┐          ┌───┐ ░ \n",
       "Litmus_0_2 -> 1 ┤ U(0,0,Litmus_2) ├───────■──┤ X ├──■───────┤ X ├─░─\n",
       "                ├─────────────────┤     ┌─┴─┐└─┬─┘┌─┴─┐┌───┐└─┬─┘ ░ \n",
       "Litmus_0_0 -> 2 ┤ U(0,0,Litmus_0) ├──■──┤ X ├──■──┤ X ├┤ X ├──■───░─\n",
       "                ├─────────────────┤┌─┴─┐└───┘     └───┘└─┬─┘      ░ \n",
       "Litmus_0_1 -> 3 ┤ U(0,0,Litmus_1) ├┤ X ├─────────────────■────────░─\n",
       "                └─────────────────┘└───┘                          ░ \n",
       " ancilla_1 -> 4 ────────────────────────────────────────────────────\n",
       "                                                                    </pre>"
      ],
      "text/plain": [
       "global phase: -0.5*Litmus_0 - 0.5*Litmus_1 - 0.5*Litmus_2\n",
       "                                                                    \n",
       " ancilla_0 -> 0 ────────────────────────────────────────────────────\n",
       "                ┌─────────────────┐          ┌───┐          ┌───┐ ░ \n",
       "Litmus_0_2 -> 1 ┤ U(0,0,Litmus_2) ├───────■──┤ X ├──■───────┤ X ├─░─\n",
       "                ├─────────────────┤     ┌─┴─┐└─┬─┘┌─┴─┐┌───┐└─┬─┘ ░ \n",
       "Litmus_0_0 -> 2 ┤ U(0,0,Litmus_0) ├──■──┤ X ├──■──┤ X ├┤ X ├──■───░─\n",
       "                ├─────────────────┤┌─┴─┐└───┘     └───┘└─┬─┘      ░ \n",
       "Litmus_0_1 -> 3 ┤ U(0,0,Litmus_1) ├┤ X ├─────────────────■────────░─\n",
       "                └─────────────────┘└───┘                          ░ \n",
       " ancilla_1 -> 4 ────────────────────────────────────────────────────\n",
       "                                                                    "
      ]
     },
     "metadata": {},
     "output_type": "display_data"
    },
    {
     "data": {
      "text/html": [
       "<pre style=\"word-wrap: normal;white-space: pre;background: #fff0;line-height: 1.1;font-family: &quot;Courier New&quot;,Courier,monospace\">global phase: -0.5*Litmus_0 - 0.5*Litmus_1 - 0.5*Litmus_2\n",
       "                                                                    \n",
       " ancilla_0 -> 0 ────────────────────────────────────────────────────\n",
       "                ┌─────────────────┐               ┌───┐           ░ \n",
       "Litmus_0_0 -> 1 ┤ U(0,0,Litmus_0) ├──■─────────■──┤ X ├──■────────░─\n",
       "                ├─────────────────┤┌─┴─┐     ┌─┴─┐└─┬─┘┌─┴─┐┌───┐ ░ \n",
       "Litmus_0_1 -> 2 ┤ U(0,0,Litmus_1) ├┤ X ├──■──┤ X ├──■──┤ X ├┤ X ├─░─\n",
       "                ├─────────────────┤└───┘┌─┴─┐└───┘     └───┘└─┬─┘ ░ \n",
       "Litmus_0_2 -> 3 ┤ U(0,0,Litmus_2) ├─────┤ X ├─────────────────■───░─\n",
       "                └─────────────────┘     └───┘                     ░ \n",
       " ancilla_1 -> 4 ────────────────────────────────────────────────────\n",
       "                                                                    </pre>"
      ],
      "text/plain": [
       "global phase: -0.5*Litmus_0 - 0.5*Litmus_1 - 0.5*Litmus_2\n",
       "                                                                    \n",
       " ancilla_0 -> 0 ────────────────────────────────────────────────────\n",
       "                ┌─────────────────┐               ┌───┐           ░ \n",
       "Litmus_0_0 -> 1 ┤ U(0,0,Litmus_0) ├──■─────────■──┤ X ├──■────────░─\n",
       "                ├─────────────────┤┌─┴─┐     ┌─┴─┐└─┬─┘┌─┴─┐┌───┐ ░ \n",
       "Litmus_0_1 -> 2 ┤ U(0,0,Litmus_1) ├┤ X ├──■──┤ X ├──■──┤ X ├┤ X ├─░─\n",
       "                ├─────────────────┤└───┘┌─┴─┐└───┘     └───┘└─┬─┘ ░ \n",
       "Litmus_0_2 -> 3 ┤ U(0,0,Litmus_2) ├─────┤ X ├─────────────────■───░─\n",
       "                └─────────────────┘     └───┘                     ░ \n",
       " ancilla_1 -> 4 ────────────────────────────────────────────────────\n",
       "                                                                    "
      ]
     },
     "metadata": {},
     "output_type": "display_data"
    }
   ],
   "source": [
    "# Display Circuits\n",
    "\n",
    "display(transpiled_litmus_circuit.draw(fold=-1))\n",
    "display(transpiled_litmus_circuit_same_seed.draw(fold=-1))\n",
    "display(transpiled_litmus_circuit_other_seed.draw(fold=-1))"
   ]
  },
  {
   "cell_type": "code",
   "execution_count": 12,
   "id": "79265e1c-5845-4489-94b6-3f13e98968ab",
   "metadata": {},
   "outputs": [
    {
     "data": {
      "text/plain": [
       "2286342043661477104443862416025942716180999537956515207706726784862802071863"
      ]
     },
     "metadata": {},
     "output_type": "display_data"
    },
    {
     "data": {
      "text/plain": [
       "2286342043661477104443862416025942716180999537956515207706726784862802071863"
      ]
     },
     "metadata": {},
     "output_type": "display_data"
    },
    {
     "data": {
      "text/plain": [
       "80751598812266302800464478219261022123798251024283931095910939984807661003945"
      ]
     },
     "metadata": {},
     "output_type": "display_data"
    }
   ],
   "source": [
    "# Display Hashes\n",
    "\n",
    "display(get_circuit_hash(transpiled_litmus_circuit))\n",
    "display(get_circuit_hash(transpiled_litmus_circuit_same_seed))\n",
    "display(get_circuit_hash(transpiled_litmus_circuit_other_seed))"
   ]
  },
  {
   "cell_type": "markdown",
   "id": "3774856a-be61-43ed-8cd6-1aecf08b9dd7",
   "metadata": {},
   "source": [
    "### Circuit Hash Dictionary"
   ]
  },
  {
   "cell_type": "markdown",
   "id": "94ffae02-fdee-4acb-8645-9fb018ece48d",
   "metadata": {},
   "source": [
    "Custom dictionary class that stores and looks up quantum circuit hashes instead of circuits"
   ]
  },
  {
   "cell_type": "code",
   "execution_count": 13,
   "id": "043c77ca-22a8-4855-9de3-a04d2055bcc6",
   "metadata": {},
   "outputs": [],
   "source": [
    "class CircuitHashDict(dict):\n",
    "    \n",
    "    @staticmethod\n",
    "    def get_key_hash(key):\n",
    "    \n",
    "        if isinstance(key, qiskit.QuantumCircuit):\n",
    "            key_hash = get_circuit_hash(key)\n",
    "            \n",
    "        else:\n",
    "            key_hash = key\n",
    "            \n",
    "        return key_hash\n",
    "    \n",
    "    \n",
    "    def __setitem__(self, key, value):\n",
    "            \n",
    "        key_hash = self.get_key_hash(key)\n",
    "            \n",
    "        super().__setitem__(key_hash, value)\n",
    "        \n",
    "    \n",
    "    def __getitem__(self, key):\n",
    "        \n",
    "        key_hash = self.get_key_hash(key)\n",
    "\n",
    "        value = super().__getitem__(key_hash)\n",
    "        \n",
    "        return value"
   ]
  },
  {
   "cell_type": "code",
   "execution_count": 14,
   "id": "9e968192-5e4d-4dd2-9764-b5138ffd12f0",
   "metadata": {},
   "outputs": [
    {
     "data": {
      "text/plain": [
       "38772261170797515502142737251560910253885555854579348417967781179871348437219"
      ]
     },
     "execution_count": 14,
     "metadata": {},
     "output_type": "execute_result"
    }
   ],
   "source": [
    "circuit = qiskit.QuantumCircuit(3)\n",
    "\n",
    "hash_value = get_circuit_hash(circuit)\n",
    "\n",
    "hash_value"
   ]
  },
  {
   "cell_type": "code",
   "execution_count": 15,
   "id": "ff99294a-545b-4d7a-b408-23c29f77c861",
   "metadata": {},
   "outputs": [
    {
     "data": {
      "text/plain": [
       "{38772261170797515502142737251560910253885555854579348417967781179871348437219: 100}"
      ]
     },
     "execution_count": 15,
     "metadata": {},
     "output_type": "execute_result"
    }
   ],
   "source": [
    "cd = CircuitHashDict()\n",
    "\n",
    "cd[circuit] = 100\n",
    "\n",
    "cd"
   ]
  },
  {
   "cell_type": "code",
   "execution_count": 16,
   "id": "0126c254-511f-4499-9a18-a4800ffb389a",
   "metadata": {},
   "outputs": [
    {
     "data": {
      "text/plain": [
       "True"
      ]
     },
     "execution_count": 16,
     "metadata": {},
     "output_type": "execute_result"
    }
   ],
   "source": [
    "get_circuit_hash(circuit) in cd"
   ]
  },
  {
   "cell_type": "code",
   "execution_count": 17,
   "id": "6a45ed41-8571-4ab0-8b28-8a24bf62afc5",
   "metadata": {},
   "outputs": [
    {
     "data": {
      "text/plain": [
       "100"
      ]
     },
     "execution_count": 17,
     "metadata": {},
     "output_type": "execute_result"
    }
   ],
   "source": [
    "cd[circuit]"
   ]
  },
  {
   "cell_type": "markdown",
   "id": "e16b1d7c-a870-4df0-a4ba-41bff89c82c3",
   "metadata": {},
   "source": [
    "### Hashing Time"
   ]
  },
  {
   "cell_type": "code",
   "execution_count": 18,
   "id": "2515903c-126c-405a-8352-eacbc21dede2",
   "metadata": {},
   "outputs": [
    {
     "name": "stdout",
     "output_type": "stream",
     "text": [
      "gates_count: 0\n",
      "elapsed_time:0.00136\n",
      "gates_count: 1000\n",
      "elapsed_time:0.01611\n",
      "gates_count: 2000\n",
      "elapsed_time:0.02798\n",
      "gates_count: 3000\n",
      "elapsed_time:0.04281\n",
      "gates_count: 4000\n",
      "elapsed_time:0.06817\n"
     ]
    }
   ],
   "source": [
    "QUBITS_COUNT = 100\n",
    "MAX_LAYERS_COUNT = 5\n",
    "\n",
    "GATES = ['x', 'y', 'z',\n",
    "         'rx', 'ry', 'rz',\n",
    "         'rxx', 'ryy', 'rzz',\n",
    "         'swap', 'i']\n",
    "\n",
    "gates_counts = []\n",
    "layers_counts = []\n",
    "elapsed_times = []\n",
    "\n",
    "for layers_count in range(MAX_LAYERS_COUNT):\n",
    "\n",
    "    circuit = qiskit.circuit.library.EfficientSU2(QUBITS_COUNT, \n",
    "                                                  reps=layers_count,\n",
    "                                                  su2_gates=GATES,\n",
    "                                                  entanglement=\"circular\",\n",
    "                                                  skip_final_rotation_layer=True)\n",
    "\n",
    "\n",
    "    circuit_decomposed = circuit.decompose(None, 1)\n",
    "\n",
    "    gates_count = len(circuit_decomposed.data)\n",
    "    \n",
    "    print(\"gates_count:\", gates_count)\n",
    "    \n",
    "    start_time = time()\n",
    "    \n",
    "    circuit_hash = get_circuit_hash(circuit_decomposed)\n",
    "    \n",
    "    elapsed_time = time() - start_time\n",
    "    \n",
    "    gates_counts.append(gates_count)\n",
    "    layers_counts.append(layers_count)\n",
    "    elapsed_times.append(elapsed_time)\n",
    "    \n",
    "    print(f\"elapsed_time:{elapsed_time:.5f}\")\n",
    "\n",
    "    # circuit_decomposed.draw(fold=-1)"
   ]
  },
  {
   "cell_type": "markdown",
   "id": "6819d96e-d929-4270-8706-a95c250f06f4",
   "metadata": {},
   "source": [
    "### Plot Hashing Time"
   ]
  },
  {
   "cell_type": "code",
   "execution_count": 19,
   "id": "19cca4f1-f18d-435b-bc97-d654fb5434eb",
   "metadata": {},
   "outputs": [
    {
     "data": {
      "image/png": "[encoded data removed]",
      "text/plain": [
       "<Figure size 432x288 with 1 Axes>"
      ]
     },
     "metadata": {
      "needs_background": "dark"
     },
     "output_type": "display_data"
    }
   ],
   "source": [
    "plt.title(\"Hashing Time\")\n",
    "\n",
    "plt.xlabel(\"Gates count\")\n",
    "plt.ylabel(\"Time, seconds\")\n",
    "\n",
    "plt.plot(gates_counts, elapsed_times);"
   ]
  },
  {
   "cell_type": "markdown",
   "id": "506b3399-a4e8-49c1-8c7d-a47520b5aa65",
   "metadata": {},
   "source": [
    "### Benchmarking"
   ]
  },
  {
   "cell_type": "code",
   "execution_count": 20,
   "id": "a591ad39-1c81-43e3-b428-ee7b46ae9c54",
   "metadata": {},
   "outputs": [],
   "source": [
    "# %%timeit -r 10 -n 100\n",
    "\n",
    "# get_circuit_hash(circuit)"
   ]
  },
  {
   "cell_type": "code",
   "execution_count": 21,
   "id": "8860f123-0496-432d-be1c-862d03b44022",
   "metadata": {},
   "outputs": [
    {
     "name": "stdout",
     "output_type": "stream",
     "text": [
      "64.6 ms ± 0 ns per loop (mean ± std. dev. of 1 run, 1 loop each)\n"
     ]
    }
   ],
   "source": [
    "%%timeit -r 1 -n 1\n",
    "\n",
    "get_circuit_hash(circuit_decomposed)"
   ]
  },
  {
   "cell_type": "code",
   "execution_count": null,
   "id": "9fa4c0ab-5626-4ea4-b35b-e983636bab6d",
   "metadata": {},
   "outputs": [],
   "source": []
  }
 ],
 "metadata": {
  "kernelspec": {
   "display_name": "Python 3 (ipykernel)",
   "language": "python",
   "name": "python3"
  },
  "language_info": {
   "codemirror_mode": {
    "name": "ipython",
    "version": 3
   },
   "file_extension": ".py",
   "mimetype": "text/x-python",
   "name": "python",
   "nbconvert_exporter": "python",
   "pygments_lexer": "ipython3",
   "version": "3.8.10"
  }
 },
 "nbformat": 4,
 "nbformat_minor": 5
}
