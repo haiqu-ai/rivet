{
 "cells": [
  {
   "cell_type": "markdown",
   "id": "22bd4494-6c2d-4755-b585-a3ebbf504bb3",
   "metadata": {},
   "source": [
    "## Topological Compression"
   ]
  },
  {
   "cell_type": "code",
   "execution_count": 1,
   "id": "42fadd84-cb17-49cb-9805-d9cb581d231a",
   "metadata": {},
   "outputs": [
    {
     "name": "stdout",
     "output_type": "stream",
     "text": [
      "/mnt/c/Users/mohor/Jupyter/Haiqu/transpiler\n"
     ]
    }
   ],
   "source": [
    "from rustworkx import closeness_centrality\n",
    "from rustworkx.visualization import mpl_draw\n",
    "\n",
    "import qiskit\n",
    "\n",
    "from qiskit.providers.aer import AerSimulator\n",
    "\n",
    "from qiskit.providers.fake_provider import FakeBackend5QV2\n",
    "from qiskit.providers.fake_provider import FakeLimaV2\n",
    "from qiskit.providers.fake_provider import FakeMontrealV2\n",
    "from qiskit.providers.fake_provider import FakeGuadalupeV2\n",
    "from qiskit.providers.fake_provider import FakeBoeblingenV2\n",
    "\n",
    "from qiskit.transpiler.preset_passmanagers import generate_preset_pass_manager\n",
    "\n",
    "from matplotlib import pyplot as plt\n",
    "\n",
    "plt.style.use(\"dark_background\")\n",
    "\n",
    "%cd ../..\n",
    "\n",
    "from qml_transpiler import transpile\n",
    "from qml_transpiler import get_full_map\n",
    "from qml_transpiler import get_litmus_circuit\n",
    "from qml_transpiler import get_limited_coupling_list\n",
    "\n",
    "from qml_transpiler import get_used_qubit_indices\n",
    "from qml_transpiler import transpile_and_compress"
   ]
  },
  {
   "cell_type": "markdown",
   "id": "232f6fb4-d59f-4470-a638-2acc03d9fc30",
   "metadata": {},
   "source": [
    "### Backend"
   ]
  },
  {
   "cell_type": "code",
   "execution_count": 2,
   "id": "e15c4325-0543-4268-a2cf-d966a2d1ddca",
   "metadata": {},
   "outputs": [],
   "source": [
    "# FAKE_BACKEND = FakeBackend5QV2()\n",
    "# FAKE_BACKEND = FakeLimaV2()\n",
    "# FAKE_BACKEND = FakeGuadalupeV2()\n",
    "# FAKE_BACKEND = FakeBoeblingenV2()\n",
    "FAKE_BACKEND = FakeMontrealV2()\n",
    "\n",
    "backend = qiskit.providers.aer.AerSimulator.from_backend(FAKE_BACKEND)\n",
    "\n",
    "# backend.options.noise_model = None\n",
    "\n",
    "# backend = AerSimulator()\n",
    "\n",
    "# qiskit.visualization.plot_gate_map(FAKE_BACKEND)"
   ]
  },
  {
   "cell_type": "markdown",
   "id": "d3a85367-aaa9-422d-a44a-d5fcebad9cae",
   "metadata": {},
   "source": [
    "### Circuit"
   ]
  },
  {
   "cell_type": "code",
   "execution_count": 3,
   "id": "e446ad21-ce1e-49d1-b90c-2f48ecdac8af",
   "metadata": {},
   "outputs": [
    {
     "data": {
      "text/html": [
       "<pre style=\"word-wrap: normal;white-space: pre;background: #fff0;line-height: 1.1;font-family: &quot;Courier New&quot;,Courier,monospace\">            ┌──────────────┐          ┌───┐ Litmus \n",
       "Litmus_0_0: ┤ Rz(Litmus_0) ├──■───────┤ X ├───░────\n",
       "            ├──────────────┤┌─┴─┐     └─┬─┘   ░    \n",
       "Litmus_0_1: ┤ Rz(Litmus_1) ├┤ X ├──■────┼─────░────\n",
       "            ├──────────────┤└───┘┌─┴─┐  │     ░    \n",
       "Litmus_0_2: ┤ Rz(Litmus_2) ├─────┤ X ├──■─────░────\n",
       "            └──────────────┘     └───┘        ░    </pre>"
      ],
      "text/plain": [
       "            ┌──────────────┐          ┌───┐ Litmus \n",
       "Litmus_0_0: ┤ Rz(Litmus_0) ├──■───────┤ X ├───░────\n",
       "            ├──────────────┤┌─┴─┐     └─┬─┘   ░    \n",
       "Litmus_0_1: ┤ Rz(Litmus_1) ├┤ X ├──■────┼─────░────\n",
       "            ├──────────────┤└───┘┌─┴─┐  │     ░    \n",
       "Litmus_0_2: ┤ Rz(Litmus_2) ├─────┤ X ├──■─────░────\n",
       "            └──────────────┘     └───┘        ░    "
      ]
     },
     "execution_count": 3,
     "metadata": {},
     "output_type": "execute_result"
    }
   ],
   "source": [
    "QUBITS_COUNT = 3\n",
    "\n",
    "litmus_circuit = get_litmus_circuit(QUBITS_COUNT, \"Litmus\")\n",
    "\n",
    "litmus_circuit.draw(fold=-1)"
   ]
  },
  {
   "cell_type": "markdown",
   "id": "ab9b4001-c312-401d-899a-1a7a16d57bfd",
   "metadata": {},
   "source": [
    "### Transpile"
   ]
  },
  {
   "cell_type": "code",
   "execution_count": 4,
   "id": "4836d902-f470-403f-94a3-51c90e8106c7",
   "metadata": {},
   "outputs": [
    {
     "data": {
      "text/html": [
       "<pre style=\"word-wrap: normal;white-space: pre;background: #fff0;line-height: 1.1;font-family: &quot;Courier New&quot;,Courier,monospace\">                                 ┌───┐                          ░ \n",
       " ancilla_13 -> 5 ───────■────────┤ X ├──■───────────────────────░─\n",
       "                      ┌─┴─┐      └─┬─┘┌─┴─┐                     ░ \n",
       " ancilla_14 -> 8 ─────┤ X ├────────■──┤ X ├─────────────────────░─\n",
       "                 ┌────┴───┴─────┐┌───┐└───┘                     ░ \n",
       "Litmus_0_1 -> 11 ┤ Rz(Litmus_1) ├┤ X ├─────────────────■────────░─\n",
       "                 ├──────────────┤└─┬─┘┌───┐     ┌───┐  │  ┌───┐ ░ \n",
       "Litmus_0_2 -> 13 ┤ Rz(Litmus_2) ├──┼──┤ X ├──■──┤ X ├──┼──┤ X ├─░─\n",
       "                 ├──────────────┤  │  └─┬─┘┌─┴─┐└─┬─┘┌─┴─┐└─┬─┘ ░ \n",
       "Litmus_0_0 -> 14 ┤ Rz(Litmus_0) ├──■────■──┤ X ├──■──┤ X ├──■───░─\n",
       "                 └──────────────┘          └───┘     └───┘      ░ </pre>"
      ],
      "text/plain": [
       "                                 ┌───┐                          ░ \n",
       " ancilla_13 -> 5 ───────■────────┤ X ├──■───────────────────────░─\n",
       "                      ┌─┴─┐      └─┬─┘┌─┴─┐                     ░ \n",
       " ancilla_14 -> 8 ─────┤ X ├────────■──┤ X ├─────────────────────░─\n",
       "                 ┌────┴───┴─────┐┌───┐└───┘                     ░ \n",
       "Litmus_0_1 -> 11 ┤ Rz(Litmus_1) ├┤ X ├─────────────────■────────░─\n",
       "                 ├──────────────┤└─┬─┘┌───┐     ┌───┐  │  ┌───┐ ░ \n",
       "Litmus_0_2 -> 13 ┤ Rz(Litmus_2) ├──┼──┤ X ├──■──┤ X ├──┼──┤ X ├─░─\n",
       "                 ├──────────────┤  │  └─┬─┘┌─┴─┐└─┬─┘┌─┴─┐└─┬─┘ ░ \n",
       "Litmus_0_0 -> 14 ┤ Rz(Litmus_0) ├──■────■──┤ X ├──■──┤ X ├──■───░─\n",
       "                 └──────────────┘          └───┘     └───┘      ░ "
      ]
     },
     "execution_count": 4,
     "metadata": {},
     "output_type": "execute_result"
    }
   ],
   "source": [
    "transpiled_litmus_circuit = transpile(\n",
    "    litmus_circuit, \n",
    "    backend,\n",
    "    optimization_level=3,\n",
    "    routing_method='lookahead',\n",
    "    seed_transpiler=1234,\n",
    ")\n",
    "\n",
    "transpiled_litmus_circuit.draw(idle_wires=False, fold=-1)"
   ]
  },
  {
   "cell_type": "markdown",
   "id": "06bdac51-3d0f-4e88-bfeb-84a6095f4daa",
   "metadata": {},
   "source": [
    "### Transpile and Compress"
   ]
  },
  {
   "cell_type": "code",
   "execution_count": 5,
   "id": "b20d2aaa-66ea-44e2-92cd-ac1ee0075f9e",
   "metadata": {},
   "outputs": [
    {
     "data": {
      "text/html": [
       "<pre style=\"word-wrap: normal;white-space: pre;background: #fff0;line-height: 1.1;font-family: &quot;Courier New&quot;,Courier,monospace\">                 ┌──────────────┐          ┌───┐          ┌───┐ ░  ░ \n",
       "Litmus_0_2 -> 12 ┤ Rz(Litmus_2) ├───────■──┤ X ├──■───────┤ X ├─░──░─\n",
       "                 ├──────────────┤     ┌─┴─┐└─┬─┘┌─┴─┐┌───┐└─┬─┘ ░  ░ \n",
       "Litmus_0_0 -> 13 ┤ Rz(Litmus_0) ├──■──┤ X ├──■──┤ X ├┤ X ├──■───░────\n",
       "                 ├──────────────┤┌─┴─┐└───┘     └───┘└─┬─┘      ░  ░ \n",
       "Litmus_0_1 -> 14 ┤ Rz(Litmus_1) ├┤ X ├─────────────────■────────░──░─\n",
       "                 └──────────────┘└───┘                          ░  ░ </pre>"
      ],
      "text/plain": [
       "                 ┌──────────────┐          ┌───┐          ┌───┐ ░  ░ \n",
       "Litmus_0_2 -> 12 ┤ Rz(Litmus_2) ├───────■──┤ X ├──■───────┤ X ├─░──░─\n",
       "                 ├──────────────┤     ┌─┴─┐└─┬─┘┌─┴─┐┌───┐└─┬─┘ ░  ░ \n",
       "Litmus_0_0 -> 13 ┤ Rz(Litmus_0) ├──■──┤ X ├──■──┤ X ├┤ X ├──■───░────\n",
       "                 ├──────────────┤┌─┴─┐└───┘     └───┘└─┬─┘      ░  ░ \n",
       "Litmus_0_1 -> 14 ┤ Rz(Litmus_1) ├┤ X ├─────────────────■────────░──░─\n",
       "                 └──────────────┘└───┘                          ░  ░ "
      ]
     },
     "execution_count": 5,
     "metadata": {},
     "output_type": "execute_result"
    }
   ],
   "source": [
    "compressed_litmus_circuit = transpile_and_compress(\n",
    "    litmus_circuit, \n",
    "    backend=backend,\n",
    "    optimization_level=3,\n",
    "    routing_method='lookahead',\n",
    "    seed_transpiler=1234,\n",
    ")\n",
    "\n",
    "compressed_litmus_circuit.draw(idle_wires=False, fold=-1)"
   ]
  },
  {
   "cell_type": "code",
   "execution_count": 6,
   "id": "71e28b2c-7504-4418-a7ca-8b4d1dca3702",
   "metadata": {},
   "outputs": [
    {
     "data": {
      "image/png": "[encoded data removed]",
      "text/plain": [
       "<Figure size 360x360 with 1 Axes>"
      ]
     },
     "execution_count": 6,
     "metadata": {},
     "output_type": "execute_result"
    }
   ],
   "source": [
    "qiskit.visualization.plot_circuit_layout(compressed_litmus_circuit, FAKE_BACKEND)"
   ]
  },
  {
   "cell_type": "markdown",
   "id": "292926e8-8f98-4537-afe8-fe4f00db66e5",
   "metadata": {},
   "source": [
    "### Custom Coupling Map"
   ]
  },
  {
   "cell_type": "code",
   "execution_count": 7,
   "id": "e6d338ce-77bf-4758-bfef-04d1cf15aa7e",
   "metadata": {},
   "outputs": [],
   "source": [
    "# Custom Coupling List\n",
    "\n",
    "coupling_map = backend.configuration().coupling_map\n",
    "\n",
    "coupling_list = [list(pair) for pair in coupling_map]\n",
    "\n",
    "# Remove edge between qubits 12 and 13:\n",
    "\n",
    "coupling_list.remove([12, 13])\n",
    "coupling_list.remove([13, 12])\n",
    "\n",
    "# coupling_list"
   ]
  },
  {
   "cell_type": "code",
   "execution_count": 8,
   "id": "5a1e94f0-381d-44f0-a70d-fe28700da647",
   "metadata": {},
   "outputs": [
    {
     "data": {
      "text/html": [
       "<pre style=\"word-wrap: normal;white-space: pre;background: #fff0;line-height: 1.1;font-family: &quot;Courier New&quot;,Courier,monospace\">                 ┌──────────────┐          ┌───┐          ┌───┐ ░  ░ \n",
       "Litmus_0_2 -> 11 ┤ Rz(Litmus_2) ├───────■──┤ X ├──■───────┤ X ├─░──░─\n",
       "                 ├──────────────┤     ┌─┴─┐└─┬─┘┌─┴─┐┌───┐└─┬─┘ ░  ░ \n",
       "Litmus_0_0 -> 14 ┤ Rz(Litmus_0) ├──■──┤ X ├──■──┤ X ├┤ X ├──■───░────\n",
       "                 ├──────────────┤┌─┴─┐└───┘     └───┘└─┬─┘      ░  ░ \n",
       "Litmus_0_1 -> 16 ┤ Rz(Litmus_1) ├┤ X ├─────────────────■────────░──░─\n",
       "                 └──────────────┘└───┘                          ░  ░ </pre>"
      ],
      "text/plain": [
       "                 ┌──────────────┐          ┌───┐          ┌───┐ ░  ░ \n",
       "Litmus_0_2 -> 11 ┤ Rz(Litmus_2) ├───────■──┤ X ├──■───────┤ X ├─░──░─\n",
       "                 ├──────────────┤     ┌─┴─┐└─┬─┘┌─┴─┐┌───┐└─┬─┘ ░  ░ \n",
       "Litmus_0_0 -> 14 ┤ Rz(Litmus_0) ├──■──┤ X ├──■──┤ X ├┤ X ├──■───░────\n",
       "                 ├──────────────┤┌─┴─┐└───┘     └───┘└─┬─┘      ░  ░ \n",
       "Litmus_0_1 -> 16 ┤ Rz(Litmus_1) ├┤ X ├─────────────────■────────░──░─\n",
       "                 └──────────────┘└───┘                          ░  ░ "
      ]
     },
     "execution_count": 8,
     "metadata": {},
     "output_type": "execute_result"
    }
   ],
   "source": [
    "compressed_litmus_circuit = transpile_and_compress(\n",
    "    litmus_circuit, \n",
    "    backend=backend,\n",
    "    coupling_map=coupling_list,\n",
    "    optimization_level=3,\n",
    "    routing_method='lookahead',\n",
    "    seed_transpiler=1234,\n",
    ")\n",
    "\n",
    "compressed_litmus_circuit.draw(idle_wires=False, fold=-1)"
   ]
  },
  {
   "cell_type": "code",
   "execution_count": 9,
   "id": "42b47c2f-f6bb-4d85-aa82-a6b7eb77da14",
   "metadata": {},
   "outputs": [
    {
     "data": {
      "text/html": [
       "<pre style=\"word-wrap: normal;white-space: pre;background: #fff0;line-height: 1.1;font-family: &quot;Courier New&quot;,Courier,monospace\">                 ┌──────────────┐             ┌───┐ ░  ░ \n",
       "Litmus_0_2 -> 11 ┤ Rz(Litmus_2) ├──────X──────┤ X ├─░──░─\n",
       "                 ├──────────────┤      │ ┌───┐└─┬─┘ ░  ░ \n",
       "Litmus_0_0 -> 14 ┤ Rz(Litmus_0) ├──■───X─┤ X ├──■───░────\n",
       "                 ├──────────────┤┌─┴─┐   └─┬─┘      ░  ░ \n",
       "Litmus_0_1 -> 16 ┤ Rz(Litmus_1) ├┤ X ├─────■────────░──░─\n",
       "                 └──────────────┘└───┘              ░  ░ </pre>"
      ],
      "text/plain": [
       "                 ┌──────────────┐             ┌───┐ ░  ░ \n",
       "Litmus_0_2 -> 11 ┤ Rz(Litmus_2) ├──────X──────┤ X ├─░──░─\n",
       "                 ├──────────────┤      │ ┌───┐└─┬─┘ ░  ░ \n",
       "Litmus_0_0 -> 14 ┤ Rz(Litmus_0) ├──■───X─┤ X ├──■───░────\n",
       "                 ├──────────────┤┌─┴─┐   └─┬─┘      ░  ░ \n",
       "Litmus_0_1 -> 16 ┤ Rz(Litmus_1) ├┤ X ├─────■────────░──░─\n",
       "                 └──────────────┘└───┘              ░  ░ "
      ]
     },
     "execution_count": 9,
     "metadata": {},
     "output_type": "execute_result"
    }
   ],
   "source": [
    "# Backend None)\n",
    "\n",
    "compressed_litmus_circuit = transpile_and_compress(\n",
    "    litmus_circuit, \n",
    "    backend=None,\n",
    "    coupling_map=coupling_list,\n",
    "    optimization_level=3,\n",
    "    routing_method='lookahead',\n",
    "    seed_transpiler=1234,\n",
    ")\n",
    "\n",
    "compressed_litmus_circuit.draw(idle_wires=False, fold=-1)"
   ]
  },
  {
   "cell_type": "markdown",
   "id": "69c22326-6fe9-4b13-9053-c3247fa8f9e7",
   "metadata": {},
   "source": [
    "### No Topology Warning"
   ]
  },
  {
   "cell_type": "code",
   "execution_count": 10,
   "id": "6a43ff37-3dc7-4756-87d9-21fd20776938",
   "metadata": {},
   "outputs": [
    {
     "name": "stderr",
     "output_type": "stream",
     "text": [
      "/mnt/c/Users/mohor/Jupyter/Haiqu/transpiler/qml_transpiler/topological_compression.py:228: UserWarning: Provided Backend has no topology - no compression performed\n",
      "  warnings.warn(\"Provided Backend has no topology - no compression performed\")\n"
     ]
    },
    {
     "data": {
      "text/html": [
       "<pre style=\"word-wrap: normal;white-space: pre;background: #fff0;line-height: 1.1;font-family: &quot;Courier New&quot;,Courier,monospace\">            ┌──────────────┐          ┌───┐ Litmus \n",
       "Litmus_0_0: ┤ Rz(Litmus_0) ├──■───────┤ X ├───░────\n",
       "            ├──────────────┤┌─┴─┐     └─┬─┘   ░    \n",
       "Litmus_0_1: ┤ Rz(Litmus_1) ├┤ X ├──■────┼─────░────\n",
       "            ├──────────────┤└───┘┌─┴─┐  │     ░    \n",
       "Litmus_0_2: ┤ Rz(Litmus_2) ├─────┤ X ├──■─────░────\n",
       "            └──────────────┘     └───┘        ░    </pre>"
      ],
      "text/plain": [
       "            ┌──────────────┐          ┌───┐ Litmus \n",
       "Litmus_0_0: ┤ Rz(Litmus_0) ├──■───────┤ X ├───░────\n",
       "            ├──────────────┤┌─┴─┐     └─┬─┘   ░    \n",
       "Litmus_0_1: ┤ Rz(Litmus_1) ├┤ X ├──■────┼─────░────\n",
       "            ├──────────────┤└───┘┌─┴─┐  │     ░    \n",
       "Litmus_0_2: ┤ Rz(Litmus_2) ├─────┤ X ├──■─────░────\n",
       "            └──────────────┘     └───┘        ░    "
      ]
     },
     "execution_count": 10,
     "metadata": {},
     "output_type": "execute_result"
    }
   ],
   "source": [
    "compressed_litmus_circuit = transpile_and_compress(\n",
    "    litmus_circuit, \n",
    "    backend=None,\n",
    "    seed_transpiler=1234,\n",
    ")\n",
    "\n",
    "compressed_litmus_circuit.draw(idle_wires=False, fold=-1)"
   ]
  },
  {
   "cell_type": "markdown",
   "id": "9ff76c70-0ec0-4785-97c2-68a05f087bdb",
   "metadata": {},
   "source": [
    "### Plot Backend Importances"
   ]
  },
  {
   "cell_type": "code",
   "execution_count": 11,
   "id": "1c23359d-877b-4d61-b1b0-bb94085a7a0b",
   "metadata": {},
   "outputs": [],
   "source": [
    "def get_backend_importances_figure(backend):\n",
    "    \n",
    "    coupling_list = backend.configuration().coupling_map\n",
    "\n",
    "    coupling_map = qiskit.transpiler.CouplingMap(couplinglist=coupling_list)\n",
    "    \n",
    "    graph = coupling_map.graph.to_undirected()\n",
    "\n",
    "    centralities = closeness_centrality(graph)\n",
    "\n",
    "    importances = list(centralities.values())\n",
    "\n",
    "    mpl_draw(graph,\n",
    "             cmap=\"plasma\",\n",
    "             with_labels=True,\n",
    "             node_color=importances)\n",
    "\n",
    "    normalizer = plt.Normalize(vmin=min(importances), \n",
    "                               vmax=max(importances))\n",
    "\n",
    "    scalar_mappable = plt.cm.ScalarMappable(cmap=\"plasma\", norm=normalizer)\n",
    "\n",
    "    colorbar = plt.colorbar(scalar_mappable, aspect=40)\n",
    "\n",
    "    colorbar.ax.get_yaxis().labelpad = 15\n",
    "    colorbar.ax.set_ylabel('Centrality', rotation=270)\n",
    "    \n",
    "    figure = plt.gcf()\n",
    "    \n",
    "    plt.close()\n",
    "\n",
    "    return figure"
   ]
  },
  {
   "cell_type": "code",
   "execution_count": 14,
   "id": "a1212f08-7a18-4e98-a2f1-82b2e96ff475",
   "metadata": {},
   "outputs": [
    {
     "data": {
      "image/png": "[encoded data removed]",
      "text/plain": [
       "<Figure size 432x288 with 2 Axes>"
      ]
     },
     "execution_count": 14,
     "metadata": {},
     "output_type": "execute_result"
    }
   ],
   "source": [
    "get_backend_importances_figure(backend)"
   ]
  },
  {
   "cell_type": "code",
   "execution_count": null,
   "id": "30ff36ed-b0e4-412b-9a88-ecc05338b829",
   "metadata": {},
   "outputs": [],
   "source": []
  }
 ],
 "metadata": {
  "kernelspec": {
   "display_name": "Python 3 (ipykernel)",
   "language": "python",
   "name": "python3"
  },
  "language_info": {
   "codemirror_mode": {
    "name": "ipython",
    "version": 3
   },
   "file_extension": ".py",
   "mimetype": "text/x-python",
   "name": "python",
   "nbconvert_exporter": "python",
   "pygments_lexer": "ipython3",
   "version": "3.8.10"
  }
 },
 "nbformat": 4,
 "nbformat_minor": 5
}
